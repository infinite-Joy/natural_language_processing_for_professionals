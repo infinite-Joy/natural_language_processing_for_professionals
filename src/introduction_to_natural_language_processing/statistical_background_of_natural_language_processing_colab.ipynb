{
 "cells": [
  {
   "cell_type": "markdown",
   "metadata": {
    "id": "hCQIiYqAYrD6"
   },
   "source": [
    "## dependencies"
   ]
  },
  {
   "cell_type": "code",
   "execution_count": null,
   "metadata": {
    "colab": {
     "base_uri": "https://localhost:8080/"
    },
    "id": "vYpkOW7r6uzn",
    "outputId": "4437ae90-b0d3-471f-900b-ceba56198f58"
   },
   "outputs": [
    {
     "name": "stdout",
     "output_type": "stream",
     "text": [
      "\u001b[K     |████████████████████████████████| 1.7 MB 7.9 MB/s \n",
      "\u001b[K     |████████████████████████████████| 180 kB 64.8 MB/s \n",
      "\u001b[K     |████████████████████████████████| 97 kB 6.4 MB/s \n",
      "\u001b[K     |████████████████████████████████| 140 kB 55.5 MB/s \n",
      "\u001b[K     |████████████████████████████████| 63 kB 1.6 MB/s \n",
      "\u001b[?25h  Building wheel for subprocess32 (setup.py) ... \u001b[?25l\u001b[?25hdone\n",
      "  Building wheel for pathtools (setup.py) ... \u001b[?25l\u001b[?25hdone\n"
     ]
    }
   ],
   "source": [
    "!pip install wandb -qqq\n",
    "import wandb"
   ]
  },
  {
   "cell_type": "code",
   "execution_count": null,
   "metadata": {
    "colab": {
     "base_uri": "https://localhost:8080/",
     "height": 71
    },
    "id": "Jqd8GadJ69cW",
    "outputId": "c7aaf9a4-b7b5-46d8-d0e4-a7d024058550"
   },
   "outputs": [
    {
     "data": {
      "application/javascript": [
       "\n",
       "        window._wandbApiKey = new Promise((resolve, reject) => {\n",
       "            function loadScript(url) {\n",
       "            return new Promise(function(resolve, reject) {\n",
       "                let newScript = document.createElement(\"script\");\n",
       "                newScript.onerror = reject;\n",
       "                newScript.onload = resolve;\n",
       "                document.body.appendChild(newScript);\n",
       "                newScript.src = url;\n",
       "            });\n",
       "            }\n",
       "            loadScript(\"https://cdn.jsdelivr.net/npm/postmate/build/postmate.min.js\").then(() => {\n",
       "            const iframe = document.createElement('iframe')\n",
       "            iframe.style.cssText = \"width:0;height:0;border:none\"\n",
       "            document.body.appendChild(iframe)\n",
       "            const handshake = new Postmate({\n",
       "                container: iframe,\n",
       "                url: 'https://wandb.ai/authorize'\n",
       "            });\n",
       "            const timeout = setTimeout(() => reject(\"Couldn't auto authenticate\"), 5000)\n",
       "            handshake.then(function(child) {\n",
       "                child.on('authorize', data => {\n",
       "                    clearTimeout(timeout)\n",
       "                    resolve(data)\n",
       "                });\n",
       "            });\n",
       "            })\n",
       "        });\n",
       "    "
      ],
      "text/plain": [
       "<IPython.core.display.Javascript object>"
      ]
     },
     "metadata": {},
     "output_type": "display_data"
    },
    {
     "name": "stderr",
     "output_type": "stream",
     "text": [
      "\u001b[34m\u001b[1mwandb\u001b[0m: Appending key for api.wandb.ai to your netrc file: /root/.netrc\n"
     ]
    },
    {
     "data": {
      "text/plain": [
       "True"
      ]
     },
     "execution_count": 4,
     "metadata": {},
     "output_type": "execute_result"
    }
   ],
   "source": [
    "# Log in to your W&B account\n",
    "wandb.login()"
   ]
  },
  {
   "cell_type": "markdown",
   "metadata": {
    "id": "rh4f2VL2u4yX"
   },
   "source": [
    "## download the data\n",
    "\n",
    "`glove.6B.zip` and `Video_Games_5.json.gz` files are downloaded from the respective url locations. These are done using python functions.\n",
    "\n",
    "Python functions are used to dowmload the file instead of using `wget` for this notebook to be executable in non colab environments as well."
   ]
  },
  {
   "cell_type": "code",
   "execution_count": null,
   "metadata": {
    "colab": {
     "base_uri": "https://localhost:8080/"
    },
    "id": "J2sv-UB0tm6a",
    "outputId": "b17e44b1-aa31-4264-94e5-306eb2be18e6"
   },
   "outputs": [
    {
     "name": "stderr",
     "output_type": "stream",
     "text": [
      "100% (154050105 of 154050105) |##########| Elapsed Time: 0:00:02 Time:  0:00:02\n"
     ]
    },
    {
     "name": "stdout",
     "output_type": "stream",
     "text": [
      "downloaded to Video_Games_5.json.gz\n",
      "(400985, 2)\n"
     ]
    }
   ],
   "source": [
    "import urllib.request as req\n",
    "from urllib.parse import urlparse\n",
    "import os\n",
    "import progressbar\n",
    "import zipfile\n",
    "import gzip\n",
    "import shutil\n",
    "import json\n",
    "import pandas as pd\n",
    "import re\n",
    "import string\n",
    "import imblearn\n",
    "\n",
    "pbar = None\n",
    "\n",
    "\n",
    "def show_progress(block_num, block_size, total_size):\n",
    "    global pbar\n",
    "    if pbar is None:\n",
    "        pbar = progressbar.ProgressBar(maxval=total_size)\n",
    "        pbar.start()\n",
    "\n",
    "    downloaded = block_num * block_size\n",
    "    if downloaded < total_size:\n",
    "        pbar.update(downloaded)\n",
    "    else:\n",
    "        pbar.finish()\n",
    "        pbar = None\n",
    "\n",
    "def wget(url):\n",
    "    a = urlparse(url)\n",
    "    filename = os.path.basename(a.path)\n",
    "    if not os.path.isfile(filename):\n",
    "        req.urlretrieve(url, filename, show_progress)\n",
    "        print(f'downloaded to {filename}')\n",
    "    else:\n",
    "        print(f'file {filename} has already been downloaded')\n",
    "    return filename\n",
    "\n",
    "def unzip(filename, directory_to_extract_to=os.getcwd()):\n",
    "    with zipfile.ZipFile(filename, 'r') as zip_ref:\n",
    "        zip_ref.extractall(directory_to_extract_to)\n",
    "        print(f'extraction done {zip_ref.namelist()}')\n",
    "\n",
    "def gunzip(gzfile, fout):\n",
    "    with gzip.open(gzfile, 'rb') as f_in:\n",
    "        with open(fout, 'wb') as f_out:\n",
    "            shutil.copyfileobj(f_in, f_out)\n",
    "    print(f'{gzfile} extracted to {fout}')\n",
    "\n",
    "\n",
    "def parse(path):\n",
    "    g = gzip.open(path, 'rb')\n",
    "    for l in g:\n",
    "        yield json.loads(l)\n",
    "\n",
    "def getDF(path):\n",
    "    df = {}\n",
    "    i = 0\n",
    "    for d in parse(path):\n",
    "        df[i] = d\n",
    "        i += 1\n",
    "    return pd.DataFrame.from_dict(df, orient='index')\n",
    "\n",
    "\n",
    "# map punctuation to space\n",
    "translator = str.maketrans(string.punctuation, ' '*len(string.punctuation)) \n",
    "\n",
    "def text_preprocessing(text):\n",
    "    \"\"\"\n",
    "    Preprocess the text for better understanding\n",
    "    \n",
    "    \"\"\"\n",
    "    text = text.strip()\n",
    "    text = text.lower()\n",
    "    text = text.replace('\\n', '.')\n",
    "    return text\n",
    "\n",
    "\n",
    "# filename = wget(\"https://nlp.stanford.edu/data/glove.6B.zip\")\n",
    "# unzip(filename)\n",
    "Video_Games_5 = wget('http://deepyeti.ucsd.edu/jianmo/amazon/categoryFilesSmall/Video_Games_5.json.gz')\n",
    "df = pd.read_json(\"./Video_Games_5.json.gz\", lines=True, compression='gzip')\n",
    "df = df[['reviewText', 'overall']]\n",
    "df = df[df['reviewText'].notnull()]\n",
    "df['reviewText'] = df['reviewText'].apply(text_preprocessing)\n",
    "df = df.dropna()\n",
    "df = df.drop_duplicates()\n",
    "print(df.shape)"
   ]
  },
  {
   "cell_type": "markdown",
   "metadata": {
    "id": "M8I5EgDfsxcI"
   },
   "source": [
    "## train test split\n",
    "\n",
    "split the dataset based on the label distribution. The test size is 0.3 and random state is given so that the split is the same for the different lessons."
   ]
  },
  {
   "cell_type": "code",
   "execution_count": null,
   "metadata": {
    "colab": {
     "base_uri": "https://localhost:8080/"
    },
    "id": "b1zEQ9wvt5F4",
    "outputId": "65b18d9f-451f-4704-fdf0-be50282536ad"
   },
   "outputs": [
    {
     "name": "stdout",
     "output_type": "stream",
     "text": [
      "280689 120296\n"
     ]
    }
   ],
   "source": [
    "from sklearn.model_selection import train_test_split\n",
    "\n",
    "df_train, df_test = train_test_split(df, test_size=0.3, stratify=df.overall, random_state=42)\n",
    "\n",
    "X_train = df_train['reviewText']\n",
    "y_train = df_train['overall']\n",
    "\n",
    "X_test = df_test['reviewText']\n",
    "y_test = df_test['overall']\n",
    "\n",
    "print(len(df_train), len(df_test))"
   ]
  },
  {
   "cell_type": "markdown",
   "metadata": {
    "id": "P_JMwNoKtFyo"
   },
   "source": [
    "## baseline classifier\n",
    "\n",
    "A very naive classifier where the labels are assigned randomly.\n",
    "\n",
    "The precision values for the baseline classifier are according to the distribution of the output class and the recall is 20%. The  matthews correlation coefficient is almost 0 which means that the  classifier has not information on the output label. This is obvious now since we know the model, but sometimes a neural network may also give such values. This is the sign that neural network is also nothing better than a random classfier."
   ]
  },
  {
   "cell_type": "code",
   "execution_count": null,
   "metadata": {
    "id": "sS90P8Att8Ut"
   },
   "outputs": [],
   "source": [
    "import random\n",
    "\n",
    "random.seed(42)\n",
    "\n",
    "def baseline_classifier(text):\n",
    "    \"\"\"\n",
    "    Baseline classifier returning a label randomly\n",
    "    \"\"\"\n",
    "    return float(random.choice([1, 2, 3, 4, 5]))\n",
    "\n",
    "df_test['baseline_preds'] = df_test['reviewText'].apply(baseline_classifier)"
   ]
  },
  {
   "cell_type": "code",
   "execution_count": null,
   "metadata": {
    "colab": {
     "base_uri": "https://localhost:8080/"
    },
    "id": "DmfjtCwIt-T-",
    "outputId": "76e04f98-6169-41f4-bcc6-9f2a055971d1"
   },
   "outputs": [
    {
     "name": "stdout",
     "output_type": "stream",
     "text": [
      "accuracy: 0.1979866329720024\n",
      "matthews_corrcoef: -0.0028328122350226533\n",
      "classification_report:\n",
      "                    pre       rec       spe        f1       geo       iba       sup\n",
      "\n",
      "        1.0       0.07      0.20      0.80      0.10      0.40      0.15      8386\n",
      "        2.0       0.05      0.19      0.80      0.08      0.39      0.14      6711\n",
      "        3.0       0.11      0.20      0.80      0.14      0.40      0.15     13262\n",
      "        4.0       0.20      0.20      0.80      0.20      0.40      0.15     24579\n",
      "        5.0       0.56      0.20      0.80      0.29      0.40      0.15     67358\n",
      "\n",
      "avg / total       0.37      0.20      0.80      0.23      0.40      0.15    120296\n",
      "\n"
     ]
    }
   ],
   "source": [
    "from sklearn.metrics import accuracy_score, matthews_corrcoef\n",
    "from imblearn.metrics import classification_report_imbalanced\n",
    "\n",
    "model_prediction_col = 'baseline_preds'\n",
    "\n",
    "accuracy = accuracy_score(df_test['overall'], df_test[model_prediction_col])\n",
    "matthews_corrcoef_metric = matthews_corrcoef(df_test['overall'], df_test[model_prediction_col])\n",
    "\n",
    "print('accuracy:', accuracy)\n",
    "print('matthews_corrcoef:', matthews_corrcoef_metric)\n",
    "print('classification_report:\\n', classification_report_imbalanced(df_test['overall'], df_test[model_prediction_col]))"
   ]
  },
  {
   "cell_type": "code",
   "execution_count": null,
   "metadata": {
    "colab": {
     "base_uri": "https://localhost:8080/",
     "height": 228,
     "referenced_widgets": [
      "a6e83c7c6adb42f799dc48f6e2e9786b",
      "f8f22cfeb97e4099ab3ea1a7d42cfbd8",
      "086aacd545544fc990374db99bce33ec",
      "7f00100cf9c44caa8d84a0150efc3542",
      "7a5a3269b1c04e77b99aec1b7d9c1678",
      "ffb03a96616042aeaaf7663582d60514",
      "e079626eab46417c90da3322c513fe7b",
      "0e1622cc4ed24c6b9b2eb4310d9f8ba3"
     ]
    },
    "id": "G17WoZup7GUN",
    "outputId": "52180e33-1581-4f7b-f951-6152d8efc346"
   },
   "outputs": [
    {
     "data": {
      "text/html": [
       "\n",
       "                    Syncing run <strong><a href=\"https://wandb.ai/infinitejoy/amazon-gamereviews/runs/8kyyu050\" target=\"_blank\">treasured-sun-2</a></strong> to <a href=\"https://wandb.ai/infinitejoy/amazon-gamereviews\" target=\"_blank\">Weights & Biases</a> (<a href=\"https://docs.wandb.com/integrations/jupyter.html\" target=\"_blank\">docs</a>).<br/>\n",
       "\n",
       "                "
      ],
      "text/plain": [
       "<IPython.core.display.HTML object>"
      ]
     },
     "metadata": {},
     "output_type": "display_data"
    },
    {
     "data": {
      "text/html": [
       "<br/>Waiting for W&B process to finish, PID 889... <strong style=\"color:green\">(success).</strong>"
      ],
      "text/plain": [
       "<IPython.core.display.HTML object>"
      ]
     },
     "metadata": {},
     "output_type": "display_data"
    },
    {
     "data": {
      "application/vnd.jupyter.widget-view+json": {
       "model_id": "a6e83c7c6adb42f799dc48f6e2e9786b",
       "version_major": 2,
       "version_minor": 0
      },
      "text/plain": [
       "VBox(children=(Label(value=' 0.00MB of 0.00MB uploaded (0.00MB deduped)\\r'), FloatProgress(value=1.0, max=1.0)…"
      ]
     },
     "metadata": {},
     "output_type": "display_data"
    },
    {
     "data": {
      "text/html": [
       "<style>\n",
       "    table.wandb td:nth-child(1) { padding: 0 10px; text-align: right }\n",
       "    .wandb-row { display: flex; flex-direction: row; flex-wrap: wrap; width: 100% }\n",
       "    .wandb-col { display: flex; flex-direction: column; flex-basis: 100%; flex: 1; padding: 10px; }\n",
       "    </style>\n",
       "<div class=\"wandb-row\"><div class=\"wandb-col\">\n",
       "<h3>Run history:</h3><br/><table class=\"wandb\"><tr><td>accuracy</td><td>▁</td></tr><tr><td>matthews_corrcoef</td><td>▁</td></tr></table><br/></div><div class=\"wandb-col\">\n",
       "</div></div>\n",
       "Synced 4 W&B file(s), 0 media file(s), 0 artifact file(s) and 0 other file(s)\n",
       "<br/>Synced <strong style=\"color:#cdcd00\">treasured-sun-2</strong>: <a href=\"https://wandb.ai/infinitejoy/amazon-gamereviews/runs/8kyyu050\" target=\"_blank\">https://wandb.ai/infinitejoy/amazon-gamereviews/runs/8kyyu050</a><br/>\n",
       "Find logs at: <code>./wandb/run-20211222_040142-8kyyu050/logs</code><br/>\n"
      ],
      "text/plain": [
       "<IPython.core.display.HTML object>"
      ]
     },
     "metadata": {},
     "output_type": "display_data"
    }
   ],
   "source": [
    "architecture = 'random-classifier'\n",
    "\n",
    "wandb.init(\n",
    "    # Set entity to specify your username or team name\n",
    "    # ex: entity=\"carey\",\n",
    "    # Set the project where this run will be logged\n",
    "    project=\"amazon-gamereviews\", \n",
    "    # Track hyperparameters and run metadata\n",
    "    config={\n",
    "    \"architecture\": architecture,\n",
    "    \"dataset\": \"Video_Games_5.json.gz\",})\n",
    "\n",
    "run_id = wandb.run.id\n",
    "wandb.run.name = architecture + '_' + run_id\n",
    "\n",
    "# define a metric we are interested in the maximum of\n",
    "wandb.define_metric(\"accuracy\", summary=\"max\")\n",
    "wandb.define_metric(\"matthews_corrcoef\", summary=\"max\")\n",
    "\n",
    "# 2️⃣ Log metrics from your script to W&B\n",
    "wandb.log({\"accuracy\": accuracy, \"matthews_corrcoef\": matthews_corrcoef_metric})\n",
    "    \n",
    "# Mark the run as finished\n",
    "wandb.finish()"
   ]
  },
  {
   "cell_type": "markdown",
   "metadata": {
    "id": "KgG2CHHtudlD"
   },
   "source": [
    "## Statistical Model: Count Vectoriser + Naive Bayes"
   ]
  },
  {
   "cell_type": "markdown",
   "metadata": {
    "id": "Go6gLK77vQAM"
   },
   "source": [
    "hyperparameter tuning to search for the best parameters using grid search"
   ]
  },
  {
   "cell_type": "code",
   "execution_count": null,
   "metadata": {
    "colab": {
     "base_uri": "https://localhost:8080/"
    },
    "collapsed": true,
    "id": "z26xpSd7uLOB",
    "outputId": "aaf1b91c-142f-4200-c754-1e394ddd2797"
   },
   "outputs": [
    {
     "name": "stdout",
     "output_type": "stream",
     "text": [
      "Fitting 5 folds for each of 18 candidates, totalling 90 fits\n",
      "[CV] END cv__analyzer=word, cv__ngram_range=(1, 1), model__fit_prior=True; total time=  47.7s\n",
      "[CV] END cv__analyzer=word, cv__ngram_range=(1, 1), model__fit_prior=True; total time=  31.0s\n",
      "[CV] END cv__analyzer=word, cv__ngram_range=(1, 1), model__fit_prior=True; total time=  31.3s\n",
      "[CV] END cv__analyzer=word, cv__ngram_range=(1, 1), model__fit_prior=True; total time=  32.1s\n",
      "[CV] END cv__analyzer=word, cv__ngram_range=(1, 1), model__fit_prior=True; total time=  31.3s\n",
      "[CV] END cv__analyzer=word, cv__ngram_range=(1, 1), model__fit_prior=False; total time=  31.3s\n",
      "[CV] END cv__analyzer=word, cv__ngram_range=(1, 1), model__fit_prior=False; total time=  32.0s\n",
      "[CV] END cv__analyzer=word, cv__ngram_range=(1, 1), model__fit_prior=False; total time=  31.4s\n",
      "[CV] END cv__analyzer=word, cv__ngram_range=(1, 1), model__fit_prior=False; total time=  31.3s\n",
      "[CV] END cv__analyzer=word, cv__ngram_range=(1, 1), model__fit_prior=False; total time=  31.0s\n",
      "[CV] END cv__analyzer=word, cv__ngram_range=(1, 2), model__fit_prior=True; total time= 2.1min\n",
      "[CV] END cv__analyzer=word, cv__ngram_range=(1, 2), model__fit_prior=True; total time= 2.1min\n",
      "[CV] END cv__analyzer=word, cv__ngram_range=(1, 2), model__fit_prior=True; total time= 2.1min\n",
      "[CV] END cv__analyzer=word, cv__ngram_range=(1, 2), model__fit_prior=True; total time= 2.1min\n",
      "[CV] END cv__analyzer=word, cv__ngram_range=(1, 2), model__fit_prior=True; total time= 2.2min\n",
      "[CV] END cv__analyzer=word, cv__ngram_range=(1, 2), model__fit_prior=False; total time= 2.1min\n",
      "[CV] END cv__analyzer=word, cv__ngram_range=(1, 2), model__fit_prior=False; total time= 2.1min\n",
      "[CV] END cv__analyzer=word, cv__ngram_range=(1, 2), model__fit_prior=False; total time= 2.1min\n",
      "[CV] END cv__analyzer=word, cv__ngram_range=(1, 2), model__fit_prior=False; total time= 2.1min\n",
      "[CV] END cv__analyzer=word, cv__ngram_range=(1, 2), model__fit_prior=False; total time= 2.1min\n",
      "[CV] END cv__analyzer=word, cv__ngram_range=(2, 2), model__fit_prior=True; total time= 1.6min\n",
      "[CV] END cv__analyzer=word, cv__ngram_range=(2, 2), model__fit_prior=True; total time= 1.6min\n",
      "[CV] END cv__analyzer=word, cv__ngram_range=(2, 2), model__fit_prior=True; total time= 1.6min\n",
      "[CV] END cv__analyzer=word, cv__ngram_range=(2, 2), model__fit_prior=True; total time= 1.6min\n",
      "[CV] END cv__analyzer=word, cv__ngram_range=(2, 2), model__fit_prior=True; total time= 1.6min\n",
      "[CV] END cv__analyzer=word, cv__ngram_range=(2, 2), model__fit_prior=False; total time= 1.6min\n",
      "[CV] END cv__analyzer=word, cv__ngram_range=(2, 2), model__fit_prior=False; total time= 1.6min\n",
      "[CV] END cv__analyzer=word, cv__ngram_range=(2, 2), model__fit_prior=False; total time= 1.6min\n",
      "[CV] END cv__analyzer=word, cv__ngram_range=(2, 2), model__fit_prior=False; total time= 1.6min\n",
      "[CV] END cv__analyzer=word, cv__ngram_range=(2, 2), model__fit_prior=False; total time= 1.6min\n",
      "[CV] END cv__analyzer=char, cv__ngram_range=(1, 1), model__fit_prior=True; total time=  49.0s\n",
      "[CV] END cv__analyzer=char, cv__ngram_range=(1, 1), model__fit_prior=True; total time=  48.5s\n",
      "[CV] END cv__analyzer=char, cv__ngram_range=(1, 1), model__fit_prior=True; total time=  48.7s\n",
      "[CV] END cv__analyzer=char, cv__ngram_range=(1, 1), model__fit_prior=True; total time=  48.2s\n",
      "[CV] END cv__analyzer=char, cv__ngram_range=(1, 1), model__fit_prior=True; total time=  48.6s\n",
      "[CV] END cv__analyzer=char, cv__ngram_range=(1, 1), model__fit_prior=False; total time=  49.0s\n",
      "[CV] END cv__analyzer=char, cv__ngram_range=(1, 1), model__fit_prior=False; total time=  48.5s\n",
      "[CV] END cv__analyzer=char, cv__ngram_range=(1, 1), model__fit_prior=False; total time=  48.7s\n",
      "[CV] END cv__analyzer=char, cv__ngram_range=(1, 1), model__fit_prior=False; total time=  48.3s\n",
      "[CV] END cv__analyzer=char, cv__ngram_range=(1, 1), model__fit_prior=False; total time=  48.3s\n",
      "[CV] END cv__analyzer=char, cv__ngram_range=(1, 2), model__fit_prior=True; total time= 2.6min\n",
      "[CV] END cv__analyzer=char, cv__ngram_range=(1, 2), model__fit_prior=True; total time= 2.5min\n",
      "[CV] END cv__analyzer=char, cv__ngram_range=(1, 2), model__fit_prior=True; total time= 2.5min\n",
      "[CV] END cv__analyzer=char, cv__ngram_range=(1, 2), model__fit_prior=True; total time= 2.5min\n",
      "[CV] END cv__analyzer=char, cv__ngram_range=(1, 2), model__fit_prior=True; total time= 2.5min\n",
      "[CV] END cv__analyzer=char, cv__ngram_range=(1, 2), model__fit_prior=False; total time= 2.5min\n",
      "[CV] END cv__analyzer=char, cv__ngram_range=(1, 2), model__fit_prior=False; total time= 2.5min\n",
      "[CV] END cv__analyzer=char, cv__ngram_range=(1, 2), model__fit_prior=False; total time= 2.5min\n",
      "[CV] END cv__analyzer=char, cv__ngram_range=(1, 2), model__fit_prior=False; total time= 2.5min\n",
      "[CV] END cv__analyzer=char, cv__ngram_range=(1, 2), model__fit_prior=False; total time= 2.5min\n",
      "[CV] END cv__analyzer=char, cv__ngram_range=(2, 2), model__fit_prior=True; total time= 1.8min\n",
      "[CV] END cv__analyzer=char, cv__ngram_range=(2, 2), model__fit_prior=True; total time= 1.8min\n",
      "[CV] END cv__analyzer=char, cv__ngram_range=(2, 2), model__fit_prior=True; total time= 1.8min\n",
      "[CV] END cv__analyzer=char, cv__ngram_range=(2, 2), model__fit_prior=True; total time= 1.8min\n",
      "[CV] END cv__analyzer=char, cv__ngram_range=(2, 2), model__fit_prior=True; total time= 1.8min\n",
      "[CV] END cv__analyzer=char, cv__ngram_range=(2, 2), model__fit_prior=False; total time= 1.8min\n",
      "[CV] END cv__analyzer=char, cv__ngram_range=(2, 2), model__fit_prior=False; total time= 1.8min\n",
      "[CV] END cv__analyzer=char, cv__ngram_range=(2, 2), model__fit_prior=False; total time= 1.8min\n",
      "[CV] END cv__analyzer=char, cv__ngram_range=(2, 2), model__fit_prior=False; total time= 1.8min\n",
      "[CV] END cv__analyzer=char, cv__ngram_range=(2, 2), model__fit_prior=False; total time= 1.8min\n",
      "[CV] END cv__analyzer=char_wb, cv__ngram_range=(1, 1), model__fit_prior=True; total time= 2.2min\n",
      "[CV] END cv__analyzer=char_wb, cv__ngram_range=(1, 1), model__fit_prior=True; total time= 2.2min\n",
      "[CV] END cv__analyzer=char_wb, cv__ngram_range=(1, 1), model__fit_prior=True; total time= 2.2min\n",
      "[CV] END cv__analyzer=char_wb, cv__ngram_range=(1, 1), model__fit_prior=True; total time= 2.2min\n",
      "[CV] END cv__analyzer=char_wb, cv__ngram_range=(1, 1), model__fit_prior=True; total time= 2.2min\n",
      "[CV] END cv__analyzer=char_wb, cv__ngram_range=(1, 1), model__fit_prior=False; total time= 2.2min\n",
      "[CV] END cv__analyzer=char_wb, cv__ngram_range=(1, 1), model__fit_prior=False; total time= 2.2min\n",
      "[CV] END cv__analyzer=char_wb, cv__ngram_range=(1, 1), model__fit_prior=False; total time= 2.2min\n",
      "[CV] END cv__analyzer=char_wb, cv__ngram_range=(1, 1), model__fit_prior=False; total time= 2.2min\n",
      "[CV] END cv__analyzer=char_wb, cv__ngram_range=(1, 1), model__fit_prior=False; total time= 2.2min\n",
      "[CV] END cv__analyzer=char_wb, cv__ngram_range=(1, 2), model__fit_prior=True; total time= 4.4min\n",
      "[CV] END cv__analyzer=char_wb, cv__ngram_range=(1, 2), model__fit_prior=True; total time= 4.4min\n",
      "[CV] END cv__analyzer=char_wb, cv__ngram_range=(1, 2), model__fit_prior=True; total time= 4.3min\n",
      "[CV] END cv__analyzer=char_wb, cv__ngram_range=(1, 2), model__fit_prior=True; total time= 4.3min\n",
      "[CV] END cv__analyzer=char_wb, cv__ngram_range=(1, 2), model__fit_prior=True; total time= 4.4min\n",
      "[CV] END cv__analyzer=char_wb, cv__ngram_range=(1, 2), model__fit_prior=False; total time= 4.3min\n",
      "[CV] END cv__analyzer=char_wb, cv__ngram_range=(1, 2), model__fit_prior=False; total time= 4.3min\n",
      "[CV] END cv__analyzer=char_wb, cv__ngram_range=(1, 2), model__fit_prior=False; total time= 4.3min\n",
      "[CV] END cv__analyzer=char_wb, cv__ngram_range=(1, 2), model__fit_prior=False; total time= 4.3min\n",
      "[CV] END cv__analyzer=char_wb, cv__ngram_range=(1, 2), model__fit_prior=False; total time= 4.4min\n",
      "[CV] END cv__analyzer=char_wb, cv__ngram_range=(2, 2), model__fit_prior=True; total time= 2.4min\n",
      "[CV] END cv__analyzer=char_wb, cv__ngram_range=(2, 2), model__fit_prior=True; total time= 2.4min\n",
      "[CV] END cv__analyzer=char_wb, cv__ngram_range=(2, 2), model__fit_prior=True; total time= 2.4min\n",
      "[CV] END cv__analyzer=char_wb, cv__ngram_range=(2, 2), model__fit_prior=True; total time= 2.4min\n",
      "[CV] END cv__analyzer=char_wb, cv__ngram_range=(2, 2), model__fit_prior=True; total time= 2.4min\n",
      "[CV] END cv__analyzer=char_wb, cv__ngram_range=(2, 2), model__fit_prior=False; total time= 2.4min\n",
      "[CV] END cv__analyzer=char_wb, cv__ngram_range=(2, 2), model__fit_prior=False; total time= 2.4min\n",
      "[CV] END cv__analyzer=char_wb, cv__ngram_range=(2, 2), model__fit_prior=False; total time= 2.4min\n",
      "[CV] END cv__analyzer=char_wb, cv__ngram_range=(2, 2), model__fit_prior=False; total time= 2.4min\n",
      "[CV] END cv__analyzer=char_wb, cv__ngram_range=(2, 2), model__fit_prior=False; total time= 2.4min\n",
      "GridSearchCV(cv=5,\n",
      "             estimator=Pipeline(steps=[('cv', CountVectorizer()),\n",
      "                                       ('model', MultinomialNB())]),\n",
      "             param_grid={'cv__analyzer': ['word', 'char', 'char_wb'],\n",
      "                         'cv__ngram_range': [(1, 1), (1, 2), (2, 2)],\n",
      "                         'model__fit_prior': [True, False]},\n",
      "             verbose=2)\n",
      "{'cv__analyzer': 'word', 'cv__ngram_range': (1, 1), 'model__fit_prior': True}\n",
      "Train Score:  0.6179\n",
      "Train Score:  0.6176\n"
     ]
    }
   ],
   "source": [
    "import numpy as np\n",
    "from sklearn.feature_extraction.text import TfidfVectorizer, CountVectorizer\n",
    "from sklearn.naive_bayes import MultinomialNB\n",
    "from sklearn.pipeline import Pipeline\n",
    "from sklearn.model_selection import GridSearchCV\n",
    "\n",
    "cv = CountVectorizer()\n",
    "model_mult_nb = MultinomialNB()\n",
    "alphas = np.linspace(0,2,20)[1:]\n",
    "\n",
    "pipe = Pipeline(\n",
    "    [('cv', cv),\n",
    "     ('model', model_mult_nb)]\n",
    ")\n",
    "\n",
    "params = {'cv__ngram_range': [(1,1), (1,2), (2,2)],\n",
    "          'cv__analyzer': ['word', 'char', 'char_wb'],\n",
    "          'model__fit_prior': [True, False],\n",
    "#           'cv__max_features': [4000, 5000, 6000, None],\n",
    "#           'cv__ngram_range': [(1,1)],\n",
    "#           'cv__min_df': [1, 5, 10, 15],\n",
    "#           'cv__max_df': [0.10, 0.15, 0.2, 0.3],\n",
    "#           'model__alpha' : alphas\n",
    "    }\n",
    "gs = GridSearchCV(pipe, param_grid=params, cv=5, verbose=2)\n",
    "print(gs.fit(X_train, y_train))\n",
    "print(gs.best_params_)\n",
    "print(\"Train Score: \", round(gs.best_score_, 4))\n",
    "print(\"Train Score: \", round(gs.score(X_test,y_test), 4))"
   ]
  },
  {
   "cell_type": "code",
   "execution_count": null,
   "metadata": {
    "colab": {
     "base_uri": "https://localhost:8080/"
    },
    "id": "edS9-FSgIEnE",
    "outputId": "a69a482b-93bc-40d3-a9a6-30b78871754c"
   },
   "outputs": [
    {
     "name": "stdout",
     "output_type": "stream",
     "text": [
      "accuracy: 0.617576644277449\n",
      "matthews_corrcoef: 0.3382875062068449\n",
      "classification_report:\n",
      "                    pre       rec       spe        f1       geo       iba       sup\n",
      "\n",
      "        1.0       0.49      0.53      0.96      0.51      0.72      0.49      8386\n",
      "        2.0       0.33      0.07      0.99      0.12      0.27      0.06      6711\n",
      "        3.0       0.37      0.27      0.94      0.31      0.50      0.24     13262\n",
      "        4.0       0.41      0.28      0.89      0.33      0.50      0.24     24579\n",
      "        5.0       0.71      0.87      0.54      0.78      0.69      0.49     67358\n",
      "\n",
      "avg / total       0.57      0.62      0.71      0.58      0.61      0.39    120296\n",
      "\n"
     ]
    }
   ],
   "source": [
    "from sklearn.feature_extraction.text import CountVectorizer\n",
    "from sklearn.naive_bayes import MultinomialNB\n",
    "from sklearn.pipeline import make_pipeline\n",
    "\n",
    "model = make_pipeline(CountVectorizer(analyzer=\"word\", ngram_range=(1, 1)),\n",
    "                      MultinomialNB(alpha=1.0, class_prior=None, fit_prior=True))\n",
    "model.fit(X_train, y_train)\n",
    "y_pred = model.predict(X_test)\n",
    "\n",
    "accuracy = accuracy_score(df_test['overall'], y_pred)\n",
    "matthews_corrcoef_metric = matthews_corrcoef(df_test['overall'], y_pred)\n",
    "\n",
    "print('accuracy:', accuracy)\n",
    "print('matthews_corrcoef:', matthews_corrcoef_metric)\n",
    "print('classification_report:\\n', classification_report_imbalanced(df_test['overall'], y_pred))"
   ]
  },
  {
   "cell_type": "code",
   "execution_count": null,
   "metadata": {
    "colab": {
     "base_uri": "https://localhost:8080/",
     "height": 228,
     "referenced_widgets": [
      "895b52a26a6841eea532bd29223d025d",
      "9378f9da0b72465f9aadeea2c88a54e8",
      "5d15245089944160bacb40c7da188df2",
      "a15855f75e3142e9a43f54ab23a45e8e",
      "87cf4bebce2443afbaacec6bb71e19f7",
      "9724e72d8a274f8c8b7df5baf0f1d996",
      "7561ad238e544db584cb5e967fc6af79",
      "c022248aa1c545d0aac63256913ca7b4"
     ]
    },
    "id": "pCUTeqkC9DY2",
    "outputId": "b1ba1c85-eee6-433f-8858-b4d07118ed38"
   },
   "outputs": [
    {
     "data": {
      "text/html": [
       "\n",
       "                    Syncing run <strong><a href=\"https://wandb.ai/infinitejoy/amazon-gamereviews/runs/2zmzostu\" target=\"_blank\">absurd-blaze-3</a></strong> to <a href=\"https://wandb.ai/infinitejoy/amazon-gamereviews\" target=\"_blank\">Weights & Biases</a> (<a href=\"https://docs.wandb.com/integrations/jupyter.html\" target=\"_blank\">docs</a>).<br/>\n",
       "\n",
       "                "
      ],
      "text/plain": [
       "<IPython.core.display.HTML object>"
      ]
     },
     "metadata": {},
     "output_type": "display_data"
    },
    {
     "data": {
      "text/html": [
       "<br/>Waiting for W&B process to finish, PID 945... <strong style=\"color:green\">(success).</strong>"
      ],
      "text/plain": [
       "<IPython.core.display.HTML object>"
      ]
     },
     "metadata": {},
     "output_type": "display_data"
    },
    {
     "data": {
      "application/vnd.jupyter.widget-view+json": {
       "model_id": "895b52a26a6841eea532bd29223d025d",
       "version_major": 2,
       "version_minor": 0
      },
      "text/plain": [
       "VBox(children=(Label(value=' 0.00MB of 0.00MB uploaded (0.00MB deduped)\\r'), FloatProgress(value=1.0, max=1.0)…"
      ]
     },
     "metadata": {},
     "output_type": "display_data"
    },
    {
     "data": {
      "text/html": [
       "<style>\n",
       "    table.wandb td:nth-child(1) { padding: 0 10px; text-align: right }\n",
       "    .wandb-row { display: flex; flex-direction: row; flex-wrap: wrap; width: 100% }\n",
       "    .wandb-col { display: flex; flex-direction: column; flex-basis: 100%; flex: 1; padding: 10px; }\n",
       "    </style>\n",
       "<div class=\"wandb-row\"><div class=\"wandb-col\">\n",
       "<h3>Run history:</h3><br/><table class=\"wandb\"><tr><td>accuracy</td><td>▁</td></tr><tr><td>matthews_corrcoef</td><td>▁</td></tr></table><br/></div><div class=\"wandb-col\">\n",
       "</div></div>\n",
       "Synced 4 W&B file(s), 0 media file(s), 0 artifact file(s) and 0 other file(s)\n",
       "<br/>Synced <strong style=\"color:#cdcd00\">absurd-blaze-3</strong>: <a href=\"https://wandb.ai/infinitejoy/amazon-gamereviews/runs/2zmzostu\" target=\"_blank\">https://wandb.ai/infinitejoy/amazon-gamereviews/runs/2zmzostu</a><br/>\n",
       "Find logs at: <code>./wandb/run-20211222_040403-2zmzostu/logs</code><br/>\n"
      ],
      "text/plain": [
       "<IPython.core.display.HTML object>"
      ]
     },
     "metadata": {},
     "output_type": "display_data"
    }
   ],
   "source": [
    "architecture = 'CV+NB'\n",
    "\n",
    "wandb.init(\n",
    "    # Set entity to specify your username or team name\n",
    "    # ex: entity=\"carey\",\n",
    "    # Set the project where this run will be logged\n",
    "    project=\"amazon-gamereviews\", \n",
    "    # Track hyperparameters and run metadata\n",
    "    config={\n",
    "    \"architecture\": architecture,\n",
    "    \"dataset\": \"Video_Games_5.json.gz\",})\n",
    "\n",
    "run_id = wandb.run.id\n",
    "wandb.run.name = architecture + '_' + run_id\n",
    "\n",
    "# define a metric we are interested in the maximum of\n",
    "wandb.define_metric(\"accuracy\", summary=\"max\")\n",
    "wandb.define_metric(\"matthews_corrcoef\", summary=\"max\")\n",
    "\n",
    "# 2️⃣ Log metrics from your script to W&B\n",
    "wandb.log({\"accuracy\": accuracy, \"matthews_corrcoef\": matthews_corrcoef_metric})\n",
    "    \n",
    "# Mark the run as finished\n",
    "wandb.finish()"
   ]
  },
  {
   "cell_type": "markdown",
   "metadata": {
    "id": "NCOO4pwY1O4d"
   },
   "source": [
    "## TFIDF + naive bayes\n",
    "\n",
    "its worse than using count vectoriser. The scores are quite worse"
   ]
  },
  {
   "cell_type": "code",
   "execution_count": null,
   "metadata": {
    "colab": {
     "base_uri": "https://localhost:8080/"
    },
    "id": "sh_z_NbvuSm5",
    "outputId": "298dd971-6791-402d-d3b1-740093467333"
   },
   "outputs": [
    {
     "name": "stdout",
     "output_type": "stream",
     "text": [
      "accuracy: 0.5610743499368225\n",
      "matthews_corrcoef: 0.03788252553922388\n",
      "classification_report:\n",
      "                    pre       rec       spe        f1       geo       iba       sup\n",
      "\n",
      "        1.0       0.82      0.01      1.00      0.02      0.09      0.01      8386\n",
      "        2.0       0.00      0.00      1.00      0.00      0.00      0.00      6711\n",
      "        3.0       0.32      0.00      1.00      0.00      0.03      0.00     13262\n",
      "        4.0       0.37      0.00      1.00      0.01      0.06      0.00     24579\n",
      "        5.0       0.56      1.00      0.01      0.72      0.08      0.01     67358\n",
      "\n",
      "avg / total       0.48      0.56      0.44      0.41      0.07      0.01    120296\n",
      "\n"
     ]
    }
   ],
   "source": [
    "from sklearn.feature_extraction.text import TfidfVectorizer\n",
    "from sklearn.naive_bayes import MultinomialNB\n",
    "from sklearn.pipeline import make_pipeline\n",
    "\n",
    "model = make_pipeline(TfidfVectorizer(), MultinomialNB())\n",
    "model.fit(X_train, y_train)\n",
    "y_pred = model.predict(X_test)\n",
    "\n",
    "accuracy = accuracy_score(df_test['overall'], y_pred)\n",
    "matthews_corrcoef_metric = matthews_corrcoef(df_test['overall'], y_pred)\n",
    "\n",
    "print('accuracy:', accuracy)\n",
    "print('matthews_corrcoef:', matthews_corrcoef_metric)\n",
    "print('classification_report:\\n', classification_report_imbalanced(df_test['overall'], y_pred))"
   ]
  },
  {
   "cell_type": "code",
   "execution_count": null,
   "metadata": {
    "colab": {
     "base_uri": "https://localhost:8080/",
     "height": 228,
     "referenced_widgets": [
      "9333266d1087458b8f279a2448972a2b",
      "2e4ce6dda53c4fc6b9119ac33e0925e5",
      "a01a56dbb3c64481b9ebc88da7b99903",
      "2608a8cbffbc4a6d99a81672610544be",
      "f84290cd2124435780182bbb2ef480c0",
      "3950f374a1084806965130e0a0ff6bde",
      "147015d58c5b49abbf4a338e00f9773e",
      "0e2b14da3f8f4f83859959dc0432fa4a"
     ]
    },
    "id": "EX11vOOu972M",
    "outputId": "12a02f87-96dc-48a3-f5bd-25cc0aa3c004"
   },
   "outputs": [
    {
     "data": {
      "text/html": [
       "\n",
       "                    Syncing run <strong><a href=\"https://wandb.ai/infinitejoy/amazon-gamereviews/runs/2iq9wwv7\" target=\"_blank\">lemon-firefly-4</a></strong> to <a href=\"https://wandb.ai/infinitejoy/amazon-gamereviews\" target=\"_blank\">Weights & Biases</a> (<a href=\"https://docs.wandb.com/integrations/jupyter.html\" target=\"_blank\">docs</a>).<br/>\n",
       "\n",
       "                "
      ],
      "text/plain": [
       "<IPython.core.display.HTML object>"
      ]
     },
     "metadata": {},
     "output_type": "display_data"
    },
    {
     "data": {
      "text/html": [
       "<br/>Waiting for W&B process to finish, PID 995... <strong style=\"color:green\">(success).</strong>"
      ],
      "text/plain": [
       "<IPython.core.display.HTML object>"
      ]
     },
     "metadata": {},
     "output_type": "display_data"
    },
    {
     "data": {
      "application/vnd.jupyter.widget-view+json": {
       "model_id": "9333266d1087458b8f279a2448972a2b",
       "version_major": 2,
       "version_minor": 0
      },
      "text/plain": [
       "VBox(children=(Label(value=' 0.00MB of 0.00MB uploaded (0.00MB deduped)\\r'), FloatProgress(value=1.0, max=1.0)…"
      ]
     },
     "metadata": {},
     "output_type": "display_data"
    },
    {
     "data": {
      "text/html": [
       "<style>\n",
       "    table.wandb td:nth-child(1) { padding: 0 10px; text-align: right }\n",
       "    .wandb-row { display: flex; flex-direction: row; flex-wrap: wrap; width: 100% }\n",
       "    .wandb-col { display: flex; flex-direction: column; flex-basis: 100%; flex: 1; padding: 10px; }\n",
       "    </style>\n",
       "<div class=\"wandb-row\"><div class=\"wandb-col\">\n",
       "<h3>Run history:</h3><br/><table class=\"wandb\"><tr><td>accuracy</td><td>▁</td></tr><tr><td>matthews_corrcoef</td><td>▁</td></tr></table><br/></div><div class=\"wandb-col\">\n",
       "</div></div>\n",
       "Synced 4 W&B file(s), 0 media file(s), 0 artifact file(s) and 0 other file(s)\n",
       "<br/>Synced <strong style=\"color:#cdcd00\">lemon-firefly-4</strong>: <a href=\"https://wandb.ai/infinitejoy/amazon-gamereviews/runs/2iq9wwv7\" target=\"_blank\">https://wandb.ai/infinitejoy/amazon-gamereviews/runs/2iq9wwv7</a><br/>\n",
       "Find logs at: <code>./wandb/run-20211222_040550-2iq9wwv7/logs</code><br/>\n"
      ],
      "text/plain": [
       "<IPython.core.display.HTML object>"
      ]
     },
     "metadata": {},
     "output_type": "display_data"
    }
   ],
   "source": [
    "architecture = 'TFIDF+NB'\n",
    "\n",
    "wandb.init(\n",
    "    # Set entity to specify your username or team name\n",
    "    # ex: entity=\"carey\",\n",
    "    # Set the project where this run will be logged\n",
    "    project=\"amazon-gamereviews\", \n",
    "    # Track hyperparameters and run metadata\n",
    "    config={\n",
    "    \"architecture\": architecture,\n",
    "    \"dataset\": \"Video_Games_5.json.gz\",})\n",
    "\n",
    "run_id = wandb.run.id\n",
    "wandb.run.name = architecture + '_' + run_id\n",
    "\n",
    "# define a metric we are interested in the maximum of\n",
    "wandb.define_metric(\"accuracy\", summary=\"max\")\n",
    "wandb.define_metric(\"matthews_corrcoef\", summary=\"max\")\n",
    "\n",
    "# 2️⃣ Log metrics from your script to W&B\n",
    "wandb.log({\"accuracy\": accuracy, \"matthews_corrcoef\": matthews_corrcoef_metric})\n",
    "    \n",
    "# Mark the run as finished\n",
    "wandb.finish()"
   ]
  },
  {
   "cell_type": "markdown",
   "metadata": {
    "id": "Xh4CX4cXwgxE"
   },
   "source": [
    "##  count vectorizer + random oversampling + naive bayes\n",
    "\n",
    "The matthews correlation coefficient is not 0.33. The recall for class 1 has improved."
   ]
  },
  {
   "cell_type": "code",
   "execution_count": null,
   "metadata": {
    "colab": {
     "base_uri": "https://localhost:8080/"
    },
    "id": "S_zLNbuAuVme",
    "outputId": "3fd2aefc-36eb-4d3d-cc3c-76f355c8c587"
   },
   "outputs": [
    {
     "name": "stdout",
     "output_type": "stream",
     "text": [
      "[(1.0, 157168), (2.0, 157168), (3.0, 157168), (4.0, 157168), (5.0, 157168)]\n",
      "accuracy: 0.5570093768703864\n",
      "matthews_corrcoef: 0.33455421412072117\n",
      "classification_report:\n",
      "                    pre       rec       spe        f1       geo       iba       sup\n",
      "\n",
      "        1.0       0.30      0.69      0.88      0.41      0.78      0.59      8386\n",
      "        2.0       0.22      0.28      0.94      0.24      0.51      0.24      6711\n",
      "        3.0       0.31      0.32      0.91      0.32      0.54      0.27     13262\n",
      "        4.0       0.39      0.30      0.88      0.34      0.52      0.25     24579\n",
      "        5.0       0.80      0.71      0.77      0.75      0.74      0.54     67358\n",
      "\n",
      "avg / total       0.59      0.56      0.83      0.57      0.66      0.44    120296\n",
      "\n"
     ]
    }
   ],
   "source": [
    "from imblearn.under_sampling import RandomUnderSampler\n",
    "from imblearn.over_sampling import RandomOverSampler\n",
    "from imblearn.pipeline import make_pipeline as make_pipeline_imb\n",
    "from collections import Counter\n",
    "\n",
    "vectorizer = CountVectorizer(analyzer=\"word\", ngram_range=(1, 1))\n",
    "X_train_title_vec = vectorizer.fit_transform(X_train)\n",
    "X_test_title_vec = vectorizer.transform(X_test)\n",
    "\n",
    "X_resampled, y_resampled = RandomOverSampler().fit_resample(X_train_title_vec, y_train)\n",
    "print(sorted(Counter(y_resampled).items()))\n",
    "\n",
    "# for alpha in np.linspace(0,2,20)[1:]:\n",
    "model = MultinomialNB(alpha=1.0, class_prior=None, fit_prior=True)\n",
    "model.fit(X_resampled, y_resampled)\n",
    "y_pred = model.predict(X_test_title_vec)\n",
    "\n",
    "accuracy = accuracy_score(df_test['overall'], y_pred)\n",
    "matthews_corrcoef_metric = matthews_corrcoef(df_test['overall'], y_pred)\n",
    "\n",
    "print('accuracy:', accuracy)\n",
    "print('matthews_corrcoef:', matthews_corrcoef_metric)\n",
    "print('classification_report:\\n', classification_report_imbalanced(df_test['overall'], y_pred))"
   ]
  },
  {
   "cell_type": "code",
   "execution_count": null,
   "metadata": {
    "colab": {
     "base_uri": "https://localhost:8080/",
     "height": 228,
     "referenced_widgets": [
      "feea45a3c0ac476394525130031cfd6c",
      "0d845959644d47f2bfc70d8bff29630b",
      "206e50a1a3b549dda788628391621fa4",
      "2e682b15fbe3462cae55e656d2e69a04",
      "9960e6c4624446879c57240b2df270b4",
      "c46e2e0499834bf6aabf3b2aa608864d",
      "8068843745824593a9c1078252df77d4",
      "d328d5ad9230455bba12bede13fc5d28"
     ]
    },
    "id": "lYenFQjluW_Z",
    "outputId": "6eeafe45-1514-4b32-de8a-08645aa84a8a"
   },
   "outputs": [
    {
     "data": {
      "text/html": [
       "\n",
       "                    Syncing run <strong><a href=\"https://wandb.ai/infinitejoy/amazon-gamereviews/runs/23thm2xp\" target=\"_blank\">rich-blaze-5</a></strong> to <a href=\"https://wandb.ai/infinitejoy/amazon-gamereviews\" target=\"_blank\">Weights & Biases</a> (<a href=\"https://docs.wandb.com/integrations/jupyter.html\" target=\"_blank\">docs</a>).<br/>\n",
       "\n",
       "                "
      ],
      "text/plain": [
       "<IPython.core.display.HTML object>"
      ]
     },
     "metadata": {},
     "output_type": "display_data"
    },
    {
     "data": {
      "text/html": [
       "<br/>Waiting for W&B process to finish, PID 1029... <strong style=\"color:green\">(success).</strong>"
      ],
      "text/plain": [
       "<IPython.core.display.HTML object>"
      ]
     },
     "metadata": {},
     "output_type": "display_data"
    },
    {
     "data": {
      "application/vnd.jupyter.widget-view+json": {
       "model_id": "feea45a3c0ac476394525130031cfd6c",
       "version_major": 2,
       "version_minor": 0
      },
      "text/plain": [
       "VBox(children=(Label(value=' 0.00MB of 0.00MB uploaded (0.00MB deduped)\\r'), FloatProgress(value=1.0, max=1.0)…"
      ]
     },
     "metadata": {},
     "output_type": "display_data"
    },
    {
     "data": {
      "text/html": [
       "<style>\n",
       "    table.wandb td:nth-child(1) { padding: 0 10px; text-align: right }\n",
       "    .wandb-row { display: flex; flex-direction: row; flex-wrap: wrap; width: 100% }\n",
       "    .wandb-col { display: flex; flex-direction: column; flex-basis: 100%; flex: 1; padding: 10px; }\n",
       "    </style>\n",
       "<div class=\"wandb-row\"><div class=\"wandb-col\">\n",
       "<h3>Run history:</h3><br/><table class=\"wandb\"><tr><td>accuracy</td><td>▁</td></tr><tr><td>matthews_corrcoef</td><td>▁</td></tr></table><br/></div><div class=\"wandb-col\">\n",
       "</div></div>\n",
       "Synced 4 W&B file(s), 0 media file(s), 0 artifact file(s) and 0 other file(s)\n",
       "<br/>Synced <strong style=\"color:#cdcd00\">rich-blaze-5</strong>: <a href=\"https://wandb.ai/infinitejoy/amazon-gamereviews/runs/23thm2xp\" target=\"_blank\">https://wandb.ai/infinitejoy/amazon-gamereviews/runs/23thm2xp</a><br/>\n",
       "Find logs at: <code>./wandb/run-20211222_040648-23thm2xp/logs</code><br/>\n"
      ],
      "text/plain": [
       "<IPython.core.display.HTML object>"
      ]
     },
     "metadata": {},
     "output_type": "display_data"
    }
   ],
   "source": [
    "architecture = 'CV+random_oversampling+NB'\n",
    "\n",
    "wandb.init(\n",
    "    # Set entity to specify your username or team name\n",
    "    # ex: entity=\"carey\",\n",
    "    # Set the project where this run will be logged\n",
    "    project=\"amazon-gamereviews\", \n",
    "    # Track hyperparameters and run metadata\n",
    "    config={\n",
    "    \"architecture\": architecture,\n",
    "    \"dataset\": \"Video_Games_5.json.gz\",})\n",
    "\n",
    "run_id = wandb.run.id\n",
    "wandb.run.name = architecture + '_' + run_id\n",
    "\n",
    "# define a metric we are interested in the maximum of\n",
    "wandb.define_metric(\"accuracy\", summary=\"max\")\n",
    "wandb.define_metric(\"matthews_corrcoef\", summary=\"max\")\n",
    "\n",
    "# 2️⃣ Log metrics from your script to W&B\n",
    "wandb.log({\"accuracy\": accuracy, \"matthews_corrcoef\": matthews_corrcoef_metric})\n",
    "    \n",
    "# Mark the run as finished\n",
    "wandb.finish()"
   ]
  },
  {
   "cell_type": "code",
   "execution_count": null,
   "metadata": {
    "id": "KO1riI_r_Fbq"
   },
   "outputs": [],
   "source": []
  }
 ],
 "metadata": {
  "colab": {
   "collapsed_sections": [],
   "name": "statistical_background_of_natural_language_processing",
   "provenance": [],
   "toc_visible": true
  },
  "kernelspec": {
   "display_name": "Python 3 (ipykernel)",
   "language": "python",
   "name": "python3"
  },
  "language_info": {
   "codemirror_mode": {
    "name": "ipython",
    "version": 3
   },
   "file_extension": ".py",
   "mimetype": "text/x-python",
   "name": "python",
   "nbconvert_exporter": "python",
   "pygments_lexer": "ipython3",
   "version": "3.9.12"
  },
  "widgets": {
   "application/vnd.jupyter.widget-state+json": {
    "086aacd545544fc990374db99bce33ec": {
     "model_module": "@jupyter-widgets/controls",
     "model_module_version": "1.5.0",
     "model_name": "LabelModel",
     "state": {
      "_dom_classes": [],
      "_model_module": "@jupyter-widgets/controls",
      "_model_module_version": "1.5.0",
      "_model_name": "LabelModel",
      "_view_count": null,
      "_view_module": "@jupyter-widgets/controls",
      "_view_module_version": "1.5.0",
      "_view_name": "LabelView",
      "description": "",
      "description_tooltip": null,
      "layout": "IPY_MODEL_ffb03a96616042aeaaf7663582d60514",
      "placeholder": "​",
      "style": "IPY_MODEL_7a5a3269b1c04e77b99aec1b7d9c1678",
      "value": " 0.01MB of 0.01MB uploaded (0.00MB deduped)\r"
     }
    },
    "0d845959644d47f2bfc70d8bff29630b": {
     "model_module": "@jupyter-widgets/base",
     "model_module_version": "1.2.0",
     "model_name": "LayoutModel",
     "state": {
      "_model_module": "@jupyter-widgets/base",
      "_model_module_version": "1.2.0",
      "_model_name": "LayoutModel",
      "_view_count": null,
      "_view_module": "@jupyter-widgets/base",
      "_view_module_version": "1.2.0",
      "_view_name": "LayoutView",
      "align_content": null,
      "align_items": null,
      "align_self": null,
      "border": null,
      "bottom": null,
      "display": null,
      "flex": null,
      "flex_flow": null,
      "grid_area": null,
      "grid_auto_columns": null,
      "grid_auto_flow": null,
      "grid_auto_rows": null,
      "grid_column": null,
      "grid_gap": null,
      "grid_row": null,
      "grid_template_areas": null,
      "grid_template_columns": null,
      "grid_template_rows": null,
      "height": null,
      "justify_content": null,
      "justify_items": null,
      "left": null,
      "margin": null,
      "max_height": null,
      "max_width": null,
      "min_height": null,
      "min_width": null,
      "object_fit": null,
      "object_position": null,
      "order": null,
      "overflow": null,
      "overflow_x": null,
      "overflow_y": null,
      "padding": null,
      "right": null,
      "top": null,
      "visibility": null,
      "width": null
     }
    },
    "0e1622cc4ed24c6b9b2eb4310d9f8ba3": {
     "model_module": "@jupyter-widgets/base",
     "model_module_version": "1.2.0",
     "model_name": "LayoutModel",
     "state": {
      "_model_module": "@jupyter-widgets/base",
      "_model_module_version": "1.2.0",
      "_model_name": "LayoutModel",
      "_view_count": null,
      "_view_module": "@jupyter-widgets/base",
      "_view_module_version": "1.2.0",
      "_view_name": "LayoutView",
      "align_content": null,
      "align_items": null,
      "align_self": null,
      "border": null,
      "bottom": null,
      "display": null,
      "flex": null,
      "flex_flow": null,
      "grid_area": null,
      "grid_auto_columns": null,
      "grid_auto_flow": null,
      "grid_auto_rows": null,
      "grid_column": null,
      "grid_gap": null,
      "grid_row": null,
      "grid_template_areas": null,
      "grid_template_columns": null,
      "grid_template_rows": null,
      "height": null,
      "justify_content": null,
      "justify_items": null,
      "left": null,
      "margin": null,
      "max_height": null,
      "max_width": null,
      "min_height": null,
      "min_width": null,
      "object_fit": null,
      "object_position": null,
      "order": null,
      "overflow": null,
      "overflow_x": null,
      "overflow_y": null,
      "padding": null,
      "right": null,
      "top": null,
      "visibility": null,
      "width": null
     }
    },
    "0e2b14da3f8f4f83859959dc0432fa4a": {
     "model_module": "@jupyter-widgets/base",
     "model_module_version": "1.2.0",
     "model_name": "LayoutModel",
     "state": {
      "_model_module": "@jupyter-widgets/base",
      "_model_module_version": "1.2.0",
      "_model_name": "LayoutModel",
      "_view_count": null,
      "_view_module": "@jupyter-widgets/base",
      "_view_module_version": "1.2.0",
      "_view_name": "LayoutView",
      "align_content": null,
      "align_items": null,
      "align_self": null,
      "border": null,
      "bottom": null,
      "display": null,
      "flex": null,
      "flex_flow": null,
      "grid_area": null,
      "grid_auto_columns": null,
      "grid_auto_flow": null,
      "grid_auto_rows": null,
      "grid_column": null,
      "grid_gap": null,
      "grid_row": null,
      "grid_template_areas": null,
      "grid_template_columns": null,
      "grid_template_rows": null,
      "height": null,
      "justify_content": null,
      "justify_items": null,
      "left": null,
      "margin": null,
      "max_height": null,
      "max_width": null,
      "min_height": null,
      "min_width": null,
      "object_fit": null,
      "object_position": null,
      "order": null,
      "overflow": null,
      "overflow_x": null,
      "overflow_y": null,
      "padding": null,
      "right": null,
      "top": null,
      "visibility": null,
      "width": null
     }
    },
    "147015d58c5b49abbf4a338e00f9773e": {
     "model_module": "@jupyter-widgets/controls",
     "model_module_version": "1.5.0",
     "model_name": "ProgressStyleModel",
     "state": {
      "_model_module": "@jupyter-widgets/controls",
      "_model_module_version": "1.5.0",
      "_model_name": "ProgressStyleModel",
      "_view_count": null,
      "_view_module": "@jupyter-widgets/base",
      "_view_module_version": "1.2.0",
      "_view_name": "StyleView",
      "bar_color": null,
      "description_width": ""
     }
    },
    "206e50a1a3b549dda788628391621fa4": {
     "model_module": "@jupyter-widgets/controls",
     "model_module_version": "1.5.0",
     "model_name": "LabelModel",
     "state": {
      "_dom_classes": [],
      "_model_module": "@jupyter-widgets/controls",
      "_model_module_version": "1.5.0",
      "_model_name": "LabelModel",
      "_view_count": null,
      "_view_module": "@jupyter-widgets/controls",
      "_view_module_version": "1.5.0",
      "_view_name": "LabelView",
      "description": "",
      "description_tooltip": null,
      "layout": "IPY_MODEL_c46e2e0499834bf6aabf3b2aa608864d",
      "placeholder": "​",
      "style": "IPY_MODEL_9960e6c4624446879c57240b2df270b4",
      "value": " 0.01MB of 0.01MB uploaded (0.00MB deduped)\r"
     }
    },
    "2608a8cbffbc4a6d99a81672610544be": {
     "model_module": "@jupyter-widgets/controls",
     "model_module_version": "1.5.0",
     "model_name": "FloatProgressModel",
     "state": {
      "_dom_classes": [],
      "_model_module": "@jupyter-widgets/controls",
      "_model_module_version": "1.5.0",
      "_model_name": "FloatProgressModel",
      "_view_count": null,
      "_view_module": "@jupyter-widgets/controls",
      "_view_module_version": "1.5.0",
      "_view_name": "ProgressView",
      "bar_style": "",
      "description": "",
      "description_tooltip": null,
      "layout": "IPY_MODEL_0e2b14da3f8f4f83859959dc0432fa4a",
      "max": 1,
      "min": 0,
      "orientation": "horizontal",
      "style": "IPY_MODEL_147015d58c5b49abbf4a338e00f9773e",
      "value": 1
     }
    },
    "2e4ce6dda53c4fc6b9119ac33e0925e5": {
     "model_module": "@jupyter-widgets/base",
     "model_module_version": "1.2.0",
     "model_name": "LayoutModel",
     "state": {
      "_model_module": "@jupyter-widgets/base",
      "_model_module_version": "1.2.0",
      "_model_name": "LayoutModel",
      "_view_count": null,
      "_view_module": "@jupyter-widgets/base",
      "_view_module_version": "1.2.0",
      "_view_name": "LayoutView",
      "align_content": null,
      "align_items": null,
      "align_self": null,
      "border": null,
      "bottom": null,
      "display": null,
      "flex": null,
      "flex_flow": null,
      "grid_area": null,
      "grid_auto_columns": null,
      "grid_auto_flow": null,
      "grid_auto_rows": null,
      "grid_column": null,
      "grid_gap": null,
      "grid_row": null,
      "grid_template_areas": null,
      "grid_template_columns": null,
      "grid_template_rows": null,
      "height": null,
      "justify_content": null,
      "justify_items": null,
      "left": null,
      "margin": null,
      "max_height": null,
      "max_width": null,
      "min_height": null,
      "min_width": null,
      "object_fit": null,
      "object_position": null,
      "order": null,
      "overflow": null,
      "overflow_x": null,
      "overflow_y": null,
      "padding": null,
      "right": null,
      "top": null,
      "visibility": null,
      "width": null
     }
    },
    "2e682b15fbe3462cae55e656d2e69a04": {
     "model_module": "@jupyter-widgets/controls",
     "model_module_version": "1.5.0",
     "model_name": "FloatProgressModel",
     "state": {
      "_dom_classes": [],
      "_model_module": "@jupyter-widgets/controls",
      "_model_module_version": "1.5.0",
      "_model_name": "FloatProgressModel",
      "_view_count": null,
      "_view_module": "@jupyter-widgets/controls",
      "_view_module_version": "1.5.0",
      "_view_name": "ProgressView",
      "bar_style": "",
      "description": "",
      "description_tooltip": null,
      "layout": "IPY_MODEL_d328d5ad9230455bba12bede13fc5d28",
      "max": 1,
      "min": 0,
      "orientation": "horizontal",
      "style": "IPY_MODEL_8068843745824593a9c1078252df77d4",
      "value": 1
     }
    },
    "3950f374a1084806965130e0a0ff6bde": {
     "model_module": "@jupyter-widgets/base",
     "model_module_version": "1.2.0",
     "model_name": "LayoutModel",
     "state": {
      "_model_module": "@jupyter-widgets/base",
      "_model_module_version": "1.2.0",
      "_model_name": "LayoutModel",
      "_view_count": null,
      "_view_module": "@jupyter-widgets/base",
      "_view_module_version": "1.2.0",
      "_view_name": "LayoutView",
      "align_content": null,
      "align_items": null,
      "align_self": null,
      "border": null,
      "bottom": null,
      "display": null,
      "flex": null,
      "flex_flow": null,
      "grid_area": null,
      "grid_auto_columns": null,
      "grid_auto_flow": null,
      "grid_auto_rows": null,
      "grid_column": null,
      "grid_gap": null,
      "grid_row": null,
      "grid_template_areas": null,
      "grid_template_columns": null,
      "grid_template_rows": null,
      "height": null,
      "justify_content": null,
      "justify_items": null,
      "left": null,
      "margin": null,
      "max_height": null,
      "max_width": null,
      "min_height": null,
      "min_width": null,
      "object_fit": null,
      "object_position": null,
      "order": null,
      "overflow": null,
      "overflow_x": null,
      "overflow_y": null,
      "padding": null,
      "right": null,
      "top": null,
      "visibility": null,
      "width": null
     }
    },
    "5d15245089944160bacb40c7da188df2": {
     "model_module": "@jupyter-widgets/controls",
     "model_module_version": "1.5.0",
     "model_name": "LabelModel",
     "state": {
      "_dom_classes": [],
      "_model_module": "@jupyter-widgets/controls",
      "_model_module_version": "1.5.0",
      "_model_name": "LabelModel",
      "_view_count": null,
      "_view_module": "@jupyter-widgets/controls",
      "_view_module_version": "1.5.0",
      "_view_name": "LabelView",
      "description": "",
      "description_tooltip": null,
      "layout": "IPY_MODEL_9724e72d8a274f8c8b7df5baf0f1d996",
      "placeholder": "​",
      "style": "IPY_MODEL_87cf4bebce2443afbaacec6bb71e19f7",
      "value": " 0.01MB of 0.01MB uploaded (0.00MB deduped)\r"
     }
    },
    "7561ad238e544db584cb5e967fc6af79": {
     "model_module": "@jupyter-widgets/controls",
     "model_module_version": "1.5.0",
     "model_name": "ProgressStyleModel",
     "state": {
      "_model_module": "@jupyter-widgets/controls",
      "_model_module_version": "1.5.0",
      "_model_name": "ProgressStyleModel",
      "_view_count": null,
      "_view_module": "@jupyter-widgets/base",
      "_view_module_version": "1.2.0",
      "_view_name": "StyleView",
      "bar_color": null,
      "description_width": ""
     }
    },
    "7a5a3269b1c04e77b99aec1b7d9c1678": {
     "model_module": "@jupyter-widgets/controls",
     "model_module_version": "1.5.0",
     "model_name": "DescriptionStyleModel",
     "state": {
      "_model_module": "@jupyter-widgets/controls",
      "_model_module_version": "1.5.0",
      "_model_name": "DescriptionStyleModel",
      "_view_count": null,
      "_view_module": "@jupyter-widgets/base",
      "_view_module_version": "1.2.0",
      "_view_name": "StyleView",
      "description_width": ""
     }
    },
    "7f00100cf9c44caa8d84a0150efc3542": {
     "model_module": "@jupyter-widgets/controls",
     "model_module_version": "1.5.0",
     "model_name": "FloatProgressModel",
     "state": {
      "_dom_classes": [],
      "_model_module": "@jupyter-widgets/controls",
      "_model_module_version": "1.5.0",
      "_model_name": "FloatProgressModel",
      "_view_count": null,
      "_view_module": "@jupyter-widgets/controls",
      "_view_module_version": "1.5.0",
      "_view_name": "ProgressView",
      "bar_style": "",
      "description": "",
      "description_tooltip": null,
      "layout": "IPY_MODEL_0e1622cc4ed24c6b9b2eb4310d9f8ba3",
      "max": 1,
      "min": 0,
      "orientation": "horizontal",
      "style": "IPY_MODEL_e079626eab46417c90da3322c513fe7b",
      "value": 1
     }
    },
    "8068843745824593a9c1078252df77d4": {
     "model_module": "@jupyter-widgets/controls",
     "model_module_version": "1.5.0",
     "model_name": "ProgressStyleModel",
     "state": {
      "_model_module": "@jupyter-widgets/controls",
      "_model_module_version": "1.5.0",
      "_model_name": "ProgressStyleModel",
      "_view_count": null,
      "_view_module": "@jupyter-widgets/base",
      "_view_module_version": "1.2.0",
      "_view_name": "StyleView",
      "bar_color": null,
      "description_width": ""
     }
    },
    "87cf4bebce2443afbaacec6bb71e19f7": {
     "model_module": "@jupyter-widgets/controls",
     "model_module_version": "1.5.0",
     "model_name": "DescriptionStyleModel",
     "state": {
      "_model_module": "@jupyter-widgets/controls",
      "_model_module_version": "1.5.0",
      "_model_name": "DescriptionStyleModel",
      "_view_count": null,
      "_view_module": "@jupyter-widgets/base",
      "_view_module_version": "1.2.0",
      "_view_name": "StyleView",
      "description_width": ""
     }
    },
    "895b52a26a6841eea532bd29223d025d": {
     "model_module": "@jupyter-widgets/controls",
     "model_module_version": "1.5.0",
     "model_name": "VBoxModel",
     "state": {
      "_dom_classes": [],
      "_model_module": "@jupyter-widgets/controls",
      "_model_module_version": "1.5.0",
      "_model_name": "VBoxModel",
      "_view_count": null,
      "_view_module": "@jupyter-widgets/controls",
      "_view_module_version": "1.5.0",
      "_view_name": "VBoxView",
      "box_style": "",
      "children": [
       "IPY_MODEL_5d15245089944160bacb40c7da188df2",
       "IPY_MODEL_a15855f75e3142e9a43f54ab23a45e8e"
      ],
      "layout": "IPY_MODEL_9378f9da0b72465f9aadeea2c88a54e8"
     }
    },
    "9333266d1087458b8f279a2448972a2b": {
     "model_module": "@jupyter-widgets/controls",
     "model_module_version": "1.5.0",
     "model_name": "VBoxModel",
     "state": {
      "_dom_classes": [],
      "_model_module": "@jupyter-widgets/controls",
      "_model_module_version": "1.5.0",
      "_model_name": "VBoxModel",
      "_view_count": null,
      "_view_module": "@jupyter-widgets/controls",
      "_view_module_version": "1.5.0",
      "_view_name": "VBoxView",
      "box_style": "",
      "children": [
       "IPY_MODEL_a01a56dbb3c64481b9ebc88da7b99903",
       "IPY_MODEL_2608a8cbffbc4a6d99a81672610544be"
      ],
      "layout": "IPY_MODEL_2e4ce6dda53c4fc6b9119ac33e0925e5"
     }
    },
    "9378f9da0b72465f9aadeea2c88a54e8": {
     "model_module": "@jupyter-widgets/base",
     "model_module_version": "1.2.0",
     "model_name": "LayoutModel",
     "state": {
      "_model_module": "@jupyter-widgets/base",
      "_model_module_version": "1.2.0",
      "_model_name": "LayoutModel",
      "_view_count": null,
      "_view_module": "@jupyter-widgets/base",
      "_view_module_version": "1.2.0",
      "_view_name": "LayoutView",
      "align_content": null,
      "align_items": null,
      "align_self": null,
      "border": null,
      "bottom": null,
      "display": null,
      "flex": null,
      "flex_flow": null,
      "grid_area": null,
      "grid_auto_columns": null,
      "grid_auto_flow": null,
      "grid_auto_rows": null,
      "grid_column": null,
      "grid_gap": null,
      "grid_row": null,
      "grid_template_areas": null,
      "grid_template_columns": null,
      "grid_template_rows": null,
      "height": null,
      "justify_content": null,
      "justify_items": null,
      "left": null,
      "margin": null,
      "max_height": null,
      "max_width": null,
      "min_height": null,
      "min_width": null,
      "object_fit": null,
      "object_position": null,
      "order": null,
      "overflow": null,
      "overflow_x": null,
      "overflow_y": null,
      "padding": null,
      "right": null,
      "top": null,
      "visibility": null,
      "width": null
     }
    },
    "9724e72d8a274f8c8b7df5baf0f1d996": {
     "model_module": "@jupyter-widgets/base",
     "model_module_version": "1.2.0",
     "model_name": "LayoutModel",
     "state": {
      "_model_module": "@jupyter-widgets/base",
      "_model_module_version": "1.2.0",
      "_model_name": "LayoutModel",
      "_view_count": null,
      "_view_module": "@jupyter-widgets/base",
      "_view_module_version": "1.2.0",
      "_view_name": "LayoutView",
      "align_content": null,
      "align_items": null,
      "align_self": null,
      "border": null,
      "bottom": null,
      "display": null,
      "flex": null,
      "flex_flow": null,
      "grid_area": null,
      "grid_auto_columns": null,
      "grid_auto_flow": null,
      "grid_auto_rows": null,
      "grid_column": null,
      "grid_gap": null,
      "grid_row": null,
      "grid_template_areas": null,
      "grid_template_columns": null,
      "grid_template_rows": null,
      "height": null,
      "justify_content": null,
      "justify_items": null,
      "left": null,
      "margin": null,
      "max_height": null,
      "max_width": null,
      "min_height": null,
      "min_width": null,
      "object_fit": null,
      "object_position": null,
      "order": null,
      "overflow": null,
      "overflow_x": null,
      "overflow_y": null,
      "padding": null,
      "right": null,
      "top": null,
      "visibility": null,
      "width": null
     }
    },
    "9960e6c4624446879c57240b2df270b4": {
     "model_module": "@jupyter-widgets/controls",
     "model_module_version": "1.5.0",
     "model_name": "DescriptionStyleModel",
     "state": {
      "_model_module": "@jupyter-widgets/controls",
      "_model_module_version": "1.5.0",
      "_model_name": "DescriptionStyleModel",
      "_view_count": null,
      "_view_module": "@jupyter-widgets/base",
      "_view_module_version": "1.2.0",
      "_view_name": "StyleView",
      "description_width": ""
     }
    },
    "a01a56dbb3c64481b9ebc88da7b99903": {
     "model_module": "@jupyter-widgets/controls",
     "model_module_version": "1.5.0",
     "model_name": "LabelModel",
     "state": {
      "_dom_classes": [],
      "_model_module": "@jupyter-widgets/controls",
      "_model_module_version": "1.5.0",
      "_model_name": "LabelModel",
      "_view_count": null,
      "_view_module": "@jupyter-widgets/controls",
      "_view_module_version": "1.5.0",
      "_view_name": "LabelView",
      "description": "",
      "description_tooltip": null,
      "layout": "IPY_MODEL_3950f374a1084806965130e0a0ff6bde",
      "placeholder": "​",
      "style": "IPY_MODEL_f84290cd2124435780182bbb2ef480c0",
      "value": " 0.01MB of 0.01MB uploaded (0.00MB deduped)\r"
     }
    },
    "a15855f75e3142e9a43f54ab23a45e8e": {
     "model_module": "@jupyter-widgets/controls",
     "model_module_version": "1.5.0",
     "model_name": "FloatProgressModel",
     "state": {
      "_dom_classes": [],
      "_model_module": "@jupyter-widgets/controls",
      "_model_module_version": "1.5.0",
      "_model_name": "FloatProgressModel",
      "_view_count": null,
      "_view_module": "@jupyter-widgets/controls",
      "_view_module_version": "1.5.0",
      "_view_name": "ProgressView",
      "bar_style": "",
      "description": "",
      "description_tooltip": null,
      "layout": "IPY_MODEL_c022248aa1c545d0aac63256913ca7b4",
      "max": 1,
      "min": 0,
      "orientation": "horizontal",
      "style": "IPY_MODEL_7561ad238e544db584cb5e967fc6af79",
      "value": 1
     }
    },
    "a6e83c7c6adb42f799dc48f6e2e9786b": {
     "model_module": "@jupyter-widgets/controls",
     "model_module_version": "1.5.0",
     "model_name": "VBoxModel",
     "state": {
      "_dom_classes": [],
      "_model_module": "@jupyter-widgets/controls",
      "_model_module_version": "1.5.0",
      "_model_name": "VBoxModel",
      "_view_count": null,
      "_view_module": "@jupyter-widgets/controls",
      "_view_module_version": "1.5.0",
      "_view_name": "VBoxView",
      "box_style": "",
      "children": [
       "IPY_MODEL_086aacd545544fc990374db99bce33ec",
       "IPY_MODEL_7f00100cf9c44caa8d84a0150efc3542"
      ],
      "layout": "IPY_MODEL_f8f22cfeb97e4099ab3ea1a7d42cfbd8"
     }
    },
    "c022248aa1c545d0aac63256913ca7b4": {
     "model_module": "@jupyter-widgets/base",
     "model_module_version": "1.2.0",
     "model_name": "LayoutModel",
     "state": {
      "_model_module": "@jupyter-widgets/base",
      "_model_module_version": "1.2.0",
      "_model_name": "LayoutModel",
      "_view_count": null,
      "_view_module": "@jupyter-widgets/base",
      "_view_module_version": "1.2.0",
      "_view_name": "LayoutView",
      "align_content": null,
      "align_items": null,
      "align_self": null,
      "border": null,
      "bottom": null,
      "display": null,
      "flex": null,
      "flex_flow": null,
      "grid_area": null,
      "grid_auto_columns": null,
      "grid_auto_flow": null,
      "grid_auto_rows": null,
      "grid_column": null,
      "grid_gap": null,
      "grid_row": null,
      "grid_template_areas": null,
      "grid_template_columns": null,
      "grid_template_rows": null,
      "height": null,
      "justify_content": null,
      "justify_items": null,
      "left": null,
      "margin": null,
      "max_height": null,
      "max_width": null,
      "min_height": null,
      "min_width": null,
      "object_fit": null,
      "object_position": null,
      "order": null,
      "overflow": null,
      "overflow_x": null,
      "overflow_y": null,
      "padding": null,
      "right": null,
      "top": null,
      "visibility": null,
      "width": null
     }
    },
    "c46e2e0499834bf6aabf3b2aa608864d": {
     "model_module": "@jupyter-widgets/base",
     "model_module_version": "1.2.0",
     "model_name": "LayoutModel",
     "state": {
      "_model_module": "@jupyter-widgets/base",
      "_model_module_version": "1.2.0",
      "_model_name": "LayoutModel",
      "_view_count": null,
      "_view_module": "@jupyter-widgets/base",
      "_view_module_version": "1.2.0",
      "_view_name": "LayoutView",
      "align_content": null,
      "align_items": null,
      "align_self": null,
      "border": null,
      "bottom": null,
      "display": null,
      "flex": null,
      "flex_flow": null,
      "grid_area": null,
      "grid_auto_columns": null,
      "grid_auto_flow": null,
      "grid_auto_rows": null,
      "grid_column": null,
      "grid_gap": null,
      "grid_row": null,
      "grid_template_areas": null,
      "grid_template_columns": null,
      "grid_template_rows": null,
      "height": null,
      "justify_content": null,
      "justify_items": null,
      "left": null,
      "margin": null,
      "max_height": null,
      "max_width": null,
      "min_height": null,
      "min_width": null,
      "object_fit": null,
      "object_position": null,
      "order": null,
      "overflow": null,
      "overflow_x": null,
      "overflow_y": null,
      "padding": null,
      "right": null,
      "top": null,
      "visibility": null,
      "width": null
     }
    },
    "d328d5ad9230455bba12bede13fc5d28": {
     "model_module": "@jupyter-widgets/base",
     "model_module_version": "1.2.0",
     "model_name": "LayoutModel",
     "state": {
      "_model_module": "@jupyter-widgets/base",
      "_model_module_version": "1.2.0",
      "_model_name": "LayoutModel",
      "_view_count": null,
      "_view_module": "@jupyter-widgets/base",
      "_view_module_version": "1.2.0",
      "_view_name": "LayoutView",
      "align_content": null,
      "align_items": null,
      "align_self": null,
      "border": null,
      "bottom": null,
      "display": null,
      "flex": null,
      "flex_flow": null,
      "grid_area": null,
      "grid_auto_columns": null,
      "grid_auto_flow": null,
      "grid_auto_rows": null,
      "grid_column": null,
      "grid_gap": null,
      "grid_row": null,
      "grid_template_areas": null,
      "grid_template_columns": null,
      "grid_template_rows": null,
      "height": null,
      "justify_content": null,
      "justify_items": null,
      "left": null,
      "margin": null,
      "max_height": null,
      "max_width": null,
      "min_height": null,
      "min_width": null,
      "object_fit": null,
      "object_position": null,
      "order": null,
      "overflow": null,
      "overflow_x": null,
      "overflow_y": null,
      "padding": null,
      "right": null,
      "top": null,
      "visibility": null,
      "width": null
     }
    },
    "e079626eab46417c90da3322c513fe7b": {
     "model_module": "@jupyter-widgets/controls",
     "model_module_version": "1.5.0",
     "model_name": "ProgressStyleModel",
     "state": {
      "_model_module": "@jupyter-widgets/controls",
      "_model_module_version": "1.5.0",
      "_model_name": "ProgressStyleModel",
      "_view_count": null,
      "_view_module": "@jupyter-widgets/base",
      "_view_module_version": "1.2.0",
      "_view_name": "StyleView",
      "bar_color": null,
      "description_width": ""
     }
    },
    "f84290cd2124435780182bbb2ef480c0": {
     "model_module": "@jupyter-widgets/controls",
     "model_module_version": "1.5.0",
     "model_name": "DescriptionStyleModel",
     "state": {
      "_model_module": "@jupyter-widgets/controls",
      "_model_module_version": "1.5.0",
      "_model_name": "DescriptionStyleModel",
      "_view_count": null,
      "_view_module": "@jupyter-widgets/base",
      "_view_module_version": "1.2.0",
      "_view_name": "StyleView",
      "description_width": ""
     }
    },
    "f8f22cfeb97e4099ab3ea1a7d42cfbd8": {
     "model_module": "@jupyter-widgets/base",
     "model_module_version": "1.2.0",
     "model_name": "LayoutModel",
     "state": {
      "_model_module": "@jupyter-widgets/base",
      "_model_module_version": "1.2.0",
      "_model_name": "LayoutModel",
      "_view_count": null,
      "_view_module": "@jupyter-widgets/base",
      "_view_module_version": "1.2.0",
      "_view_name": "LayoutView",
      "align_content": null,
      "align_items": null,
      "align_self": null,
      "border": null,
      "bottom": null,
      "display": null,
      "flex": null,
      "flex_flow": null,
      "grid_area": null,
      "grid_auto_columns": null,
      "grid_auto_flow": null,
      "grid_auto_rows": null,
      "grid_column": null,
      "grid_gap": null,
      "grid_row": null,
      "grid_template_areas": null,
      "grid_template_columns": null,
      "grid_template_rows": null,
      "height": null,
      "justify_content": null,
      "justify_items": null,
      "left": null,
      "margin": null,
      "max_height": null,
      "max_width": null,
      "min_height": null,
      "min_width": null,
      "object_fit": null,
      "object_position": null,
      "order": null,
      "overflow": null,
      "overflow_x": null,
      "overflow_y": null,
      "padding": null,
      "right": null,
      "top": null,
      "visibility": null,
      "width": null
     }
    },
    "feea45a3c0ac476394525130031cfd6c": {
     "model_module": "@jupyter-widgets/controls",
     "model_module_version": "1.5.0",
     "model_name": "VBoxModel",
     "state": {
      "_dom_classes": [],
      "_model_module": "@jupyter-widgets/controls",
      "_model_module_version": "1.5.0",
      "_model_name": "VBoxModel",
      "_view_count": null,
      "_view_module": "@jupyter-widgets/controls",
      "_view_module_version": "1.5.0",
      "_view_name": "VBoxView",
      "box_style": "",
      "children": [
       "IPY_MODEL_206e50a1a3b549dda788628391621fa4",
       "IPY_MODEL_2e682b15fbe3462cae55e656d2e69a04"
      ],
      "layout": "IPY_MODEL_0d845959644d47f2bfc70d8bff29630b"
     }
    },
    "ffb03a96616042aeaaf7663582d60514": {
     "model_module": "@jupyter-widgets/base",
     "model_module_version": "1.2.0",
     "model_name": "LayoutModel",
     "state": {
      "_model_module": "@jupyter-widgets/base",
      "_model_module_version": "1.2.0",
      "_model_name": "LayoutModel",
      "_view_count": null,
      "_view_module": "@jupyter-widgets/base",
      "_view_module_version": "1.2.0",
      "_view_name": "LayoutView",
      "align_content": null,
      "align_items": null,
      "align_self": null,
      "border": null,
      "bottom": null,
      "display": null,
      "flex": null,
      "flex_flow": null,
      "grid_area": null,
      "grid_auto_columns": null,
      "grid_auto_flow": null,
      "grid_auto_rows": null,
      "grid_column": null,
      "grid_gap": null,
      "grid_row": null,
      "grid_template_areas": null,
      "grid_template_columns": null,
      "grid_template_rows": null,
      "height": null,
      "justify_content": null,
      "justify_items": null,
      "left": null,
      "margin": null,
      "max_height": null,
      "max_width": null,
      "min_height": null,
      "min_width": null,
      "object_fit": null,
      "object_position": null,
      "order": null,
      "overflow": null,
      "overflow_x": null,
      "overflow_y": null,
      "padding": null,
      "right": null,
      "top": null,
      "visibility": null,
      "width": null
     }
    }
   }
  }
 },
 "nbformat": 4,
 "nbformat_minor": 1
}
