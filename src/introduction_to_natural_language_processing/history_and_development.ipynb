{
 "cells": [
  {
   "cell_type": "markdown",
   "metadata": {
    "id": "-8o53STlz5Ym"
   },
   "source": [
    "## Name Extraction Exercise\n",
    "\n",
    "Simple script to perform name extraction from a list of names."
   ]
  },
  {
   "cell_type": "code",
   "execution_count": null,
   "metadata": {
    "colab": {
     "base_uri": "https://localhost:8080/"
    },
    "id": "G2gEBrVKqIHd",
    "outputId": "6803d496-f0e4-45a7-b071-2afdd3934010"
   },
   "outputs": [
    {
     "name": "stdout",
     "output_type": "stream",
     "text": [
      "Enter your name:Liam\n",
      "\n",
      "Greetings Liam\n"
     ]
    }
   ],
   "source": [
    "list_of_possible_names = [\n",
    "    'Liam', 'Noah', \"Oliver\", \"William\", \"Elijah\",\n",
    "    \"James\", \"Benjamin\", \"Lucas\", \"Mason\", \"Ethan\",\n",
    "    \"Alexander\"\n",
    "]\n",
    "list_of_possible_names = [l.lower() for l in list_of_possible_names]\n",
    "\n",
    "def parse_name(sentence):\n",
    "    for word in sentence.split():\n",
    "        if word.lower() in list_of_possible_names:\n",
    "            return word\n",
    "\n",
    "\n",
    "sentence = input(\"Enter your name:\")\n",
    "print()\n",
    "name = parse_name(sentence)\n",
    "if name is not None:\n",
    "    print(f\"Greetings {name}\")\n",
    "else:\n",
    "    print(\"No name provided. Please try again.\")"
   ]
  },
  {
   "cell_type": "code",
   "execution_count": null,
   "metadata": {
    "id": "vEwV8BAgqcmn"
   },
   "outputs": [],
   "source": []
  }
 ],
 "metadata": {
  "colab": {
   "collapsed_sections": [],
   "name": "history_and_development",
   "provenance": []
  },
  "kernelspec": {
   "display_name": "Python 3 (ipykernel)",
   "language": "python",
   "name": "python3"
  },
  "language_info": {
   "codemirror_mode": {
    "name": "ipython",
    "version": 3
   },
   "file_extension": ".py",
   "mimetype": "text/x-python",
   "name": "python",
   "nbconvert_exporter": "python",
   "pygments_lexer": "ipython3",
   "version": "3.9.12"
  }
 },
 "nbformat": 4,
 "nbformat_minor": 1
}
