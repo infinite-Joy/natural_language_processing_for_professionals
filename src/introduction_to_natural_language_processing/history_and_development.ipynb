{
  "nbformat": 4,
  "nbformat_minor": 0,
  "metadata": {
    "colab": {
      "name": "history_and_development",
      "provenance": [],
      "collapsed_sections": []
    },
    "kernelspec": {
      "name": "python3",
      "display_name": "Python 3"
    },
    "language_info": {
      "name": "python"
    }
  },
  "cells": [
    {
      "cell_type": "markdown",
      "source": [
        "## Name Extraction Exercise\n",
        "\n",
        "Simple script to perform name extraction from a list of names."
      ],
      "metadata": {
        "id": "-8o53STlz5Ym"
      }
    },
    {
      "cell_type": "code",
      "metadata": {
        "colab": {
          "base_uri": "https://localhost:8080/"
        },
        "id": "G2gEBrVKqIHd",
        "outputId": "6803d496-f0e4-45a7-b071-2afdd3934010"
      },
      "source": [
        "list_of_possible_names = [\n",
        "    'Liam', 'Noah', \"Oliver\", \"William\", \"Elijah\",\n",
        "    \"James\", \"Benjamin\", \"Lucas\", \"Mason\", \"Ethan\",\n",
        "    \"Alexander\"\n",
        "]\n",
        "list_of_possible_names = [l.lower() for l in list_of_possible_names]\n",
        "\n",
        "def parse_name(sentence):\n",
        "    for word in sentence.split():\n",
        "        if word.lower() in list_of_possible_names:\n",
        "            return word\n",
        "\n",
        "\n",
        "sentence = input(\"Enter your name:\")\n",
        "print()\n",
        "name = parse_name(sentence)\n",
        "if name is not None:\n",
        "    print(f\"Greetings {name}\")\n",
        "else:\n",
        "    print(\"No name provided. Please try again.\")"
      ],
      "execution_count": null,
      "outputs": [
        {
          "output_type": "stream",
          "name": "stdout",
          "text": [
            "Enter your name:Liam\n",
            "\n",
            "Greetings Liam\n"
          ]
        }
      ]
    },
    {
      "cell_type": "code",
      "metadata": {
        "id": "vEwV8BAgqcmn"
      },
      "source": [
        ""
      ],
      "execution_count": null,
      "outputs": []
    }
  ]
}