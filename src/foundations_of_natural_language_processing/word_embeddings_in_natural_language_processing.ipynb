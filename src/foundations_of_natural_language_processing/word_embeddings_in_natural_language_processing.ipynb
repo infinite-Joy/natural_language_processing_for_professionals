{
  "nbformat": 4,
  "nbformat_minor": 0,
  "metadata": {
    "colab": {
      "name": "word_embeddings_in_natural_language_processing",
      "provenance": [],
      "collapsed_sections": [],
      "toc_visible": true
    },
    "kernelspec": {
      "name": "python3",
      "display_name": "Python 3"
    },
    "language_info": {
      "name": "python"
    }
  },
  "cells": [
    {
      "cell_type": "markdown",
      "source": [
        "## install the required modules"
      ],
      "metadata": {
        "id": "rG5AlMSVA3Un"
      }
    },
    {
      "cell_type": "code",
      "metadata": {
        "id": "yd-A1o0DNEL5",
        "collapsed": true
      },
      "source": [
        "%%capture\n",
        "!pip install fasttext"
      ],
      "execution_count": 1,
      "outputs": []
    },
    {
      "cell_type": "markdown",
      "source": [
        "## download the data"
      ],
      "metadata": {
        "id": "rYqvPSGFmIET"
      }
    },
    {
      "cell_type": "code",
      "source": [
        "import urllib.request as req\n",
        "from urllib.parse import urlparse\n",
        "import os\n",
        "import progressbar\n",
        "import zipfile\n",
        "import gzip\n",
        "import shutil\n",
        "import json\n",
        "import pandas as pd\n",
        "import re\n",
        "import string\n",
        "import imblearn\n",
        "\n",
        "pbar = None\n",
        "\n",
        "\n",
        "def show_progress(block_num, block_size, total_size):\n",
        "    global pbar\n",
        "    if pbar is None:\n",
        "        pbar = progressbar.ProgressBar(maxval=total_size)\n",
        "        pbar.start()\n",
        "\n",
        "    downloaded = block_num * block_size\n",
        "    if downloaded < total_size:\n",
        "        pbar.update(downloaded)\n",
        "    else:\n",
        "        pbar.finish()\n",
        "        pbar = None\n",
        "\n",
        "def wget(url):\n",
        "    a = urlparse(url)\n",
        "    filename = os.path.basename(a.path)\n",
        "    if not os.path.isfile(filename):\n",
        "        req.urlretrieve(url, filename, show_progress)\n",
        "        print(f'downloaded to {filename}')\n",
        "    else:\n",
        "        print(f'file {filename} has already been downloaded')\n",
        "    return filename\n",
        "\n",
        "def unzip(filename, directory_to_extract_to=os.getcwd()):\n",
        "    with zipfile.ZipFile(filename, 'r') as zip_ref:\n",
        "        zip_ref.extractall(directory_to_extract_to)\n",
        "        print(f'extraction done {zip_ref.namelist()}')\n",
        "\n",
        "def gunzip(gzfile, fout):\n",
        "    with gzip.open(gzfile, 'rb') as f_in:\n",
        "        with open(fout, 'wb') as f_out:\n",
        "            shutil.copyfileobj(f_in, f_out)\n",
        "    print(f'{gzfile} extracted to {fout}')\n",
        "\n",
        "\n",
        "def parse(path):\n",
        "    g = gzip.open(path, 'rb')\n",
        "    for l in g:\n",
        "        yield json.loads(l)\n",
        "\n",
        "def getDF(path):\n",
        "    df = {}\n",
        "    i = 0\n",
        "    for d in parse(path):\n",
        "        df[i] = d\n",
        "        i += 1\n",
        "    return pd.DataFrame.from_dict(df, orient='index')\n",
        "\n",
        "\n",
        "# map punctuation to space\n",
        "translator = str.maketrans(string.punctuation, ' '*len(string.punctuation)) \n",
        "\n",
        "def text_preprocessing(text):\n",
        "    \"\"\"\n",
        "    Preprocess the text for better understanding\n",
        "    \n",
        "    \"\"\"\n",
        "    text = text.strip()\n",
        "    text = text.lower()\n",
        "    text = text.replace('\\n', '.')\n",
        "    return text\n",
        "\n",
        "\n",
        "Video_Games_5 = wget('http://deepyeti.ucsd.edu/jianmo/amazon/categoryFilesSmall/Video_Games_5.json.gz')\n",
        "df = pd.read_json(\"./Video_Games_5.json.gz\", lines=True, compression='gzip')\n",
        "df = df[['reviewText', 'overall']]\n",
        "df = df[df['reviewText'].notnull()]\n",
        "df['reviewText'] = df['reviewText'].apply(text_preprocessing)\n",
        "df = df.dropna()\n",
        "df = df.drop_duplicates()\n",
        "print(df.shape)"
      ],
      "metadata": {
        "colab": {
          "base_uri": "https://localhost:8080/"
        },
        "id": "iUm-FiQUmK65",
        "outputId": "41e1af81-7895-4d70-a665-5008a1ef6a4d"
      },
      "execution_count": 2,
      "outputs": [
        {
          "output_type": "stream",
          "name": "stderr",
          "text": [
            "100% (154050105 of 154050105) |##########| Elapsed Time: 0:00:04 Time:  0:00:04\n"
          ]
        },
        {
          "output_type": "stream",
          "name": "stdout",
          "text": [
            "downloaded to Video_Games_5.json.gz\n",
            "(400985, 2)\n"
          ]
        }
      ]
    },
    {
      "cell_type": "code",
      "source": [
        "df[(df.overall==1) & (df.reviewText.str.contains('go'))].sample(10)"
      ],
      "metadata": {
        "colab": {
          "base_uri": "https://localhost:8080/",
          "height": 363
        },
        "id": "HhALbsc9mK3_",
        "outputId": "7ad65ce5-6cae-4f7a-d88b-ba4d6693eeac"
      },
      "execution_count": 3,
      "outputs": [
        {
          "output_type": "execute_result",
          "data": {
            "text/html": [
              "\n",
              "  <div id=\"df-a7a538c8-65f0-4dec-808e-8f48a37ea51e\">\n",
              "    <div class=\"colab-df-container\">\n",
              "      <div>\n",
              "<style scoped>\n",
              "    .dataframe tbody tr th:only-of-type {\n",
              "        vertical-align: middle;\n",
              "    }\n",
              "\n",
              "    .dataframe tbody tr th {\n",
              "        vertical-align: top;\n",
              "    }\n",
              "\n",
              "    .dataframe thead th {\n",
              "        text-align: right;\n",
              "    }\n",
              "</style>\n",
              "<table border=\"1\" class=\"dataframe\">\n",
              "  <thead>\n",
              "    <tr style=\"text-align: right;\">\n",
              "      <th></th>\n",
              "      <th>reviewText</th>\n",
              "      <th>overall</th>\n",
              "    </tr>\n",
              "  </thead>\n",
              "  <tbody>\n",
              "    <tr>\n",
              "      <th>137776</th>\n",
              "      <td>i am asking myself if the positive-reviewers h...</td>\n",
              "      <td>1</td>\n",
              "    </tr>\n",
              "    <tr>\n",
              "      <th>285985</th>\n",
              "      <td>waste of money.  the core of the game is basic...</td>\n",
              "      <td>1</td>\n",
              "    </tr>\n",
              "    <tr>\n",
              "      <th>217326</th>\n",
              "      <td>this was a waste of money imo. i got this for ...</td>\n",
              "      <td>1</td>\n",
              "    </tr>\n",
              "    <tr>\n",
              "      <th>243977</th>\n",
              "      <td>i wish i can give this game zero star. i gave ...</td>\n",
              "      <td>1</td>\n",
              "    </tr>\n",
              "    <tr>\n",
              "      <th>270259</th>\n",
              "      <td>this game doesn't even come close to replicati...</td>\n",
              "      <td>1</td>\n",
              "    </tr>\n",
              "    <tr>\n",
              "      <th>463555</th>\n",
              "      <td>it's not the storyline or the puzzles that i h...</td>\n",
              "      <td>1</td>\n",
              "    </tr>\n",
              "    <tr>\n",
              "      <th>138955</th>\n",
              "      <td>i played diablo 3 for about a month. i hated i...</td>\n",
              "      <td>1</td>\n",
              "    </tr>\n",
              "    <tr>\n",
              "      <th>100686</th>\n",
              "      <td>sounds like a lot of other people have had goo...</td>\n",
              "      <td>1</td>\n",
              "    </tr>\n",
              "    <tr>\n",
              "      <th>210223</th>\n",
              "      <td>not going to write a whole paragraph on this p...</td>\n",
              "      <td>1</td>\n",
              "    </tr>\n",
              "    <tr>\n",
              "      <th>303344</th>\n",
              "      <td>before anyone jumps to the conclusion that i a...</td>\n",
              "      <td>1</td>\n",
              "    </tr>\n",
              "  </tbody>\n",
              "</table>\n",
              "</div>\n",
              "      <button class=\"colab-df-convert\" onclick=\"convertToInteractive('df-a7a538c8-65f0-4dec-808e-8f48a37ea51e')\"\n",
              "              title=\"Convert this dataframe to an interactive table.\"\n",
              "              style=\"display:none;\">\n",
              "        \n",
              "  <svg xmlns=\"http://www.w3.org/2000/svg\" height=\"24px\"viewBox=\"0 0 24 24\"\n",
              "       width=\"24px\">\n",
              "    <path d=\"M0 0h24v24H0V0z\" fill=\"none\"/>\n",
              "    <path d=\"M18.56 5.44l.94 2.06.94-2.06 2.06-.94-2.06-.94-.94-2.06-.94 2.06-2.06.94zm-11 1L8.5 8.5l.94-2.06 2.06-.94-2.06-.94L8.5 2.5l-.94 2.06-2.06.94zm10 10l.94 2.06.94-2.06 2.06-.94-2.06-.94-.94-2.06-.94 2.06-2.06.94z\"/><path d=\"M17.41 7.96l-1.37-1.37c-.4-.4-.92-.59-1.43-.59-.52 0-1.04.2-1.43.59L10.3 9.45l-7.72 7.72c-.78.78-.78 2.05 0 2.83L4 21.41c.39.39.9.59 1.41.59.51 0 1.02-.2 1.41-.59l7.78-7.78 2.81-2.81c.8-.78.8-2.07 0-2.86zM5.41 20L4 18.59l7.72-7.72 1.47 1.35L5.41 20z\"/>\n",
              "  </svg>\n",
              "      </button>\n",
              "      \n",
              "  <style>\n",
              "    .colab-df-container {\n",
              "      display:flex;\n",
              "      flex-wrap:wrap;\n",
              "      gap: 12px;\n",
              "    }\n",
              "\n",
              "    .colab-df-convert {\n",
              "      background-color: #E8F0FE;\n",
              "      border: none;\n",
              "      border-radius: 50%;\n",
              "      cursor: pointer;\n",
              "      display: none;\n",
              "      fill: #1967D2;\n",
              "      height: 32px;\n",
              "      padding: 0 0 0 0;\n",
              "      width: 32px;\n",
              "    }\n",
              "\n",
              "    .colab-df-convert:hover {\n",
              "      background-color: #E2EBFA;\n",
              "      box-shadow: 0px 1px 2px rgba(60, 64, 67, 0.3), 0px 1px 3px 1px rgba(60, 64, 67, 0.15);\n",
              "      fill: #174EA6;\n",
              "    }\n",
              "\n",
              "    [theme=dark] .colab-df-convert {\n",
              "      background-color: #3B4455;\n",
              "      fill: #D2E3FC;\n",
              "    }\n",
              "\n",
              "    [theme=dark] .colab-df-convert:hover {\n",
              "      background-color: #434B5C;\n",
              "      box-shadow: 0px 1px 3px 1px rgba(0, 0, 0, 0.15);\n",
              "      filter: drop-shadow(0px 1px 2px rgba(0, 0, 0, 0.3));\n",
              "      fill: #FFFFFF;\n",
              "    }\n",
              "  </style>\n",
              "\n",
              "      <script>\n",
              "        const buttonEl =\n",
              "          document.querySelector('#df-a7a538c8-65f0-4dec-808e-8f48a37ea51e button.colab-df-convert');\n",
              "        buttonEl.style.display =\n",
              "          google.colab.kernel.accessAllowed ? 'block' : 'none';\n",
              "\n",
              "        async function convertToInteractive(key) {\n",
              "          const element = document.querySelector('#df-a7a538c8-65f0-4dec-808e-8f48a37ea51e');\n",
              "          const dataTable =\n",
              "            await google.colab.kernel.invokeFunction('convertToInteractive',\n",
              "                                                     [key], {});\n",
              "          if (!dataTable) return;\n",
              "\n",
              "          const docLinkHtml = 'Like what you see? Visit the ' +\n",
              "            '<a target=\"_blank\" href=https://colab.research.google.com/notebooks/data_table.ipynb>data table notebook</a>'\n",
              "            + ' to learn more about interactive tables.';\n",
              "          element.innerHTML = '';\n",
              "          dataTable['output_type'] = 'display_data';\n",
              "          await google.colab.output.renderOutput(dataTable, element);\n",
              "          const docLink = document.createElement('div');\n",
              "          docLink.innerHTML = docLinkHtml;\n",
              "          element.appendChild(docLink);\n",
              "        }\n",
              "      </script>\n",
              "    </div>\n",
              "  </div>\n",
              "  "
            ],
            "text/plain": [
              "                                               reviewText  overall\n",
              "137776  i am asking myself if the positive-reviewers h...        1\n",
              "285985  waste of money.  the core of the game is basic...        1\n",
              "217326  this was a waste of money imo. i got this for ...        1\n",
              "243977  i wish i can give this game zero star. i gave ...        1\n",
              "270259  this game doesn't even come close to replicati...        1\n",
              "463555  it's not the storyline or the puzzles that i h...        1\n",
              "138955  i played diablo 3 for about a month. i hated i...        1\n",
              "100686  sounds like a lot of other people have had goo...        1\n",
              "210223  not going to write a whole paragraph on this p...        1\n",
              "303344  before anyone jumps to the conclusion that i a...        1"
            ]
          },
          "metadata": {},
          "execution_count": 3
        }
      ]
    },
    {
      "cell_type": "code",
      "source": [
        ""
      ],
      "metadata": {
        "id": "LnsY-zgomK08"
      },
      "execution_count": 3,
      "outputs": []
    },
    {
      "cell_type": "markdown",
      "source": [
        "## cosine similarity of a scalar"
      ],
      "metadata": {
        "id": "hSpgNKPJBDnX"
      }
    },
    {
      "cell_type": "code",
      "metadata": {
        "colab": {
          "base_uri": "https://localhost:8080/"
        },
        "id": "BiAsFtfRMt79",
        "outputId": "d8539238-9912-4f5c-e684-bf08e7503de7"
      },
      "source": [
        "import numpy as np\n",
        "from sklearn.metrics.pairwise import cosine_similarity\n",
        "\n",
        "A = np.array([0.5]).reshape(1, -1)\n",
        "B = np.array([0.5]).reshape(1, -1)\n",
        "\n",
        "print(cosine_similarity(A, B))"
      ],
      "execution_count": 4,
      "outputs": [
        {
          "output_type": "stream",
          "name": "stdout",
          "text": [
            "[[1.]]\n"
          ]
        }
      ]
    },
    {
      "cell_type": "markdown",
      "source": [
        "## one hot encoding implementation"
      ],
      "metadata": {
        "id": "qW_lvn0MBG6r"
      }
    },
    {
      "cell_type": "code",
      "metadata": {
        "colab": {
          "base_uri": "https://localhost:8080/"
        },
        "id": "WL_tmzx2M0C-",
        "outputId": "91f21628-1896-4887-da96-9afc33546126"
      },
      "source": [
        "## define input string\n",
        "data = 'the quick brown fox jumped over the lazy dog'\n",
        "consecutive_words = data.split()\n",
        "\n",
        "## construct the dictionary\n",
        "all_words = list(set(consecutive_words))\n",
        "\n",
        "## define a mapping of word to integers\n",
        "word_to_int = dict((w, i) for i, w in enumerate(all_words))\n",
        "int_to_word = dict((i, w) for i, w in enumerate(all_words))\n",
        "\n",
        "## integer encode input data\n",
        "integer_encoded = [word_to_int[w] for w in consecutive_words]\n",
        "\n",
        "## one hot encode\n",
        "onehot_encoded = list()\n",
        "for value in integer_encoded:\n",
        "  letter = [0 for _ in range(len(all_words))]\n",
        "  letter[value] = 1\n",
        "  onehot_encoded.append(letter)\n",
        "\n",
        "def argmax(vector):\n",
        "  # since vector is actually a list and its one hot encoding hence the\n",
        "  # maximum value is always 1\n",
        "  return vector.index(1)\n",
        "\n",
        "for vec in onehot_encoded:\n",
        "    print('word={word},\\t vec={vec}'.format(word=int_to_word[argmax(vec)], vec=vec))"
      ],
      "execution_count": 5,
      "outputs": [
        {
          "output_type": "stream",
          "name": "stdout",
          "text": [
            "word=the,\t vec=[0, 0, 0, 0, 0, 1, 0, 0]\n",
            "word=quick,\t vec=[0, 0, 0, 1, 0, 0, 0, 0]\n",
            "word=brown,\t vec=[1, 0, 0, 0, 0, 0, 0, 0]\n",
            "word=fox,\t vec=[0, 0, 0, 0, 1, 0, 0, 0]\n",
            "word=jumped,\t vec=[0, 0, 0, 0, 0, 0, 1, 0]\n",
            "word=over,\t vec=[0, 1, 0, 0, 0, 0, 0, 0]\n",
            "word=the,\t vec=[0, 0, 0, 0, 0, 1, 0, 0]\n",
            "word=lazy,\t vec=[0, 0, 0, 0, 0, 0, 0, 1]\n",
            "word=dog,\t vec=[0, 0, 1, 0, 0, 0, 0, 0]\n"
          ]
        }
      ]
    },
    {
      "cell_type": "code",
      "metadata": {
        "colab": {
          "base_uri": "https://localhost:8080/"
        },
        "id": "qLI8mLwSM21a",
        "outputId": "2a89c21d-6eeb-4dbf-c952-a795c5d994fe"
      },
      "source": [
        "import numpy as np\n",
        "from sklearn.metrics.pairwise import cosine_similarity\n",
        "\n",
        "A = np.array(onehot_encoded[0]).reshape(1, -1)\n",
        "B = np.array(onehot_encoded[1]).reshape(1, -1)\n",
        "\n",
        "print(cosine_similarity(A, B))"
      ],
      "execution_count": 6,
      "outputs": [
        {
          "output_type": "stream",
          "name": "stdout",
          "text": [
            "[[0.]]\n"
          ]
        }
      ]
    },
    {
      "cell_type": "markdown",
      "metadata": {
        "id": "AGvegvJUP5Ai"
      },
      "source": [
        "## Fasttext Vectors\n",
        "\n",
        "fasttext website: https://fasttext.cc/"
      ]
    },
    {
      "cell_type": "code",
      "source": [
        "wiki_en = wget('https://dl.fbaipublicfiles.com/fasttext/vectors-wiki/wiki.en.zip')\n",
        "unzip(wiki_en)"
      ],
      "metadata": {
        "colab": {
          "base_uri": "https://localhost:8080/"
        },
        "id": "5HXU-qgc7Z_1",
        "outputId": "b5eaaf4e-4d82-40b0-80cb-ecec888b77fd"
      },
      "execution_count": 7,
      "outputs": [
        {
          "output_type": "stream",
          "name": "stderr",
          "text": [
            "100% (10356881291 of 10356881291) |######| Elapsed Time: 0:04:01 Time:  0:04:01\n"
          ]
        },
        {
          "output_type": "stream",
          "name": "stdout",
          "text": [
            "downloaded to wiki.en.zip\n",
            "extraction done ['wiki.en.vec', 'wiki.en.bin']\n"
          ]
        }
      ]
    },
    {
      "cell_type": "code",
      "metadata": {
        "colab": {
          "base_uri": "https://localhost:8080/"
        },
        "id": "b3evCWQ2NISu",
        "outputId": "c3b85f76-59b9-49ea-9738-de81b96e0ff0"
      },
      "source": [
        "import fasttext\n",
        "import numpy as np\n",
        "from sklearn.metrics.pairwise import cosine_similarity\n",
        "\n",
        "## load the model\n",
        "ft = fasttext.load_model('wiki.en.bin')\n",
        "\n",
        "## get the word vectors\n",
        "vector = ft.get_word_vector('vector').reshape(1, -1)\n",
        "matrix = ft.get_word_vector('matrix').reshape(1, -1)\n",
        "\n",
        "## compute and report the similarity\n",
        "print('similarity:', cosine_similarity(vector, matrix))"
      ],
      "execution_count": null,
      "outputs": [
        {
          "output_type": "stream",
          "name": "stderr",
          "text": [
            "Warning : `load_model` does not return WordVectorModel or SupervisedModel any more, but a `FastText` object which is very similar.\n"
          ]
        },
        {
          "output_type": "stream",
          "name": "stdout",
          "text": [
            "similarity: [[0.5645191]]\n"
          ]
        }
      ]
    },
    {
      "cell_type": "markdown",
      "metadata": {
        "id": "PH49aJv-P-WK"
      },
      "source": [
        "## Glove Embeddings\n",
        "\n",
        "GloVe website: https://nlp.stanford.edu/projects/glove/"
      ]
    },
    {
      "cell_type": "code",
      "source": [
        "glove = wget('http://nlp.stanford.edu/data/glove.840B.300d.zip')\n",
        "unzip(glove)"
      ],
      "metadata": {
        "colab": {
          "base_uri": "https://localhost:8080/"
        },
        "id": "s5LReIlE-M7k",
        "outputId": "e345c268-5928-4f8c-e758-db8936e4c95e"
      },
      "execution_count": 10,
      "outputs": [
        {
          "output_type": "stream",
          "name": "stderr",
          "text": [
            "100% (2176768927 of 2176768927) |########| Elapsed Time: 0:06:50 Time:  0:06:50\n"
          ]
        },
        {
          "output_type": "stream",
          "name": "stdout",
          "text": [
            "downloaded to glove.840B.300d.zip\n",
            "extraction done ['glove.840B.300d.txt']\n"
          ]
        }
      ]
    },
    {
      "cell_type": "code",
      "metadata": {
        "id": "Cefpi5hcN76h"
      },
      "source": [
        "from gensim.scripts.glove2word2vec import glove2word2vec\n",
        "from gensim.models.keyedvectors import KeyedVectors\n",
        "\n",
        "glove2word2vec(\n",
        "    glove_input_file=\"glove.840B.300d.txt\",\n",
        "    word2vec_output_file=\"gensim_glove_vectors.txt\")\n",
        "\n",
        "glove_model = KeyedVectors.load_word2vec_format(\"gensim_glove_vectors.txt\", binary=False)"
      ],
      "execution_count": 3,
      "outputs": []
    },
    {
      "cell_type": "code",
      "source": [
        "import numpy as np\n",
        "from sklearn.metrics.pairwise import cosine_similarity\n",
        "\n",
        "## get the glove vector\n",
        "vector = glove_model.wv.get_vector('vector').reshape(1, -1)\n",
        "matrix = glove_model.wv.get_vector('matrix').reshape(1, -1)\n",
        "\n",
        "## compute and report the similarities.\n",
        "print('similarity:', cosine_similarity(vector, matrix))"
      ],
      "metadata": {
        "colab": {
          "base_uri": "https://localhost:8080/"
        },
        "id": "kvN-L0hU_CMp",
        "outputId": "896b6641-b170-4287-e3e8-f2eaac612d39"
      },
      "execution_count": 4,
      "outputs": [
        {
          "output_type": "stream",
          "name": "stdout",
          "text": [
            "similarity: [[0.47342822]]\n"
          ]
        },
        {
          "output_type": "stream",
          "name": "stderr",
          "text": [
            "/usr/local/lib/python3.7/dist-packages/ipykernel_launcher.py:5: DeprecationWarning: Call to deprecated `wv` (Attribute will be removed in 4.0.0, use self instead).\n",
            "  \"\"\"\n",
            "/usr/local/lib/python3.7/dist-packages/ipykernel_launcher.py:6: DeprecationWarning: Call to deprecated `wv` (Attribute will be removed in 4.0.0, use self instead).\n",
            "  \n"
          ]
        }
      ]
    }
  ]
}