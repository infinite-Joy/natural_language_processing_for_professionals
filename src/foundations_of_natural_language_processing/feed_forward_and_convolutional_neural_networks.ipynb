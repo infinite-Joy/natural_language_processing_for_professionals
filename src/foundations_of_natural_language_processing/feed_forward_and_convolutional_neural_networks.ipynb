{
  "nbformat": 4,
  "nbformat_minor": 0,
  "metadata": {
    "colab": {
      "name": "feed_forward_and_convolutional_neural_networks",
      "provenance": [],
      "collapsed_sections": []
    },
    "kernelspec": {
      "name": "python3",
      "display_name": "Python 3"
    },
    "language_info": {
      "name": "python"
    }
  },
  "cells": [
    {
      "cell_type": "markdown",
      "metadata": {
        "id": "TJgqecukQ6tf"
      },
      "source": [
        "## Shallow Neural Networks"
      ]
    },
    {
      "cell_type": "code",
      "metadata": {
        "id": "2mB2RpyGQwqF"
      },
      "source": [
        "import tensorflow as tf\n",
        "from tensorflow.keras import layers\n",
        "\n",
        "\n",
        "class ShallowNN(tf.keras.Model):\n",
        "    def __init__(self, vocab_size, emb_dim=50, input_length=128, FFN_units=32,\n",
        "                nb_classes=2, dropout_rate=0.1,\n",
        "                training=False, name=\"shallow\"):\n",
        "        super(ShallowNN, self).__init__(name=name)\n",
        "        self.embedding = layers.Embedding(vocab_size, emb_dim, input_length=input_length)\n",
        "        self.pool = layers.GlobalAveragePooling1D()\n",
        "        self.dense = layers.Dense(FFN_units, activation='relu')\n",
        "        self.dropout = layers.Dropout(rate=dropout_rate)\n",
        "        if nb_classes == 2:\n",
        "            self.last_dense = layers.Dense(units=1, activation=\"sigmoid\")\n",
        "        else:\n",
        "            self.last_dense = layers.Dense(units=nb_classes, activation=\"softmax\")\n",
        "\n",
        "    def call(self, inputs, training):\n",
        "        print('one sample of input signal', inputs[0])\n",
        "        embs = self.embedding(inputs)\n",
        "        print('one embedding layer output', embs[0])\n",
        "        print('embedding layer', embs.shape)\n",
        "        x = self.dropout(embs, training=training)\n",
        "        print('dropout 1', x.shape)\n",
        "        x = self.pool(x)\n",
        "        print(x[0])\n",
        "        print('pooling layer', x.shape)\n",
        "        x = self.dropout(x, training=training)\n",
        "        print('dropout 2', x.shape)\n",
        "        x = self.dense(x)\n",
        "        print('dense layer', x.shape)\n",
        "        x = self.dropout(x, training=training)\n",
        "        print('dropout 3', x.shape)\n",
        "        output = self.last_dense(x)\n",
        "\n",
        "        return output"
      ],
      "execution_count": null,
      "outputs": []
    },
    {
      "cell_type": "code",
      "metadata": {
        "colab": {
          "base_uri": "https://localhost:8080/"
        },
        "id": "8ZYkbW2IQ-d2",
        "outputId": "5b77c740-e0ad-48e9-d887-a36dac36093f"
      },
      "source": [
        "model = ShallowNN(20, emb_dim=2, input_length=3, FFN_units=8, nb_classes=2)\n",
        "model.build([10, 3])\n",
        "print(model.summary())"
      ],
      "execution_count": null,
      "outputs": [
        {
          "output_type": "stream",
          "name": "stdout",
          "text": [
            "one sample of input signal Tensor(\"strided_slice:0\", shape=(3,), dtype=float32)\n",
            "one embedding layer output Tensor(\"strided_slice_1:0\", shape=(3, 2), dtype=float32)\n",
            "embedding layer (10, 3, 2)\n",
            "dropout 1 (10, 3, 2)\n",
            "Tensor(\"strided_slice_2:0\", shape=(2,), dtype=float32)\n",
            "pooling layer (10, 2)\n",
            "dropout 2 (10, 2)\n",
            "dense layer (10, 8)\n",
            "dropout 3 (10, 8)\n",
            "Model: \"shallow\"\n",
            "_________________________________________________________________\n",
            "Layer (type)                 Output Shape              Param #   \n",
            "=================================================================\n",
            "embedding (Embedding)        multiple                  40        \n",
            "_________________________________________________________________\n",
            "global_average_pooling1d (Gl multiple                  0         \n",
            "_________________________________________________________________\n",
            "dense (Dense)                multiple                  24        \n",
            "_________________________________________________________________\n",
            "dropout (Dropout)            multiple                  0         \n",
            "_________________________________________________________________\n",
            "dense_1 (Dense)              multiple                  9         \n",
            "=================================================================\n",
            "Total params: 73\n",
            "Trainable params: 73\n",
            "Non-trainable params: 0\n",
            "_________________________________________________________________\n",
            "None\n"
          ]
        }
      ]
    },
    {
      "cell_type": "code",
      "metadata": {
        "colab": {
          "base_uri": "https://localhost:8080/"
        },
        "id": "b67fM-SEQ_48",
        "outputId": "a40d0f09-38b5-41d9-fff2-a4cd255ca7f6"
      },
      "source": [
        "import numpy as np\n",
        "\n",
        "inputs = np.random.randint(0, high=20, size=(10, 3))\n",
        "out = model(inputs)\n",
        "print(\"*\"*10)\n",
        "print('model output', out)\n",
        "print('output shape', out.shape)"
      ],
      "execution_count": null,
      "outputs": [
        {
          "output_type": "stream",
          "name": "stdout",
          "text": [
            "one sample of input signal tf.Tensor([12  6 11], shape=(3,), dtype=int64)\n",
            "one embedding layer output tf.Tensor(\n",
            "[[ 0.0410685   0.00705718]\n",
            " [ 0.03380862  0.00404817]\n",
            " [-0.00746311 -0.0142974 ]], shape=(3, 2), dtype=float32)\n",
            "embedding layer (10, 3, 2)\n",
            "dropout 1 (10, 3, 2)\n",
            "tf.Tensor([ 0.02247134 -0.00106402], shape=(2,), dtype=float32)\n",
            "pooling layer (10, 2)\n",
            "dropout 2 (10, 2)\n",
            "dense layer (10, 8)\n",
            "dropout 3 (10, 8)\n",
            "**********\n",
            "model output tf.Tensor(\n",
            "[[0.49953666]\n",
            " [0.5011486 ]\n",
            " [0.5001864 ]\n",
            " [0.49998492]\n",
            " [0.5000969 ]\n",
            " [0.4996887 ]\n",
            " [0.5011825 ]\n",
            " [0.49946228]\n",
            " [0.49987358]\n",
            " [0.50227207]], shape=(10, 1), dtype=float32)\n",
            "output shape (10, 1)\n"
          ]
        }
      ]
    },
    {
      "cell_type": "markdown",
      "metadata": {
        "id": "W59FiWIpREmR"
      },
      "source": [
        "## Convolutional Neural Networks"
      ]
    },
    {
      "cell_type": "markdown",
      "metadata": {
        "id": "4PBRYQfCR4Kq"
      },
      "source": [
        "### convolution example"
      ]
    },
    {
      "cell_type": "code",
      "metadata": {
        "colab": {
          "base_uri": "https://localhost:8080/",
          "height": 297
        },
        "id": "jwzkdypXRBuq",
        "outputId": "99fce4c3-c215-46a6-e821-ff8b7cc32fdf"
      },
      "source": [
        "import numpy as np\n",
        "from scipy import signal\n",
        "import matplotlib.pyplot as plt\n",
        "\n",
        "sig = np.repeat([0., 1., 0.], 100)\n",
        "win = signal.windows.hann(50)\n",
        "filtered = signal.convolve(sig, win, mode='same') / sum(win)\n",
        "\n",
        "fig, (ax_orig, ax_win, ax_filt) = plt.subplots(3, 1, sharex=True)\n",
        "ax_orig.plot(sig)\n",
        "ax_orig.set_title('Original pulse')\n",
        "ax_orig.margins(0, 0.1)\n",
        "ax_win.plot(win)\n",
        "ax_win.set_title('Filter impulse response')\n",
        "ax_win.margins(0, 0.1)\n",
        "ax_filt.plot(filtered)\n",
        "ax_filt.set_title('Filtered signal')\n",
        "ax_filt.margins(0, 0.1)\n",
        "fig.tight_layout()\n",
        "# plt.savefig('output/graph.png')\n",
        "plt.show()"
      ],
      "execution_count": null,
      "outputs": [
        {
          "output_type": "display_data",
          "data": {
            "image/png": "[encoded data removed]",
            "text/plain": [
              "<Figure size 432x288 with 3 Axes>"
            ]
          },
          "metadata": {
            "needs_background": "light"
          }
        }
      ]
    },
    {
      "cell_type": "markdown",
      "metadata": {
        "id": "mobo1hf2R7_H"
      },
      "source": [
        "### tf.keras.layers.Conv1D layer"
      ]
    },
    {
      "cell_type": "code",
      "metadata": {
        "colab": {
          "base_uri": "https://localhost:8080/"
        },
        "id": "gej1lRkbRbWr",
        "outputId": "a290a949-de2d-4051-822e-1182910e663d"
      },
      "source": [
        "import tensorflow as tf\n",
        "\n",
        "tf.random.set_seed(42)\n",
        "\n",
        "## The inputs are 2-length vectors with 4 timesteps, and the batch size is 1\n",
        "input_shape = (1, 4, 2)\n",
        "x = tf.random.normal(input_shape)\n",
        "\n",
        "## there are going to be 5 filters with kernel size is 3\n",
        "conv_layer = tf.keras.layers.Conv1D(5, 3, activation='relu',input_shape=input_shape[1:])\n",
        "y = conv_layer(x)\n",
        "print('input vector', x)\n",
        "print('output vector', y)\n",
        "print('weights', conv_layer.weights[0])"
      ],
      "execution_count": null,
      "outputs": [
        {
          "output_type": "stream",
          "name": "stdout",
          "text": [
            "input vector tf.Tensor(\n",
            "[[[ 0.3274685 -0.8426258]\n",
            "  [ 0.3194337 -1.4075519]\n",
            "  [-2.3880599 -1.0392479]\n",
            "  [-0.5573232  0.539707 ]]], shape=(1, 4, 2), dtype=float32)\n",
            "output vector tf.Tensor(\n",
            "[[[0.         0.7420608  0.         0.         0.        ]\n",
            "  [0.         0.         1.2456826  0.04663306 0.        ]]], shape=(1, 2, 5), dtype=float32)\n",
            "weights <tf.Variable 'conv1d/kernel:0' shape=(3, 2, 5) dtype=float32, numpy=\n",
            "array([[[ 0.2008642 , -0.0165928 ,  0.46075237, -0.26492321,\n",
            "          0.247114  ],\n",
            "        [ 0.4196731 ,  0.47759396,  0.26654935, -0.16115183,\n",
            "          0.05044025]],\n",
            "\n",
            "       [[-0.25485608,  0.21096879, -0.4066371 ,  0.03724921,\n",
            "          0.22973436],\n",
            "        [ 0.40091085, -0.17139468, -0.34874785, -0.06216273,\n",
            "          0.42850113]],\n",
            "\n",
            "       [[-0.38695297, -0.40390682,  0.0806585 ,  0.47221655,\n",
            "          0.44756472],\n",
            "        [ 0.10378796,  0.11860859,  0.34301662,  0.35566896,\n",
            "          0.41862184]]], dtype=float32)>\n"
          ]
        }
      ]
    },
    {
      "cell_type": "code",
      "metadata": {
        "colab": {
          "base_uri": "https://localhost:8080/"
        },
        "id": "iqggqNpGRouy",
        "outputId": "2d91add8-bdb3-4715-ea58-fe55647a7587"
      },
      "source": [
        "print(\n",
        "  (0.3274685 * -0.0165928  + -0.8426258 * 0.47759396) + \n",
        "  (0.3194337 * 0.21096879 + -1.4075519 * -0.17139468) + \n",
        "  (-2.3880599 * -0.40390682 + -1.0392479 * 0.11860859)\n",
        ")"
      ],
      "execution_count": null,
      "outputs": [
        {
          "output_type": "stream",
          "name": "stdout",
          "text": [
            "0.7420607888102042\n"
          ]
        }
      ]
    },
    {
      "cell_type": "markdown",
      "metadata": {
        "id": "Qwf487Z0R-5P"
      },
      "source": [
        "### Model Implementation"
      ]
    },
    {
      "cell_type": "code",
      "metadata": {
        "id": "EMECyd6xRxaq"
      },
      "source": [
        "import tensorflow as tf\n",
        "from tensorflow.keras import layers\n",
        "\n",
        "tf.random.set_seed(42)\n",
        "\n",
        "\n",
        "class ConvNN(tf.keras.Model):\n",
        "    def __init__(self, vocab_size, emb_dim=50, FFN_units=32,\n",
        "                 nfilters=100, nb_classes=2,\n",
        "                 dropout_rate=0.2, training=False, name=\"conv\"):\n",
        "        super(ConvNN, self).__init__(name=name)\n",
        "        self.embedding = layers.Embedding(vocab_size, emb_dim, trainable=False)\n",
        "        self.conv = layers.Conv1D(nfilters, 3, activation='relu')\n",
        "        self.pool = layers.GlobalMaxPooling1D()\n",
        "        self.dense = layers.Dense(FFN_units, activation='relu')\n",
        "        self.dropout = layers.Dropout(rate=dropout_rate)\n",
        "        if nb_classes == 2:\n",
        "            self.last_dense = layers.Dense(units=1, activation=\"sigmoid\")\n",
        "        else:\n",
        "            self.last_dense = layers.Dense(\n",
        "                units=nb_classes, activation=\"softmax\")\n",
        "\n",
        "    def call(self, inputs, training):\n",
        "        print('one sample of input signal', inputs[0])\n",
        "        embs = self.embedding(inputs)\n",
        "        print('one embedding layer output', embs[0])\n",
        "        print('embedding layer', embs.shape)\n",
        "        x = self.conv(embs)\n",
        "        print('feature vectors for the different filters', x)\n",
        "        print('shape after the conv layer', x.shape)\n",
        "        x = self.pool(x)\n",
        "        print(x[0])\n",
        "        print('pooling layer', x.shape)\n",
        "        x = self.dropout(x, training=training)\n",
        "        print('dropout 2', x.shape)\n",
        "        x = self.dense(x)\n",
        "        print('dense layer', x.shape)\n",
        "        x = self.dropout(x, training=training)\n",
        "        print('dropout 3', x.shape)\n",
        "        output = self.last_dense(x)\n",
        "\n",
        "        return output"
      ],
      "execution_count": null,
      "outputs": []
    },
    {
      "cell_type": "code",
      "metadata": {
        "colab": {
          "base_uri": "https://localhost:8080/"
        },
        "id": "Ptkw1D4ZR061",
        "outputId": "b97e99ee-1783-47fd-ff73-98be5861d0a2"
      },
      "source": [
        "model = ConvNN(20, emb_dim=2, FFN_units=8, nfilters=5, nb_classes=2)\n",
        "model.build([10, 4])\n",
        "print(model.summary())"
      ],
      "execution_count": null,
      "outputs": [
        {
          "output_type": "stream",
          "name": "stdout",
          "text": [
            "one sample of input signal Tensor(\"strided_slice:0\", shape=(4,), dtype=float32)\n",
            "one embedding layer output Tensor(\"strided_slice_1:0\", shape=(4, 2), dtype=float32)\n",
            "embedding layer (10, 4, 2)\n",
            "feature vectors for the different filters Tensor(\"conv1d_1/Relu:0\", shape=(10, 2, 5), dtype=float32)\n",
            "shape after the conv layer (10, 2, 5)\n",
            "Tensor(\"strided_slice_2:0\", shape=(5,), dtype=float32)\n",
            "pooling layer (10, 5)\n",
            "dropout 2 (10, 5)\n",
            "dense layer (10, 8)\n",
            "dropout 3 (10, 8)\n",
            "Model: \"conv\"\n",
            "_________________________________________________________________\n",
            "Layer (type)                 Output Shape              Param #   \n",
            "=================================================================\n",
            "embedding_1 (Embedding)      multiple                  40        \n",
            "_________________________________________________________________\n",
            "conv1d_1 (Conv1D)            multiple                  35        \n",
            "_________________________________________________________________\n",
            "global_max_pooling1d (Global multiple                  0         \n",
            "_________________________________________________________________\n",
            "dense_2 (Dense)              multiple                  48        \n",
            "_________________________________________________________________\n",
            "dropout_1 (Dropout)          multiple                  0         \n",
            "_________________________________________________________________\n",
            "dense_3 (Dense)              multiple                  9         \n",
            "=================================================================\n",
            "Total params: 132\n",
            "Trainable params: 92\n",
            "Non-trainable params: 40\n",
            "_________________________________________________________________\n",
            "None\n"
          ]
        }
      ]
    },
    {
      "cell_type": "code",
      "metadata": {
        "id": "eDgB9Ht5R2Xp"
      },
      "source": [
        ""
      ],
      "execution_count": null,
      "outputs": []
    }
  ]
}