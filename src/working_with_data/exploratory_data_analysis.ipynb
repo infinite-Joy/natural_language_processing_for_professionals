{
  "nbformat": 4,
  "nbformat_minor": 0,
  "metadata": {
    "colab": {
      "name": "exploratory_data_analysis",
      "provenance": [],
      "toc_visible": true
    },
    "kernelspec": {
      "display_name": "Python 3",
      "name": "python3"
    },
    "language_info": {
      "name": "python"
    }
  },
  "cells": [
    {
      "cell_type": "markdown",
      "metadata": {
        "id": "hJseYNGCDchB"
      },
      "source": [
        "## Load the dataset"
      ]
    },
    {
      "cell_type": "code",
      "metadata": {
        "colab": {
          "base_uri": "https://localhost:8080/"
        },
        "id": "eGNwFo698Swv",
        "outputId": "b864b162-ac9b-4260-b6de-a5201734c79c"
      },
      "source": [
        "import urllib.request as req\n",
        "from urllib.parse import urlparse\n",
        "import os\n",
        "import progressbar\n",
        "import zipfile\n",
        "import gzip\n",
        "import shutil\n",
        "import json\n",
        "import pandas as pd\n",
        "import re\n",
        "import string\n",
        "import imblearn\n",
        "\n",
        "pbar = None\n",
        "\n",
        "\n",
        "def show_progress(block_num, block_size, total_size):\n",
        "    global pbar\n",
        "    if pbar is None:\n",
        "        pbar = progressbar.ProgressBar(maxval=total_size)\n",
        "        pbar.start()\n",
        "\n",
        "    downloaded = block_num * block_size\n",
        "    if downloaded < total_size:\n",
        "        pbar.update(downloaded)\n",
        "    else:\n",
        "        pbar.finish()\n",
        "        pbar = None\n",
        "\n",
        "def wget(url):\n",
        "    a = urlparse(url)\n",
        "    filename = os.path.basename(a.path)\n",
        "    if not os.path.isfile(filename):\n",
        "        req.urlretrieve(url, filename, show_progress)\n",
        "        print(f'downloaded to {filename}')\n",
        "    else:\n",
        "        print(f'file {filename} has already been downloaded')\n",
        "    return filename\n",
        "\n",
        "def unzip(filename, directory_to_extract_to=os.getcwd()):\n",
        "    with zipfile.ZipFile(filename, 'r') as zip_ref:\n",
        "        zip_ref.extractall(directory_to_extract_to)\n",
        "        print(f'extraction done {zip_ref.namelist()}')\n",
        "\n",
        "def gunzip(gzfile, fout):\n",
        "    with gzip.open(gzfile, 'rb') as f_in:\n",
        "        with open(fout, 'wb') as f_out:\n",
        "            shutil.copyfileobj(f_in, f_out)\n",
        "    print(f'{gzfile} extracted to {fout}')\n",
        "\n",
        "\n",
        "# map punctuation to space\n",
        "translator = str.maketrans(string.punctuation, ' '*len(string.punctuation)) \n",
        "\n",
        "def text_preprocessing(df):\n",
        "    \"\"\"\n",
        "    Preprocess the text for better understanding\n",
        "    \n",
        "    \"\"\"\n",
        "    # trim the whitespace at the edges of the string\n",
        "    df['reviewText'] = df['reviewText'].str.strip()\n",
        "\n",
        "    # lowercase the text in the string\n",
        "    df['reviewText'] = df['reviewText'].str.lower()\n",
        "\n",
        "    # replace new line with a .\n",
        "\n",
        "    df['reviewText'] = df['reviewText'].replace('\\n', ' . ')\n",
        "\n",
        "    return df\n",
        "\n",
        "\n",
        "filename = wget(\"https://nlp.stanford.edu/data/glove.6B.zip\")\n",
        "unzip(filename)\n",
        "Video_Games_5 = wget('http://deepyeti.ucsd.edu/jianmo/amazon/categoryFilesSmall/Video_Games_5.json.gz')\n",
        "df = pd.read_json(\"./Video_Games_5.json.gz\", lines=True, compression='gzip')\n",
        "df = df[['reviewText', 'overall']]\n",
        "df = text_preprocessing(df)\n",
        "df = df.dropna()\n",
        "df = df.drop_duplicates()\n",
        "print(df.shape)"
      ],
      "execution_count": null,
      "outputs": [
        {
          "output_type": "stream",
          "name": "stderr",
          "text": [
            "/usr/local/lib/python3.7/dist-packages/sklearn/externals/six.py:31: FutureWarning: The module is deprecated in version 0.21 and will be removed in version 0.23 since we've dropped support for Python 2.7. Please rely on the official version of six (https://pypi.org/project/six/).\n",
            "  \"(https://pypi.org/project/six/).\", FutureWarning)\n",
            "/usr/local/lib/python3.7/dist-packages/sklearn/utils/deprecation.py:144: FutureWarning: The sklearn.neighbors.base module is  deprecated in version 0.22 and will be removed in version 0.24. The corresponding classes / functions should instead be imported from sklearn.neighbors. Anything that cannot be imported from sklearn.neighbors is now part of the private API.\n",
            "  warnings.warn(message, FutureWarning)\n",
            "100% (862182613 of 862182613) |##########| Elapsed Time: 0:02:41 Time:  0:02:41\n"
          ]
        },
        {
          "output_type": "stream",
          "name": "stdout",
          "text": [
            "downloaded to glove.6B.zip\n",
            "extraction done ['glove.6B.50d.txt', 'glove.6B.100d.txt', 'glove.6B.200d.txt', 'glove.6B.300d.txt']\n"
          ]
        },
        {
          "output_type": "stream",
          "name": "stderr",
          "text": [
            "100% (154050105 of 154050105) |##########| Elapsed Time: 0:00:07 Time:  0:00:07\n"
          ]
        },
        {
          "output_type": "stream",
          "name": "stdout",
          "text": [
            "downloaded to Video_Games_5.json.gz\n",
            "(400985, 2)\n"
          ]
        }
      ]
    },
    {
      "cell_type": "code",
      "metadata": {
        "colab": {
          "base_uri": "https://localhost:8080/",
          "height": 206
        },
        "id": "OV45Qg1a9d4k",
        "outputId": "f430b270-6b73-41b7-82cc-1e7f96f15104"
      },
      "source": [
        "df.head()"
      ],
      "execution_count": null,
      "outputs": [
        {
          "output_type": "execute_result",
          "data": {
            "text/html": [
              "<div>\n",
              "<style scoped>\n",
              "    .dataframe tbody tr th:only-of-type {\n",
              "        vertical-align: middle;\n",
              "    }\n",
              "\n",
              "    .dataframe tbody tr th {\n",
              "        vertical-align: top;\n",
              "    }\n",
              "\n",
              "    .dataframe thead th {\n",
              "        text-align: right;\n",
              "    }\n",
              "</style>\n",
              "<table border=\"1\" class=\"dataframe\">\n",
              "  <thead>\n",
              "    <tr style=\"text-align: right;\">\n",
              "      <th></th>\n",
              "      <th>reviewText</th>\n",
              "      <th>overall</th>\n",
              "    </tr>\n",
              "  </thead>\n",
              "  <tbody>\n",
              "    <tr>\n",
              "      <th>0</th>\n",
              "      <td>this game is a bit hard to get the hang of, bu...</td>\n",
              "      <td>5.0</td>\n",
              "    </tr>\n",
              "    <tr>\n",
              "      <th>1</th>\n",
              "      <td>i played it a while but it was alright. the st...</td>\n",
              "      <td>4.0</td>\n",
              "    </tr>\n",
              "    <tr>\n",
              "      <th>2</th>\n",
              "      <td>ok game.</td>\n",
              "      <td>3.0</td>\n",
              "    </tr>\n",
              "    <tr>\n",
              "      <th>3</th>\n",
              "      <td>found the game a bit too complicated, not what...</td>\n",
              "      <td>2.0</td>\n",
              "    </tr>\n",
              "    <tr>\n",
              "      <th>4</th>\n",
              "      <td>great game, i love it and have played it since...</td>\n",
              "      <td>5.0</td>\n",
              "    </tr>\n",
              "  </tbody>\n",
              "</table>\n",
              "</div>"
            ],
            "text/plain": [
              "                                          reviewText  overall\n",
              "0  this game is a bit hard to get the hang of, bu...      5.0\n",
              "1  i played it a while but it was alright. the st...      4.0\n",
              "2                                           ok game.      3.0\n",
              "3  found the game a bit too complicated, not what...      2.0\n",
              "4  great game, i love it and have played it since...      5.0"
            ]
          },
          "metadata": {},
          "execution_count": 3
        }
      ]
    },
    {
      "cell_type": "markdown",
      "metadata": {
        "id": "dS4TGbQmFvB3"
      },
      "source": [
        "## Counts of the labels"
      ]
    },
    {
      "cell_type": "code",
      "metadata": {
        "colab": {
          "base_uri": "https://localhost:8080/",
          "height": 557
        },
        "id": "bN1ed8utP2V-",
        "outputId": "f264c7f8-6d58-4be3-cb3c-87c4a5959e45"
      },
      "source": [
        "import matplotlib.pyplot as plt\n",
        "import seaborn as sns\n",
        "\n",
        "print('number of samples in the dataset: ', len(df))\n",
        "print('unique labels in the dataset: ', list(df.overall.unique()))\n",
        "\n",
        "label_counts  = df.overall.value_counts()\n",
        "print(label_counts)\n",
        "plt.figure(figsize=(10,5))\n",
        "sns.barplot(label_counts.index, label_counts.values, alpha=0.8)\n",
        "plt.title('Label counts')\n",
        "plt.ylabel('Number of Occurrences', fontsize=12)\n",
        "plt.xlabel('labels', fontsize=12)\n",
        "plt.show()"
      ],
      "execution_count": null,
      "outputs": [
        {
          "output_type": "stream",
          "name": "stdout",
          "text": [
            "number of samples in the dataset:  400985\n",
            "unique labels in the dataset:  [5.0, 4.0, 3.0, 2.0, 1.0]\n",
            "5.0    224526\n",
            "4.0     81930\n",
            "3.0     44206\n",
            "1.0     27952\n",
            "2.0     22371\n",
            "Name: overall, dtype: int64\n"
          ]
        },
        {
          "output_type": "stream",
          "name": "stderr",
          "text": [
            "/usr/local/lib/python3.7/dist-packages/seaborn/_decorators.py:43: FutureWarning: Pass the following variables as keyword args: x, y. From version 0.12, the only valid positional argument will be `data`, and passing other arguments without an explicit keyword will result in an error or misinterpretation.\n",
            "  FutureWarning\n"
          ]
        },
        {
          "output_type": "display_data",
          "data": {
            "image/png": "[encoded data removed]",
            "text/plain": [
              "<Figure size 720x360 with 1 Axes>"
            ]
          },
          "metadata": {
            "needs_background": "light"
          }
        }
      ]
    },
    {
      "cell_type": "code",
      "metadata": {
        "id": "BYkDkz0u9INp"
      },
      "source": [
        "df['text'] = df['reviewText']"
      ],
      "execution_count": null,
      "outputs": []
    },
    {
      "cell_type": "markdown",
      "metadata": {
        "id": "ZYxeQ915DxMA"
      },
      "source": [
        "## Size of the messages"
      ]
    },
    {
      "cell_type": "code",
      "metadata": {
        "colab": {
          "base_uri": "https://localhost:8080/"
        },
        "id": "JY6qb86K8iad",
        "outputId": "681f307b-ea41-4224-8c54-3d21471f75e3"
      },
      "source": [
        "max(df['text'].str.len())"
      ],
      "execution_count": null,
      "outputs": [
        {
          "output_type": "execute_result",
          "data": {
            "text/plain": [
              "32721"
            ]
          },
          "metadata": {},
          "execution_count": 6
        }
      ]
    },
    {
      "cell_type": "code",
      "metadata": {
        "colab": {
          "base_uri": "https://localhost:8080/"
        },
        "id": "nNGObvOE8tq8",
        "outputId": "33c2475c-69d3-4494-82fc-085e434e10d2"
      },
      "source": [
        "MAXLEN = 3000\n",
        "len(df[df['text'].str.len()<MAXLEN])/len(df)"
      ],
      "execution_count": null,
      "outputs": [
        {
          "output_type": "execute_result",
          "data": {
            "text/plain": [
              "0.9458184221354914"
            ]
          },
          "metadata": {},
          "execution_count": 7
        }
      ]
    },
    {
      "cell_type": "code",
      "metadata": {
        "colab": {
          "base_uri": "https://localhost:8080/",
          "height": 279
        },
        "id": "y707bMEa8wkw",
        "outputId": "566cf66a-b806-4dac-dca2-6510f3f86c9c"
      },
      "source": [
        "import matplotlib.pyplot as plt\n",
        "\n",
        "ax = df[df['text'].str.len()<MAXLEN]['text'].str.len().hist()\n",
        "ax.set_xlabel(\"size of the mssage\")\n",
        "ax.set_ylabel(\"messages\")\n",
        "plt.show()"
      ],
      "execution_count": null,
      "outputs": [
        {
          "output_type": "display_data",
          "data": {
            "image/png": "[encoded data removed]",
            "text/plain": [
              "<Figure size 432x288 with 1 Axes>"
            ]
          },
          "metadata": {
            "needs_background": "light"
          }
        }
      ]
    },
    {
      "cell_type": "markdown",
      "metadata": {
        "id": "APHWMeHnD2YQ"
      },
      "source": [
        "## Words in the message"
      ]
    },
    {
      "cell_type": "code",
      "metadata": {
        "colab": {
          "base_uri": "https://localhost:8080/",
          "height": 279
        },
        "id": "wAUann7U8xwK",
        "outputId": "ed6fcbc0-df98-4c28-8ca8-59b4974b073e"
      },
      "source": [
        "ax = df[df['text'].str.len()<MAXLEN]['text'].str.split()\\\n",
        "    .map(lambda x: len(x))\\\n",
        "    .hist()\n",
        "ax.set_xlabel(\"number of words in the message\")\n",
        "ax.set_ylabel(\"messages\")\n",
        "plt.show()"
      ],
      "execution_count": null,
      "outputs": [
        {
          "output_type": "display_data",
          "data": {
            "image/png": "[encoded data removed]",
            "text/plain": [
              "<Figure size 432x288 with 1 Axes>"
            ]
          },
          "metadata": {
            "needs_background": "light"
          }
        }
      ]
    },
    {
      "cell_type": "markdown",
      "metadata": {
        "id": "JU4f3ZRgEPDr"
      },
      "source": [
        "## Mean number of words in the message\n",
        "\n",
        "Generally the length of the text hovers around 5 words"
      ]
    },
    {
      "cell_type": "code",
      "metadata": {
        "id": "a4ZqNtWi5PlA"
      },
      "source": [
        "df['text'].str.split() \\\n",
        "   .apply(lambda x : [len(i) for i in x]) \\\n",
        "   .map(lambda x: np.mean(x))"
      ],
      "execution_count": null,
      "outputs": []
    },
    {
      "cell_type": "code",
      "metadata": {
        "colab": {
          "base_uri": "https://localhost:8080/",
          "height": 279
        },
        "id": "v9l3weMD8y7c",
        "outputId": "03009d9b-8683-4e85-e32d-a3d6ec0bde14"
      },
      "source": [
        "import numpy as np\n",
        "import matplotlib.pyplot as plt\n",
        "\n",
        "ax = df['text'].str.split() \\\n",
        "   .apply(lambda x : [len(i) for i in x]) \\\n",
        "   .map(lambda x: np.mean(x)).hist()\n",
        "ax.set_xlabel(\"mean length of words in a message\")\n",
        "ax.set_ylabel(\"messages\")\n",
        "plt.show()"
      ],
      "execution_count": null,
      "outputs": [
        {
          "output_type": "display_data",
          "data": {
            "image/png": "[encoded data removed]",
            "text/plain": [
              "<Figure size 432x288 with 1 Axes>"
            ]
          },
          "metadata": {
            "needs_background": "light"
          }
        }
      ]
    },
    {
      "cell_type": "markdown",
      "metadata": {
        "id": "FINIq4GXEWX9"
      },
      "source": [
        "## Common words used in the reviews"
      ]
    },
    {
      "cell_type": "code",
      "metadata": {
        "colab": {
          "base_uri": "https://localhost:8080/"
        },
        "id": "TyF9wbyN80Wl",
        "outputId": "d3a2b073-7193-4f4d-dc80-43c8ae8695b6"
      },
      "source": [
        "import nltk\n",
        "nltk.download('stopwords')"
      ],
      "execution_count": null,
      "outputs": [
        {
          "output_type": "stream",
          "name": "stdout",
          "text": [
            "[nltk_data] Downloading package stopwords to /root/nltk_data...\n",
            "[nltk_data]   Unzipping corpora/stopwords.zip.\n"
          ]
        },
        {
          "output_type": "execute_result",
          "data": {
            "text/plain": [
              "True"
            ]
          },
          "metadata": {},
          "execution_count": 11
        }
      ]
    },
    {
      "cell_type": "code",
      "metadata": {
        "colab": {
          "base_uri": "https://localhost:8080/",
          "height": 313
        },
        "id": "am7ANow782Ci",
        "outputId": "fec89187-bae5-43ed-da18-bd82f446823d"
      },
      "source": [
        "from collections import Counter\n",
        "from nltk.corpus import stopwords\n",
        "import matplotlib.pyplot as plt\n",
        "%matplotlib inline\n",
        "\n",
        "\n",
        "stop = stopwords.words('english')\n",
        "\n",
        "corpus = []\n",
        "texts = df['text'].str.split()\n",
        "texts = texts.values.tolist()\n",
        "corpus = [word for i in texts for word in i]\n",
        "print(corpus[:2])\n",
        "\n",
        "counter = Counter(corpus)\n",
        "most = counter.most_common()\n",
        "\n",
        "top = sorted(most[:10], key=lambda x:x[1], reverse=True)[:10] \n",
        "x, y = zip(*top)\n",
        "plt.bar(x, y)"
      ],
      "execution_count": null,
      "outputs": [
        {
          "output_type": "stream",
          "name": "stdout",
          "text": [
            "['this', 'game']\n"
          ]
        },
        {
          "output_type": "execute_result",
          "data": {
            "text/plain": [
              "<BarContainer object of 10 artists>"
            ]
          },
          "metadata": {},
          "execution_count": 12
        },
        {
          "output_type": "display_data",
          "data": {
            "image/png": "[encoded data removed]",
            "text/plain": [
              "<Figure size 432x288 with 1 Axes>"
            ]
          },
          "metadata": {
            "needs_background": "light"
          }
        }
      ]
    },
    {
      "cell_type": "code",
      "metadata": {
        "colab": {
          "base_uri": "https://localhost:8080/",
          "height": 283
        },
        "id": "ROef5kNl83Kh",
        "outputId": "e26e8069-796b-4493-90ec-7a37ed5b0947"
      },
      "source": [
        "import seaborn as sns\n",
        "from collections import Counter\n",
        "from nltk.corpus import stopwords\n",
        "stop = stopwords.words('english')\n",
        "\n",
        "counter = Counter(corpus)\n",
        "most = counter.most_common()\n",
        "x, y = [], []\n",
        "for word, count in most[:60]:\n",
        "    if ((word not in stop) and (word!='.')):\n",
        "        x.append(word)\n",
        "        y.append(count)\n",
        "        \n",
        "# fig, ax = plt.subplots(figsize=(8, 8))\n",
        "# sns.barplot(ax=ax, x=y, y=x)\n",
        "sns.barplot(x=y, y=x)"
      ],
      "execution_count": null,
      "outputs": [
        {
          "output_type": "execute_result",
          "data": {
            "text/plain": [
              "<matplotlib.axes._subplots.AxesSubplot at 0x7fb3fa33c7d0>"
            ]
          },
          "metadata": {},
          "execution_count": 13
        },
        {
          "output_type": "display_data",
          "data": {
            "image/png": "[encoded data removed]",
            "text/plain": [
              "<Figure size 432x288 with 1 Axes>"
            ]
          },
          "metadata": {
            "needs_background": "light"
          }
        }
      ]
    },
    {
      "cell_type": "markdown",
      "metadata": {
        "id": "94enQSViErCe"
      },
      "source": [
        "## Common phrases"
      ]
    },
    {
      "cell_type": "code",
      "metadata": {
        "id": "nRnFZw4I87SE"
      },
      "source": [
        "from sklearn.feature_extraction.text import CountVectorizer\n",
        "from nltk.corpus import stopwords\n",
        "\n",
        "stop = stopwords.words('english')\n",
        "\n",
        "def remove_stop(text):\n",
        "    text = text.split()\n",
        "    text = [t for t in text if t not in stop]\n",
        "    return \" \".join(text)\n",
        "\n",
        "def get_top_ngram(corpus, n=None):\n",
        "    vec = CountVectorizer(ngram_range=(n, n)).fit(corpus)\n",
        "    bag_of_words = vec.transform(corpus)\n",
        "    sum_words = bag_of_words.sum(axis=0) \n",
        "    words_freq = [(word, sum_words[0, idx]) \n",
        "                  for word, idx in vec.vocabulary_.items()]\n",
        "    words_freq = sorted(words_freq, key = lambda x: x[1], reverse=True)\n",
        "    return words_freq[:10]"
      ],
      "execution_count": null,
      "outputs": []
    },
    {
      "cell_type": "code",
      "metadata": {
        "colab": {
          "base_uri": "https://localhost:8080/",
          "height": 283
        },
        "id": "YKWZwT5B88dG",
        "outputId": "cbee4348-ce7c-4c69-bcbf-b2fd21872730"
      },
      "source": [
        "df['text'] = df['text'].apply(lambda text: remove_stop(text))\n",
        "top_n_bigrams = get_top_ngram(df['text'], 2)[:10]\n",
        "x, y = map(list, zip(*top_n_bigrams))\n",
        "sns.barplot(x=y, y=x)"
      ],
      "execution_count": null,
      "outputs": [
        {
          "output_type": "execute_result",
          "data": {
            "text/plain": [
              "<matplotlib.axes._subplots.AxesSubplot at 0x7fb3fa61fd90>"
            ]
          },
          "metadata": {},
          "execution_count": 15
        },
        {
          "output_type": "display_data",
          "data": {
            "image/png": "[encoded data removed]",
            "text/plain": [
              "<Figure size 432x288 with 1 Axes>"
            ]
          },
          "metadata": {
            "needs_background": "light"
          }
        }
      ]
    },
    {
      "cell_type": "code",
      "metadata": {
        "id": "4JcFyaeK89sA"
      },
      "source": [
        "df['text'] = df['text'].apply(lambda text: remove_stop(text))\n",
        "top_tri_grams = get_top_ngram(df['text'], n=3)\n",
        "x,y = map(list,zip(*top_tri_grams))\n",
        "sns.barplot(x=y, y=x)"
      ],
      "execution_count": null,
      "outputs": []
    },
    {
      "cell_type": "code",
      "metadata": {
        "id": "NtxDRBi88_rN"
      },
      "source": [
        "from nltk.corpus import stopwords\n",
        "\n",
        "stop = stopwords.words('english')"
      ],
      "execution_count": null,
      "outputs": []
    },
    {
      "cell_type": "code",
      "metadata": {
        "id": "jYxASg5f9E73"
      },
      "source": [
        "df['text1'] = df['text'].apply(lambda x: [item for item in x.split() if item not in stop])"
      ],
      "execution_count": null,
      "outputs": []
    },
    {
      "cell_type": "code",
      "metadata": {
        "id": "2NXFcE8H9Nu2"
      },
      "source": [
        "df['text'].\\\n",
        "   apply(lambda x : [len(i) for i in x]). \\\n",
        "   map(lambda x: np.mean(x)).hist()"
      ],
      "execution_count": null,
      "outputs": []
    },
    {
      "cell_type": "markdown",
      "metadata": {
        "id": "XEaqKqDvEzDN"
      },
      "source": [
        "## Topic Distribution using LDA"
      ]
    },
    {
      "cell_type": "code",
      "metadata": {
        "id": "ChYALYfn9O-a"
      },
      "source": [
        "import nltk\n",
        "nltk.download('punkt')\n",
        "nltk.download('wordnet')\n",
        "\n",
        "from nltk.stem import PorterStemmer, WordNetLemmatizer\n",
        "from nltk.tokenize import word_tokenize\n",
        "\n",
        "def preprocess_text(df):\n",
        "    corpus=[]\n",
        "    stem=PorterStemmer()\n",
        "    lem=WordNetLemmatizer()\n",
        "    for news in df['text']:\n",
        "        words = [w for w in word_tokenize(news) if (w not in stop)]\n",
        "        words = [lem.lemmatize(w) for w in words if len(w)>2]\n",
        "        corpus.append(words)\n",
        "    return corpus\n",
        "\n",
        "corpus = preprocess_text(df)"
      ],
      "execution_count": null,
      "outputs": []
    },
    {
      "cell_type": "code",
      "metadata": {
        "id": "uYnWfTjG9RE6"
      },
      "source": [
        "import gensim\n",
        "\n",
        "dic = gensim.corpora.Dictionary(corpus)\n",
        "bow_corpus = [dic.doc2bow(doc) for doc in corpus]\n",
        "\n",
        "lda_model = gensim.models.LdaMulticore(\n",
        "    bow_corpus, num_topics = 4, id2word = dic, passes = 10, workers = 2)\n",
        "lda_model.show_topics()"
      ],
      "execution_count": null,
      "outputs": []
    },
    {
      "cell_type": "code",
      "metadata": {
        "id": "nqnSjEPyLGaz"
      },
      "source": [
        "!pip install pyLDAvis"
      ],
      "execution_count": null,
      "outputs": []
    },
    {
      "cell_type": "code",
      "metadata": {
        "id": "DmvBAHz69TmJ"
      },
      "source": [
        "import numpy as np\n",
        "import nltk\n",
        "from nltk.corpus import stopwords\n",
        "import gensim\n",
        "from nltk.stem import WordNetLemmatizer,PorterStemmer\n",
        "from nltk.tokenize import word_tokenize\n",
        "import pyLDAvis\n",
        "import pyLDAvis.gensim_models as gensimvis\n",
        "\n",
        "\n",
        "def get_lda_objects(text):\n",
        "    nltk.download('stopwords')    \n",
        "    stop = set(stopwords.words('english'))\n",
        "\n",
        "    \n",
        "    def _preprocess_text(text):\n",
        "        corpus=[]\n",
        "        stem = PorterStemmer()\n",
        "        lem = WordNetLemmatizer()\n",
        "        for news in text:\n",
        "            words = [w for w in word_tokenize(news) if (w not in stop)]\n",
        "\n",
        "            words = [lem.lemmatize(w) for w in words if len(w)>2]\n",
        "\n",
        "            corpus.append(words)\n",
        "        return corpus\n",
        "    \n",
        "    corpus=_preprocess_text(text)\n",
        "    \n",
        "    dic=gensim.corpora.Dictionary(corpus)\n",
        "    bow_corpus = [dic.doc2bow(doc) for doc in corpus]\n",
        "    \n",
        "    lda_model =  gensim.models.LdaMulticore(bow_corpus, \n",
        "                                   num_topics = 4, \n",
        "                                   id2word = dic,                                    \n",
        "                                   passes = 10,\n",
        "                                   workers = 2)\n",
        "    \n",
        "    return lda_model, bow_corpus, dic\n",
        "\n",
        "def plot_lda_vis(lda_model, bow_corpus, dic):\n",
        "    pyLDAvis.enable_notebook()\n",
        "    vis = gensimvis.prepare(lda_model, bow_corpus, dic)\n",
        "    return vis"
      ],
      "execution_count": null,
      "outputs": []
    },
    {
      "cell_type": "code",
      "metadata": {
        "collapsed": true,
        "id": "E8OtphzY_8cB"
      },
      "source": [
        "lda_model, bow_corpus, dic = get_lda_objects(df['text'])"
      ],
      "execution_count": null,
      "outputs": []
    },
    {
      "cell_type": "code",
      "metadata": {
        "id": "B6dmQCVJACvi"
      },
      "source": [
        "lda_model.show_topics()"
      ],
      "execution_count": null,
      "outputs": []
    },
    {
      "cell_type": "code",
      "metadata": {
        "id": "_eyF-scxAELW"
      },
      "source": [
        "# plot_lda_vis(lda_model, bow_corpus, dic)"
      ],
      "execution_count": null,
      "outputs": []
    },
    {
      "cell_type": "markdown",
      "metadata": {
        "id": "u_HlYyc3E54h"
      },
      "source": [
        "## Word Cloud"
      ]
    },
    {
      "cell_type": "code",
      "metadata": {
        "id": "crJhzjYRAFqi"
      },
      "source": [
        "import matplotlib.pyplot as plt\n",
        "import numpy as np\n",
        "from nltk.corpus import stopwords\n",
        "from nltk.stem import WordNetLemmatizer,PorterStemmer\n",
        "from nltk.tokenize import word_tokenize\n",
        "from wordcloud import WordCloud, STOPWORDS\n",
        "import nltk\n",
        "\n",
        "def plot_wordcloud(text):\n",
        "    nltk.download('stopwords')\n",
        "    stop = set(stopwords.words('english'))\n",
        "\n",
        "    def _preprocess_text(text):\n",
        "        corpus=[]\n",
        "        stem = PorterStemmer()\n",
        "        lem = WordNetLemmatizer()\n",
        "        for news in text:\n",
        "            words=[w for w in word_tokenize(news) if (w not in stop)]\n",
        "\n",
        "            words=[lem.lemmatize(w) for w in words if len(w)>2]\n",
        "\n",
        "            corpus.append(words)\n",
        "        return corpus\n",
        "    \n",
        "    corpus=_preprocess_text(text)\n",
        "    \n",
        "    wordcloud = WordCloud(\n",
        "        background_color='white',\n",
        "        stopwords=set(STOPWORDS),\n",
        "        max_words=100,\n",
        "        max_font_size=30, \n",
        "        scale=3,\n",
        "        random_state=1)\n",
        "    \n",
        "    wordcloud=wordcloud.generate(str(corpus))\n",
        "\n",
        "    fig = plt.figure(1, figsize=(12, 12))\n",
        "    plt.axis('off')\n",
        " \n",
        "    plt.imshow(wordcloud)\n",
        "    plt.show()\n",
        "\n",
        "\n",
        "plot_wordcloud(df['text'])"
      ],
      "execution_count": null,
      "outputs": []
    },
    {
      "cell_type": "markdown",
      "metadata": {
        "id": "OKYEx0WQ7IGf"
      },
      "source": [
        "### Word cloud for label 1"
      ]
    },
    {
      "cell_type": "code",
      "metadata": {
        "id": "nYQvyFOU7H2T"
      },
      "source": [
        "plot_wordcloud(df[df.overall==1]['text'])"
      ],
      "execution_count": null,
      "outputs": []
    },
    {
      "cell_type": "markdown",
      "metadata": {
        "id": "dhK2UsZ37YSl"
      },
      "source": [
        "### Word cloud for label 5"
      ]
    },
    {
      "cell_type": "code",
      "metadata": {
        "id": "uFi9DR0g7Hy3"
      },
      "source": [
        "plot_wordcloud(df[df.overall==5]['text'])"
      ],
      "execution_count": null,
      "outputs": []
    },
    {
      "cell_type": "markdown",
      "metadata": {
        "id": "ui4DeB61FAW0"
      },
      "source": [
        "## Polarity"
      ]
    },
    {
      "cell_type": "code",
      "metadata": {
        "id": "ArSVNXHxAHjC"
      },
      "source": [
        "from textblob import TextBlob\n",
        "\n",
        "def polarity(text):\n",
        "    return TextBlob(text).sentiment.polarity\n",
        "    \n",
        "df['polarity_score'] = df['text'].apply(lambda x : polarity(x))\n",
        "\n",
        "df['polarity_score'].hist()"
      ],
      "execution_count": null,
      "outputs": []
    },
    {
      "cell_type": "code",
      "metadata": {
        "id": "Bh6hlGFCAI--"
      },
      "source": [
        "import matplotlib.pyplot as plt\n",
        "\n",
        "def sentiment(x):\n",
        "    if x<0:\n",
        "        return 'neg'\n",
        "    elif x==0:\n",
        "        return 'neu'\n",
        "    else:\n",
        "        return 'pos'\n",
        "    \n",
        "df['polarity'] = df['polarity_score'].map(lambda x: sentiment(x))\n",
        "plt.bar(df.polarity.value_counts().index, df.polarity.value_counts())"
      ],
      "execution_count": null,
      "outputs": []
    },
    {
      "cell_type": "code",
      "metadata": {
        "id": "WhUcYh7YAKFT"
      },
      "source": [
        "df[df['polarity']=='pos']['text'].head()"
      ],
      "execution_count": null,
      "outputs": []
    },
    {
      "cell_type": "code",
      "metadata": {
        "id": "7G5HMiVAALXl"
      },
      "source": [
        "df[df['polarity']=='neg']['text'].head()"
      ],
      "execution_count": null,
      "outputs": []
    },
    {
      "cell_type": "markdown",
      "metadata": {
        "id": "T3_HkU_aFFZb"
      },
      "source": [
        "## Entities in the text"
      ]
    },
    {
      "cell_type": "code",
      "metadata": {
        "collapsed": true,
        "id": "j1Rxn6pxTTK2"
      },
      "source": [
        "%%capture\n",
        "!python -m spacy download en_core_web_sm\n",
        "import spacy\n",
        "nlp = spacy.load(\"en_core_web_sm\")"
      ],
      "execution_count": null,
      "outputs": []
    },
    {
      "cell_type": "code",
      "metadata": {
        "colab": {
          "background_save": true
        },
        "id": "9ytQZg5HT5jn"
      },
      "source": [
        "from spacy import displacy\n",
        "\n",
        "doc = nlp(list(df.sample()['reviewText'].to_dict().values())[0])\n",
        "displacy.render(doc, style='ent')\n",
        "\n",
        "from spacy import displacy\n",
        "\n",
        "displacy.render(doc, style='dep', jupyter=True, options={'distance': 90})"
      ],
      "execution_count": null,
      "outputs": []
    },
    {
      "cell_type": "code",
      "metadata": {
        "collapsed": true,
        "id": "fFiZzZsHAOVL"
      },
      "source": [
        "%%capture\n",
        "from collections import Counter\n",
        "from tqdm.auto import tqdm\n",
        "tqdm.pandas()\n",
        "\n",
        "def ner(text):\n",
        "    doc = nlp(text)\n",
        "    return [X.label_ for X in doc.ents]\n",
        "\n",
        "ent = df['text'].apply(lambda x : ner(x))\n",
        "\n",
        "ent = [x for sub in ent for x in sub]\n",
        "\n",
        "counter = Counter(ent)\n",
        "count = counter.most_common()"
      ],
      "execution_count": null,
      "outputs": []
    },
    {
      "cell_type": "code",
      "metadata": {
        "id": "1nHMwNjET2ZM"
      },
      "source": [
        "from spacy import displacy\n",
        "\n",
        "doc = nlp(list(df.sample()['text'].to_dict().values())[0])\n",
        "displacy.render(doc, style='ent')"
      ],
      "execution_count": null,
      "outputs": []
    },
    {
      "cell_type": "code",
      "metadata": {
        "id": "3inYwUJxASV0"
      },
      "source": [
        "import seaborn as sns\n",
        "\n",
        "print(count)\n",
        "x, y = map(list, zip(*count))\n",
        "sns.barplot(x=y, y=x)"
      ],
      "execution_count": null,
      "outputs": []
    },
    {
      "cell_type": "code",
      "metadata": {
        "id": "Sn6nhqNiAUZ4"
      },
      "source": [
        ""
      ],
      "execution_count": null,
      "outputs": []
    }
  ]
}