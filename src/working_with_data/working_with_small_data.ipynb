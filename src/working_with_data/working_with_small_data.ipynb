{
  "nbformat": 4,
  "nbformat_minor": 0,
  "metadata": {
    "colab": {
      "name": "working_with_small_data",
      "provenance": [],
      "collapsed_sections": [],
      "toc_visible": true
    },
    "kernelspec": {
      "name": "python3",
      "display_name": "Python 3"
    },
    "language_info": {
      "name": "python"
    }
  },
  "cells": [
    {
      "cell_type": "code",
      "metadata": {
        "id": "qQtVAzwKnXNY",
        "collapsed": true
      },
      "source": [
        "%%capture\n",
        "!pip install nlpaug\n",
        "!pip install -U imbalanced-learn\n",
        "!pip install scikit-learn --upgrade\n",
        "!pip install pandas==1.1.5"
      ],
      "execution_count": null,
      "outputs": []
    },
    {
      "cell_type": "markdown",
      "metadata": {
        "id": "wuizQ0RKROA_"
      },
      "source": [
        "## Dataset"
      ]
    },
    {
      "cell_type": "code",
      "metadata": {
        "colab": {
          "base_uri": "https://localhost:8080/"
        },
        "id": "jXfsC2r0likG",
        "collapsed": true,
        "outputId": "cfed6bf9-4120-487d-c5d9-2c26deb65d6a"
      },
      "source": [
        "import urllib.request as req\n",
        "from urllib.parse import urlparse\n",
        "import os\n",
        "import progressbar\n",
        "import zipfile\n",
        "import gzip\n",
        "import shutil\n",
        "import json\n",
        "import pandas as pd\n",
        "import re\n",
        "import string\n",
        "import imblearn\n",
        "\n",
        "pbar = None\n",
        "\n",
        "\n",
        "def show_progress(block_num, block_size, total_size):\n",
        "    global pbar\n",
        "    if pbar is None:\n",
        "        pbar = progressbar.ProgressBar(maxval=total_size)\n",
        "        pbar.start()\n",
        "\n",
        "    downloaded = block_num * block_size\n",
        "    if downloaded < total_size:\n",
        "        pbar.update(downloaded)\n",
        "    else:\n",
        "        pbar.finish()\n",
        "        pbar = None\n",
        "\n",
        "def wget(url):\n",
        "    a = urlparse(url)\n",
        "    filename = os.path.basename(a.path)\n",
        "    if not os.path.isfile(filename):\n",
        "        req.urlretrieve(url, filename, show_progress)\n",
        "        print(f'downloaded to {filename}')\n",
        "    else:\n",
        "        print(f'file {filename} has already been downloaded')\n",
        "    return filename\n",
        "\n",
        "def unzip(filename, directory_to_extract_to=os.getcwd()):\n",
        "    with zipfile.ZipFile(filename, 'r') as zip_ref:\n",
        "        zip_ref.extractall(directory_to_extract_to)\n",
        "        print(f'extraction done {zip_ref.namelist()}')\n",
        "\n",
        "def gunzip(gzfile, fout):\n",
        "    with gzip.open(gzfile, 'rb') as f_in:\n",
        "        with open(fout, 'wb') as f_out:\n",
        "            shutil.copyfileobj(f_in, f_out)\n",
        "    print(f'{gzfile} extracted to {fout}')\n",
        "\n",
        "\n",
        "# map punctuation to space\n",
        "translator = str.maketrans(string.punctuation, ' '*len(string.punctuation)) \n",
        "\n",
        "def text_preprocessing(df):\n",
        "    \"\"\"\n",
        "    Preprocess the text for better understanding\n",
        "    \n",
        "    \"\"\"\n",
        "    # trim the whitespace at the edges of the string\n",
        "    df['reviewText'] = df['reviewText'].str.strip()\n",
        "\n",
        "    # lowercase the text in the string\n",
        "    df['reviewText'] = df['reviewText'].str.lower()\n",
        "\n",
        "    # replace new line with a .\n",
        "\n",
        "    df['reviewText'] = df['reviewText'].replace('\\n', ' . ')\n",
        "\n",
        "    return df\n",
        "\n",
        "\n",
        "# filename = wget(\"https://nlp.stanford.edu/data/glove.6B.zip\")\n",
        "# unzip(filename)\n",
        "Video_Games_5 = wget('http://deepyeti.ucsd.edu/jianmo/amazon/categoryFilesSmall/Video_Games_5.json.gz')\n",
        "df = pd.read_json(\"./Video_Games_5.json.gz\", lines=True, compression='gzip')\n",
        "df = df.sample(50, random_state=42)\n",
        "df = df[['reviewText', 'overall']]\n",
        "df = text_preprocessing(df)\n",
        "df = df.dropna()\n",
        "df = df.drop_duplicates()\n",
        "print(df.shape)"
      ],
      "execution_count": null,
      "outputs": [
        {
          "output_type": "stream",
          "name": "stdout",
          "text": [
            "file Video_Games_5.json.gz has already been downloaded\n",
            "(49, 2)\n"
          ]
        }
      ]
    },
    {
      "cell_type": "code",
      "metadata": {
        "colab": {
          "base_uri": "https://localhost:8080/",
          "height": 1000
        },
        "id": "CMU5uPd-L2rO",
        "outputId": "da0f9e9c-64fc-478c-8723-837ac82246c8"
      },
      "source": [
        "df = df.reset_index(drop=True)\n",
        "df"
      ],
      "execution_count": null,
      "outputs": [
        {
          "output_type": "execute_result",
          "data": {
            "text/html": [
              "<div>\n",
              "<style scoped>\n",
              "    .dataframe tbody tr th:only-of-type {\n",
              "        vertical-align: middle;\n",
              "    }\n",
              "\n",
              "    .dataframe tbody tr th {\n",
              "        vertical-align: top;\n",
              "    }\n",
              "\n",
              "    .dataframe thead th {\n",
              "        text-align: right;\n",
              "    }\n",
              "</style>\n",
              "<table border=\"1\" class=\"dataframe\">\n",
              "  <thead>\n",
              "    <tr style=\"text-align: right;\">\n",
              "      <th></th>\n",
              "      <th>reviewText</th>\n",
              "      <th>overall</th>\n",
              "    </tr>\n",
              "  </thead>\n",
              "  <tbody>\n",
              "    <tr>\n",
              "      <th>0</th>\n",
              "      <td>love this 3ds game. i made a zombie togepi wit...</td>\n",
              "      <td>5</td>\n",
              "    </tr>\n",
              "    <tr>\n",
              "      <th>1</th>\n",
              "      <td>fun game</td>\n",
              "      <td>5</td>\n",
              "    </tr>\n",
              "    <tr>\n",
              "      <th>2</th>\n",
              "      <td>this game is so fun.  i think it is the best s...</td>\n",
              "      <td>5</td>\n",
              "    </tr>\n",
              "    <tr>\n",
              "      <th>3</th>\n",
              "      <td>i hated the first game but absolutely love thi...</td>\n",
              "      <td>5</td>\n",
              "    </tr>\n",
              "    <tr>\n",
              "      <th>4</th>\n",
              "      <td>love the tales games. glad i purchased this one.</td>\n",
              "      <td>5</td>\n",
              "    </tr>\n",
              "    <tr>\n",
              "      <th>5</th>\n",
              "      <td>great product, thank you</td>\n",
              "      <td>5</td>\n",
              "    </tr>\n",
              "    <tr>\n",
              "      <th>6</th>\n",
              "      <td>true to it's developer's (blizzard) reputation...</td>\n",
              "      <td>5</td>\n",
              "    </tr>\n",
              "    <tr>\n",
              "      <th>7</th>\n",
              "      <td>excelent</td>\n",
              "      <td>5</td>\n",
              "    </tr>\n",
              "    <tr>\n",
              "      <th>8</th>\n",
              "      <td>light and dark play a key role in remedy's lon...</td>\n",
              "      <td>4</td>\n",
              "    </tr>\n",
              "    <tr>\n",
              "      <th>9</th>\n",
              "      <td>much better environments this time around! the...</td>\n",
              "      <td>5</td>\n",
              "    </tr>\n",
              "    <tr>\n",
              "      <th>10</th>\n",
              "      <td>i recently decided to do some memory card shop...</td>\n",
              "      <td>4</td>\n",
              "    </tr>\n",
              "    <tr>\n",
              "      <th>11</th>\n",
              "      <td>got me interested in musou games.</td>\n",
              "      <td>4</td>\n",
              "    </tr>\n",
              "    <tr>\n",
              "      <th>12</th>\n",
              "      <td>excellent</td>\n",
              "      <td>5</td>\n",
              "    </tr>\n",
              "    <tr>\n",
              "      <th>13</th>\n",
              "      <td>a word of warning: if you want to play titles ...</td>\n",
              "      <td>3</td>\n",
              "    </tr>\n",
              "    <tr>\n",
              "      <th>14</th>\n",
              "      <td>one of the best pc games i have ever played.</td>\n",
              "      <td>5</td>\n",
              "    </tr>\n",
              "    <tr>\n",
              "      <th>15</th>\n",
              "      <td>awesome controller station!!!</td>\n",
              "      <td>4</td>\n",
              "    </tr>\n",
              "    <tr>\n",
              "      <th>16</th>\n",
              "      <td>el producto es de excelente calidad y me fue e...</td>\n",
              "      <td>4</td>\n",
              "    </tr>\n",
              "    <tr>\n",
              "      <th>17</th>\n",
              "      <td>everyone seems to complain about these control...</td>\n",
              "      <td>4</td>\n",
              "    </tr>\n",
              "    <tr>\n",
              "      <th>18</th>\n",
              "      <td>first, i must admit that i've been along time ...</td>\n",
              "      <td>5</td>\n",
              "    </tr>\n",
              "    <tr>\n",
              "      <th>19</th>\n",
              "      <td>if you like adventure games where you upgrade ...</td>\n",
              "      <td>5</td>\n",
              "    </tr>\n",
              "    <tr>\n",
              "      <th>20</th>\n",
              "      <td>fantastic game. original great call og duty wi...</td>\n",
              "      <td>5</td>\n",
              "    </tr>\n",
              "    <tr>\n",
              "      <th>21</th>\n",
              "      <td>i thought my last headset was good (rage tacti...</td>\n",
              "      <td>5</td>\n",
              "    </tr>\n",
              "    <tr>\n",
              "      <th>22</th>\n",
              "      <td>i really have no idea why this game is so comp...</td>\n",
              "      <td>5</td>\n",
              "    </tr>\n",
              "    <tr>\n",
              "      <th>23</th>\n",
              "      <td>my children love this.</td>\n",
              "      <td>5</td>\n",
              "    </tr>\n",
              "    <tr>\n",
              "      <th>24</th>\n",
              "      <td>cute and fun to play!</td>\n",
              "      <td>5</td>\n",
              "    </tr>\n",
              "    <tr>\n",
              "      <th>25</th>\n",
              "      <td>the moment my 3ds came in, i snapped this case...</td>\n",
              "      <td>4</td>\n",
              "    </tr>\n",
              "    <tr>\n",
              "      <th>26</th>\n",
              "      <td>great price and product!</td>\n",
              "      <td>4</td>\n",
              "    </tr>\n",
              "    <tr>\n",
              "      <th>27</th>\n",
              "      <td>jeep thrills is so fun you get to choose which...</td>\n",
              "      <td>5</td>\n",
              "    </tr>\n",
              "    <tr>\n",
              "      <th>28</th>\n",
              "      <td>kids don't like at all, told it's too boring a...</td>\n",
              "      <td>1</td>\n",
              "    </tr>\n",
              "    <tr>\n",
              "      <th>29</th>\n",
              "      <td>bought for christmas present.</td>\n",
              "      <td>5</td>\n",
              "    </tr>\n",
              "    <tr>\n",
              "      <th>30</th>\n",
              "      <td>how many times are they going to update the gr...</td>\n",
              "      <td>3</td>\n",
              "    </tr>\n",
              "    <tr>\n",
              "      <th>31</th>\n",
              "      <td>gary mccray - liked this game more than i thou...</td>\n",
              "      <td>5</td>\n",
              "    </tr>\n",
              "    <tr>\n",
              "      <th>32</th>\n",
              "      <td>you can play tennis with no racket but you hav...</td>\n",
              "      <td>5</td>\n",
              "    </tr>\n",
              "    <tr>\n",
              "      <th>33</th>\n",
              "      <td>how many ddr games can they make? ddrx brings ...</td>\n",
              "      <td>5</td>\n",
              "    </tr>\n",
              "    <tr>\n",
              "      <th>34</th>\n",
              "      <td>my daughter loves some katamari! loaded with f...</td>\n",
              "      <td>5</td>\n",
              "    </tr>\n",
              "    <tr>\n",
              "      <th>35</th>\n",
              "      <td>final fight 2 is a nice side scrolling beat em...</td>\n",
              "      <td>5</td>\n",
              "    </tr>\n",
              "    <tr>\n",
              "      <th>36</th>\n",
              "      <td>so i mark warcraft iii as the point where the ...</td>\n",
              "      <td>1</td>\n",
              "    </tr>\n",
              "    <tr>\n",
              "      <th>37</th>\n",
              "      <td>perfect</td>\n",
              "      <td>5</td>\n",
              "    </tr>\n",
              "    <tr>\n",
              "      <th>38</th>\n",
              "      <td>i just got done with this game at 1:01 a.m on ...</td>\n",
              "      <td>1</td>\n",
              "    </tr>\n",
              "    <tr>\n",
              "      <th>39</th>\n",
              "      <td>gameplay was fun but the live cut scenes were ...</td>\n",
              "      <td>2</td>\n",
              "    </tr>\n",
              "    <tr>\n",
              "      <th>40</th>\n",
              "      <td>this game is all that and a bag of chips! it c...</td>\n",
              "      <td>5</td>\n",
              "    </tr>\n",
              "    <tr>\n",
              "      <th>41</th>\n",
              "      <td>good game</td>\n",
              "      <td>5</td>\n",
              "    </tr>\n",
              "    <tr>\n",
              "      <th>42</th>\n",
              "      <td>bought it a long time ago and is still around ...</td>\n",
              "      <td>5</td>\n",
              "    </tr>\n",
              "    <tr>\n",
              "      <th>43</th>\n",
              "      <td>it's a real n64 controller that works. have no...</td>\n",
              "      <td>5</td>\n",
              "    </tr>\n",
              "    <tr>\n",
              "      <th>44</th>\n",
              "      <td>everything is great thanks</td>\n",
              "      <td>5</td>\n",
              "    </tr>\n",
              "    <tr>\n",
              "      <th>45</th>\n",
              "      <td>i have a psp 2000 and my brother in law can't ...</td>\n",
              "      <td>5</td>\n",
              "    </tr>\n",
              "    <tr>\n",
              "      <th>46</th>\n",
              "      <td>hey was up its charlie v1 sorry i not writing ...</td>\n",
              "      <td>5</td>\n",
              "    </tr>\n",
              "    <tr>\n",
              "      <th>47</th>\n",
              "      <td>my kids love this game when we play it togheth...</td>\n",
              "      <td>5</td>\n",
              "    </tr>\n",
              "    <tr>\n",
              "      <th>48</th>\n",
              "      <td>a fun game</td>\n",
              "      <td>5</td>\n",
              "    </tr>\n",
              "  </tbody>\n",
              "</table>\n",
              "</div>"
            ],
            "text/plain": [
              "                                           reviewText  overall\n",
              "0   love this 3ds game. i made a zombie togepi wit...        5\n",
              "1                                            fun game        5\n",
              "2   this game is so fun.  i think it is the best s...        5\n",
              "3   i hated the first game but absolutely love thi...        5\n",
              "4    love the tales games. glad i purchased this one.        5\n",
              "5                            great product, thank you        5\n",
              "6   true to it's developer's (blizzard) reputation...        5\n",
              "7                                            excelent        5\n",
              "8   light and dark play a key role in remedy's lon...        4\n",
              "9   much better environments this time around! the...        5\n",
              "10  i recently decided to do some memory card shop...        4\n",
              "11                  got me interested in musou games.        4\n",
              "12                                          excellent        5\n",
              "13  a word of warning: if you want to play titles ...        3\n",
              "14       one of the best pc games i have ever played.        5\n",
              "15                      awesome controller station!!!        4\n",
              "16  el producto es de excelente calidad y me fue e...        4\n",
              "17  everyone seems to complain about these control...        4\n",
              "18  first, i must admit that i've been along time ...        5\n",
              "19  if you like adventure games where you upgrade ...        5\n",
              "20  fantastic game. original great call og duty wi...        5\n",
              "21  i thought my last headset was good (rage tacti...        5\n",
              "22  i really have no idea why this game is so comp...        5\n",
              "23                             my children love this.        5\n",
              "24                              cute and fun to play!        5\n",
              "25  the moment my 3ds came in, i snapped this case...        4\n",
              "26                           great price and product!        4\n",
              "27  jeep thrills is so fun you get to choose which...        5\n",
              "28  kids don't like at all, told it's too boring a...        1\n",
              "29                      bought for christmas present.        5\n",
              "30  how many times are they going to update the gr...        3\n",
              "31  gary mccray - liked this game more than i thou...        5\n",
              "32  you can play tennis with no racket but you hav...        5\n",
              "33  how many ddr games can they make? ddrx brings ...        5\n",
              "34  my daughter loves some katamari! loaded with f...        5\n",
              "35  final fight 2 is a nice side scrolling beat em...        5\n",
              "36  so i mark warcraft iii as the point where the ...        1\n",
              "37                                            perfect        5\n",
              "38  i just got done with this game at 1:01 a.m on ...        1\n",
              "39  gameplay was fun but the live cut scenes were ...        2\n",
              "40  this game is all that and a bag of chips! it c...        5\n",
              "41                                          good game        5\n",
              "42  bought it a long time ago and is still around ...        5\n",
              "43  it's a real n64 controller that works. have no...        5\n",
              "44                         everything is great thanks        5\n",
              "45  i have a psp 2000 and my brother in law can't ...        5\n",
              "46  hey was up its charlie v1 sorry i not writing ...        5\n",
              "47  my kids love this game when we play it togheth...        5\n",
              "48                                         a fun game        5"
            ]
          },
          "metadata": {},
          "execution_count": 55
        }
      ]
    },
    {
      "cell_type": "markdown",
      "metadata": {
        "id": "wGU-M9qnRLXI"
      },
      "source": [
        "## Load USE"
      ]
    },
    {
      "cell_type": "code",
      "metadata": {
        "id": "eILxJX8tmj9H"
      },
      "source": [
        "import tensorflow_hub as hub\n",
        "\n",
        "use = hub.load(\"https://tfhub.dev/google/universal-sentence-encoder/4\")\n",
        "\n",
        "def get_embs(text):\n",
        "    if isinstance(text, str):\n",
        "        text = [text]\n",
        "    return use(text)\n",
        "\n",
        "df['embs'] = df['reviewText'].apply(get_embs)"
      ],
      "execution_count": null,
      "outputs": []
    },
    {
      "cell_type": "markdown",
      "metadata": {
        "id": "ppsAiFceRBzR"
      },
      "source": [
        "## Outlier detection\n",
        "\n",
        "based on distance from the mean of all the samples"
      ]
    },
    {
      "cell_type": "code",
      "metadata": {
        "id": "cSl0y9jamtbF",
        "colab": {
          "base_uri": "https://localhost:8080/"
        },
        "outputId": "1e6082f0-c8a3-4b03-939b-2186ed3de027"
      },
      "source": [
        "import numpy as np\n",
        "from scipy.spatial import distance\n",
        "\n",
        "def detect_outliers(df, label, limit=0.2):\n",
        "    # get the text and corresponding embeddings\n",
        "    df = df[df['overall']==label]\n",
        "    sentences = df.reviewText.values\n",
        "\n",
        "    limit = int(limit * len(sentences))\n",
        "    \n",
        "    embs = df.embs.values\n",
        "    tensor = np.vstack(embs)\n",
        "\n",
        "    # get the mean embedding.\n",
        "    mean = np.mean(tensor, axis=0)\n",
        "\n",
        "    # Calculate the distance of each instance from the mean\n",
        "    dist = distance.cdist(tensor, mean.reshape(1, -1), metric='euclidean')\n",
        "    dist = dist.flatten()\n",
        "\n",
        "    # Rank by distance in ascending order\n",
        "    dist_with_index = list(zip(sentences, dist))\n",
        "    dist_with_index.sort(reverse=True, key=lambda x: x[1])\n",
        "    \n",
        "    # Cut off the list, keeping only the top k% as outliers.\n",
        "    i = 0\n",
        "    while i < limit:\n",
        "        sent = dist_with_index[i][0]\n",
        "        print(sent)\n",
        "        print('#'*10)\n",
        "        i += 1\n",
        "\n",
        "detect_outliers(df, 5)"
      ],
      "execution_count": null,
      "outputs": [
        {
          "output_type": "stream",
          "name": "stdout",
          "text": [
            "bought for christmas present.\n",
            "##########\n",
            "my children love this.\n",
            "##########\n",
            "everything is great thanks\n",
            "##########\n",
            "perfect\n",
            "##########\n",
            "bought it a long time ago and is still around in great shape.\n",
            "##########\n",
            "i thought my last headset was good (rage tactical), but this blows it out of the water. has the leather feel that i like, fits comfortably around my ears and breathes so i don't have to keep removing them to exhaust heat. mic makes me sound like i have a lisp on s's but not too bad. audio is clear and has some bass to it if your audio card supports it. i'm happy with it.\n",
            "##########\n",
            "excellent\n",
            "##########\n"
          ]
        }
      ]
    },
    {
      "cell_type": "markdown",
      "metadata": {
        "id": "NuqGCelWnZ3q"
      },
      "source": [
        "## Data Augmentation"
      ]
    },
    {
      "cell_type": "code",
      "metadata": {
        "id": "prt_9D7Fna-6"
      },
      "source": [
        "import nlpaug.augmenter.char as nac\n",
        "import nlpaug.augmenter.word as naw\n",
        "import nlpaug.augmenter.sentence as nas\n",
        "import nlpaug.flow as nafc\n",
        "\n",
        "from nlpaug.util import Action"
      ],
      "execution_count": null,
      "outputs": []
    },
    {
      "cell_type": "code",
      "metadata": {
        "colab": {
          "base_uri": "https://localhost:8080/"
        },
        "id": "prKCwHKfnbXB",
        "outputId": "01f7101e-802b-4455-cd8b-852f3945572b"
      },
      "source": [
        "df['overall'].value_counts()"
      ],
      "execution_count": null,
      "outputs": [
        {
          "output_type": "execute_result",
          "data": {
            "text/plain": [
              "5    35\n",
              "4     8\n",
              "1     3\n",
              "3     2\n",
              "2     1\n",
              "Name: overall, dtype: int64"
            ]
          },
          "metadata": {},
          "execution_count": 59
        }
      ]
    },
    {
      "cell_type": "code",
      "metadata": {
        "colab": {
          "base_uri": "https://localhost:8080/",
          "height": 54
        },
        "id": "oQc-oSlILxbU",
        "outputId": "75378237-9adf-4f47-dacc-00ca179e86e6"
      },
      "source": [
        "df.loc[39, 'reviewText']"
      ],
      "execution_count": null,
      "outputs": [
        {
          "output_type": "execute_result",
          "data": {
            "application/vnd.google.colaboratory.intrinsic+json": {
              "type": "string"
            },
            "text/plain": [
              "\"gameplay was fun but the live cut scenes were very long and drawn out. i'd find myself zoning out and then not even know what the heck was going on. if i wanted to watch a tv show i would've just logged into netflix. this is not a revolutionary game experience, it's just a game with a boring tv show hidden inside.\""
            ]
          },
          "metadata": {},
          "execution_count": 60
        }
      ]
    },
    {
      "cell_type": "code",
      "metadata": {
        "colab": {
          "base_uri": "https://localhost:8080/"
        },
        "id": "AjZ_x82-MTZo",
        "outputId": "0655737b-ee85-4ebe-cca8-fd1dd62d1a3c"
      },
      "source": [
        "for _, row in df[df.overall==3].iterrows():\n",
        "    print(row['reviewText'])\n",
        "    print(\"#\"*10)"
      ],
      "execution_count": null,
      "outputs": [
        {
          "output_type": "stream",
          "name": "stdout",
          "text": [
            "a word of warning: if you want to play titles for the original xbox such as halo 2, your system must have an official xbox-branded hard drive. that's why their drive costs more, it contains a partition that allows the old games to be played. i found this out the hard way, and now i'm trying to find a solution that involved needing to get the transfer cable and hook the hdd up to my computer, partition it, put some software mods onto it so that it will be backwards compatible, blah blah blah.\n",
            "\n",
            "if you don't want to play old games, it's great. fits right into the slim and works very nicely.\n",
            "\n",
            "update: if you get the proper transfer cable and download some software to your computer, you can hook this up to your computer and modify the drive by adding the partition to play original xbox discs. i successfully got my system to play halo 2, but it was kind of a pain and i had to go buy the usb-to-sata cable. so if you like to \"hack\" stuff, save a few bucks and mod the drive yourself, there are youtube videos on how to do it. if you're not good with computers, buy an official xbox drive.\n",
            "##########\n",
            "how many times are they going to update the graphics and then sell civ as a new game.  granted, there were some minor changes, and the civ-specific advantages were nice......but it's the same game microprose published way back when.  try something new, sid.\n",
            "##########\n"
          ]
        }
      ]
    },
    {
      "cell_type": "code",
      "metadata": {
        "colab": {
          "base_uri": "https://localhost:8080/"
        },
        "id": "CisCCLrzMoet",
        "outputId": "b3ac10a3-192a-4225-92f5-ed6afad833a6"
      },
      "source": [
        "df = df[df['overall']!=2]\n",
        "print(df.shape)"
      ],
      "execution_count": null,
      "outputs": [
        {
          "output_type": "stream",
          "name": "stdout",
          "text": [
            "(48, 3)\n"
          ]
        }
      ]
    },
    {
      "cell_type": "code",
      "metadata": {
        "id": "69qbNd7SnfHu"
      },
      "source": [
        "from sklearn.preprocessing import OneHotEncoder\n",
        "\n",
        "encoder = OneHotEncoder(sparse=False)\n",
        "type_one_hot = encoder.fit_transform(df.overall.to_numpy().reshape(-1, 1))"
      ],
      "execution_count": null,
      "outputs": []
    },
    {
      "cell_type": "code",
      "metadata": {
        "colab": {
          "base_uri": "https://localhost:8080/"
        },
        "id": "Y5U34pZRnipL",
        "outputId": "a3b631be-1275-4aeb-cbc0-e1db9aa176d1"
      },
      "source": [
        "from sklearn.model_selection import train_test_split\n",
        "\n",
        "df_train, df_test, y_train, y_test = train_test_split(\n",
        "    df, type_one_hot, stratify=df['overall'], test_size=.2, random_state=42)\n",
        "emb_train = np.vstack(df_train.embs)\n",
        "emb_test = np.vstack(df_test.embs)\n",
        "print(df_train.shape, df_test.shape, y_train.shape, y_test.shape, emb_train.shape, emb_test.shape)"
      ],
      "execution_count": null,
      "outputs": [
        {
          "output_type": "stream",
          "name": "stdout",
          "text": [
            "(38, 3) (10, 3) (38, 4) (10, 4) (38, 512) (10, 512)\n"
          ]
        }
      ]
    },
    {
      "cell_type": "code",
      "metadata": {
        "colab": {
          "base_uri": "https://localhost:8080/"
        },
        "id": "U04o7ZSNOC4U",
        "outputId": "829278ba-d435-4d4f-833b-8e83af45fe8c"
      },
      "source": [
        "from imblearn.over_sampling import RandomOverSampler\n",
        "from collections import Counter\n",
        "\n",
        "ros = RandomOverSampler(sampling_strategy='minority', random_state=0)\n",
        "df_train_resampled, y_resampled = RandomOverSampler().fit_resample(df_train[['reviewText', 'overall']], y_train)\n",
        "df_train_resampled = pd.DataFrame(df_train_resampled, columns=['reviewText', 'overall'])\n",
        "df_train_resampled['overall'].value_counts()"
      ],
      "execution_count": null,
      "outputs": [
        {
          "output_type": "execute_result",
          "data": {
            "text/plain": [
              "5    28\n",
              "4    28\n",
              "3    28\n",
              "1    28\n",
              "Name: overall, dtype: int64"
            ]
          },
          "metadata": {},
          "execution_count": 65
        }
      ]
    },
    {
      "cell_type": "code",
      "metadata": {
        "colab": {
          "base_uri": "https://localhost:8080/",
          "height": 206
        },
        "id": "NaiyVtTsfgwq",
        "outputId": "3044a3e5-ac79-4af3-8f70-6f9f33460aaf"
      },
      "source": [
        "df_train_resampled[df_train_resampled.overall==1].head()"
      ],
      "execution_count": null,
      "outputs": [
        {
          "output_type": "execute_result",
          "data": {
            "text/html": [
              "<div>\n",
              "<style scoped>\n",
              "    .dataframe tbody tr th:only-of-type {\n",
              "        vertical-align: middle;\n",
              "    }\n",
              "\n",
              "    .dataframe tbody tr th {\n",
              "        vertical-align: top;\n",
              "    }\n",
              "\n",
              "    .dataframe thead th {\n",
              "        text-align: right;\n",
              "    }\n",
              "</style>\n",
              "<table border=\"1\" class=\"dataframe\">\n",
              "  <thead>\n",
              "    <tr style=\"text-align: right;\">\n",
              "      <th></th>\n",
              "      <th>reviewText</th>\n",
              "      <th>overall</th>\n",
              "    </tr>\n",
              "  </thead>\n",
              "  <tbody>\n",
              "    <tr>\n",
              "      <th>0</th>\n",
              "      <td>kids don't like at all, told it's too boring a...</td>\n",
              "      <td>1</td>\n",
              "    </tr>\n",
              "    <tr>\n",
              "      <th>29</th>\n",
              "      <td>so i mark warcraft iii as the point where the ...</td>\n",
              "      <td>1</td>\n",
              "    </tr>\n",
              "    <tr>\n",
              "      <th>38</th>\n",
              "      <td>kids don't like at all, told it's too boring a...</td>\n",
              "      <td>1</td>\n",
              "    </tr>\n",
              "    <tr>\n",
              "      <th>39</th>\n",
              "      <td>kids don't like at all, told it's too boring a...</td>\n",
              "      <td>1</td>\n",
              "    </tr>\n",
              "    <tr>\n",
              "      <th>40</th>\n",
              "      <td>so i mark warcraft iii as the point where the ...</td>\n",
              "      <td>1</td>\n",
              "    </tr>\n",
              "  </tbody>\n",
              "</table>\n",
              "</div>"
            ],
            "text/plain": [
              "                                           reviewText  overall\n",
              "0   kids don't like at all, told it's too boring a...        1\n",
              "29  so i mark warcraft iii as the point where the ...        1\n",
              "38  kids don't like at all, told it's too boring a...        1\n",
              "39  kids don't like at all, told it's too boring a...        1\n",
              "40  so i mark warcraft iii as the point where the ...        1"
            ]
          },
          "metadata": {},
          "execution_count": 66
        }
      ]
    },
    {
      "cell_type": "code",
      "metadata": {
        "colab": {
          "base_uri": "https://localhost:8080/"
        },
        "id": "2f26Xc0wn9wS",
        "outputId": "56c634ef-3add-455f-a167-1d6225aaacb5"
      },
      "source": [
        "import tensorflow as tf\n",
        "from tqdm import tqdm\n",
        "import numpy as np\n",
        "\n",
        "import tensorflow_hub as hub\n",
        "\n",
        "use = hub.load(\"https://tfhub.dev/google/universal-sentence-encoder/4\")\n",
        "\n",
        "def get_embs(text):\n",
        "    if isinstance(text, str):\n",
        "        text = [text]\n",
        "    return use(text)\n",
        "\n",
        "X_train = []\n",
        "for r in tqdm(df_train_resampled.reviewText):\n",
        "    emb = get_embs(r)\n",
        "    review_emb = tf.reshape(emb, [-1]).numpy()\n",
        "    X_train.append(review_emb)\n",
        "X_train = np.array(X_train)\n",
        "\n",
        "X_test = []\n",
        "for r in tqdm(df_test.reviewText):\n",
        "    emb = get_embs(r)\n",
        "    review_emb = tf.reshape(emb, [-1]).numpy()\n",
        "    X_test.append(review_emb)\n",
        "X_test = np.array(X_test)"
      ],
      "execution_count": null,
      "outputs": [
        {
          "output_type": "stream",
          "name": "stderr",
          "text": [
            "100%|██████████| 112/112 [00:01<00:00, 86.03it/s] \n",
            "100%|██████████| 10/10 [00:00<00:00, 176.71it/s]\n"
          ]
        }
      ]
    },
    {
      "cell_type": "markdown",
      "metadata": {
        "id": "mx7q8qUfR5UK"
      },
      "source": [
        "### Model without augmentation"
      ]
    },
    {
      "cell_type": "markdown",
      "metadata": {
        "id": "LAXdG1zlpVCd"
      },
      "source": [
        "Since the data is very less, there is no point in splitting in train and validation"
      ]
    },
    {
      "cell_type": "code",
      "metadata": {
        "id": "P_a0POSjoID7",
        "colab": {
          "base_uri": "https://localhost:8080/"
        },
        "outputId": "9c3c0ee7-3505-46af-9cec-bd8d61ad4c7b"
      },
      "source": [
        "import tensorflow as tf\n",
        "from tensorflow.keras import Sequential\n",
        "from tensorflow.keras.layers import Dense, Dropout\n",
        "from tensorflow.keras.optimizers import Adam\n",
        "\n",
        "def build_model(X_train, y_train, epochs=10):\n",
        "    model = Sequential()\n",
        "    model.add(Dense(units=256,input_shape=(X_train.shape[1],),activation='relu'))\n",
        "    # model.add(Dropout(rate=0.5))\n",
        "    model.add(Dense(units=128,activation='relu'))\n",
        "    # model.add(Dropout(rate=0.5))\n",
        "    model.add(Dense(4, activation='softmax'))\n",
        "\n",
        "    model.compile(loss='categorical_crossentropy', optimizer=Adam(0.001), metrics=['accuracy'])\n",
        "\n",
        "    history = model.fit(\n",
        "        X_train, y_train,\n",
        "        epochs=epochs,\n",
        "        batch_size=16,\n",
        "        verbose=1,\n",
        "        shuffle=True\n",
        "    )\n",
        "\n",
        "    return history, model\n",
        "\n",
        "\n",
        "history, random_aug_model = build_model(X_train, y_resampled, 3)"
      ],
      "execution_count": null,
      "outputs": [
        {
          "output_type": "stream",
          "name": "stdout",
          "text": [
            "Epoch 1/3\n",
            "7/7 [==============================] - 0s 5ms/step - loss: 1.2860 - accuracy: 0.5804\n",
            "Epoch 2/3\n",
            "7/7 [==============================] - 0s 5ms/step - loss: 0.9962 - accuracy: 0.9375\n",
            "Epoch 3/3\n",
            "7/7 [==============================] - 0s 4ms/step - loss: 0.7005 - accuracy: 0.9643\n"
          ]
        }
      ]
    },
    {
      "cell_type": "code",
      "metadata": {
        "colab": {
          "base_uri": "https://localhost:8080/",
          "height": 573
        },
        "id": "gQ8RYpocoWlS",
        "outputId": "2886d55e-e369-4f1b-a677-19766293f000"
      },
      "source": [
        "import matplotlib.pyplot as plt\n",
        "\n",
        "def plot_history(history):\n",
        "    ## summarize history for accuracy\n",
        "    plt.plot(history.history['accuracy'])\n",
        "    plt.title('model accuracy')\n",
        "    plt.ylabel('accuracy')\n",
        "    plt.xlabel('epoch')\n",
        "    plt.legend(['train'], loc='upper left')\n",
        "    plt.show()\n",
        "\n",
        "    ## summarize history for loss\n",
        "    plt.plot(history.history['loss'])\n",
        "    plt.title('model loss')\n",
        "    plt.ylabel('loss')\n",
        "    plt.xlabel('epoch')\n",
        "    plt.legend(['train'], loc='upper left')\n",
        "    plt.show()\n",
        "\n",
        "plot_history(history)"
      ],
      "execution_count": null,
      "outputs": [
        {
          "output_type": "display_data",
          "data": {
            "image/png": "[encoded data removed]",
            "text/plain": [
              "<Figure size 432x288 with 1 Axes>"
            ]
          },
          "metadata": {
            "needs_background": "light"
          }
        },
        {
          "output_type": "display_data",
          "data": {
            "image/png": "[encoded data removed]",
            "text/plain": [
              "<Figure size 432x288 with 1 Axes>"
            ]
          },
          "metadata": {
            "needs_background": "light"
          }
        }
      ]
    },
    {
      "cell_type": "code",
      "metadata": {
        "colab": {
          "base_uri": "https://localhost:8080/"
        },
        "id": "ENvA3FGdi9sE",
        "outputId": "dd8fc091-4a4e-48fa-a052-982016b947dd"
      },
      "source": [
        "loss, acc = random_aug_model.evaluate(X_test, y_test)\n",
        "print('loss:', loss, 'accuracy:', acc)"
      ],
      "execution_count": null,
      "outputs": [
        {
          "output_type": "stream",
          "name": "stdout",
          "text": [
            "1/1 [==============================] - 0s 151ms/step - loss: 1.1153 - accuracy: 0.7000\n",
            "loss: 1.1152918338775635 accuracy: 0.699999988079071\n"
          ]
        }
      ]
    },
    {
      "cell_type": "code",
      "metadata": {
        "colab": {
          "base_uri": "https://localhost:8080/"
        },
        "id": "aEP7Is96kKie",
        "outputId": "b8ea3916-9dfa-41db-f805-c76aae8df3a1"
      },
      "source": [
        "!pip install -U imbalanced-learn"
      ],
      "execution_count": null,
      "outputs": [
        {
          "output_type": "stream",
          "name": "stdout",
          "text": [
            "Requirement already satisfied: imbalanced-learn in /usr/local/lib/python3.7/dist-packages (0.8.1)\n",
            "Requirement already satisfied: numpy>=1.13.3 in /usr/local/lib/python3.7/dist-packages (from imbalanced-learn) (1.19.5)\n",
            "Requirement already satisfied: scikit-learn>=0.24 in /usr/local/lib/python3.7/dist-packages (from imbalanced-learn) (1.0.1)\n",
            "Requirement already satisfied: scipy>=0.19.1 in /usr/local/lib/python3.7/dist-packages (from imbalanced-learn) (1.4.1)\n",
            "Requirement already satisfied: joblib>=0.11 in /usr/local/lib/python3.7/dist-packages (from imbalanced-learn) (1.0.1)\n",
            "Requirement already satisfied: threadpoolctl>=2.0.0 in /usr/local/lib/python3.7/dist-packages (from scikit-learn>=0.24->imbalanced-learn) (3.0.0)\n"
          ]
        }
      ]
    },
    {
      "cell_type": "code",
      "metadata": {
        "colab": {
          "base_uri": "https://localhost:8080/"
        },
        "id": "m1bzf_jQipw2",
        "outputId": "c866f670-9020-44bb-bb7d-603f0164d971"
      },
      "source": [
        "from sklearn.metrics import accuracy_score, matthews_corrcoef\n",
        "from imblearn.metrics import classification_report_imbalanced\n",
        "\n",
        "y_pred = np.argmax(random_aug_model.predict(X_test), axis=1)\n",
        "y_true = np.argmax(y_test, axis=1)\n",
        "\n",
        "print('accuracy:', accuracy_score(y_true, y_pred))\n",
        "print('matthews_corrcoef:', matthews_corrcoef(y_true, y_pred))\n",
        "print('classification_report:\\n', classification_report_imbalanced(y_true, y_pred))"
      ],
      "execution_count": null,
      "outputs": [
        {
          "output_type": "stream",
          "name": "stdout",
          "text": [
            "accuracy: 0.7\n",
            "matthews_corrcoef: 0.0\n",
            "classification_report:\n",
            "                    pre       rec       spe        f1       geo       iba       sup\n",
            "\n",
            "          0       0.00      0.00      1.00      0.00      0.00      0.00         1\n",
            "          2       0.00      0.00      1.00      0.00      0.00      0.00         2\n",
            "          3       0.70      1.00      0.00      0.82      0.00      0.00         7\n",
            "\n",
            "avg / total       0.49      0.70      0.30      0.58      0.00      0.00        10\n",
            "\n"
          ]
        },
        {
          "output_type": "stream",
          "name": "stderr",
          "text": [
            "/usr/local/lib/python3.7/dist-packages/sklearn/metrics/_classification.py:1308: UndefinedMetricWarning: Precision and F-score are ill-defined and being set to 0.0 in labels with no predicted samples. Use `zero_division` parameter to control this behavior.\n",
            "  _warn_prf(average, modifier, msg_start, len(result))\n"
          ]
        }
      ]
    },
    {
      "cell_type": "markdown",
      "metadata": {
        "id": "7_m1XVkhSQP1"
      },
      "source": [
        "### Model performance after augmentation"
      ]
    },
    {
      "cell_type": "markdown",
      "metadata": {
        "id": "1aLBNia_U2wM"
      },
      "source": [
        "check the label distribution before augmenting. label 5 is the largest label"
      ]
    },
    {
      "cell_type": "code",
      "metadata": {
        "colab": {
          "base_uri": "https://localhost:8080/"
        },
        "id": "tLwEKT9orw6K",
        "outputId": "35dc90c2-ce08-41ee-8f05-0f581ecfd8d5"
      },
      "source": [
        "df_train.overall.value_counts()"
      ],
      "execution_count": null,
      "outputs": [
        {
          "output_type": "execute_result",
          "data": {
            "text/plain": [
              "5    28\n",
              "4     6\n",
              "3     2\n",
              "1     2\n",
              "Name: overall, dtype: int64"
            ]
          },
          "metadata": {},
          "execution_count": 73
        }
      ]
    },
    {
      "cell_type": "markdown",
      "metadata": {
        "id": "8R0nNa8FU97u"
      },
      "source": [
        "code for nlp augmentation"
      ]
    },
    {
      "cell_type": "code",
      "metadata": {
        "id": "N8VrB5AOohxp",
        "colab": {
          "base_uri": "https://localhost:8080/"
        },
        "outputId": "9f91507a-2143-45a6-f098-658d4a34ff3e"
      },
      "source": [
        "from random import choice, random\n",
        "\n",
        "def remove_random_space(text):\n",
        "    indices = [i for i, x in enumerate(text) if x == \" \"]\n",
        "    random_space_index = choice(indices)\n",
        "    return \"\".join([x for i, x in enumerate(text) if i!=random_space_index])\n",
        "\n",
        "def delete_char_randomly(text):\n",
        "    random_char_indx = int(random() * len(text))\n",
        "    # print(random_char_indx)\n",
        "    return \"\".join([x for i, x in enumerate(text) if i!=random_char_indx])\n",
        "\n",
        "def keyboard_augmenter(text):\n",
        "    aug = nac.KeyboardAug()\n",
        "    augmented_text = aug.augment(text)\n",
        "    return augmented_text\n",
        "\n",
        "def augment_label(df_train, label, n_out):\n",
        "    sentences = df_train[df_train.overall==label].reviewText.to_list()\n",
        "\n",
        "    aug_sentences = []\n",
        "    factor = round(n_out/(4*len(sentences)))\n",
        "    sentences = sentences * factor\n",
        "    for sent in sentences:\n",
        "        aug_sentences.append(sent)\n",
        "        aug_sentences.append(remove_random_space(sent))\n",
        "        aug_sentences.append(keyboard_augmenter(sent))\n",
        "        aug_sentences.append(delete_char_randomly(sent))\n",
        "\n",
        "    aug_df = pd.DataFrame(aug_sentences, columns=['reviewText'])\n",
        "    aug_df['overall'] = label\n",
        "\n",
        "    return aug_df\n",
        "\n",
        "\n",
        "# get the augmented values\n",
        "df_train2 = df_train[df_train.overall==5]\n",
        "print(df_train2.shape)\n",
        "aug_df4 = augment_label(df_train, 4, 28)\n",
        "aug_df3 = augment_label(df_train, 3, 28)\n",
        "aug_df1 = augment_label(df_train, 1, 28)\n",
        "df_train2 = pd.concat([df_train2, aug_df4, aug_df3, aug_df1], ignore_index=True)\n",
        "\n",
        "# shuffle the dataframe so that same labels are not together\n",
        "df_train2 = df_train2.sample(frac=1, random_state=42)\n",
        "print(df_train2.shape)\n",
        "print(df_train2.overall.value_counts())"
      ],
      "execution_count": null,
      "outputs": [
        {
          "output_type": "stream",
          "name": "stdout",
          "text": [
            "(28, 3)\n",
            "(116, 3)\n",
            "3    32\n",
            "1    32\n",
            "5    28\n",
            "4    24\n",
            "Name: overall, dtype: int64\n"
          ]
        }
      ]
    },
    {
      "cell_type": "markdown",
      "metadata": {
        "id": "xlUqx6ZZUsML"
      },
      "source": [
        "recompute the X_train and y_train as the training distributions are now different."
      ]
    },
    {
      "cell_type": "code",
      "metadata": {
        "colab": {
          "base_uri": "https://localhost:8080/"
        },
        "id": "D3eKYIxuojvk",
        "outputId": "2992064d-f2c8-44e9-a304-930fedff5d48"
      },
      "source": [
        "y_train = encoder.transform(df_train2.overall.to_numpy().reshape(-1, 1))\n",
        "\n",
        "X_train = []\n",
        "for r in tqdm(df_train2.reviewText):\n",
        "    emb = get_embs(r)\n",
        "    review_emb = tf.reshape(emb, [-1]).numpy()\n",
        "    X_train.append(review_emb)\n",
        "X_train = np.array(X_train)\n",
        "print(X_train.shape)"
      ],
      "execution_count": null,
      "outputs": [
        {
          "output_type": "stream",
          "name": "stderr",
          "text": [
            "100%|██████████| 116/116 [00:00<00:00, 153.14it/s]"
          ]
        },
        {
          "output_type": "stream",
          "name": "stdout",
          "text": [
            "(116, 512)\n"
          ]
        },
        {
          "output_type": "stream",
          "name": "stderr",
          "text": [
            "\n"
          ]
        }
      ]
    },
    {
      "cell_type": "markdown",
      "metadata": {
        "id": "i_6y-gJgUphr"
      },
      "source": [
        "train the model using 3 epochs"
      ]
    },
    {
      "cell_type": "code",
      "metadata": {
        "colab": {
          "base_uri": "https://localhost:8080/",
          "height": 683
        },
        "id": "nCDSJf2nQecU",
        "outputId": "2e72179d-f4d7-48e0-ca5b-cb132346af4f"
      },
      "source": [
        "history, nlp_aug_model = build_model(X_train, y_train, 3)\n",
        "plot_history(history)"
      ],
      "execution_count": null,
      "outputs": [
        {
          "output_type": "stream",
          "name": "stdout",
          "text": [
            "Epoch 1/3\n",
            "8/8 [==============================] - 0s 4ms/step - loss: 1.3096 - accuracy: 0.6034\n",
            "Epoch 2/3\n",
            "8/8 [==============================] - 0s 4ms/step - loss: 1.0525 - accuracy: 0.9397\n",
            "Epoch 3/3\n",
            "8/8 [==============================] - 0s 4ms/step - loss: 0.7263 - accuracy: 0.9828\n"
          ]
        },
        {
          "output_type": "display_data",
          "data": {
            "image/png": "[encoded data removed]",
            "text/plain": [
              "<Figure size 432x288 with 1 Axes>"
            ]
          },
          "metadata": {
            "needs_background": "light"
          }
        },
        {
          "output_type": "display_data",
          "data": {
            "image/png": "[encoded data removed]",
            "text/plain": [
              "<Figure size 432x288 with 1 Axes>"
            ]
          },
          "metadata": {
            "needs_background": "light"
          }
        }
      ]
    },
    {
      "cell_type": "code",
      "metadata": {
        "colab": {
          "base_uri": "https://localhost:8080/"
        },
        "id": "C_woF_nBo3o_",
        "outputId": "a05461b9-9d34-4308-989c-ad4496bda6f7"
      },
      "source": [
        "loss, acc = nlp_aug_model.evaluate(X_test, y_test)\n",
        "print('loss:', loss, 'accuracy:', acc)"
      ],
      "execution_count": null,
      "outputs": [
        {
          "output_type": "stream",
          "name": "stdout",
          "text": [
            "1/1 [==============================] - 0s 146ms/step - loss: 1.0927 - accuracy: 0.8000\n",
            "loss: 1.0927302837371826 accuracy: 0.800000011920929\n"
          ]
        }
      ]
    },
    {
      "cell_type": "markdown",
      "metadata": {
        "id": "lNOt8RfVUcey"
      },
      "source": [
        "the simple augmentation model has mostly overfitted, but there is some other values as part of the nlp augmented model."
      ]
    },
    {
      "cell_type": "code",
      "metadata": {
        "id": "nlvkzPEKo8wn",
        "colab": {
          "base_uri": "https://localhost:8080/"
        },
        "outputId": "58519043-4299-48d3-c19b-837f638dcd92"
      },
      "source": [
        "print('simple oversampling outputs:', np.argmax(random_aug_model.predict(X_test), axis=1))\n",
        "print('nlp model outputs:', np.argmax(nlp_aug_model.predict(X_test), axis=1))\n",
        "print('actual outputs:', np.argmax(y_test, axis=1))"
      ],
      "execution_count": null,
      "outputs": [
        {
          "output_type": "stream",
          "name": "stdout",
          "text": [
            "simple oversampling outputs: [3 3 3 3 3 3 3 3 3 3]\n",
            "nlp model outputs: [2 3 3 3 3 3 3 3 3 3]\n",
            "actual outputs: [2 3 3 2 0 3 3 3 3 3]\n"
          ]
        }
      ]
    },
    {
      "cell_type": "code",
      "metadata": {
        "colab": {
          "base_uri": "https://localhost:8080/"
        },
        "id": "JpEWeYS5n60V",
        "outputId": "1f18e9e1-e348-4f9e-c028-fbcd4aa8b608"
      },
      "source": [
        "from sklearn.metrics import accuracy_score, matthews_corrcoef\n",
        "from imblearn.metrics import classification_report_imbalanced\n",
        "\n",
        "y_pred = np.argmax(nlp_aug_model.predict(X_test), axis=1)\n",
        "y_true = np.argmax(y_test, axis=1)\n",
        "\n",
        "print('accuracy:', accuracy_score(y_true, y_pred))\n",
        "print('matthews_corrcoef:', matthews_corrcoef(y_true, y_pred))\n",
        "print('classification_report:\\n', classification_report_imbalanced(y_true, y_pred))"
      ],
      "execution_count": null,
      "outputs": [
        {
          "output_type": "stream",
          "name": "stdout",
          "text": [
            "accuracy: 0.8\n",
            "matthews_corrcoef: 0.5212860351426869\n",
            "classification_report:\n",
            "                    pre       rec       spe        f1       geo       iba       sup\n",
            "\n",
            "          0       0.00      0.00      1.00      0.00      0.00      0.00         1\n",
            "          2       1.00      0.50      1.00      0.67      0.71      0.48         2\n",
            "          3       0.78      1.00      0.33      0.88      0.58      0.36         7\n",
            "\n",
            "avg / total       0.74      0.80      0.53      0.75      0.55      0.34        10\n",
            "\n"
          ]
        },
        {
          "output_type": "stream",
          "name": "stderr",
          "text": [
            "/usr/local/lib/python3.7/dist-packages/sklearn/metrics/_classification.py:1308: UndefinedMetricWarning: Precision and F-score are ill-defined and being set to 0.0 in labels with no predicted samples. Use `zero_division` parameter to control this behavior.\n",
            "  _warn_prf(average, modifier, msg_start, len(result))\n"
          ]
        }
      ]
    },
    {
      "cell_type": "code",
      "metadata": {
        "id": "wMcS6WmBXGM2"
      },
      "source": [
        ""
      ],
      "execution_count": null,
      "outputs": []
    }
  ]
}