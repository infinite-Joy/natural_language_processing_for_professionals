{
  "nbformat": 4,
  "nbformat_minor": 0,
  "metadata": {
    "accelerator": "GPU",
    "colab": {
      "name": "feed_forward_networks_and_cnn",
      "provenance": [],
      "collapsed_sections": [],
      "toc_visible": true
    },
    "kernelspec": {
      "display_name": "Python 3",
      "name": "python3"
    },
    "language_info": {
      "name": "python"
    }
  },
  "cells": [
    {
      "cell_type": "code",
      "metadata": {
        "colab": {
          "base_uri": "https://localhost:8080/"
        },
        "id": "vdVI9sUNQ7Pg",
        "outputId": "9998b2ed-f2d6-4a9b-f121-f90de5ed3830"
      },
      "source": [
        "from google.colab import drive\n",
        "drive.mount('/content/drive')"
      ],
      "execution_count": null,
      "outputs": [
        {
          "output_type": "stream",
          "name": "stdout",
          "text": [
            "Mounted at /content/drive\n"
          ]
        }
      ]
    },
    {
      "cell_type": "code",
      "metadata": {
        "colab": {
          "base_uri": "https://localhost:8080/"
        },
        "id": "Kn-ma1GfRE4x",
        "outputId": "804753ca-5c90-4cc9-c6c2-64b9c983695d"
      },
      "source": [
        "!ls -ltr /content/drive/MyDrive/educative_natural_language_processing_for_professionals/models"
      ],
      "execution_count": null,
      "outputs": [
        {
          "output_type": "stream",
          "name": "stdout",
          "text": [
            "total 0\n"
          ]
        }
      ]
    },
    {
      "cell_type": "markdown",
      "metadata": {
        "id": "iq_W85s0G6rx"
      },
      "source": [
        "## Gather Data"
      ]
    },
    {
      "cell_type": "code",
      "metadata": {
        "colab": {
          "base_uri": "https://localhost:8080/"
        },
        "id": "2i-m_k0G5Kbp",
        "outputId": "154c7167-0bd0-4e68-f22d-865e1ba6a86f"
      },
      "source": [
        "import urllib.request as req\n",
        "from urllib.parse import urlparse\n",
        "import os\n",
        "import progressbar\n",
        "import zipfile\n",
        "import gzip\n",
        "import shutil\n",
        "import json\n",
        "import pandas as pd\n",
        "import re\n",
        "import string\n",
        "import imblearn\n",
        "\n",
        "pbar = None\n",
        "\n",
        "\n",
        "def show_progress(block_num, block_size, total_size):\n",
        "    global pbar\n",
        "    if pbar is None:\n",
        "        pbar = progressbar.ProgressBar(maxval=total_size)\n",
        "        pbar.start()\n",
        "\n",
        "    downloaded = block_num * block_size\n",
        "    if downloaded < total_size:\n",
        "        pbar.update(downloaded)\n",
        "    else:\n",
        "        pbar.finish()\n",
        "        pbar = None\n",
        "\n",
        "def wget(url):\n",
        "    a = urlparse(url)\n",
        "    filename = os.path.basename(a.path)\n",
        "    if not os.path.isfile(filename):\n",
        "        req.urlretrieve(url, filename, show_progress)\n",
        "        print(f'downloaded to {filename}')\n",
        "    else:\n",
        "        print(f'file {filename} has already been downloaded')\n",
        "    return filename\n",
        "\n",
        "def unzip(filename, directory_to_extract_to=os.getcwd()):\n",
        "    with zipfile.ZipFile(filename, 'r') as zip_ref:\n",
        "        zip_ref.extractall(directory_to_extract_to)\n",
        "        print(f'extraction done {zip_ref.namelist()}')\n",
        "\n",
        "def gunzip(gzfile, fout):\n",
        "    with gzip.open(gzfile, 'rb') as f_in:\n",
        "        with open(fout, 'wb') as f_out:\n",
        "            shutil.copyfileobj(f_in, f_out)\n",
        "    print(f'{gzfile} extracted to {fout}')\n",
        "\n",
        "\n",
        "# map punctuation to space\n",
        "translator = str.maketrans(string.punctuation, ' '*len(string.punctuation)) \n",
        "\n",
        "def text_preprocessing(text):\n",
        "    \"\"\"\n",
        "    Preprocess the text for better understanding\n",
        "    \n",
        "    \"\"\"\n",
        "    text = text.strip()\n",
        "    text = text.lower()\n",
        "    text = text.translate(translator)\n",
        "    return text\n",
        "\n",
        "\n",
        "filename = wget(\"https://nlp.stanford.edu/data/glove.6B.zip\")\n",
        "unzip(filename)\n",
        "Video_Games_5 = wget('http://deepyeti.ucsd.edu/jianmo/amazon/categoryFilesSmall/Video_Games_5.json.gz')\n",
        "df = pd.read_json(\"./Video_Games_5.json.gz\", lines=True, compression='gzip')\n",
        "df = df[['reviewText', 'overall']]\n",
        "df = df.dropna()\n",
        "df['reviewText'] = df['reviewText'].apply(text_preprocessing)\n",
        "df = df.drop_duplicates()\n",
        "print(df.shape)"
      ],
      "execution_count": null,
      "outputs": [
        {
          "name": "stderr",
          "output_type": "stream",
          "text": [
            "/usr/local/lib/python3.7/dist-packages/sklearn/externals/six.py:31: FutureWarning: The module is deprecated in version 0.21 and will be removed in version 0.23 since we've dropped support for Python 2.7. Please rely on the official version of six (https://pypi.org/project/six/).\n",
            "  \"(https://pypi.org/project/six/).\", FutureWarning)\n",
            "/usr/local/lib/python3.7/dist-packages/sklearn/utils/deprecation.py:144: FutureWarning: The sklearn.neighbors.base module is  deprecated in version 0.22 and will be removed in version 0.24. The corresponding classes / functions should instead be imported from sklearn.neighbors. Anything that cannot be imported from sklearn.neighbors is now part of the private API.\n",
            "  warnings.warn(message, FutureWarning)\n",
            "100% (862182613 of 862182613) |##########| Elapsed Time: 0:02:41 Time:  0:02:41\n"
          ]
        },
        {
          "name": "stdout",
          "output_type": "stream",
          "text": [
            "downloaded to glove.6B.zip\n",
            "extraction done ['glove.6B.50d.txt', 'glove.6B.100d.txt', 'glove.6B.200d.txt', 'glove.6B.300d.txt']\n"
          ]
        },
        {
          "name": "stderr",
          "output_type": "stream",
          "text": [
            "100% (154050105 of 154050105) |##########| Elapsed Time: 0:00:08 Time:  0:00:08\n"
          ]
        },
        {
          "name": "stdout",
          "output_type": "stream",
          "text": [
            "downloaded to Video_Games_5.json.gz\n",
            "(399899, 2)\n"
          ]
        }
      ]
    },
    {
      "cell_type": "code",
      "metadata": {
        "colab": {
          "base_uri": "https://localhost:8080/",
          "height": 363
        },
        "id": "8Rk-ba5K8PCx",
        "outputId": "8311fc6b-9885-4676-e774-bdae8d04a3d0"
      },
      "source": [
        "df.sample(10)"
      ],
      "execution_count": null,
      "outputs": [
        {
          "data": {
            "text/html": [
              "<div>\n",
              "<style scoped>\n",
              "    .dataframe tbody tr th:only-of-type {\n",
              "        vertical-align: middle;\n",
              "    }\n",
              "\n",
              "    .dataframe tbody tr th {\n",
              "        vertical-align: top;\n",
              "    }\n",
              "\n",
              "    .dataframe thead th {\n",
              "        text-align: right;\n",
              "    }\n",
              "</style>\n",
              "<table border=\"1\" class=\"dataframe\">\n",
              "  <thead>\n",
              "    <tr style=\"text-align: right;\">\n",
              "      <th></th>\n",
              "      <th>reviewText</th>\n",
              "      <th>overall</th>\n",
              "    </tr>\n",
              "  </thead>\n",
              "  <tbody>\n",
              "    <tr>\n",
              "      <th>384482</th>\n",
              "      <td>heavy weight dedede is one of the largest amii...</td>\n",
              "      <td>5</td>\n",
              "    </tr>\n",
              "    <tr>\n",
              "      <th>249594</th>\n",
              "      <td>love the updates from the previous version  ac...</td>\n",
              "      <td>5</td>\n",
              "    </tr>\n",
              "    <tr>\n",
              "      <th>266625</th>\n",
              "      <td>great game 100  recommended</td>\n",
              "      <td>5</td>\n",
              "    </tr>\n",
              "    <tr>\n",
              "      <th>58589</th>\n",
              "      <td>as an annual purchaser  some may say sucker  o...</td>\n",
              "      <td>4</td>\n",
              "    </tr>\n",
              "    <tr>\n",
              "      <th>387276</th>\n",
              "      <td>i was honestly disappointed with this halo ins...</td>\n",
              "      <td>3</td>\n",
              "    </tr>\n",
              "    <tr>\n",
              "      <th>283158</th>\n",
              "      <td>fits the wii u perfectly and protects it</td>\n",
              "      <td>5</td>\n",
              "    </tr>\n",
              "    <tr>\n",
              "      <th>204061</th>\n",
              "      <td>i had fun playing the previous 2 gears of war ...</td>\n",
              "      <td>4</td>\n",
              "    </tr>\n",
              "    <tr>\n",
              "      <th>107053</th>\n",
              "      <td>i ve played all of her interactive s nancy dre...</td>\n",
              "      <td>3</td>\n",
              "    </tr>\n",
              "    <tr>\n",
              "      <th>396176</th>\n",
              "      <td>my son loves it and recommend this game to eve...</td>\n",
              "      <td>5</td>\n",
              "    </tr>\n",
              "    <tr>\n",
              "      <th>122504</th>\n",
              "      <td>great product</td>\n",
              "      <td>4</td>\n",
              "    </tr>\n",
              "  </tbody>\n",
              "</table>\n",
              "</div>"
            ],
            "text/plain": [
              "                                               reviewText  overall\n",
              "384482  heavy weight dedede is one of the largest amii...        5\n",
              "249594  love the updates from the previous version  ac...        5\n",
              "266625                        great game 100  recommended        5\n",
              "58589   as an annual purchaser  some may say sucker  o...        4\n",
              "387276  i was honestly disappointed with this halo ins...        3\n",
              "283158          fits the wii u perfectly and protects it         5\n",
              "204061  i had fun playing the previous 2 gears of war ...        4\n",
              "107053  i ve played all of her interactive s nancy dre...        3\n",
              "396176  my son loves it and recommend this game to eve...        5\n",
              "122504                                     great product         4"
            ]
          },
          "execution_count": 18,
          "metadata": {},
          "output_type": "execute_result"
        }
      ]
    },
    {
      "cell_type": "markdown",
      "metadata": {
        "id": "HZzvl0mUG_eT"
      },
      "source": [
        "## Split train and test"
      ]
    },
    {
      "cell_type": "code",
      "metadata": {
        "colab": {
          "base_uri": "https://localhost:8080/"
        },
        "id": "EjipIE4d5fO5",
        "outputId": "15b64cd7-d074-4681-f03c-e179ff7ee6ce"
      },
      "source": [
        "from sklearn.model_selection import train_test_split\n",
        "\n",
        "sentences = df['reviewText'].values\n",
        "y = df['overall'].values\n",
        "y = pd.get_dummies(y).values\n",
        "\n",
        "sentences_train, sentences_test, y_train, y_test = train_test_split(\n",
        "    sentences, y, test_size=0.3, random_state=42, stratify=df.overall)\n",
        "\n",
        "print(len(sentences_train), len(sentences_test))"
      ],
      "execution_count": null,
      "outputs": [
        {
          "name": "stdout",
          "output_type": "stream",
          "text": [
            "279929 119970\n"
          ]
        }
      ]
    },
    {
      "cell_type": "markdown",
      "metadata": {
        "id": "f-qJR22wHGMc"
      },
      "source": [
        "## Input Tensors"
      ]
    },
    {
      "cell_type": "code",
      "metadata": {
        "id": "EAPBCHZd5n8W"
      },
      "source": [
        "from tensorflow.keras.preprocessing.text import Tokenizer\n",
        "\n",
        "tokenizer = Tokenizer(num_words=5000)\n",
        "tokenizer.fit_on_texts(sentences_train)\n",
        "\n",
        "X_train = tokenizer.texts_to_sequences(sentences_train)\n",
        "X_test = tokenizer.texts_to_sequences(sentences_test)\n",
        "\n",
        "vocab_size = len(tokenizer.word_index) + 1  # Adding 1 because of reserved 0 index"
      ],
      "execution_count": null,
      "outputs": []
    },
    {
      "cell_type": "code",
      "metadata": {
        "colab": {
          "base_uri": "https://localhost:8080/"
        },
        "id": "mGbM3Tgf5xNf",
        "outputId": "612c0536-d2b1-4b60-ee5e-92ecd9f8999e"
      },
      "source": [
        "from tensorflow.keras.preprocessing.sequence import pad_sequences\n",
        "\n",
        "maxlen = 100\n",
        "\n",
        "X_train = pad_sequences(X_train, padding='post', maxlen=maxlen)\n",
        "X_test = pad_sequences(X_test, padding='post', maxlen=maxlen)\n",
        "\n",
        "print(X_train[0, :])"
      ],
      "execution_count": null,
      "outputs": [
        {
          "name": "stdout",
          "output_type": "stream",
          "text": [
            "[ 316   12   80  236 2964  319  269    2  299    5   25   13 1136   78\n",
            " 1039    4  165 2517   19    1  166 1718    5   58  204    1 3145  156\n",
            "    6    9   23   29  298  294   11  366   57   16   49   78  156    6\n",
            "   46   23  861   57    3  935   19    1    6 1713   52   41  309    1\n",
            " 1339  875 1463 4658   61   24   27   51  530   19  251  202    5  219\n",
            "  221   11  599  156    6    9    1   99 3429   14    1 3602  296   28\n",
            "    8   21   23  433   11  388    5   26    6   86   13 3279   34  582\n",
            "   11 1112]\n"
          ]
        }
      ]
    },
    {
      "cell_type": "markdown",
      "metadata": {
        "id": "RDTrdpajHIxb"
      },
      "source": [
        "## Embedding Matrix\n",
        "\n",
        "Mapping of words in the corpus with the glove embeddings"
      ]
    },
    {
      "cell_type": "code",
      "metadata": {
        "id": "DBD1Z6Xa53Z-"
      },
      "source": [
        "import numpy as np\n",
        "\n",
        "def create_embedding_matrix(filepath, word_index, embedding_dim):\n",
        "    vocab_size = len(word_index) + 1  # Adding again 1 because of reserved 0 index\n",
        "    embedding_matrix = np.zeros((vocab_size, embedding_dim))\n",
        "\n",
        "    with open(filepath) as f:\n",
        "        for line in f:\n",
        "            word, *vector = line.split()\n",
        "            if word in word_index:\n",
        "                idx = word_index[word] \n",
        "                embedding_matrix[idx] = np.array(\n",
        "                    vector, dtype=np.float32)[:embedding_dim]\n",
        "\n",
        "    return embedding_matrix\n",
        "\n",
        "embedding_dim = 50\n",
        "embedding_matrix = create_embedding_matrix(\n",
        "    './glove.6B.50d.txt', tokenizer.word_index, embedding_dim)"
      ],
      "execution_count": null,
      "outputs": []
    },
    {
      "cell_type": "markdown",
      "metadata": {
        "id": "M9OLTAAqHLST"
      },
      "source": [
        "## Compute class weights"
      ]
    },
    {
      "cell_type": "code",
      "metadata": {
        "id": "_N2wvvUo6D_6"
      },
      "source": [
        "from sklearn.utils import compute_class_weight\n",
        "\n",
        "y_integers = np.argmax(y_train, axis=1)\n",
        "class_weights = compute_class_weight('balanced', np.unique(y_integers), y_integers)\n",
        "d_class_weights = dict(enumerate(class_weights))"
      ],
      "execution_count": null,
      "outputs": []
    },
    {
      "cell_type": "markdown",
      "metadata": {
        "id": "vZiGMJtR4xnf"
      },
      "source": [
        "## helper functions"
      ]
    },
    {
      "cell_type": "code",
      "metadata": {
        "id": "POp6pvAR4wLg"
      },
      "source": [
        "import matplotlib.pyplot as plt\n",
        "plt.style.use('ggplot')\n",
        "\n",
        "def plot_history(history):\n",
        "    acc = history.history['accuracy']\n",
        "    val_acc = history.history['val_accuracy']\n",
        "    loss = history.history['loss']\n",
        "    val_loss = history.history['val_loss']\n",
        "    x = range(1, len(acc) + 1)\n",
        "\n",
        "    plt.figure(figsize=(12, 5))\n",
        "    plt.subplot(1, 2, 1)\n",
        "    plt.plot(x, acc, 'b', label='Training acc')\n",
        "    plt.plot(x, val_acc, 'r', label='Validation acc')\n",
        "    plt.title('Training and validation accuracy')\n",
        "    plt.legend()\n",
        "    plt.subplot(1, 2, 2)\n",
        "    plt.plot(x, loss, 'b', label='Training loss')\n",
        "    plt.plot(x, val_loss, 'r', label='Validation loss')\n",
        "    plt.title('Training and validation loss')\n",
        "    plt.legend()"
      ],
      "execution_count": null,
      "outputs": []
    },
    {
      "cell_type": "markdown",
      "metadata": {
        "id": "AL30AMKxHOQG"
      },
      "source": [
        "## Shallow Neural Network"
      ]
    },
    {
      "cell_type": "code",
      "metadata": {
        "colab": {
          "base_uri": "https://localhost:8080/"
        },
        "id": "CoPilJ0h6HcQ",
        "outputId": "0ef9bd63-3a3f-4259-86b6-19cdbe363ddd"
      },
      "source": [
        "import tensorflow as tf\n",
        "from tensorflow.keras import Sequential, layers\n",
        "from tensorflow.keras.optimizers import Adam\n",
        "\n",
        "maxlen = 100\n",
        "\n",
        "model = Sequential()\n",
        "model.add(layers.Embedding(vocab_size, embedding_dim, \n",
        "                           weights=[embedding_matrix], \n",
        "                           input_length=maxlen, \n",
        "                           trainable=False))\n",
        "model.add(layers.Dropout(0.2))\n",
        "model.add(layers.GlobalAveragePooling1D())\n",
        "model.add(layers.Dropout(0.2))\n",
        "model.add(layers.Dense(32, activation='relu'))\n",
        "model.add(layers.Dense(5, activation='softmax'))\n",
        "\n",
        "model.compile(optimizer='adam',\n",
        "              loss='categorical_crossentropy',\n",
        "              metrics=['accuracy'])\n",
        "\n",
        "model.summary()"
      ],
      "execution_count": null,
      "outputs": [
        {
          "name": "stdout",
          "output_type": "stream",
          "text": [
            "Model: \"sequential\"\n",
            "_________________________________________________________________\n",
            " Layer (type)                Output Shape              Param #   \n",
            "=================================================================\n",
            " embedding (Embedding)       (None, 100, 50)           7776850   \n",
            "                                                                 \n",
            " dropout (Dropout)           (None, 100, 50)           0         \n",
            "                                                                 \n",
            " global_average_pooling1d (G  (None, 50)               0         \n",
            " lobalAveragePooling1D)                                          \n",
            "                                                                 \n",
            " dropout_1 (Dropout)         (None, 50)                0         \n",
            "                                                                 \n",
            " dense (Dense)               (None, 32)                1632      \n",
            "                                                                 \n",
            " dense_1 (Dense)             (None, 5)                 165       \n",
            "                                                                 \n",
            "=================================================================\n",
            "Total params: 7,778,647\n",
            "Trainable params: 1,797\n",
            "Non-trainable params: 7,776,850\n",
            "_________________________________________________________________\n"
          ]
        }
      ]
    },
    {
      "cell_type": "code",
      "metadata": {
        "colab": {
          "base_uri": "https://localhost:8080/"
        },
        "collapsed": true,
        "id": "EiIqcDte6M2W",
        "outputId": "2129db74-f451-4aa7-c871-372969dcb2f0"
      },
      "source": [
        "batch_size = 64\n",
        "epochs = 100\n",
        "\n",
        "history = model.fit(X_train, y_train, \n",
        "                    batch_size=batch_size, epochs=epochs, \n",
        "                    class_weight=d_class_weights, shuffle=True,\n",
        "                    verbose=1, validation_split=0.1)"
      ],
      "execution_count": null,
      "outputs": [
        {
          "name": "stdout",
          "output_type": "stream",
          "text": [
            "Epoch 1/100\n",
            "3937/3937 [==============================] - 20s 4ms/step - loss: 1.5319 - accuracy: 0.4144 - val_loss: 1.4586 - val_accuracy: 0.4205\n",
            "Epoch 2/100\n",
            "3937/3937 [==============================] - 17s 4ms/step - loss: 1.5045 - accuracy: 0.4100 - val_loss: 1.4243 - val_accuracy: 0.4303\n",
            "Epoch 3/100\n",
            "3937/3937 [==============================] - 17s 4ms/step - loss: 1.4971 - accuracy: 0.4019 - val_loss: 1.4048 - val_accuracy: 0.4343\n",
            "Epoch 4/100\n",
            "3937/3937 [==============================] - 17s 4ms/step - loss: 1.4931 - accuracy: 0.4005 - val_loss: 1.3961 - val_accuracy: 0.4442\n",
            "Epoch 5/100\n",
            "3937/3937 [==============================] - 18s 4ms/step - loss: 1.4914 - accuracy: 0.4007 - val_loss: 1.3702 - val_accuracy: 0.4652\n",
            "Epoch 6/100\n",
            "3937/3937 [==============================] - 17s 4ms/step - loss: 1.4894 - accuracy: 0.4001 - val_loss: 1.3677 - val_accuracy: 0.4541\n",
            "Epoch 7/100\n",
            "3937/3937 [==============================] - 17s 4ms/step - loss: 1.4870 - accuracy: 0.3994 - val_loss: 1.3266 - val_accuracy: 0.4806\n",
            "Epoch 8/100\n",
            "3937/3937 [==============================] - 17s 4ms/step - loss: 1.4865 - accuracy: 0.3997 - val_loss: 1.3709 - val_accuracy: 0.4520\n",
            "Epoch 9/100\n",
            "3937/3937 [==============================] - 18s 5ms/step - loss: 1.4848 - accuracy: 0.3980 - val_loss: 1.3754 - val_accuracy: 0.4547\n",
            "Epoch 10/100\n",
            "3937/3937 [==============================] - 17s 4ms/step - loss: 1.4843 - accuracy: 0.3983 - val_loss: 1.3400 - val_accuracy: 0.4692\n",
            "Epoch 11/100\n",
            "3937/3937 [==============================] - 17s 4ms/step - loss: 1.4838 - accuracy: 0.3976 - val_loss: 1.3524 - val_accuracy: 0.4655\n",
            "Epoch 12/100\n",
            "3937/3937 [==============================] - 18s 4ms/step - loss: 1.4837 - accuracy: 0.3981 - val_loss: 1.3327 - val_accuracy: 0.4859\n",
            "Epoch 13/100\n",
            "3937/3937 [==============================] - 17s 4ms/step - loss: 1.4822 - accuracy: 0.4001 - val_loss: 1.3501 - val_accuracy: 0.4603\n",
            "Epoch 14/100\n",
            "3937/3937 [==============================] - 18s 4ms/step - loss: 1.4816 - accuracy: 0.3978 - val_loss: 1.3750 - val_accuracy: 0.4434\n",
            "Epoch 15/100\n",
            "3937/3937 [==============================] - 18s 4ms/step - loss: 1.4801 - accuracy: 0.3994 - val_loss: 1.3565 - val_accuracy: 0.4508\n",
            "Epoch 16/100\n",
            "3937/3937 [==============================] - 17s 4ms/step - loss: 1.4800 - accuracy: 0.4003 - val_loss: 1.3556 - val_accuracy: 0.4578\n",
            "Epoch 17/100\n",
            "3937/3937 [==============================] - 17s 4ms/step - loss: 1.4797 - accuracy: 0.3992 - val_loss: 1.3673 - val_accuracy: 0.4391\n",
            "Epoch 18/100\n",
            "3937/3937 [==============================] - 17s 4ms/step - loss: 1.4791 - accuracy: 0.3987 - val_loss: 1.3562 - val_accuracy: 0.4549\n",
            "Epoch 19/100\n",
            "3937/3937 [==============================] - 17s 4ms/step - loss: 1.4785 - accuracy: 0.4009 - val_loss: 1.3561 - val_accuracy: 0.4546\n",
            "Epoch 20/100\n",
            "3937/3937 [==============================] - 18s 4ms/step - loss: 1.4793 - accuracy: 0.3995 - val_loss: 1.3188 - val_accuracy: 0.4806\n",
            "Epoch 21/100\n",
            "3937/3937 [==============================] - 17s 4ms/step - loss: 1.4779 - accuracy: 0.4009 - val_loss: 1.3537 - val_accuracy: 0.4573\n",
            "Epoch 22/100\n",
            "3937/3937 [==============================] - 17s 4ms/step - loss: 1.4784 - accuracy: 0.4005 - val_loss: 1.3562 - val_accuracy: 0.4558\n",
            "Epoch 23/100\n",
            "3937/3937 [==============================] - 17s 4ms/step - loss: 1.4769 - accuracy: 0.4000 - val_loss: 1.3322 - val_accuracy: 0.4720\n",
            "Epoch 24/100\n",
            "3937/3937 [==============================] - 17s 4ms/step - loss: 1.4759 - accuracy: 0.4019 - val_loss: 1.3232 - val_accuracy: 0.4844\n",
            "Epoch 25/100\n",
            "3937/3937 [==============================] - 17s 4ms/step - loss: 1.4776 - accuracy: 0.4013 - val_loss: 1.3534 - val_accuracy: 0.4633\n",
            "Epoch 26/100\n",
            "3937/3937 [==============================] - 18s 4ms/step - loss: 1.4779 - accuracy: 0.4007 - val_loss: 1.3622 - val_accuracy: 0.4623\n",
            "Epoch 27/100\n",
            "3937/3937 [==============================] - 18s 5ms/step - loss: 1.4776 - accuracy: 0.4011 - val_loss: 1.3717 - val_accuracy: 0.4496\n",
            "Epoch 28/100\n",
            "3937/3937 [==============================] - 17s 4ms/step - loss: 1.4757 - accuracy: 0.3998 - val_loss: 1.3297 - val_accuracy: 0.4704\n",
            "Epoch 29/100\n",
            "3937/3937 [==============================] - 18s 4ms/step - loss: 1.4761 - accuracy: 0.4021 - val_loss: 1.3496 - val_accuracy: 0.4524\n",
            "Epoch 30/100\n",
            "3937/3937 [==============================] - 17s 4ms/step - loss: 1.4770 - accuracy: 0.3997 - val_loss: 1.3350 - val_accuracy: 0.4738\n",
            "Epoch 31/100\n",
            "3937/3937 [==============================] - 17s 4ms/step - loss: 1.4750 - accuracy: 0.4014 - val_loss: 1.3297 - val_accuracy: 0.4719\n",
            "Epoch 32/100\n",
            "3937/3937 [==============================] - 17s 4ms/step - loss: 1.4750 - accuracy: 0.4029 - val_loss: 1.3177 - val_accuracy: 0.4818\n",
            "Epoch 33/100\n",
            "3937/3937 [==============================] - 17s 4ms/step - loss: 1.4759 - accuracy: 0.4019 - val_loss: 1.3485 - val_accuracy: 0.4695\n",
            "Epoch 34/100\n",
            "3937/3937 [==============================] - 18s 4ms/step - loss: 1.4739 - accuracy: 0.4022 - val_loss: 1.3349 - val_accuracy: 0.4645\n",
            "Epoch 35/100\n",
            "3937/3937 [==============================] - 18s 4ms/step - loss: 1.4740 - accuracy: 0.4007 - val_loss: 1.3390 - val_accuracy: 0.4619\n",
            "Epoch 36/100\n",
            "3937/3937 [==============================] - 17s 4ms/step - loss: 1.4749 - accuracy: 0.4010 - val_loss: 1.3269 - val_accuracy: 0.4759\n",
            "Epoch 37/100\n",
            "3937/3937 [==============================] - 17s 4ms/step - loss: 1.4745 - accuracy: 0.4040 - val_loss: 1.3234 - val_accuracy: 0.4767\n",
            "Epoch 38/100\n",
            "3937/3937 [==============================] - 17s 4ms/step - loss: 1.4739 - accuracy: 0.4021 - val_loss: 1.3490 - val_accuracy: 0.4670\n",
            "Epoch 39/100\n",
            "3937/3937 [==============================] - 17s 4ms/step - loss: 1.4747 - accuracy: 0.4038 - val_loss: 1.3482 - val_accuracy: 0.4610\n",
            "Epoch 40/100\n",
            "3937/3937 [==============================] - 17s 4ms/step - loss: 1.4742 - accuracy: 0.4018 - val_loss: 1.3238 - val_accuracy: 0.4836\n",
            "Epoch 41/100\n",
            "3937/3937 [==============================] - 18s 4ms/step - loss: 1.4732 - accuracy: 0.4029 - val_loss: 1.3344 - val_accuracy: 0.4750\n",
            "Epoch 42/100\n",
            "3937/3937 [==============================] - 17s 4ms/step - loss: 1.4734 - accuracy: 0.4016 - val_loss: 1.3204 - val_accuracy: 0.4833\n",
            "Epoch 43/100\n",
            "3937/3937 [==============================] - 18s 4ms/step - loss: 1.4737 - accuracy: 0.4028 - val_loss: 1.3469 - val_accuracy: 0.4645\n",
            "Epoch 44/100\n",
            "3937/3937 [==============================] - 18s 5ms/step - loss: 1.4736 - accuracy: 0.4042 - val_loss: 1.3058 - val_accuracy: 0.4820\n",
            "Epoch 45/100\n",
            "3937/3937 [==============================] - 18s 5ms/step - loss: 1.4743 - accuracy: 0.4017 - val_loss: 1.3107 - val_accuracy: 0.4936\n",
            "Epoch 46/100\n",
            "3937/3937 [==============================] - 17s 4ms/step - loss: 1.4727 - accuracy: 0.4029 - val_loss: 1.3316 - val_accuracy: 0.4699\n",
            "Epoch 47/100\n",
            "3937/3937 [==============================] - 17s 4ms/step - loss: 1.4743 - accuracy: 0.4006 - val_loss: 1.3300 - val_accuracy: 0.4776\n",
            "Epoch 48/100\n",
            "3937/3937 [==============================] - 18s 4ms/step - loss: 1.4726 - accuracy: 0.4018 - val_loss: 1.3390 - val_accuracy: 0.4666\n",
            "Epoch 49/100\n",
            "3937/3937 [==============================] - 18s 4ms/step - loss: 1.4733 - accuracy: 0.4016 - val_loss: 1.3227 - val_accuracy: 0.4794\n",
            "Epoch 50/100\n",
            "3937/3937 [==============================] - 18s 4ms/step - loss: 1.4735 - accuracy: 0.4035 - val_loss: 1.2986 - val_accuracy: 0.5024\n",
            "Epoch 51/100\n",
            "3937/3937 [==============================] - 18s 5ms/step - loss: 1.4734 - accuracy: 0.4036 - val_loss: 1.3177 - val_accuracy: 0.4839\n",
            "Epoch 52/100\n",
            "3937/3937 [==============================] - 18s 4ms/step - loss: 1.4726 - accuracy: 0.4037 - val_loss: 1.3305 - val_accuracy: 0.4720\n",
            "Epoch 53/100\n",
            "3937/3937 [==============================] - 18s 5ms/step - loss: 1.4699 - accuracy: 0.4032 - val_loss: 1.3121 - val_accuracy: 0.4880\n",
            "Epoch 54/100\n",
            "3937/3937 [==============================] - 17s 4ms/step - loss: 1.4733 - accuracy: 0.4010 - val_loss: 1.3550 - val_accuracy: 0.4591\n",
            "Epoch 55/100\n",
            "3937/3937 [==============================] - 18s 5ms/step - loss: 1.4718 - accuracy: 0.4047 - val_loss: 1.3393 - val_accuracy: 0.4655\n",
            "Epoch 56/100\n",
            "3937/3937 [==============================] - 18s 5ms/step - loss: 1.4730 - accuracy: 0.4021 - val_loss: 1.3582 - val_accuracy: 0.4581\n",
            "Epoch 57/100\n",
            "3937/3937 [==============================] - 18s 4ms/step - loss: 1.4729 - accuracy: 0.4040 - val_loss: 1.3015 - val_accuracy: 0.4915\n",
            "Epoch 58/100\n",
            "3937/3937 [==============================] - 17s 4ms/step - loss: 1.4729 - accuracy: 0.4042 - val_loss: 1.3274 - val_accuracy: 0.4831\n",
            "Epoch 59/100\n",
            "3937/3937 [==============================] - 18s 4ms/step - loss: 1.4725 - accuracy: 0.4041 - val_loss: 1.3388 - val_accuracy: 0.4688\n",
            "Epoch 60/100\n",
            "3937/3937 [==============================] - 17s 4ms/step - loss: 1.4716 - accuracy: 0.4031 - val_loss: 1.3452 - val_accuracy: 0.4659\n",
            "Epoch 61/100\n",
            "3937/3937 [==============================] - 18s 4ms/step - loss: 1.4730 - accuracy: 0.4032 - val_loss: 1.3680 - val_accuracy: 0.4475\n",
            "Epoch 62/100\n",
            "3937/3937 [==============================] - 18s 5ms/step - loss: 1.4718 - accuracy: 0.4046 - val_loss: 1.3283 - val_accuracy: 0.4749\n",
            "Epoch 63/100\n",
            "3937/3937 [==============================] - 18s 5ms/step - loss: 1.4712 - accuracy: 0.4030 - val_loss: 1.3349 - val_accuracy: 0.4793\n",
            "Epoch 64/100\n",
            "3937/3937 [==============================] - 18s 4ms/step - loss: 1.4715 - accuracy: 0.4033 - val_loss: 1.2920 - val_accuracy: 0.5007\n",
            "Epoch 65/100\n",
            "3937/3937 [==============================] - 18s 4ms/step - loss: 1.4710 - accuracy: 0.4045 - val_loss: 1.3457 - val_accuracy: 0.4723\n",
            "Epoch 66/100\n",
            "3937/3937 [==============================] - 18s 5ms/step - loss: 1.4720 - accuracy: 0.4051 - val_loss: 1.3337 - val_accuracy: 0.4707\n",
            "Epoch 67/100\n",
            "3937/3937 [==============================] - 18s 4ms/step - loss: 1.4714 - accuracy: 0.4049 - val_loss: 1.3326 - val_accuracy: 0.4743\n",
            "Epoch 68/100\n",
            "3937/3937 [==============================] - 17s 4ms/step - loss: 1.4714 - accuracy: 0.4038 - val_loss: 1.3364 - val_accuracy: 0.4728\n",
            "Epoch 69/100\n",
            "3937/3937 [==============================] - 17s 4ms/step - loss: 1.4725 - accuracy: 0.4040 - val_loss: 1.3702 - val_accuracy: 0.4522\n",
            "Epoch 70/100\n",
            "3937/3937 [==============================] - 18s 4ms/step - loss: 1.4725 - accuracy: 0.4041 - val_loss: 1.3040 - val_accuracy: 0.4949\n",
            "Epoch 71/100\n",
            "3937/3937 [==============================] - 17s 4ms/step - loss: 1.4720 - accuracy: 0.4028 - val_loss: 1.3283 - val_accuracy: 0.4854\n",
            "Epoch 72/100\n",
            "3937/3937 [==============================] - 18s 4ms/step - loss: 1.4710 - accuracy: 0.4042 - val_loss: 1.3014 - val_accuracy: 0.4882\n",
            "Epoch 73/100\n",
            "3937/3937 [==============================] - 18s 4ms/step - loss: 1.4724 - accuracy: 0.4042 - val_loss: 1.3223 - val_accuracy: 0.4877\n",
            "Epoch 74/100\n",
            "3937/3937 [==============================] - 18s 4ms/step - loss: 1.4710 - accuracy: 0.4047 - val_loss: 1.3213 - val_accuracy: 0.4786\n",
            "Epoch 75/100\n",
            "3937/3937 [==============================] - 18s 5ms/step - loss: 1.4708 - accuracy: 0.4053 - val_loss: 1.3473 - val_accuracy: 0.4607\n",
            "Epoch 76/100\n",
            "3937/3937 [==============================] - 18s 4ms/step - loss: 1.4711 - accuracy: 0.4039 - val_loss: 1.3005 - val_accuracy: 0.4938\n",
            "Epoch 77/100\n",
            "3937/3937 [==============================] - 18s 4ms/step - loss: 1.4725 - accuracy: 0.4036 - val_loss: 1.3053 - val_accuracy: 0.4940\n",
            "Epoch 78/100\n",
            "3937/3937 [==============================] - 17s 4ms/step - loss: 1.4711 - accuracy: 0.4043 - val_loss: 1.3125 - val_accuracy: 0.4890\n",
            "Epoch 79/100\n",
            "3937/3937 [==============================] - 18s 4ms/step - loss: 1.4723 - accuracy: 0.4047 - val_loss: 1.3315 - val_accuracy: 0.4828\n",
            "Epoch 80/100\n",
            "3937/3937 [==============================] - 18s 5ms/step - loss: 1.4701 - accuracy: 0.4054 - val_loss: 1.3073 - val_accuracy: 0.4897\n",
            "Epoch 81/100\n",
            "3937/3937 [==============================] - 18s 4ms/step - loss: 1.4718 - accuracy: 0.4043 - val_loss: 1.3259 - val_accuracy: 0.4827\n",
            "Epoch 82/100\n",
            "3937/3937 [==============================] - 18s 4ms/step - loss: 1.4719 - accuracy: 0.4049 - val_loss: 1.3396 - val_accuracy: 0.4688\n",
            "Epoch 83/100\n",
            "3937/3937 [==============================] - 18s 5ms/step - loss: 1.4715 - accuracy: 0.4045 - val_loss: 1.3574 - val_accuracy: 0.4659\n",
            "Epoch 84/100\n",
            "3937/3937 [==============================] - 17s 4ms/step - loss: 1.4709 - accuracy: 0.4059 - val_loss: 1.3374 - val_accuracy: 0.4667\n",
            "Epoch 85/100\n",
            "3937/3937 [==============================] - 18s 4ms/step - loss: 1.4707 - accuracy: 0.4042 - val_loss: 1.2793 - val_accuracy: 0.5041\n",
            "Epoch 86/100\n",
            "3937/3937 [==============================] - 18s 4ms/step - loss: 1.4701 - accuracy: 0.4051 - val_loss: 1.3344 - val_accuracy: 0.4792\n",
            "Epoch 87/100\n",
            "3937/3937 [==============================] - 18s 4ms/step - loss: 1.4702 - accuracy: 0.4056 - val_loss: 1.2908 - val_accuracy: 0.5061\n",
            "Epoch 88/100\n",
            "3937/3937 [==============================] - 18s 4ms/step - loss: 1.4710 - accuracy: 0.4040 - val_loss: 1.3360 - val_accuracy: 0.4711\n",
            "Epoch 89/100\n",
            "3937/3937 [==============================] - 18s 4ms/step - loss: 1.4700 - accuracy: 0.4046 - val_loss: 1.3207 - val_accuracy: 0.4722\n",
            "Epoch 90/100\n",
            "3937/3937 [==============================] - 18s 4ms/step - loss: 1.4706 - accuracy: 0.4047 - val_loss: 1.3171 - val_accuracy: 0.4883\n",
            "Epoch 91/100\n",
            "3937/3937 [==============================] - 18s 5ms/step - loss: 1.4712 - accuracy: 0.4043 - val_loss: 1.3545 - val_accuracy: 0.4553\n",
            "Epoch 92/100\n",
            "3937/3937 [==============================] - 18s 4ms/step - loss: 1.4708 - accuracy: 0.4052 - val_loss: 1.3268 - val_accuracy: 0.4773\n",
            "Epoch 93/100\n",
            "3937/3937 [==============================] - 18s 5ms/step - loss: 1.4719 - accuracy: 0.4063 - val_loss: 1.3117 - val_accuracy: 0.4938\n",
            "Epoch 94/100\n",
            "3937/3937 [==============================] - 18s 5ms/step - loss: 1.4713 - accuracy: 0.4062 - val_loss: 1.3466 - val_accuracy: 0.4657\n",
            "Epoch 95/100\n",
            "3937/3937 [==============================] - 18s 4ms/step - loss: 1.4713 - accuracy: 0.4065 - val_loss: 1.3038 - val_accuracy: 0.4919\n",
            "Epoch 96/100\n",
            "3937/3937 [==============================] - 17s 4ms/step - loss: 1.4723 - accuracy: 0.4042 - val_loss: 1.3526 - val_accuracy: 0.4656\n",
            "Epoch 97/100\n",
            "3937/3937 [==============================] - 18s 5ms/step - loss: 1.4712 - accuracy: 0.4065 - val_loss: 1.3111 - val_accuracy: 0.4854\n",
            "Epoch 98/100\n",
            "3937/3937 [==============================] - 18s 4ms/step - loss: 1.4706 - accuracy: 0.4059 - val_loss: 1.3476 - val_accuracy: 0.4656\n",
            "Epoch 99/100\n",
            "3937/3937 [==============================] - 18s 4ms/step - loss: 1.4692 - accuracy: 0.4063 - val_loss: 1.3524 - val_accuracy: 0.4567\n",
            "Epoch 100/100\n",
            "3937/3937 [==============================] - 17s 4ms/step - loss: 1.4703 - accuracy: 0.4053 - val_loss: 1.3190 - val_accuracy: 0.4857\n"
          ]
        }
      ]
    },
    {
      "cell_type": "code",
      "metadata": {
        "id": "_cMnibA7Jdau"
      },
      "source": [
        "import matplotlib.pyplot as plt\n",
        "plt.style.use('ggplot')\n",
        "\n",
        "def plot_history(history):\n",
        "    acc = history.history['accuracy']\n",
        "    val_acc = history.history['val_accuracy']\n",
        "    loss = history.history['loss']\n",
        "    val_loss = history.history['val_loss']\n",
        "    x = range(1, len(acc) + 1)\n",
        "\n",
        "    plt.figure(figsize=(12, 5))\n",
        "    plt.subplot(1, 2, 1)\n",
        "    plt.plot(x, acc, 'b', label='Training acc')\n",
        "    plt.plot(x, val_acc, 'r', label='Validation acc')\n",
        "    plt.title('Training and validation accuracy')\n",
        "    plt.legend()\n",
        "    plt.subplot(1, 2, 2)\n",
        "    plt.plot(x, loss, 'b', label='Training loss')\n",
        "    plt.plot(x, val_loss, 'r', label='Validation loss')\n",
        "    plt.title('Training and validation loss')\n",
        "    plt.legend()"
      ],
      "execution_count": null,
      "outputs": []
    },
    {
      "cell_type": "code",
      "metadata": {
        "colab": {
          "base_uri": "https://localhost:8080/",
          "height": 337
        },
        "id": "hs1xt9Fi6ewj",
        "outputId": "21a3c179-9c4e-4774-e4ee-93178ef341bc"
      },
      "source": [
        "plot_history(history)"
      ],
      "execution_count": null,
      "outputs": [
        {
          "data": {
            "image/png": "[encoded data removed]",
            "text/plain": [
              "<Figure size 864x360 with 2 Axes>"
            ]
          },
          "metadata": {},
          "output_type": "display_data"
        }
      ]
    },
    {
      "cell_type": "code",
      "metadata": {
        "colab": {
          "base_uri": "https://localhost:8080/"
        },
        "id": "a1yM7j_d9Lve",
        "outputId": "9f1b8b97-456a-4591-901b-195522569512"
      },
      "source": [
        "loss, accuracy = model.evaluate(X_train, y_train, verbose=False)\n",
        "print(\"Training Accuracy: {:.4f}\".format(accuracy))\n",
        "loss, accuracy = model.evaluate(X_test, y_test, verbose=False)\n",
        "print(\"Testing Accuracy:  {:.4f}\".format(accuracy))"
      ],
      "execution_count": null,
      "outputs": [
        {
          "name": "stdout",
          "output_type": "stream",
          "text": [
            "Training Accuracy: 0.4857\n",
            "Testing Accuracy:  0.4831\n"
          ]
        }
      ]
    },
    {
      "cell_type": "code",
      "metadata": {
        "colab": {
          "base_uri": "https://localhost:8080/"
        },
        "id": "MaRZFqYY6fIE",
        "outputId": "c869b99b-0666-4e5f-b1c8-0f441bbcde5e"
      },
      "source": [
        "import string\n",
        "\n",
        "# # map punctuation to space\n",
        "# translator = str.maketrans(string.punctuation, ' '*len(string.punctuation)) \n",
        "\n",
        "# def text_preprocessing(text):\n",
        "#     \"\"\"\n",
        "#     Preprocess the text for better understanding\n",
        "    \n",
        "#     \"\"\"\n",
        "#     text = text.strip()\n",
        "#     text = text.lower()\n",
        "#     text = text.translate(translator)\n",
        "#     return text\n",
        "\n",
        "def predict(text, model, tokenizer):\n",
        "    orig_text = text\n",
        "    text = text_preprocessing(text)\n",
        "    text = [text]\n",
        "    X = tokenizer.texts_to_sequences(text)\n",
        "    X = pad_sequences(X, padding='post', maxlen=maxlen)\n",
        "    # print(np.sum(model.predict(X)[0]))\n",
        "    probs = model.predict(X)[0]\n",
        "    # assert np.sum(probs) == 1.0\n",
        "    prediction = np.argmax(probs)\n",
        "    print('input text: ', orig_text)\n",
        "    print('predicted class: ', prediction + 1, 'confidence:', np.max(probs))\n",
        "\n",
        "\n",
        "predict('I liked the product quite a lot.', model, tokenizer)\n",
        "predict('playing this was the worst time in my life.', model, tokenizer)"
      ],
      "execution_count": null,
      "outputs": [
        {
          "name": "stdout",
          "output_type": "stream",
          "text": [
            "input text:  I liked the product quite a lot.\n",
            "predicted class:  5 confidence: 0.32568368\n",
            "input text:  playing this was the worst time in my life.\n",
            "predicted class:  5 confidence: 0.382311\n"
          ]
        }
      ]
    },
    {
      "cell_type": "code",
      "metadata": {
        "colab": {
          "base_uri": "https://localhost:8080/"
        },
        "id": "Q4cjniPK6iKj",
        "outputId": "6f1853db-5e92-4849-fbd2-b735bd63a4bc"
      },
      "source": [
        "from sklearn.metrics import accuracy_score, matthews_corrcoef\n",
        "from imblearn.metrics import classification_report_imbalanced\n",
        "\n",
        "y_pred = model.predict(X_test)\n",
        "\n",
        "print('accuracy:', accuracy_score(np.argmax(y_test, axis=1), np.argmax(y_pred, axis=1)))\n",
        "print('matthews_corrcoef:', matthews_corrcoef(np.argmax(y_test, axis=1), np.argmax(y_pred, axis=1)))\n",
        "print('classification_report:\\n', classification_report_imbalanced(np.argmax(y_test, axis=1), np.argmax(y_pred, axis=1)))"
      ],
      "execution_count": null,
      "outputs": [
        {
          "name": "stderr",
          "output_type": "stream",
          "text": [
            "/usr/local/lib/python3.7/dist-packages/sklearn/utils/deprecation.py:144: FutureWarning: The sklearn.metrics.classification module is  deprecated in version 0.22 and will be removed in version 0.24. The corresponding classes / functions should instead be imported from sklearn.metrics. Anything that cannot be imported from sklearn.metrics is now part of the private API.\n",
            "  warnings.warn(message, FutureWarning)\n"
          ]
        },
        {
          "name": "stdout",
          "output_type": "stream",
          "text": [
            "accuracy: 0.48311244477786114\n",
            "matthews_corrcoef: 0.2248240429789915\n",
            "classification_report:\n",
            "                    pre       rec       spe        f1       geo       iba       sup\n",
            "\n",
            "          0       0.24      0.53      0.87      0.33      0.68      0.45      8380\n",
            "          1       0.13      0.24      0.91      0.17      0.47      0.20      6711\n",
            "          2       0.23      0.14      0.94      0.17      0.36      0.12     13254\n",
            "          3       0.32      0.29      0.84      0.30      0.49      0.23     24551\n",
            "          4       0.73      0.64      0.70      0.68      0.67      0.45     67074\n",
            "\n",
            "avg / total       0.52      0.48      0.78      0.50      0.59      0.35    119970\n",
            "\n"
          ]
        }
      ]
    },
    {
      "cell_type": "markdown",
      "metadata": {
        "id": "PbOrLwCa4E_I"
      },
      "source": [
        "### Plot of model metrics"
      ]
    },
    {
      "cell_type": "code",
      "metadata": {
        "colab": {
          "base_uri": "https://localhost:8080/",
          "height": 502
        },
        "id": "6nibx_jG4Eg2",
        "outputId": "ce8bcd2a-4329-46ff-af54-1d1bf9586959"
      },
      "source": [
        "import matplotlib.pyplot as plt\n",
        "%matplotlib inline\n",
        "import seaborn as sns\n",
        "sns.set(rc={'figure.figsize':(11.7,8.27)})\n",
        "\n",
        "# data\n",
        "x = [\"CV+NB\",             \"FF\"]\n",
        "y = [0.33504969057289086, 0.2248240429789915]\n",
        "\n",
        "ax = sns.barplot(x=x, y=y)"
      ],
      "execution_count": null,
      "outputs": [
        {
          "output_type": "display_data",
          "data": {
            "image/png": "[encoded data removed]",
            "text/plain": [
              "<Figure size 842.4x595.44 with 1 Axes>"
            ]
          },
          "metadata": {}
        }
      ]
    },
    {
      "cell_type": "markdown",
      "metadata": {
        "id": "ZmoiytdfbTuq"
      },
      "source": [
        "## Convolutional Neural Networks"
      ]
    },
    {
      "cell_type": "code",
      "metadata": {
        "colab": {
          "base_uri": "https://localhost:8080/"
        },
        "id": "9sM9xRsfbWaX",
        "outputId": "35692c12-e0ac-439c-da2a-d9b22164f943"
      },
      "source": [
        "import tensorflow as tf\n",
        "from tensorflow.keras import Sequential, layers\n",
        "from tensorflow.keras import layers\n",
        "\n",
        "tf.random.set_seed(42)\n",
        "\n",
        "\n",
        "model = Sequential()\n",
        "model.add(layers.Embedding(vocab_size, embedding_dim, input_length=maxlen, weights=[embedding_matrix], trainable=False))\n",
        "model.add(layers.Conv1D(128, 3, activation='relu'))\n",
        "# TODO try by using batch normalisation as well\n",
        "model.add(layers.GlobalMaxPooling1D())\n",
        "model.add(layers.Dense(32, activation='relu'))\n",
        "model.add(layers.Dense(5, activation='softmax'))\n",
        "\n",
        "model.compile(optimizer='adam',\n",
        "              loss='categorical_crossentropy',\n",
        "              metrics=['accuracy'])\n",
        "print(model.summary())"
      ],
      "execution_count": null,
      "outputs": [
        {
          "name": "stdout",
          "output_type": "stream",
          "text": [
            "Model: \"sequential_2\"\n",
            "_________________________________________________________________\n",
            " Layer (type)                Output Shape              Param #   \n",
            "=================================================================\n",
            " embedding_2 (Embedding)     (None, 100, 50)           7776850   \n",
            "                                                                 \n",
            " conv1d_1 (Conv1D)           (None, 98, 128)           19328     \n",
            "                                                                 \n",
            " global_max_pooling1d_1 (Glo  (None, 128)              0         \n",
            " balMaxPooling1D)                                                \n",
            "                                                                 \n",
            " dense_4 (Dense)             (None, 32)                4128      \n",
            "                                                                 \n",
            " dense_5 (Dense)             (None, 5)                 165       \n",
            "                                                                 \n",
            "=================================================================\n",
            "Total params: 7,800,471\n",
            "Trainable params: 23,621\n",
            "Non-trainable params: 7,776,850\n",
            "_________________________________________________________________\n",
            "None\n"
          ]
        }
      ]
    },
    {
      "cell_type": "markdown",
      "metadata": {
        "id": "JMxw7YOpTuU7"
      },
      "source": [
        "### training the base CNN model"
      ]
    },
    {
      "cell_type": "code",
      "metadata": {
        "colab": {
          "background_save": true,
          "base_uri": "https://localhost:8080/"
        },
        "collapsed": true,
        "id": "LzUwH7p3denC",
        "outputId": "618df461-b376-4202-ac91-da32cc186026"
      },
      "source": [
        "batch_size = 64\n",
        "epochs = 100\n",
        "\n",
        "history = model.fit(X_train, y_train, \n",
        "                    batch_size=batch_size, epochs=epochs, \n",
        "                    class_weight=d_class_weights, shuffle=True,\n",
        "                    verbose=1, validation_split=0.1)"
      ],
      "execution_count": null,
      "outputs": [
        {
          "name": "stdout",
          "output_type": "stream",
          "text": [
            "Epoch 1/100\n",
            "3937/3937 [==============================] - 56s 7ms/step - loss: 1.3169 - accuracy: 0.4855 - val_loss: 1.2510 - val_accuracy: 0.4790\n",
            "Epoch 2/100\n",
            "3937/3937 [==============================] - 27s 7ms/step - loss: 1.2237 - accuracy: 0.5320 - val_loss: 1.0058 - val_accuracy: 0.5895\n",
            "Epoch 3/100\n",
            "3937/3937 [==============================] - 28s 7ms/step - loss: 1.1927 - accuracy: 0.5440 - val_loss: 1.2201 - val_accuracy: 0.4892\n",
            "Epoch 4/100\n",
            "3937/3937 [==============================] - 28s 7ms/step - loss: 1.1729 - accuracy: 0.5510 - val_loss: 1.0335 - val_accuracy: 0.5748\n",
            "Epoch 5/100\n",
            "3937/3937 [==============================] - 28s 7ms/step - loss: 1.1592 - accuracy: 0.5527 - val_loss: 1.0417 - val_accuracy: 0.5812\n",
            "Epoch 6/100\n",
            "3937/3937 [==============================] - 26s 7ms/step - loss: 1.1464 - accuracy: 0.5562 - val_loss: 1.0827 - val_accuracy: 0.5616\n",
            "Epoch 7/100\n",
            "3937/3937 [==============================] - 28s 7ms/step - loss: 1.1363 - accuracy: 0.5600 - val_loss: 1.0679 - val_accuracy: 0.5519\n",
            "Epoch 8/100\n",
            "3937/3937 [==============================] - 28s 7ms/step - loss: 1.1273 - accuracy: 0.5606 - val_loss: 1.1252 - val_accuracy: 0.5249\n",
            "Epoch 9/100\n",
            "3937/3937 [==============================] - 27s 7ms/step - loss: 1.1201 - accuracy: 0.5636 - val_loss: 1.0585 - val_accuracy: 0.5476\n",
            "Epoch 10/100\n",
            "3937/3937 [==============================] - 28s 7ms/step - loss: 1.1139 - accuracy: 0.5637 - val_loss: 1.1193 - val_accuracy: 0.5387\n",
            "Epoch 11/100\n",
            "3937/3937 [==============================] - 27s 7ms/step - loss: 1.1068 - accuracy: 0.5660 - val_loss: 1.0883 - val_accuracy: 0.5461\n",
            "Epoch 12/100\n",
            "3937/3937 [==============================] - 27s 7ms/step - loss: 1.1029 - accuracy: 0.5663 - val_loss: 1.0891 - val_accuracy: 0.5427\n",
            "Epoch 13/100\n",
            "3937/3937 [==============================] - 27s 7ms/step - loss: 1.0972 - accuracy: 0.5676 - val_loss: 1.0000 - val_accuracy: 0.5918\n",
            "Epoch 14/100\n",
            "3937/3937 [==============================] - 27s 7ms/step - loss: 1.0930 - accuracy: 0.5682 - val_loss: 1.1121 - val_accuracy: 0.5395\n",
            "Epoch 15/100\n",
            "3937/3937 [==============================] - 27s 7ms/step - loss: 1.0889 - accuracy: 0.5675 - val_loss: 1.0252 - val_accuracy: 0.5794\n",
            "Epoch 16/100\n",
            "3937/3937 [==============================] - 28s 7ms/step - loss: 1.0840 - accuracy: 0.5698 - val_loss: 1.2213 - val_accuracy: 0.4854\n",
            "Epoch 17/100\n",
            "3937/3937 [==============================] - 26s 7ms/step - loss: 1.0790 - accuracy: 0.5703 - val_loss: 1.0958 - val_accuracy: 0.5547\n",
            "Epoch 18/100\n",
            "3937/3937 [==============================] - 27s 7ms/step - loss: 1.0758 - accuracy: 0.5704 - val_loss: 1.2351 - val_accuracy: 0.4984\n",
            "Epoch 19/100\n",
            "3937/3937 [==============================] - 26s 7ms/step - loss: 1.0737 - accuracy: 0.5706 - val_loss: 1.1582 - val_accuracy: 0.5328\n",
            "Epoch 20/100\n",
            "3937/3937 [==============================] - 27s 7ms/step - loss: 1.0703 - accuracy: 0.5709 - val_loss: 1.0355 - val_accuracy: 0.5664\n",
            "Epoch 21/100\n",
            "3937/3937 [==============================] - 27s 7ms/step - loss: 1.0674 - accuracy: 0.5728 - val_loss: 1.1528 - val_accuracy: 0.5239\n",
            "Epoch 22/100\n",
            "3937/3937 [==============================] - 26s 7ms/step - loss: 1.0648 - accuracy: 0.5723 - val_loss: 1.0323 - val_accuracy: 0.5793\n",
            "Epoch 23/100\n",
            "3937/3937 [==============================] - 26s 7ms/step - loss: 1.0610 - accuracy: 0.5730 - val_loss: 1.0574 - val_accuracy: 0.5613\n",
            "Epoch 24/100\n",
            "3937/3937 [==============================] - 28s 7ms/step - loss: 1.0591 - accuracy: 0.5727 - val_loss: 1.1644 - val_accuracy: 0.5003\n",
            "Epoch 25/100\n",
            "3937/3937 [==============================] - 27s 7ms/step - loss: 1.0572 - accuracy: 0.5727 - val_loss: 1.0738 - val_accuracy: 0.5642\n",
            "Epoch 26/100\n",
            "3937/3937 [==============================] - 28s 7ms/step - loss: 1.0551 - accuracy: 0.5730 - val_loss: 1.0412 - val_accuracy: 0.5695\n",
            "Epoch 27/100\n",
            "3937/3937 [==============================] - 28s 7ms/step - loss: 1.0516 - accuracy: 0.5738 - val_loss: 1.1344 - val_accuracy: 0.5282\n",
            "Epoch 28/100\n",
            "3937/3937 [==============================] - 28s 7ms/step - loss: 1.0493 - accuracy: 0.5748 - val_loss: 1.1177 - val_accuracy: 0.5381\n",
            "Epoch 29/100\n",
            "3937/3937 [==============================] - 28s 7ms/step - loss: 1.0476 - accuracy: 0.5756 - val_loss: 1.1139 - val_accuracy: 0.5441\n",
            "Epoch 30/100\n",
            "3937/3937 [==============================] - 27s 7ms/step - loss: 1.0457 - accuracy: 0.5752 - val_loss: 1.1329 - val_accuracy: 0.5437\n",
            "Epoch 31/100\n",
            "3937/3937 [==============================] - 28s 7ms/step - loss: 1.0446 - accuracy: 0.5753 - val_loss: 1.0792 - val_accuracy: 0.5621\n",
            "Epoch 32/100\n",
            "3937/3937 [==============================] - 28s 7ms/step - loss: 1.0429 - accuracy: 0.5748 - val_loss: 1.0493 - val_accuracy: 0.5624\n",
            "Epoch 33/100\n",
            "3937/3937 [==============================] - 28s 7ms/step - loss: 1.0405 - accuracy: 0.5768 - val_loss: 1.0559 - val_accuracy: 0.5689\n",
            "Epoch 34/100\n",
            "3937/3937 [==============================] - 28s 7ms/step - loss: 1.0390 - accuracy: 0.5751 - val_loss: 1.0952 - val_accuracy: 0.5472\n",
            "Epoch 35/100\n",
            "3937/3937 [==============================] - 27s 7ms/step - loss: 1.0380 - accuracy: 0.5761 - val_loss: 1.0647 - val_accuracy: 0.5643\n",
            "Epoch 36/100\n",
            "3937/3937 [==============================] - 27s 7ms/step - loss: 1.0340 - accuracy: 0.5779 - val_loss: 1.1566 - val_accuracy: 0.5338\n",
            "Epoch 37/100\n",
            "3937/3937 [==============================] - 27s 7ms/step - loss: 1.0336 - accuracy: 0.5776 - val_loss: 1.2036 - val_accuracy: 0.5034\n",
            "Epoch 38/100\n",
            "3937/3937 [==============================] - 27s 7ms/step - loss: 1.0304 - accuracy: 0.5777 - val_loss: 1.1135 - val_accuracy: 0.5523\n",
            "Epoch 39/100\n",
            "3937/3937 [==============================] - 27s 7ms/step - loss: 1.0302 - accuracy: 0.5784 - val_loss: 1.2124 - val_accuracy: 0.5069\n",
            "Epoch 40/100\n",
            "3937/3937 [==============================] - 28s 7ms/step - loss: 1.0281 - accuracy: 0.5782 - val_loss: 1.1240 - val_accuracy: 0.5497\n",
            "Epoch 41/100\n",
            "3937/3937 [==============================] - 28s 7ms/step - loss: 1.0269 - accuracy: 0.5790 - val_loss: 1.1052 - val_accuracy: 0.5457\n",
            "Epoch 42/100\n",
            "3937/3937 [==============================] - 27s 7ms/step - loss: 1.0258 - accuracy: 0.5787 - val_loss: 1.2010 - val_accuracy: 0.5134\n",
            "Epoch 43/100\n",
            "3937/3937 [==============================] - 28s 7ms/step - loss: 1.0242 - accuracy: 0.5789 - val_loss: 1.1111 - val_accuracy: 0.5327\n",
            "Epoch 44/100\n",
            "3937/3937 [==============================] - 27s 7ms/step - loss: 1.0229 - accuracy: 0.5795 - val_loss: 1.1914 - val_accuracy: 0.5186\n",
            "Epoch 45/100\n",
            "3937/3937 [==============================] - 28s 7ms/step - loss: 1.0204 - accuracy: 0.5790 - val_loss: 1.1632 - val_accuracy: 0.5281\n",
            "Epoch 46/100\n",
            "3937/3937 [==============================] - 28s 7ms/step - loss: 1.0213 - accuracy: 0.5790 - val_loss: 1.2027 - val_accuracy: 0.4834\n",
            "Epoch 47/100\n",
            "3937/3937 [==============================] - 27s 7ms/step - loss: 1.0182 - accuracy: 0.5800 - val_loss: 1.1453 - val_accuracy: 0.5272\n",
            "Epoch 48/100\n",
            "3937/3937 [==============================] - 27s 7ms/step - loss: 1.0179 - accuracy: 0.5798 - val_loss: 1.1280 - val_accuracy: 0.5362\n",
            "Epoch 49/100\n",
            "3937/3937 [==============================] - 28s 7ms/step - loss: 1.0169 - accuracy: 0.5798 - val_loss: 1.1645 - val_accuracy: 0.5155\n",
            "Epoch 50/100\n",
            "3937/3937 [==============================] - 28s 7ms/step - loss: 1.0150 - accuracy: 0.5805 - val_loss: 1.0911 - val_accuracy: 0.5568\n",
            "Epoch 51/100\n",
            "3937/3937 [==============================] - 27s 7ms/step - loss: 1.0137 - accuracy: 0.5802 - val_loss: 1.2443 - val_accuracy: 0.4990\n",
            "Epoch 52/100\n",
            "3937/3937 [==============================] - 28s 7ms/step - loss: 1.0127 - accuracy: 0.5811 - val_loss: 1.1342 - val_accuracy: 0.5453\n",
            "Epoch 53/100\n",
            "3937/3937 [==============================] - 27s 7ms/step - loss: 1.0114 - accuracy: 0.5802 - val_loss: 1.2012 - val_accuracy: 0.5065\n",
            "Epoch 54/100\n",
            "3937/3937 [==============================] - 28s 7ms/step - loss: 1.0108 - accuracy: 0.5812 - val_loss: 1.1411 - val_accuracy: 0.5521\n",
            "Epoch 55/100\n",
            "3937/3937 [==============================] - 28s 7ms/step - loss: 1.0094 - accuracy: 0.5807 - val_loss: 1.1683 - val_accuracy: 0.5317\n",
            "Epoch 56/100\n",
            "3937/3937 [==============================] - 27s 7ms/step - loss: 1.0094 - accuracy: 0.5805 - val_loss: 1.0555 - val_accuracy: 0.5790\n",
            "Epoch 57/100\n",
            "3937/3937 [==============================] - 27s 7ms/step - loss: 1.0065 - accuracy: 0.5813 - val_loss: 1.2194 - val_accuracy: 0.4988\n",
            "Epoch 58/100\n",
            "3937/3937 [==============================] - 27s 7ms/step - loss: 1.0059 - accuracy: 0.5813 - val_loss: 1.0985 - val_accuracy: 0.5551\n",
            "Epoch 59/100\n",
            "3937/3937 [==============================] - 27s 7ms/step - loss: 1.0056 - accuracy: 0.5817 - val_loss: 1.2385 - val_accuracy: 0.5084\n",
            "Epoch 60/100\n",
            "3937/3937 [==============================] - 28s 7ms/step - loss: 1.0037 - accuracy: 0.5817 - val_loss: 1.2413 - val_accuracy: 0.4898\n",
            "Epoch 61/100\n",
            "3937/3937 [==============================] - 27s 7ms/step - loss: 1.0024 - accuracy: 0.5821 - val_loss: 1.2388 - val_accuracy: 0.5112\n",
            "Epoch 62/100\n",
            "3937/3937 [==============================] - 28s 7ms/step - loss: 1.0024 - accuracy: 0.5814 - val_loss: 1.1750 - val_accuracy: 0.5295\n",
            "Epoch 63/100\n",
            "3937/3937 [==============================] - 28s 7ms/step - loss: 1.0014 - accuracy: 0.5808 - val_loss: 1.2234 - val_accuracy: 0.4962\n",
            "Epoch 64/100\n",
            "3937/3937 [==============================] - 27s 7ms/step - loss: 0.9995 - accuracy: 0.5817 - val_loss: 1.1771 - val_accuracy: 0.5122\n",
            "Epoch 65/100\n",
            "3937/3937 [==============================] - 28s 7ms/step - loss: 0.9992 - accuracy: 0.5819 - val_loss: 1.1272 - val_accuracy: 0.5484\n",
            "Epoch 66/100\n",
            "3937/3937 [==============================] - 27s 7ms/step - loss: 1.0006 - accuracy: 0.5812 - val_loss: 1.2160 - val_accuracy: 0.5267\n",
            "Epoch 67/100\n",
            "3937/3937 [==============================] - 28s 7ms/step - loss: 0.9985 - accuracy: 0.5819 - val_loss: 1.1943 - val_accuracy: 0.5291\n",
            "Epoch 68/100\n",
            "3937/3937 [==============================] - 28s 7ms/step - loss: 0.9972 - accuracy: 0.5819 - val_loss: 1.1902 - val_accuracy: 0.5213\n",
            "Epoch 69/100\n",
            "3937/3937 [==============================] - 28s 7ms/step - loss: 0.9954 - accuracy: 0.5815 - val_loss: 1.2718 - val_accuracy: 0.4946\n",
            "Epoch 70/100\n",
            "3937/3937 [==============================] - 27s 7ms/step - loss: 0.9963 - accuracy: 0.5819 - val_loss: 1.1694 - val_accuracy: 0.5381\n",
            "Epoch 71/100\n",
            "3937/3937 [==============================] - 27s 7ms/step - loss: 0.9957 - accuracy: 0.5822 - val_loss: 1.1394 - val_accuracy: 0.5462\n",
            "Epoch 72/100\n",
            "3937/3937 [==============================] - 27s 7ms/step - loss: 0.9961 - accuracy: 0.5816 - val_loss: 1.1171 - val_accuracy: 0.5614\n",
            "Epoch 73/100\n",
            "3937/3937 [==============================] - 28s 7ms/step - loss: 0.9922 - accuracy: 0.5828 - val_loss: 1.1242 - val_accuracy: 0.5561\n",
            "Epoch 74/100\n",
            "3937/3937 [==============================] - 27s 7ms/step - loss: 0.9924 - accuracy: 0.5825 - val_loss: 1.1413 - val_accuracy: 0.5464\n",
            "Epoch 75/100\n",
            "3937/3937 [==============================] - 27s 7ms/step - loss: 0.9917 - accuracy: 0.5831 - val_loss: 1.1486 - val_accuracy: 0.5472\n",
            "Epoch 76/100\n",
            "3937/3937 [==============================] - 28s 7ms/step - loss: 0.9921 - accuracy: 0.5819 - val_loss: 1.1743 - val_accuracy: 0.5393\n",
            "Epoch 77/100\n",
            "3937/3937 [==============================] - 28s 7ms/step - loss: 0.9900 - accuracy: 0.5816 - val_loss: 1.1377 - val_accuracy: 0.5578\n",
            "Epoch 78/100\n",
            "3937/3937 [==============================] - 27s 7ms/step - loss: 0.9912 - accuracy: 0.5815 - val_loss: 1.1767 - val_accuracy: 0.5262\n",
            "Epoch 79/100\n",
            "3937/3937 [==============================] - 28s 7ms/step - loss: 0.9897 - accuracy: 0.5833 - val_loss: 1.2523 - val_accuracy: 0.4936\n",
            "Epoch 80/100\n",
            "3937/3937 [==============================] - 28s 7ms/step - loss: 0.9889 - accuracy: 0.5829 - val_loss: 1.1104 - val_accuracy: 0.5617\n",
            "Epoch 81/100\n",
            "3937/3937 [==============================] - 29s 7ms/step - loss: 0.9870 - accuracy: 0.5832 - val_loss: 1.1425 - val_accuracy: 0.5505\n",
            "Epoch 82/100\n",
            "3937/3937 [==============================] - 27s 7ms/step - loss: 0.9871 - accuracy: 0.5836 - val_loss: 1.1507 - val_accuracy: 0.5404\n",
            "Epoch 83/100\n",
            "3937/3937 [==============================] - 28s 7ms/step - loss: 0.9863 - accuracy: 0.5830 - val_loss: 1.1786 - val_accuracy: 0.5287\n",
            "Epoch 84/100\n",
            "3937/3937 [==============================] - 28s 7ms/step - loss: 0.9872 - accuracy: 0.5829 - val_loss: 1.1957 - val_accuracy: 0.5302\n",
            "Epoch 85/100\n",
            "3937/3937 [==============================] - 28s 7ms/step - loss: 0.9858 - accuracy: 0.5831 - val_loss: 1.1423 - val_accuracy: 0.5472\n",
            "Epoch 86/100\n",
            "3937/3937 [==============================] - 28s 7ms/step - loss: 0.9845 - accuracy: 0.5845 - val_loss: 1.2241 - val_accuracy: 0.5185\n",
            "Epoch 87/100\n",
            "3937/3937 [==============================] - 26s 7ms/step - loss: 0.9830 - accuracy: 0.5832 - val_loss: 1.2162 - val_accuracy: 0.5208\n",
            "Epoch 88/100\n",
            "3937/3937 [==============================] - 26s 7ms/step - loss: 0.9840 - accuracy: 0.5833 - val_loss: 1.1735 - val_accuracy: 0.5439\n",
            "Epoch 89/100\n",
            "3937/3937 [==============================] - 26s 7ms/step - loss: 0.9843 - accuracy: 0.5835 - val_loss: 1.1700 - val_accuracy: 0.5433\n",
            "Epoch 90/100\n",
            "3937/3937 [==============================] - 27s 7ms/step - loss: 0.9835 - accuracy: 0.5842 - val_loss: 1.1650 - val_accuracy: 0.5372\n",
            "Epoch 91/100\n",
            "3937/3937 [==============================] - 27s 7ms/step - loss: 0.9823 - accuracy: 0.5838 - val_loss: 1.1499 - val_accuracy: 0.5382\n",
            "Epoch 92/100\n",
            "3937/3937 [==============================] - 27s 7ms/step - loss: 0.9799 - accuracy: 0.5836 - val_loss: 1.1818 - val_accuracy: 0.5431\n",
            "Epoch 93/100\n",
            "3937/3937 [==============================] - 27s 7ms/step - loss: 0.9809 - accuracy: 0.5843 - val_loss: 1.1954 - val_accuracy: 0.5368\n",
            "Epoch 94/100\n",
            "3937/3937 [==============================] - 28s 7ms/step - loss: 0.9796 - accuracy: 0.5845 - val_loss: 1.2407 - val_accuracy: 0.5244\n",
            "Epoch 95/100\n",
            "3937/3937 [==============================] - 28s 7ms/step - loss: 0.9804 - accuracy: 0.5840 - val_loss: 1.1582 - val_accuracy: 0.5594\n",
            "Epoch 96/100\n",
            "3937/3937 [==============================] - 28s 7ms/step - loss: 0.9787 - accuracy: 0.5850 - val_loss: 1.2448 - val_accuracy: 0.5168\n",
            "Epoch 97/100\n",
            "3937/3937 [==============================] - 27s 7ms/step - loss: 0.9768 - accuracy: 0.5843 - val_loss: 1.1528 - val_accuracy: 0.5537\n",
            "Epoch 98/100\n",
            "3937/3937 [==============================] - 28s 7ms/step - loss: 0.9783 - accuracy: 0.5836 - val_loss: 1.2170 - val_accuracy: 0.5155\n",
            "Epoch 99/100\n",
            "3937/3937 [==============================] - 27s 7ms/step - loss: 0.9761 - accuracy: 0.5849 - val_loss: 1.2141 - val_accuracy: 0.5267\n",
            "Epoch 100/100\n",
            "3937/3937 [==============================] - 27s 7ms/step - loss: 0.9781 - accuracy: 0.5847 - val_loss: 1.2340 - val_accuracy: 0.5129\n"
          ]
        }
      ]
    },
    {
      "cell_type": "markdown",
      "metadata": {
        "id": "ElTjy9S5TyFw"
      },
      "source": [
        "### plot training statistics"
      ]
    },
    {
      "cell_type": "code",
      "metadata": {
        "colab": {
          "background_save": true
        },
        "id": "MRgbn8zaJiRM"
      },
      "source": [
        "import matplotlib.pyplot as plt\n",
        "plt.style.use('ggplot')\n",
        "\n",
        "def plot_history(history):\n",
        "    acc = history.history['accuracy']\n",
        "    val_acc = history.history['val_accuracy']\n",
        "    loss = history.history['loss']\n",
        "    val_loss = history.history['val_loss']\n",
        "    x = range(1, len(acc) + 1)\n",
        "\n",
        "    plt.figure(figsize=(12, 5))\n",
        "    plt.subplot(1, 2, 1)\n",
        "    plt.plot(x, acc, 'b', label='Training acc')\n",
        "    plt.plot(x, val_acc, 'r', label='Validation acc')\n",
        "    plt.title('Training and validation accuracy')\n",
        "    plt.legend()\n",
        "    plt.subplot(1, 2, 2)\n",
        "    plt.plot(x, loss, 'b', label='Training loss')\n",
        "    plt.plot(x, val_loss, 'r', label='Validation loss')\n",
        "    plt.title('Training and validation loss')\n",
        "    plt.legend()"
      ],
      "execution_count": null,
      "outputs": []
    },
    {
      "cell_type": "code",
      "metadata": {
        "colab": {
          "background_save": true
        },
        "id": "ygS8wg_edlGP",
        "outputId": "794ce41e-c4f6-4a24-91a0-1c35fb8daa18"
      },
      "source": [
        "plot_history(history)"
      ],
      "execution_count": null,
      "outputs": [
        {
          "data": {
            "image/png": "[encoded data removed]",
            "text/plain": [
              "<Figure size 864x360 with 2 Axes>"
            ]
          },
          "metadata": {},
          "output_type": "display_data"
        }
      ]
    },
    {
      "cell_type": "code",
      "metadata": {
        "colab": {
          "base_uri": "https://localhost:8080/"
        },
        "id": "K92BJ4WHdpG5",
        "outputId": "dc0d67c5-bab0-4246-8a08-4ff713a5456c"
      },
      "source": [
        "loss, accuracy = model.evaluate(X_train, y_train, verbose=False)\n",
        "print(\"Training Accuracy: {:.4f}\".format(accuracy))\n",
        "loss, accuracy = model.evaluate(X_test, y_test, verbose=False)\n",
        "print(\"Testing Accuracy:  {:.4f}\".format(accuracy))"
      ],
      "execution_count": null,
      "outputs": [
        {
          "output_type": "stream",
          "name": "stdout",
          "text": [
            "Training Accuracy: 0.5687\n",
            "Testing Accuracy:  0.5120\n"
          ]
        }
      ]
    },
    {
      "cell_type": "markdown",
      "metadata": {
        "id": "yTAV8b7mwc5b"
      },
      "source": [
        "### predict function for the trigram model"
      ]
    },
    {
      "cell_type": "code",
      "metadata": {
        "id": "NE5khhB90E5l"
      },
      "source": [
        "import string\n",
        "\n",
        "def predict(text, model, tokenizer):\n",
        "    orig_text = text\n",
        "    text = text_preprocessing(text)\n",
        "    text = [text]\n",
        "    X = tokenizer.texts_to_sequences(text)\n",
        "    X = pad_sequences(X, padding='post', maxlen=maxlen)\n",
        "    # print(np.sum(model.predict(X)[0]))\n",
        "    probs = model.predict(X)[0]\n",
        "    # assert np.sum(probs) == 1.0\n",
        "    prediction = np.argmax(probs)\n",
        "    print('input text: ', orig_text)\n",
        "    print('predicted class: ', prediction + 1, 'confidence:', np.max(probs))"
      ],
      "execution_count": null,
      "outputs": []
    },
    {
      "cell_type": "code",
      "metadata": {
        "colab": {
          "base_uri": "https://localhost:8080/"
        },
        "id": "1AG0tvQ5drbr",
        "outputId": "fa258c8c-e6d6-41d7-96a3-628f54d117f7"
      },
      "source": [
        "predict('I liked the product quite a lot.', model, tokenizer)\n",
        "predict('playing this was the worst time in my life.', model, tokenizer)"
      ],
      "execution_count": null,
      "outputs": [
        {
          "output_type": "stream",
          "name": "stdout",
          "text": [
            "input text:  I liked the product quite a lot.\n",
            "predicted class:  4 confidence: 0.51011616\n",
            "input text:  playing this was the worst time in my life.\n",
            "predicted class:  1 confidence: 0.37797365\n"
          ]
        }
      ]
    },
    {
      "cell_type": "markdown",
      "metadata": {
        "id": "qMCCPxAXwhNk"
      },
      "source": [
        "### metrics for the trigram model"
      ]
    },
    {
      "cell_type": "code",
      "metadata": {
        "colab": {
          "base_uri": "https://localhost:8080/"
        },
        "id": "ujZFFJBDdzpX",
        "outputId": "0b85e804-2809-45f3-8b39-0ce185ae1dd8"
      },
      "source": [
        "from sklearn.metrics import accuracy_score, matthews_corrcoef\n",
        "from imblearn.metrics import classification_report_imbalanced\n",
        "\n",
        "y_pred = model.predict(X_test)\n",
        "\n",
        "print('accuracy:', accuracy_score(np.argmax(y_test, axis=1), np.argmax(y_pred, axis=1)))\n",
        "print('matthews_corrcoef:', matthews_corrcoef(np.argmax(y_test, axis=1), np.argmax(y_pred, axis=1)))\n",
        "print('classification_report:\\n', classification_report_imbalanced(np.argmax(y_test, axis=1), np.argmax(y_pred, axis=1)))"
      ],
      "execution_count": null,
      "outputs": [
        {
          "output_type": "stream",
          "name": "stdout",
          "text": [
            "accuracy: 0.5120030007501876\n",
            "matthews_corrcoef: 0.3120980983604428\n",
            "classification_report:\n",
            "                    pre       rec       spe        f1       geo       iba       sup\n",
            "\n",
            "          0       0.44      0.46      0.96      0.45      0.67      0.42      8380\n",
            "          1       0.20      0.42      0.90      0.27      0.61      0.36      6711\n",
            "          2       0.27      0.36      0.88      0.31      0.56      0.30     13254\n",
            "          3       0.34      0.45      0.77      0.38      0.59      0.34     24551\n",
            "          4       0.84      0.58      0.86      0.69      0.71      0.48     67074\n",
            "\n",
            "avg / total       0.61      0.51      0.85      0.54      0.66      0.42    119970\n",
            "\n"
          ]
        }
      ]
    },
    {
      "cell_type": "markdown",
      "metadata": {
        "id": "TllM3qowpY-v"
      },
      "source": [
        "### plot of model metrics till now"
      ]
    },
    {
      "cell_type": "code",
      "metadata": {
        "colab": {
          "base_uri": "https://localhost:8080/",
          "height": 503
        },
        "id": "SgpKPAe2qReF",
        "outputId": "cc054979-408f-4d7a-8f55-b06b9121055a"
      },
      "source": [
        "import matplotlib.pyplot as plt\n",
        "%matplotlib inline\n",
        "import seaborn as sns\n",
        "sns.set(rc={'figure.figsize':(11.7,8.27)})\n",
        "\n",
        "# data\n",
        "x = [\"CV+NB\",             \"FF\",               \"CNN_trigram\"]\n",
        "y = [0.33504969057289086, 0.2148927270393169, 0.3120980983604428]\n",
        "\n",
        "ax = sns.barplot(x=x, y=y)"
      ],
      "execution_count": null,
      "outputs": [
        {
          "output_type": "display_data",
          "data": {
            "image/png": "[encoded data removed]",
            "text/plain": [
              "<Figure size 842.4x595.44 with 1 Axes>"
            ]
          },
          "metadata": {}
        }
      ]
    },
    {
      "cell_type": "markdown",
      "metadata": {
        "id": "2h8WNDUZRPai"
      },
      "source": [
        "### save the trigram model"
      ]
    },
    {
      "cell_type": "code",
      "metadata": {
        "colab": {
          "base_uri": "https://localhost:8080/"
        },
        "id": "LYS1grbPRRe5",
        "outputId": "7e30a282-8330-4c22-8d74-34ff40fbf8e6"
      },
      "source": [
        "trigram_model_path = \"/content/drive/MyDrive/educative_natural_language_processing_for_professionals/models/cnn_trigram_model\"\n",
        "model.save(trigram_model_path)"
      ],
      "execution_count": null,
      "outputs": [
        {
          "output_type": "stream",
          "name": "stdout",
          "text": [
            "INFO:tensorflow:Assets written to: /content/drive/MyDrive/educative_natural_language_processing_for_professionals/models/cnn_trigram_model/assets\n"
          ]
        }
      ]
    },
    {
      "cell_type": "markdown",
      "metadata": {
        "id": "uVu0elSbiDUW"
      },
      "source": [
        "## CNN234GramModel"
      ]
    },
    {
      "cell_type": "markdown",
      "metadata": {
        "id": "97Q7FnoINXLQ"
      },
      "source": [
        "some bigrams such as \"Final Fantasy\" is a strong indicator that the reviews are good."
      ]
    },
    {
      "cell_type": "code",
      "metadata": {
        "id": "69NwQf08NWm7",
        "colab": {
          "base_uri": "https://localhost:8080/",
          "height": 363
        },
        "outputId": "18e72c55-28da-4e44-8b7c-04e1b1fd34c6"
      },
      "source": [
        "df[df.reviewText.str.contains(\"final fantasy\")].sample(10)"
      ],
      "execution_count": null,
      "outputs": [
        {
          "output_type": "execute_result",
          "data": {
            "text/html": [
              "<div>\n",
              "<style scoped>\n",
              "    .dataframe tbody tr th:only-of-type {\n",
              "        vertical-align: middle;\n",
              "    }\n",
              "\n",
              "    .dataframe tbody tr th {\n",
              "        vertical-align: top;\n",
              "    }\n",
              "\n",
              "    .dataframe thead th {\n",
              "        text-align: right;\n",
              "    }\n",
              "</style>\n",
              "<table border=\"1\" class=\"dataframe\">\n",
              "  <thead>\n",
              "    <tr style=\"text-align: right;\">\n",
              "      <th></th>\n",
              "      <th>reviewText</th>\n",
              "      <th>overall</th>\n",
              "    </tr>\n",
              "  </thead>\n",
              "  <tbody>\n",
              "    <tr>\n",
              "      <th>34349</th>\n",
              "      <td>i ll admit that i didn t think that this game ...</td>\n",
              "      <td>5</td>\n",
              "    </tr>\n",
              "    <tr>\n",
              "      <th>414973</th>\n",
              "      <td>brought mine at game stop and its alright if y...</td>\n",
              "      <td>4</td>\n",
              "    </tr>\n",
              "    <tr>\n",
              "      <th>18848</th>\n",
              "      <td>most people either say that they hate it or th...</td>\n",
              "      <td>5</td>\n",
              "    </tr>\n",
              "    <tr>\n",
              "      <th>366789</th>\n",
              "      <td>for a side story entry in the final fantasy un...</td>\n",
              "      <td>4</td>\n",
              "    </tr>\n",
              "    <tr>\n",
              "      <th>18728</th>\n",
              "      <td>shame on anyone who doesn t make this a 5 star...</td>\n",
              "      <td>5</td>\n",
              "    </tr>\n",
              "    <tr>\n",
              "      <th>102323</th>\n",
              "      <td>in a nutshell  mass effect was not only worth ...</td>\n",
              "      <td>5</td>\n",
              "    </tr>\n",
              "    <tr>\n",
              "      <th>56854</th>\n",
              "      <td>this is ione great game   you don t necessaril...</td>\n",
              "      <td>5</td>\n",
              "    </tr>\n",
              "    <tr>\n",
              "      <th>87748</th>\n",
              "      <td>what is this piece of crap  terrible cartoonis...</td>\n",
              "      <td>1</td>\n",
              "    </tr>\n",
              "    <tr>\n",
              "      <th>366684</th>\n",
              "      <td>i will start with the few flaws and get them o...</td>\n",
              "      <td>4</td>\n",
              "    </tr>\n",
              "    <tr>\n",
              "      <th>249740</th>\n",
              "      <td>it s hard to say exactly what is so appealing ...</td>\n",
              "      <td>5</td>\n",
              "    </tr>\n",
              "  </tbody>\n",
              "</table>\n",
              "</div>"
            ],
            "text/plain": [
              "                                               reviewText  overall\n",
              "34349   i ll admit that i didn t think that this game ...        5\n",
              "414973  brought mine at game stop and its alright if y...        4\n",
              "18848   most people either say that they hate it or th...        5\n",
              "366789  for a side story entry in the final fantasy un...        4\n",
              "18728   shame on anyone who doesn t make this a 5 star...        5\n",
              "102323  in a nutshell  mass effect was not only worth ...        5\n",
              "56854   this is ione great game   you don t necessaril...        5\n",
              "87748   what is this piece of crap  terrible cartoonis...        1\n",
              "366684  i will start with the few flaws and get them o...        4\n",
              "249740  it s hard to say exactly what is so appealing ...        5"
            ]
          },
          "metadata": {},
          "execution_count": 30
        }
      ]
    },
    {
      "cell_type": "code",
      "metadata": {
        "id": "u4uTMtnUiEz_"
      },
      "source": [
        "import string\n",
        "import tensorflow as tf\n",
        "from tensorflow.keras import Sequential, layers, Input\n",
        "from tensorflow.keras.optimizers import Adam\n",
        "from sklearn.metrics import accuracy_score, matthews_corrcoef\n",
        "from imblearn.metrics import classification_report_imbalanced\n",
        "import matplotlib.pyplot as plt\n",
        "plt.style.use('ggplot')\n",
        "\n",
        "\n",
        "# map punctuation to space\n",
        "translator = str.maketrans(string.punctuation, ' '*len(string.punctuation)) \n",
        "\n",
        "def text_preprocessing(text):\n",
        "    \"\"\"\n",
        "    Preprocess the text for better understanding\n",
        "    \n",
        "    \"\"\"\n",
        "    text = text.strip()\n",
        "    text = text.lower()\n",
        "    text = text.translate(translator)\n",
        "    return text\n",
        "\n",
        "def predict(text, model, tokenizer):\n",
        "    orig_text = text\n",
        "    text = text_preprocessing(text)\n",
        "    text = [text]\n",
        "    X = tokenizer.texts_to_sequences(text)\n",
        "    X = pad_sequences(X, padding='post', maxlen=maxlen)\n",
        "    # print(np.sum(model.predict(X)[0]))\n",
        "    probs = model.predict(X)[0]\n",
        "    # assert np.sum(probs) == 1.0\n",
        "    prediction = np.argmax(probs)\n",
        "    print('input text: ', orig_text)\n",
        "    print('predicted class: ', prediction + 1, 'confidence:', np.max(probs))\n",
        "\n",
        "def plot_history(history):\n",
        "    acc = history.history['accuracy']\n",
        "    val_acc = history.history['val_accuracy']\n",
        "    loss = history.history['loss']\n",
        "    val_loss = history.history['val_loss']\n",
        "    x = range(1, len(acc) + 1)\n",
        "\n",
        "    plt.figure(figsize=(12, 5))\n",
        "    plt.subplot(1, 2, 1)\n",
        "    plt.plot(x, acc, 'b', label='Training acc')\n",
        "    plt.plot(x, val_acc, 'r', label='Validation acc')\n",
        "    plt.title('Training and validation accuracy')\n",
        "    plt.legend()\n",
        "    plt.subplot(1, 2, 2)\n",
        "    plt.plot(x, loss, 'b', label='Training loss')\n",
        "    plt.plot(x, val_loss, 'r', label='Validation loss')\n",
        "    plt.title('Training and validation loss')\n",
        "    plt.legend()\n",
        "\n",
        "\n",
        "class CNN234GramModel(tf.keras.Model):\n",
        "    def __init__(self, nb_filters=50,\n",
        "                 FFN_units=512, nb_classes=2, dropout_rate=0.1, name=\"dcnn\"):\n",
        "        super(CNN234GramModel, self).__init__(name=name)\n",
        "        self.embedding = layers.Embedding(vocab_size, embedding_dim,\n",
        "                                          input_length=maxlen,\n",
        "                                          weights=[embedding_matrix],\n",
        "                                          trainable=False)\n",
        "\n",
        "        self.bigram = layers.Conv1D(filters=nb_filters, kernel_size=2,\n",
        "                                    padding=\"valid\", activation=\"relu\")\n",
        "        self.trigram = layers.Conv1D(filters=nb_filters, kernel_size=3,\n",
        "                                    padding=\"valid\", activation=\"relu\")\n",
        "        self.fourgram = layers.Conv1D(filters=nb_filters, kernel_size=4,\n",
        "                                    padding=\"valid\", activation=\"relu\")\n",
        "        self.pool1 = layers.GlobalMaxPooling1D()\n",
        "        self.pool2 = layers.GlobalMaxPooling1D()\n",
        "        self.pool3 = layers.GlobalMaxPooling1D()\n",
        "        self.dense_1 = layers.Dense(units=FFN_units, activation=\"relu\")\n",
        "        self.dropout = layers.Dropout(rate=dropout_rate)\n",
        "        if nb_classes == 2:\n",
        "            self.last_dense = layers.Dense(units=1, activation=\"sigmoid\")\n",
        "        else:\n",
        "            self.last_dense = layers.Dense(units=nb_classes, activation=\"softmax\")\n",
        "\n",
        "    def call(self, inputs, training):\n",
        "        embs = self.embedding(inputs)\n",
        "        x_1 = self.bigram(embs)\n",
        "        x_1 = self.pool1(x_1)\n",
        "        x_2 = self.trigram(embs)\n",
        "        x_2 = self.pool2(x_2)\n",
        "        x_3 = self.fourgram(embs)\n",
        "        x_3 = self.pool3(x_3)\n",
        "        merged = tf.concat([x_1, x_2, x_3], axis=-1) # (batch_size, 3*nb_filters)\n",
        "        merged = self.dense_1(merged)\n",
        "        merged = self.dropout(merged, training)\n",
        "        output = self.last_dense(merged)\n",
        "\n",
        "        return output\n",
        "\n",
        "    # AFAIK: The most convenient method to print model.summary() \n",
        "    # similar to the sequential or functional API like.\n",
        "    def build_graph(self, input_shape):\n",
        "        x = Input(shape=input_shape)\n",
        "        return tf.keras.Model(inputs=[x], outputs=self.call(x, False))\n",
        "\n",
        "NB_FILTER = 100\n",
        "FFN_UNITS = 256\n",
        "NB_CLASSES = 5\n",
        "\n",
        "DROPOUT_RATE = 0.2\n",
        "\n",
        "batch_size = 64\n",
        "epochs = 100\n",
        "\n",
        "\n",
        "\n",
        "dcnn = CNN234GramModel(nb_filters=NB_FILTER,\n",
        "            FFN_units=FFN_UNITS, nb_classes=NB_CLASSES,\n",
        "            dropout_rate=DROPOUT_RATE)\n",
        "\n",
        "if NB_CLASSES == 2:\n",
        "    dcnn.compile(loss=\"binary_crossentropy\",\n",
        "                 optimizer=\"adam\", metrics=[\"accuracy\"])\n",
        "else:\n",
        "    dcnn.compile(loss=\"categorical_crossentropy\", optimizer=\"adam\",\n",
        "                 metrics=[\"accuracy\"])\n",
        "  \n",
        "def training(model):\n",
        "    history = model.fit(X_train, y_train, \n",
        "                        batch_size=batch_size, epochs=epochs, \n",
        "                        class_weight=d_class_weights, shuffle=True,\n",
        "                        verbose=1, validation_split=0.1)\n",
        "\n",
        "    plot_history(history)\n",
        "\n",
        "    loss, accuracy = model.evaluate(X_train, y_train, verbose=False)\n",
        "    print(\"Training Accuracy: {:.4f}\".format(accuracy))\n",
        "    loss, accuracy = model.evaluate(X_test, y_test, verbose=False)\n",
        "    print(\"Testing Accuracy:  {:.4f}\".format(accuracy))\n",
        "\n",
        "    predict('I liked the product quite a lot.', model, tokenizer)\n",
        "    predict('playing this was the worst time in my life.', model, tokenizer)\n",
        "\n",
        "    y_pred = model.predict(X_test)\n",
        "\n",
        "    print('accuracy:', accuracy_score(np.argmax(y_test, axis=1), np.argmax(y_pred, axis=1)))\n",
        "    print('matthews_corrcoef:', matthews_corrcoef(np.argmax(y_test, axis=1), np.argmax(y_pred, axis=1)))\n",
        "    print('classification_report:\\n', classification_report_imbalanced(np.argmax(y_test, axis=1), np.argmax(y_pred, axis=1)))"
      ],
      "execution_count": null,
      "outputs": []
    },
    {
      "cell_type": "code",
      "metadata": {
        "colab": {
          "base_uri": "https://localhost:8080/"
        },
        "id": "9Qr8mEJFi3PP",
        "outputId": "e8e4b175-a0c0-44b6-9dd0-4f086ca2fe56"
      },
      "source": [
        "input_shape = [batch_size, 100]\n",
        "dcnn.build(input_shape)\n",
        "# dcnn.build_graph(input_shape).summary()\n",
        "dcnn.summary()"
      ],
      "execution_count": null,
      "outputs": [
        {
          "output_type": "stream",
          "name": "stdout",
          "text": [
            "Model: \"dcnn\"\n",
            "_________________________________________________________________\n",
            " Layer (type)                Output Shape              Param #   \n",
            "=================================================================\n",
            " embedding_8 (Embedding)     (None, 64, 100, 50)       7776850   \n",
            "                                                                 \n",
            " conv1d_17 (Conv1D)          (None, 64, 99, 100)       10100     \n",
            "                                                                 \n",
            " conv1d_18 (Conv1D)          (None, 64, 98, 100)       15100     \n",
            "                                                                 \n",
            " conv1d_19 (Conv1D)          (None, 64, 97, 100)       20100     \n",
            "                                                                 \n",
            " global_max_pooling1d_7 (Glo  multiple                 0         \n",
            " balMaxPooling1D)                                                \n",
            "                                                                 \n",
            " dense_16 (Dense)            multiple                  77056     \n",
            "                                                                 \n",
            " dropout_7 (Dropout)         multiple                  0         \n",
            "                                                                 \n",
            " dense_17 (Dense)            multiple                  1285      \n",
            "                                                                 \n",
            "=================================================================\n",
            "Total params: 7,900,491\n",
            "Trainable params: 123,641\n",
            "Non-trainable params: 7,776,850\n",
            "_________________________________________________________________\n"
          ]
        }
      ]
    },
    {
      "cell_type": "markdown",
      "metadata": {
        "id": "qr6XmuF2TnBX"
      },
      "source": [
        "### training the v1 model"
      ]
    },
    {
      "cell_type": "code",
      "metadata": {
        "colab": {
          "base_uri": "https://localhost:8080/",
          "height": 1000
        },
        "id": "kKMPxZf2E4Hj",
        "outputId": "3993b118-3412-4f55-eda8-e4ae0d2239e2"
      },
      "source": [
        "training(dcnn)"
      ],
      "execution_count": null,
      "outputs": [
        {
          "output_type": "stream",
          "name": "stdout",
          "text": [
            "Epoch 1/100\n",
            "3937/3937 [==============================] - 37s 9ms/step - loss: 1.3273 - accuracy: 0.4868 - val_loss: 1.1941 - val_accuracy: 0.5049\n",
            "Epoch 2/100\n",
            "3937/3937 [==============================] - 34s 9ms/step - loss: 1.2210 - accuracy: 0.5355 - val_loss: 1.1196 - val_accuracy: 0.5281\n",
            "Epoch 3/100\n",
            "3937/3937 [==============================] - 36s 9ms/step - loss: 1.1816 - accuracy: 0.5499 - val_loss: 1.1013 - val_accuracy: 0.5598\n",
            "Epoch 4/100\n",
            "3937/3937 [==============================] - 37s 9ms/step - loss: 1.1510 - accuracy: 0.5567 - val_loss: 1.0355 - val_accuracy: 0.5631\n",
            "Epoch 5/100\n",
            "3937/3937 [==============================] - 38s 10ms/step - loss: 1.1270 - accuracy: 0.5617 - val_loss: 1.0369 - val_accuracy: 0.5785\n",
            "Epoch 6/100\n",
            "3937/3937 [==============================] - 38s 10ms/step - loss: 1.1055 - accuracy: 0.5643 - val_loss: 0.9923 - val_accuracy: 0.5888\n",
            "Epoch 7/100\n",
            "3937/3937 [==============================] - 38s 10ms/step - loss: 1.0837 - accuracy: 0.5691 - val_loss: 1.0347 - val_accuracy: 0.5671\n",
            "Epoch 8/100\n",
            "3937/3937 [==============================] - 38s 10ms/step - loss: 1.0654 - accuracy: 0.5712 - val_loss: 1.0562 - val_accuracy: 0.5551\n",
            "Epoch 9/100\n",
            "3937/3937 [==============================] - 38s 10ms/step - loss: 1.0474 - accuracy: 0.5738 - val_loss: 1.0202 - val_accuracy: 0.5741\n",
            "Epoch 10/100\n",
            "3937/3937 [==============================] - 37s 9ms/step - loss: 1.0305 - accuracy: 0.5769 - val_loss: 1.1087 - val_accuracy: 0.5370\n",
            "Epoch 11/100\n",
            "3937/3937 [==============================] - 37s 9ms/step - loss: 1.0158 - accuracy: 0.5788 - val_loss: 1.0836 - val_accuracy: 0.5434\n",
            "Epoch 12/100\n",
            "3937/3937 [==============================] - 38s 10ms/step - loss: 1.0006 - accuracy: 0.5805 - val_loss: 1.1939 - val_accuracy: 0.5138\n",
            "Epoch 13/100\n",
            "3937/3937 [==============================] - 37s 9ms/step - loss: 0.9874 - accuracy: 0.5828 - val_loss: 1.0339 - val_accuracy: 0.5841\n",
            "Epoch 14/100\n",
            "3937/3937 [==============================] - 37s 10ms/step - loss: 0.9721 - accuracy: 0.5830 - val_loss: 1.0852 - val_accuracy: 0.5622\n",
            "Epoch 15/100\n",
            "3937/3937 [==============================] - 38s 10ms/step - loss: 0.9615 - accuracy: 0.5863 - val_loss: 1.0535 - val_accuracy: 0.5800\n",
            "Epoch 16/100\n",
            "3937/3937 [==============================] - 38s 10ms/step - loss: 0.9489 - accuracy: 0.5889 - val_loss: 1.1882 - val_accuracy: 0.5230\n",
            "Epoch 17/100\n",
            "3937/3937 [==============================] - 38s 10ms/step - loss: 0.9372 - accuracy: 0.5906 - val_loss: 1.1165 - val_accuracy: 0.5590\n",
            "Epoch 18/100\n",
            "3937/3937 [==============================] - 38s 10ms/step - loss: 0.9261 - accuracy: 0.5921 - val_loss: 1.2328 - val_accuracy: 0.4804\n",
            "Epoch 19/100\n",
            "3937/3937 [==============================] - 38s 10ms/step - loss: 0.9159 - accuracy: 0.5921 - val_loss: 1.1857 - val_accuracy: 0.5354\n",
            "Epoch 20/100\n",
            "3937/3937 [==============================] - 37s 10ms/step - loss: 0.9059 - accuracy: 0.5937 - val_loss: 1.1266 - val_accuracy: 0.5682\n",
            "Epoch 21/100\n",
            "3937/3937 [==============================] - 38s 10ms/step - loss: 0.8965 - accuracy: 0.5963 - val_loss: 1.1883 - val_accuracy: 0.5203\n",
            "Epoch 22/100\n",
            "3937/3937 [==============================] - 38s 10ms/step - loss: 0.8877 - accuracy: 0.5971 - val_loss: 1.1826 - val_accuracy: 0.5446\n",
            "Epoch 23/100\n",
            "3937/3937 [==============================] - 37s 9ms/step - loss: 0.8784 - accuracy: 0.5989 - val_loss: 1.1248 - val_accuracy: 0.5543\n",
            "Epoch 24/100\n",
            "3937/3937 [==============================] - 38s 10ms/step - loss: 0.8692 - accuracy: 0.6009 - val_loss: 1.2450 - val_accuracy: 0.5014\n",
            "Epoch 25/100\n",
            "3937/3937 [==============================] - 38s 10ms/step - loss: 0.8632 - accuracy: 0.6001 - val_loss: 1.2354 - val_accuracy: 0.5232\n",
            "Epoch 26/100\n",
            "3937/3937 [==============================] - 37s 9ms/step - loss: 0.8564 - accuracy: 0.6013 - val_loss: 1.2103 - val_accuracy: 0.5368\n",
            "Epoch 27/100\n",
            "3937/3937 [==============================] - 38s 10ms/step - loss: 0.8502 - accuracy: 0.6034 - val_loss: 1.2810 - val_accuracy: 0.4983\n",
            "Epoch 28/100\n",
            "3937/3937 [==============================] - 38s 10ms/step - loss: 0.8439 - accuracy: 0.6035 - val_loss: 1.2502 - val_accuracy: 0.5171\n",
            "Epoch 29/100\n",
            "3937/3937 [==============================] - 38s 10ms/step - loss: 0.8372 - accuracy: 0.6059 - val_loss: 1.2280 - val_accuracy: 0.5577\n",
            "Epoch 30/100\n",
            "3937/3937 [==============================] - 38s 10ms/step - loss: 0.8310 - accuracy: 0.6069 - val_loss: 1.2306 - val_accuracy: 0.5592\n",
            "Epoch 31/100\n",
            "3937/3937 [==============================] - 37s 9ms/step - loss: 0.8212 - accuracy: 0.6097 - val_loss: 1.2800 - val_accuracy: 0.5263\n",
            "Epoch 32/100\n",
            "3937/3937 [==============================] - 38s 10ms/step - loss: 0.8176 - accuracy: 0.6093 - val_loss: 1.2984 - val_accuracy: 0.5376\n",
            "Epoch 33/100\n",
            "3937/3937 [==============================] - 39s 10ms/step - loss: 0.8140 - accuracy: 0.6118 - val_loss: 1.2518 - val_accuracy: 0.5577\n",
            "Epoch 34/100\n",
            "3937/3937 [==============================] - 39s 10ms/step - loss: 0.8071 - accuracy: 0.6112 - val_loss: 1.2877 - val_accuracy: 0.5319\n",
            "Epoch 35/100\n",
            "3937/3937 [==============================] - 38s 10ms/step - loss: 0.8036 - accuracy: 0.6111 - val_loss: 1.2856 - val_accuracy: 0.5433\n",
            "Epoch 36/100\n",
            "3937/3937 [==============================] - 38s 10ms/step - loss: 0.7979 - accuracy: 0.6136 - val_loss: 1.3350 - val_accuracy: 0.5378\n",
            "Epoch 37/100\n",
            "3937/3937 [==============================] - 38s 10ms/step - loss: 0.7931 - accuracy: 0.6135 - val_loss: 1.3598 - val_accuracy: 0.5161\n",
            "Epoch 38/100\n",
            "3937/3937 [==============================] - 38s 10ms/step - loss: 0.7888 - accuracy: 0.6148 - val_loss: 1.3491 - val_accuracy: 0.5540\n",
            "Epoch 39/100\n",
            "3937/3937 [==============================] - 38s 10ms/step - loss: 0.7835 - accuracy: 0.6165 - val_loss: 1.3557 - val_accuracy: 0.5286\n",
            "Epoch 40/100\n",
            "3937/3937 [==============================] - 38s 10ms/step - loss: 0.7830 - accuracy: 0.6157 - val_loss: 1.3343 - val_accuracy: 0.5504\n",
            "Epoch 41/100\n",
            "3937/3937 [==============================] - 38s 10ms/step - loss: 0.7777 - accuracy: 0.6164 - val_loss: 1.3292 - val_accuracy: 0.5535\n",
            "Epoch 42/100\n",
            "3937/3937 [==============================] - 39s 10ms/step - loss: 0.7723 - accuracy: 0.6169 - val_loss: 1.3661 - val_accuracy: 0.5288\n",
            "Epoch 43/100\n",
            "3937/3937 [==============================] - 38s 10ms/step - loss: 0.7709 - accuracy: 0.6178 - val_loss: 1.4065 - val_accuracy: 0.5074\n",
            "Epoch 44/100\n",
            "3937/3937 [==============================] - 38s 10ms/step - loss: 0.7645 - accuracy: 0.6191 - val_loss: 1.3253 - val_accuracy: 0.5542\n",
            "Epoch 45/100\n",
            "3937/3937 [==============================] - 39s 10ms/step - loss: 0.7630 - accuracy: 0.6194 - val_loss: 1.3545 - val_accuracy: 0.5448\n",
            "Epoch 46/100\n",
            "3937/3937 [==============================] - 38s 10ms/step - loss: 0.7586 - accuracy: 0.6195 - val_loss: 1.3826 - val_accuracy: 0.5067\n",
            "Epoch 47/100\n",
            "3937/3937 [==============================] - 37s 9ms/step - loss: 0.7559 - accuracy: 0.6217 - val_loss: 1.3687 - val_accuracy: 0.5377\n",
            "Epoch 48/100\n",
            "3937/3937 [==============================] - 37s 9ms/step - loss: 0.7540 - accuracy: 0.6217 - val_loss: 1.4228 - val_accuracy: 0.5291\n",
            "Epoch 49/100\n",
            "3937/3937 [==============================] - 37s 9ms/step - loss: 0.7472 - accuracy: 0.6237 - val_loss: 1.4478 - val_accuracy: 0.4986\n",
            "Epoch 50/100\n",
            "3937/3937 [==============================] - 37s 9ms/step - loss: 0.7492 - accuracy: 0.6233 - val_loss: 1.4181 - val_accuracy: 0.5161\n",
            "Epoch 51/100\n",
            "3937/3937 [==============================] - 38s 10ms/step - loss: 0.7445 - accuracy: 0.6242 - val_loss: 1.4619 - val_accuracy: 0.4982\n",
            "Epoch 52/100\n",
            "3937/3937 [==============================] - 37s 9ms/step - loss: 0.7427 - accuracy: 0.6234 - val_loss: 1.4688 - val_accuracy: 0.5321\n",
            "Epoch 53/100\n",
            "3937/3937 [==============================] - 37s 9ms/step - loss: 0.7356 - accuracy: 0.6251 - val_loss: 1.4606 - val_accuracy: 0.5213\n",
            "Epoch 54/100\n",
            "3937/3937 [==============================] - 37s 9ms/step - loss: 0.7380 - accuracy: 0.6254 - val_loss: 1.4154 - val_accuracy: 0.5275\n",
            "Epoch 55/100\n",
            "3937/3937 [==============================] - 38s 10ms/step - loss: 0.7366 - accuracy: 0.6253 - val_loss: 1.4899 - val_accuracy: 0.5212\n",
            "Epoch 56/100\n",
            "3937/3937 [==============================] - 39s 10ms/step - loss: 0.7307 - accuracy: 0.6250 - val_loss: 1.4495 - val_accuracy: 0.5442\n",
            "Epoch 57/100\n",
            "3937/3937 [==============================] - 38s 10ms/step - loss: 0.7300 - accuracy: 0.6254 - val_loss: 1.5628 - val_accuracy: 0.4855\n",
            "Epoch 58/100\n",
            "3937/3937 [==============================] - 38s 10ms/step - loss: 0.7272 - accuracy: 0.6265 - val_loss: 1.4288 - val_accuracy: 0.5458\n",
            "Epoch 59/100\n",
            "3937/3937 [==============================] - 38s 10ms/step - loss: 0.7252 - accuracy: 0.6269 - val_loss: 1.4515 - val_accuracy: 0.5401\n",
            "Epoch 60/100\n",
            "3937/3937 [==============================] - 39s 10ms/step - loss: 0.7225 - accuracy: 0.6267 - val_loss: 1.5422 - val_accuracy: 0.4994\n",
            "Epoch 61/100\n",
            "3937/3937 [==============================] - 38s 10ms/step - loss: 0.7180 - accuracy: 0.6302 - val_loss: 1.4886 - val_accuracy: 0.5356\n",
            "Epoch 62/100\n",
            "3937/3937 [==============================] - 38s 10ms/step - loss: 0.7163 - accuracy: 0.6299 - val_loss: 1.4418 - val_accuracy: 0.5624\n",
            "Epoch 63/100\n",
            "3937/3937 [==============================] - 38s 10ms/step - loss: 0.7179 - accuracy: 0.6293 - val_loss: 1.4714 - val_accuracy: 0.5158\n",
            "Epoch 64/100\n",
            "3937/3937 [==============================] - 38s 10ms/step - loss: 0.7143 - accuracy: 0.6299 - val_loss: 1.5619 - val_accuracy: 0.5170\n",
            "Epoch 65/100\n",
            "3937/3937 [==============================] - 37s 9ms/step - loss: 0.7143 - accuracy: 0.6304 - val_loss: 1.5560 - val_accuracy: 0.5325\n",
            "Epoch 66/100\n",
            "3937/3937 [==============================] - 37s 9ms/step - loss: 0.7055 - accuracy: 0.6302 - val_loss: 1.5045 - val_accuracy: 0.5505\n",
            "Epoch 67/100\n",
            "3937/3937 [==============================] - 38s 10ms/step - loss: 0.7106 - accuracy: 0.6308 - val_loss: 1.5171 - val_accuracy: 0.5434\n",
            "Epoch 68/100\n",
            "3937/3937 [==============================] - 40s 10ms/step - loss: 0.7057 - accuracy: 0.6315 - val_loss: 1.4842 - val_accuracy: 0.5525\n",
            "Epoch 69/100\n",
            "3937/3937 [==============================] - 39s 10ms/step - loss: 0.7076 - accuracy: 0.6310 - val_loss: 1.5280 - val_accuracy: 0.5435\n",
            "Epoch 70/100\n",
            "3937/3937 [==============================] - 39s 10ms/step - loss: 0.7050 - accuracy: 0.6316 - val_loss: 1.5133 - val_accuracy: 0.5406\n",
            "Epoch 71/100\n",
            "3937/3937 [==============================] - 39s 10ms/step - loss: 0.6993 - accuracy: 0.6333 - val_loss: 1.5608 - val_accuracy: 0.5346\n",
            "Epoch 72/100\n",
            "3937/3937 [==============================] - 38s 10ms/step - loss: 0.6980 - accuracy: 0.6323 - val_loss: 1.5269 - val_accuracy: 0.5627\n",
            "Epoch 73/100\n",
            "3937/3937 [==============================] - 38s 10ms/step - loss: 0.6980 - accuracy: 0.6326 - val_loss: 1.5956 - val_accuracy: 0.5242\n",
            "Epoch 74/100\n",
            "3937/3937 [==============================] - 38s 10ms/step - loss: 0.6979 - accuracy: 0.6325 - val_loss: 1.5535 - val_accuracy: 0.5326\n",
            "Epoch 75/100\n",
            "3937/3937 [==============================] - 38s 10ms/step - loss: 0.6935 - accuracy: 0.6350 - val_loss: 1.5719 - val_accuracy: 0.5202\n",
            "Epoch 76/100\n",
            "3937/3937 [==============================] - 39s 10ms/step - loss: 0.6946 - accuracy: 0.6341 - val_loss: 1.5945 - val_accuracy: 0.5498\n",
            "Epoch 77/100\n",
            "3937/3937 [==============================] - 38s 10ms/step - loss: 0.6909 - accuracy: 0.6336 - val_loss: 1.6599 - val_accuracy: 0.5363\n",
            "Epoch 78/100\n",
            "3937/3937 [==============================] - 38s 10ms/step - loss: 0.6927 - accuracy: 0.6338 - val_loss: 1.5727 - val_accuracy: 0.5198\n",
            "Epoch 79/100\n",
            "3937/3937 [==============================] - 38s 10ms/step - loss: 0.6906 - accuracy: 0.6343 - val_loss: 1.5976 - val_accuracy: 0.5317\n",
            "Epoch 80/100\n",
            "3937/3937 [==============================] - 38s 10ms/step - loss: 0.6912 - accuracy: 0.6341 - val_loss: 1.5909 - val_accuracy: 0.5434\n",
            "Epoch 81/100\n",
            "3937/3937 [==============================] - 39s 10ms/step - loss: 0.6884 - accuracy: 0.6345 - val_loss: 1.6194 - val_accuracy: 0.5328\n",
            "Epoch 82/100\n",
            "3937/3937 [==============================] - 39s 10ms/step - loss: 0.6830 - accuracy: 0.6362 - val_loss: 1.5722 - val_accuracy: 0.5415\n",
            "Epoch 83/100\n",
            "3937/3937 [==============================] - 41s 10ms/step - loss: 0.6820 - accuracy: 0.6370 - val_loss: 1.6518 - val_accuracy: 0.5209\n",
            "Epoch 84/100\n",
            "3937/3937 [==============================] - 40s 10ms/step - loss: 0.6834 - accuracy: 0.6359 - val_loss: 1.6218 - val_accuracy: 0.5265\n",
            "Epoch 85/100\n",
            "3937/3937 [==============================] - 40s 10ms/step - loss: 0.6829 - accuracy: 0.6354 - val_loss: 1.6062 - val_accuracy: 0.5434\n",
            "Epoch 86/100\n",
            "3937/3937 [==============================] - 39s 10ms/step - loss: 0.6766 - accuracy: 0.6365 - val_loss: 1.6407 - val_accuracy: 0.5223\n",
            "Epoch 87/100\n",
            "3937/3937 [==============================] - 39s 10ms/step - loss: 0.6767 - accuracy: 0.6365 - val_loss: 1.6754 - val_accuracy: 0.4847\n",
            "Epoch 88/100\n",
            "3937/3937 [==============================] - 39s 10ms/step - loss: 0.6780 - accuracy: 0.6365 - val_loss: 1.7274 - val_accuracy: 0.5127\n",
            "Epoch 89/100\n",
            "3937/3937 [==============================] - 39s 10ms/step - loss: 0.6771 - accuracy: 0.6368 - val_loss: 1.6696 - val_accuracy: 0.5151\n",
            "Epoch 90/100\n",
            "3937/3937 [==============================] - 39s 10ms/step - loss: 0.6748 - accuracy: 0.6376 - val_loss: 1.6639 - val_accuracy: 0.5511\n",
            "Epoch 91/100\n",
            "3937/3937 [==============================] - 39s 10ms/step - loss: 0.6756 - accuracy: 0.6380 - val_loss: 1.6868 - val_accuracy: 0.5217\n",
            "Epoch 92/100\n",
            "3937/3937 [==============================] - 38s 10ms/step - loss: 0.6708 - accuracy: 0.6391 - val_loss: 1.7346 - val_accuracy: 0.5398\n",
            "Epoch 93/100\n",
            "3937/3937 [==============================] - 38s 10ms/step - loss: 0.6713 - accuracy: 0.6394 - val_loss: 1.6575 - val_accuracy: 0.5204\n",
            "Epoch 94/100\n",
            "3937/3937 [==============================] - 39s 10ms/step - loss: 0.6688 - accuracy: 0.6394 - val_loss: 1.7955 - val_accuracy: 0.4911\n",
            "Epoch 95/100\n",
            "3937/3937 [==============================] - 40s 10ms/step - loss: 0.6673 - accuracy: 0.6408 - val_loss: 1.7120 - val_accuracy: 0.5230\n",
            "Epoch 96/100\n",
            "3937/3937 [==============================] - 39s 10ms/step - loss: 0.6669 - accuracy: 0.6400 - val_loss: 1.6949 - val_accuracy: 0.5207\n",
            "Epoch 97/100\n",
            "3937/3937 [==============================] - 39s 10ms/step - loss: 0.6639 - accuracy: 0.6410 - val_loss: 1.6790 - val_accuracy: 0.5091\n",
            "Epoch 98/100\n",
            "3937/3937 [==============================] - 38s 10ms/step - loss: 0.6631 - accuracy: 0.6399 - val_loss: 1.7567 - val_accuracy: 0.5084\n",
            "Epoch 99/100\n",
            "3937/3937 [==============================] - 38s 10ms/step - loss: 0.6651 - accuracy: 0.6402 - val_loss: 1.7712 - val_accuracy: 0.5185\n",
            "Epoch 100/100\n",
            "3937/3937 [==============================] - 38s 10ms/step - loss: 0.6619 - accuracy: 0.6417 - val_loss: 1.7828 - val_accuracy: 0.4994\n",
            "Training Accuracy: 0.6293\n",
            "Testing Accuracy:  0.4931\n",
            "input text:  I liked the product quite a lot.\n",
            "predicted class:  4 confidence: 0.6381855\n",
            "input text:  playing this was the worst time in my life.\n",
            "predicted class:  2 confidence: 0.60987586\n",
            "accuracy: 0.4930816037342669\n",
            "matthews_corrcoef: 0.29459743828288504\n",
            "classification_report:\n",
            "                    pre       rec       spe        f1       geo       iba       sup\n",
            "\n",
            "          0       0.45      0.42      0.96      0.44      0.64      0.39      8380\n",
            "          1       0.21      0.32      0.93      0.25      0.54      0.28      6711\n",
            "          2       0.26      0.38      0.87      0.31      0.57      0.31     13254\n",
            "          3       0.31      0.51      0.71      0.39      0.60      0.35     24551\n",
            "          4       0.84      0.54      0.87      0.65      0.68      0.45     67074\n",
            "\n",
            "avg / total       0.61      0.49      0.85      0.52      0.64      0.40    119970\n",
            "\n"
          ]
        },
        {
          "output_type": "display_data",
          "data": {
            "image/png": "[encoded data removed]",
            "text/plain": [
              "<Figure size 864x360 with 2 Axes>"
            ]
          },
          "metadata": {}
        }
      ]
    },
    {
      "cell_type": "markdown",
      "metadata": {
        "id": "qwjNp0ylSP-V"
      },
      "source": [
        "### plot of model metrics till now"
      ]
    },
    {
      "cell_type": "code",
      "metadata": {
        "id": "-DCB_smxJn1p",
        "colab": {
          "base_uri": "https://localhost:8080/",
          "height": 503
        },
        "outputId": "d815c155-3d85-4d00-dae5-7bb5de0bcb9f"
      },
      "source": [
        "import matplotlib.pyplot as plt\n",
        "%matplotlib inline\n",
        "import seaborn as sns\n",
        "\n",
        "sns.set(rc={'figure.figsize':(11.7,8.27)})\n",
        "\n",
        "# data\n",
        "x = [\"CV+NB\",             \"FF\",               \"CNN_trigram\",      \"CNN234GramModel\"]\n",
        "y = [0.33504969057289086, 0.2148927270393169, 0.3006712012400788, 0.29459743828288504]\n",
        "\n",
        "ax = sns.barplot(x=x, y=y)"
      ],
      "execution_count": null,
      "outputs": [
        {
          "output_type": "display_data",
          "data": {
            "image/png": "[encoded data removed]",
            "text/plain": [
              "<Figure size 842.4x595.44 with 1 Axes>"
            ]
          },
          "metadata": {}
        }
      ]
    },
    {
      "cell_type": "markdown",
      "metadata": {
        "id": "w8rmq6GSSSdL"
      },
      "source": [
        "### save the 234-CNN model"
      ]
    },
    {
      "cell_type": "code",
      "metadata": {
        "id": "2z4JKc4ZSS-i",
        "colab": {
          "base_uri": "https://localhost:8080/"
        },
        "outputId": "a303721b-c829-4019-f36d-cad5499be57f"
      },
      "source": [
        "cnn_234gram_model_path = \"/content/drive/MyDrive/educative_natural_language_processing_for_professionals/models/cnn_234gram_model\"\n",
        "dcnn.save(cnn_234gram_model_path)"
      ],
      "execution_count": null,
      "outputs": [
        {
          "output_type": "stream",
          "name": "stdout",
          "text": [
            "INFO:tensorflow:Assets written to: /content/drive/MyDrive/educative_natural_language_processing_for_professionals/models/cnn_234gram_model/assets\n"
          ]
        }
      ]
    },
    {
      "cell_type": "markdown",
      "metadata": {
        "id": "Bnm8qqmFI5rG"
      },
      "source": [
        "## CNN234GramModel with batch norm"
      ]
    },
    {
      "cell_type": "code",
      "metadata": {
        "id": "GK1MYUiXI7Mb"
      },
      "source": [
        "import string\n",
        "import tensorflow as tf\n",
        "from tensorflow.keras import Sequential, layers\n",
        "from tensorflow.keras.optimizers import Adam\n",
        "import matplotlib.pyplot as plt\n",
        "plt.style.use('ggplot')\n",
        "\n",
        "\n",
        "# map punctuation to space\n",
        "translator = str.maketrans(string.punctuation, ' '*len(string.punctuation)) \n",
        "\n",
        "def text_preprocessing(text):\n",
        "    \"\"\"\n",
        "    Preprocess the text for better understanding\n",
        "    \n",
        "    \"\"\"\n",
        "    text = text.strip()\n",
        "    text = text.lower()\n",
        "    text = text.translate(translator)\n",
        "    return text\n",
        "\n",
        "def predict(text, model, tokenizer):\n",
        "    orig_text = text\n",
        "    text = text_preprocessing(text)\n",
        "    text = [text]\n",
        "    X = tokenizer.texts_to_sequences(text)\n",
        "    X = pad_sequences(X, padding='post', maxlen=maxlen)\n",
        "    # print(np.sum(model.predict(X)[0]))\n",
        "    probs = model.predict(X)[0]\n",
        "    # assert np.sum(probs) == 1.0\n",
        "    prediction = np.argmax(probs)\n",
        "    print('input text: ', orig_text)\n",
        "    print('predicted class: ', prediction + 1, 'confidence:', np.max(probs))\n",
        "\n",
        "\n",
        "def plot_history(history):\n",
        "    acc = history.history['accuracy']\n",
        "    val_acc = history.history['val_accuracy']\n",
        "    loss = history.history['loss']\n",
        "    val_loss = history.history['val_loss']\n",
        "    x = range(1, len(acc) + 1)\n",
        "\n",
        "    plt.figure(figsize=(12, 5))\n",
        "    plt.subplot(1, 2, 1)\n",
        "    plt.plot(x, acc, 'b', label='Training acc')\n",
        "    plt.plot(x, val_acc, 'r', label='Validation acc')\n",
        "    plt.title('Training and validation accuracy')\n",
        "    plt.legend()\n",
        "    plt.subplot(1, 2, 2)\n",
        "    plt.plot(x, loss, 'b', label='Training loss')\n",
        "    plt.plot(x, val_loss, 'r', label='Validation loss')\n",
        "    plt.title('Training and validation loss')\n",
        "    plt.legend()\n",
        "    \n",
        "\n",
        "class CNN234GramModel1(tf.keras.Model):\n",
        "    def __init__(self, nb_filters=50,\n",
        "                 FFN_units=512, nb_classes=2, dropout_rate=0.1, name=\"dcnn\"):\n",
        "        super(CNN234GramModel1, self).__init__(name=name)\n",
        "        \n",
        "        self.embedding = layers.Embedding(vocab_size, embedding_dim,\n",
        "                                        input_length=maxlen,\n",
        "                                        weights=[embedding_matrix],\n",
        "                                        trainable=False)\n",
        "\n",
        "        self.bigram = layers.Conv1D(filters=nb_filters, kernel_size=2, padding=\"valid\")\n",
        "        self.trigram = layers.Conv1D(filters=nb_filters, kernel_size=3, padding=\"valid\")\n",
        "        self.fourgram = layers.Conv1D(filters=nb_filters, kernel_size=4, padding=\"valid\")\n",
        "        self.batchnorm = layers.BatchNormalization()\n",
        "        self.activation = layers.Activation('relu')\n",
        "        self.pool1 = layers.GlobalMaxPooling1D()\n",
        "        self.pool2 = layers.GlobalMaxPooling1D()\n",
        "        self.pool3 = layers.GlobalMaxPooling1D()\n",
        "        self.dense_1 = layers.Dense(units=FFN_units, activation=\"relu\")\n",
        "        self.dropout = layers.Dropout(rate=dropout_rate)\n",
        "        if nb_classes == 2:\n",
        "        self.last_dense = layers.Dense(units=1, activation=\"sigmoid\")\n",
        "        else:\n",
        "        self.last_dense = layers.Dense(units=nb_classes, activation=\"softmax\")\n",
        "        \n",
        "    def convolv(self, ngram, embs):\n",
        "        x = ngram(embs)\n",
        "        x = self.batchnorm(x)\n",
        "        x = self.activation(x)\n",
        "        x = self.pool(x)\n",
        "        return x\n",
        "        \n",
        "    def call(self, inputs, training):\n",
        "        embs = self.embedding(inputs)\n",
        "        x_1 = self.convolv(self.bigram, embs)\n",
        "        x_2 = self.convolv(self.trigram, embs)\n",
        "        x_3 = self.convolv(self.fourgram, embs)\n",
        "        merged = tf.concat([x_1, x_2, x_3], axis=-1) # (batch_size, 3*nb_filters)\n",
        "        merged = self.dense_1(merged)\n",
        "        merged = self.dropout(merged, training)\n",
        "        output = self.last_dense(merged)\n",
        "\n",
        "        return output\n",
        "\n",
        "NB_FILTER = 100\n",
        "FFN_UNITS = 256\n",
        "NB_CLASSES = 5\n",
        "\n",
        "DROPOUT_RATE = 0.2\n",
        "\n",
        "NB_EPOCHS = 5\n",
        "\n",
        "\n",
        "\n",
        "dcnn_v2 = CNN234GramModel1(nb_filters=NB_FILTER, FFN_units=FFN_UNITS, \n",
        "                           nb_classes=NB_CLASSES, dropout_rate=DROPOUT_RATE)\n",
        "\n",
        "if NB_CLASSES == 2:\n",
        "    dcnn_v2.compile(loss=\"binary_crossentropy\",\n",
        "                    optimizer=\"adam\", metrics=[\"accuracy\"])\n",
        "else:\n",
        "    dcnn_v2.compile(loss=\"categorical_crossentropy\", optimizer=\"adam\",\n",
        "                    metrics=[\"accuracy\"])"
      ],
      "execution_count": null,
      "outputs": []
    },
    {
      "cell_type": "markdown",
      "metadata": {
        "id": "tLN6y32XTj87"
      },
      "source": [
        "### training the v2 model"
      ]
    },
    {
      "cell_type": "code",
      "metadata": {
        "id": "mesD82QtK0fA",
        "colab": {
          "base_uri": "https://localhost:8080/",
          "height": 1000
        },
        "outputId": "bdecfcf8-bde3-4526-b848-eba40ac5fd9d"
      },
      "source": [
        "training(dcnn_v2)"
      ],
      "execution_count": null,
      "outputs": [
        {
          "output_type": "stream",
          "name": "stdout",
          "text": [
            "Epoch 1/100\n",
            "3937/3937 [==============================] - 49s 12ms/step - loss: 1.3550 - accuracy: 0.4717 - val_loss: 1.2788 - val_accuracy: 0.4255\n",
            "Epoch 2/100\n",
            "3937/3937 [==============================] - 47s 12ms/step - loss: 1.2455 - accuracy: 0.5226 - val_loss: 1.1118 - val_accuracy: 0.5394\n",
            "Epoch 3/100\n",
            "3937/3937 [==============================] - 46s 12ms/step - loss: 1.2100 - accuracy: 0.5354 - val_loss: 1.2075 - val_accuracy: 0.4927\n",
            "Epoch 4/100\n",
            "3937/3937 [==============================] - 47s 12ms/step - loss: 1.1798 - accuracy: 0.5456 - val_loss: 1.1038 - val_accuracy: 0.5188\n",
            "Epoch 5/100\n",
            "3937/3937 [==============================] - 47s 12ms/step - loss: 1.1579 - accuracy: 0.5492 - val_loss: 1.0706 - val_accuracy: 0.5541\n",
            "Epoch 6/100\n",
            "3937/3937 [==============================] - 48s 12ms/step - loss: 1.1366 - accuracy: 0.5539 - val_loss: 1.0378 - val_accuracy: 0.5835\n",
            "Epoch 7/100\n",
            "3937/3937 [==============================] - 47s 12ms/step - loss: 1.1202 - accuracy: 0.5576 - val_loss: 1.1109 - val_accuracy: 0.5122\n",
            "Epoch 8/100\n",
            "3937/3937 [==============================] - 46s 12ms/step - loss: 1.1046 - accuracy: 0.5593 - val_loss: 1.0628 - val_accuracy: 0.5414\n",
            "Epoch 9/100\n",
            "3937/3937 [==============================] - 46s 12ms/step - loss: 1.0876 - accuracy: 0.5611 - val_loss: 1.0726 - val_accuracy: 0.5373\n",
            "Epoch 10/100\n",
            "3937/3937 [==============================] - 46s 12ms/step - loss: 1.0748 - accuracy: 0.5646 - val_loss: 1.0990 - val_accuracy: 0.5117\n",
            "Epoch 11/100\n",
            "3937/3937 [==============================] - 47s 12ms/step - loss: 1.0634 - accuracy: 0.5648 - val_loss: 1.2094 - val_accuracy: 0.4201\n",
            "Epoch 12/100\n",
            "3937/3937 [==============================] - 46s 12ms/step - loss: 1.0496 - accuracy: 0.5679 - val_loss: 1.1372 - val_accuracy: 0.4833\n",
            "Epoch 13/100\n",
            "3937/3937 [==============================] - 48s 12ms/step - loss: 1.0424 - accuracy: 0.5703 - val_loss: 1.0434 - val_accuracy: 0.5614\n",
            "Epoch 14/100\n",
            "3937/3937 [==============================] - 48s 12ms/step - loss: 1.0284 - accuracy: 0.5706 - val_loss: 1.0654 - val_accuracy: 0.5432\n",
            "Epoch 15/100\n",
            "3937/3937 [==============================] - 47s 12ms/step - loss: 1.0201 - accuracy: 0.5733 - val_loss: 1.0345 - val_accuracy: 0.5685\n",
            "Epoch 16/100\n",
            "3937/3937 [==============================] - 48s 12ms/step - loss: 1.0121 - accuracy: 0.5737 - val_loss: 1.1300 - val_accuracy: 0.5030\n",
            "Epoch 17/100\n",
            "3937/3937 [==============================] - 48s 12ms/step - loss: 1.0045 - accuracy: 0.5730 - val_loss: 1.0583 - val_accuracy: 0.5793\n",
            "Epoch 18/100\n",
            "3937/3937 [==============================] - 48s 12ms/step - loss: 0.9961 - accuracy: 0.5743 - val_loss: 1.1351 - val_accuracy: 0.4660\n",
            "Epoch 19/100\n",
            "3937/3937 [==============================] - 48s 12ms/step - loss: 0.9892 - accuracy: 0.5752 - val_loss: 1.0525 - val_accuracy: 0.5665\n",
            "Epoch 20/100\n",
            "3937/3937 [==============================] - 48s 12ms/step - loss: 0.9803 - accuracy: 0.5764 - val_loss: 1.0724 - val_accuracy: 0.6042\n",
            "Epoch 21/100\n",
            "3937/3937 [==============================] - 46s 12ms/step - loss: 0.9759 - accuracy: 0.5775 - val_loss: 1.0970 - val_accuracy: 0.5810\n",
            "Epoch 22/100\n",
            "3937/3937 [==============================] - 47s 12ms/step - loss: 0.9701 - accuracy: 0.5787 - val_loss: 1.0616 - val_accuracy: 0.6050\n",
            "Epoch 23/100\n",
            "3937/3937 [==============================] - 47s 12ms/step - loss: 0.9610 - accuracy: 0.5798 - val_loss: 1.0995 - val_accuracy: 0.5976\n",
            "Epoch 24/100\n",
            "3937/3937 [==============================] - 47s 12ms/step - loss: 0.9541 - accuracy: 0.5799 - val_loss: 1.1659 - val_accuracy: 0.5630\n",
            "Epoch 25/100\n",
            "3937/3937 [==============================] - 47s 12ms/step - loss: 0.9501 - accuracy: 0.5811 - val_loss: 1.0920 - val_accuracy: 0.5895\n",
            "Epoch 26/100\n",
            "3937/3937 [==============================] - 47s 12ms/step - loss: 0.9430 - accuracy: 0.5808 - val_loss: 1.0885 - val_accuracy: 0.5740\n",
            "Epoch 27/100\n",
            "3937/3937 [==============================] - 47s 12ms/step - loss: 0.9382 - accuracy: 0.5812 - val_loss: 1.1582 - val_accuracy: 0.5583\n",
            "Epoch 28/100\n",
            "3937/3937 [==============================] - 47s 12ms/step - loss: 0.9314 - accuracy: 0.5818 - val_loss: 1.3502 - val_accuracy: 0.5568\n",
            "Epoch 29/100\n",
            "3937/3937 [==============================] - 47s 12ms/step - loss: 0.9246 - accuracy: 0.5828 - val_loss: 1.2239 - val_accuracy: 0.5741\n",
            "Epoch 30/100\n",
            "3937/3937 [==============================] - 47s 12ms/step - loss: 0.9195 - accuracy: 0.5841 - val_loss: 1.1773 - val_accuracy: 0.5946\n",
            "Epoch 31/100\n",
            "3937/3937 [==============================] - 47s 12ms/step - loss: 0.9147 - accuracy: 0.5834 - val_loss: 1.1043 - val_accuracy: 0.5862\n",
            "Epoch 32/100\n",
            "3937/3937 [==============================] - 47s 12ms/step - loss: 0.9083 - accuracy: 0.5865 - val_loss: 1.1843 - val_accuracy: 0.5932\n",
            "Epoch 33/100\n",
            "3937/3937 [==============================] - 47s 12ms/step - loss: 0.9056 - accuracy: 0.5856 - val_loss: 1.3120 - val_accuracy: 0.6075\n",
            "Epoch 34/100\n",
            "3937/3937 [==============================] - 47s 12ms/step - loss: 0.9030 - accuracy: 0.5855 - val_loss: 1.2968 - val_accuracy: 0.5665\n",
            "Epoch 35/100\n",
            "3937/3937 [==============================] - 47s 12ms/step - loss: 0.8979 - accuracy: 0.5865 - val_loss: 1.3539 - val_accuracy: 0.6024\n",
            "Epoch 36/100\n",
            "3937/3937 [==============================] - 47s 12ms/step - loss: 0.8920 - accuracy: 0.5882 - val_loss: 1.2189 - val_accuracy: 0.5809\n",
            "Epoch 37/100\n",
            "3937/3937 [==============================] - 47s 12ms/step - loss: 0.8855 - accuracy: 0.5890 - val_loss: 1.3417 - val_accuracy: 0.5840\n",
            "Epoch 38/100\n",
            "3937/3937 [==============================] - 47s 12ms/step - loss: 0.8834 - accuracy: 0.5893 - val_loss: 1.4406 - val_accuracy: 0.5963\n",
            "Epoch 39/100\n",
            "3937/3937 [==============================] - 47s 12ms/step - loss: 0.8791 - accuracy: 0.5903 - val_loss: 1.3018 - val_accuracy: 0.5955\n",
            "Epoch 40/100\n",
            "3937/3937 [==============================] - 47s 12ms/step - loss: 0.8719 - accuracy: 0.5914 - val_loss: 1.3222 - val_accuracy: 0.6047\n",
            "Epoch 41/100\n",
            "3937/3937 [==============================] - 47s 12ms/step - loss: 0.8685 - accuracy: 0.5919 - val_loss: 1.4578 - val_accuracy: 0.5984\n",
            "Epoch 42/100\n",
            "3937/3937 [==============================] - 47s 12ms/step - loss: 0.8647 - accuracy: 0.5918 - val_loss: 1.6162 - val_accuracy: 0.5687\n",
            "Epoch 43/100\n",
            "3937/3937 [==============================] - 47s 12ms/step - loss: 0.8624 - accuracy: 0.5920 - val_loss: 1.5421 - val_accuracy: 0.5866\n",
            "Epoch 44/100\n",
            "3937/3937 [==============================] - 47s 12ms/step - loss: 0.8580 - accuracy: 0.5936 - val_loss: 1.4000 - val_accuracy: 0.5980\n",
            "Epoch 45/100\n",
            "3937/3937 [==============================] - 48s 12ms/step - loss: 0.8522 - accuracy: 0.5941 - val_loss: 1.4530 - val_accuracy: 0.5944\n",
            "Epoch 46/100\n",
            "3937/3937 [==============================] - 48s 12ms/step - loss: 0.8492 - accuracy: 0.5951 - val_loss: 1.4204 - val_accuracy: 0.5840\n",
            "Epoch 47/100\n",
            "3937/3937 [==============================] - 48s 12ms/step - loss: 0.8490 - accuracy: 0.5940 - val_loss: 1.4580 - val_accuracy: 0.5883\n",
            "Epoch 48/100\n",
            "3937/3937 [==============================] - 48s 12ms/step - loss: 0.8425 - accuracy: 0.5974 - val_loss: 1.8976 - val_accuracy: 0.5889\n",
            "Epoch 49/100\n",
            "3937/3937 [==============================] - 48s 12ms/step - loss: 0.8414 - accuracy: 0.5951 - val_loss: 1.7535 - val_accuracy: 0.5924\n",
            "Epoch 50/100\n",
            "3937/3937 [==============================] - 48s 12ms/step - loss: 0.8370 - accuracy: 0.5961 - val_loss: 1.5962 - val_accuracy: 0.5975\n",
            "Epoch 51/100\n",
            "3937/3937 [==============================] - 48s 12ms/step - loss: 0.8318 - accuracy: 0.5982 - val_loss: 1.6542 - val_accuracy: 0.5886\n",
            "Epoch 52/100\n",
            "3937/3937 [==============================] - 47s 12ms/step - loss: 0.8305 - accuracy: 0.5992 - val_loss: 1.6674 - val_accuracy: 0.5796\n",
            "Epoch 53/100\n",
            "3937/3937 [==============================] - 48s 12ms/step - loss: 0.8262 - accuracy: 0.5995 - val_loss: 1.8523 - val_accuracy: 0.5998\n",
            "Epoch 54/100\n",
            "3937/3937 [==============================] - 47s 12ms/step - loss: 0.8242 - accuracy: 0.5982 - val_loss: 1.8192 - val_accuracy: 0.5898\n",
            "Epoch 55/100\n",
            "3937/3937 [==============================] - 48s 12ms/step - loss: 0.8243 - accuracy: 0.6006 - val_loss: 2.1054 - val_accuracy: 0.5868\n",
            "Epoch 56/100\n",
            "3937/3937 [==============================] - 48s 12ms/step - loss: 0.8155 - accuracy: 0.6021 - val_loss: 1.7564 - val_accuracy: 0.6014\n",
            "Epoch 57/100\n",
            "3937/3937 [==============================] - 48s 12ms/step - loss: 0.8149 - accuracy: 0.6019 - val_loss: 1.5898 - val_accuracy: 0.5966\n",
            "Epoch 58/100\n",
            "3937/3937 [==============================] - 47s 12ms/step - loss: 0.8142 - accuracy: 0.6007 - val_loss: 1.7127 - val_accuracy: 0.6009\n",
            "Epoch 59/100\n",
            "3937/3937 [==============================] - 47s 12ms/step - loss: 0.8083 - accuracy: 0.6040 - val_loss: 1.6084 - val_accuracy: 0.6009\n",
            "Epoch 60/100\n",
            "3937/3937 [==============================] - 48s 12ms/step - loss: 0.8062 - accuracy: 0.6032 - val_loss: 2.0431 - val_accuracy: 0.5968\n",
            "Epoch 61/100\n",
            "3937/3937 [==============================] - 47s 12ms/step - loss: 0.8035 - accuracy: 0.6049 - val_loss: 1.8185 - val_accuracy: 0.5820\n",
            "Epoch 62/100\n",
            "3937/3937 [==============================] - 47s 12ms/step - loss: 0.8038 - accuracy: 0.6047 - val_loss: 2.5029 - val_accuracy: 0.5933\n",
            "Epoch 63/100\n",
            "3937/3937 [==============================] - 47s 12ms/step - loss: 0.7988 - accuracy: 0.6053 - val_loss: 2.1208 - val_accuracy: 0.5935\n",
            "Epoch 64/100\n",
            "3937/3937 [==============================] - 47s 12ms/step - loss: 0.7960 - accuracy: 0.6053 - val_loss: 2.2110 - val_accuracy: 0.5823\n",
            "Epoch 65/100\n",
            "3937/3937 [==============================] - 47s 12ms/step - loss: 0.7949 - accuracy: 0.6054 - val_loss: 1.8937 - val_accuracy: 0.5911\n",
            "Epoch 66/100\n",
            "3937/3937 [==============================] - 48s 12ms/step - loss: 0.7921 - accuracy: 0.6065 - val_loss: 2.0755 - val_accuracy: 0.5982\n",
            "Epoch 67/100\n",
            "3937/3937 [==============================] - 47s 12ms/step - loss: 0.7894 - accuracy: 0.6070 - val_loss: 2.2385 - val_accuracy: 0.5995\n",
            "Epoch 68/100\n",
            "3937/3937 [==============================] - 47s 12ms/step - loss: 0.7866 - accuracy: 0.6075 - val_loss: 2.5932 - val_accuracy: 0.5893\n",
            "Epoch 69/100\n",
            "3937/3937 [==============================] - 47s 12ms/step - loss: 0.7874 - accuracy: 0.6076 - val_loss: 2.2824 - val_accuracy: 0.5990\n",
            "Epoch 70/100\n",
            "3937/3937 [==============================] - 48s 12ms/step - loss: 0.7823 - accuracy: 0.6080 - val_loss: 1.9271 - val_accuracy: 0.5975\n",
            "Epoch 71/100\n",
            "3937/3937 [==============================] - 48s 12ms/step - loss: 0.7818 - accuracy: 0.6088 - val_loss: 2.4312 - val_accuracy: 0.5849\n",
            "Epoch 72/100\n",
            "3937/3937 [==============================] - 47s 12ms/step - loss: 0.7805 - accuracy: 0.6076 - val_loss: 2.1949 - val_accuracy: 0.5909\n",
            "Epoch 73/100\n",
            "3937/3937 [==============================] - 48s 12ms/step - loss: 0.7765 - accuracy: 0.6088 - val_loss: 2.7079 - val_accuracy: 0.5944\n",
            "Epoch 74/100\n",
            "3937/3937 [==============================] - 47s 12ms/step - loss: 0.7764 - accuracy: 0.6098 - val_loss: 2.6514 - val_accuracy: 0.5903\n",
            "Epoch 75/100\n",
            "3937/3937 [==============================] - 47s 12ms/step - loss: 0.7739 - accuracy: 0.6089 - val_loss: 2.5186 - val_accuracy: 0.5931\n",
            "Epoch 76/100\n",
            "3937/3937 [==============================] - 47s 12ms/step - loss: 0.7710 - accuracy: 0.6103 - val_loss: 2.6010 - val_accuracy: 0.5955\n",
            "Epoch 77/100\n",
            "3937/3937 [==============================] - 47s 12ms/step - loss: 0.7697 - accuracy: 0.6104 - val_loss: 2.3967 - val_accuracy: 0.5960\n",
            "Epoch 78/100\n",
            "3937/3937 [==============================] - 48s 12ms/step - loss: 0.7683 - accuracy: 0.6101 - val_loss: 2.7308 - val_accuracy: 0.5884\n",
            "Epoch 79/100\n",
            "3937/3937 [==============================] - 48s 12ms/step - loss: 0.7652 - accuracy: 0.6120 - val_loss: 2.5857 - val_accuracy: 0.5696\n",
            "Epoch 80/100\n",
            "3937/3937 [==============================] - 48s 12ms/step - loss: 0.7644 - accuracy: 0.6111 - val_loss: 2.8725 - val_accuracy: 0.5869\n",
            "Epoch 81/100\n",
            "3937/3937 [==============================] - 48s 12ms/step - loss: 0.7594 - accuracy: 0.6128 - val_loss: 2.9904 - val_accuracy: 0.5861\n",
            "Epoch 82/100\n",
            "3937/3937 [==============================] - 47s 12ms/step - loss: 0.7603 - accuracy: 0.6127 - val_loss: 2.7954 - val_accuracy: 0.5636\n",
            "Epoch 83/100\n",
            "3937/3937 [==============================] - 47s 12ms/step - loss: 0.7565 - accuracy: 0.6130 - val_loss: 2.6924 - val_accuracy: 0.5876\n",
            "Epoch 84/100\n",
            "3937/3937 [==============================] - 48s 12ms/step - loss: 0.7571 - accuracy: 0.6128 - val_loss: 2.9451 - val_accuracy: 0.5760\n",
            "Epoch 85/100\n",
            "3937/3937 [==============================] - 48s 12ms/step - loss: 0.7528 - accuracy: 0.6133 - val_loss: 3.7127 - val_accuracy: 0.5870\n",
            "Epoch 86/100\n",
            "3937/3937 [==============================] - 47s 12ms/step - loss: 0.7538 - accuracy: 0.6134 - val_loss: 3.4816 - val_accuracy: 0.5644\n",
            "Epoch 87/100\n",
            "3937/3937 [==============================] - 48s 12ms/step - loss: 0.7499 - accuracy: 0.6156 - val_loss: 3.3133 - val_accuracy: 0.5845\n",
            "Epoch 88/100\n",
            "3937/3937 [==============================] - 47s 12ms/step - loss: 0.7505 - accuracy: 0.6146 - val_loss: 3.3569 - val_accuracy: 0.5839\n",
            "Epoch 89/100\n",
            "3937/3937 [==============================] - 47s 12ms/step - loss: 0.7475 - accuracy: 0.6147 - val_loss: 3.8162 - val_accuracy: 0.5847\n",
            "Epoch 90/100\n",
            "3937/3937 [==============================] - 48s 12ms/step - loss: 0.7482 - accuracy: 0.6151 - val_loss: 4.0492 - val_accuracy: 0.5512\n",
            "Epoch 91/100\n",
            "3937/3937 [==============================] - 48s 12ms/step - loss: 0.7447 - accuracy: 0.6144 - val_loss: 3.1340 - val_accuracy: 0.5858\n",
            "Epoch 92/100\n",
            "3937/3937 [==============================] - 47s 12ms/step - loss: 0.7467 - accuracy: 0.6153 - val_loss: 3.9466 - val_accuracy: 0.5812\n",
            "Epoch 93/100\n",
            "3937/3937 [==============================] - 47s 12ms/step - loss: 0.7433 - accuracy: 0.6158 - val_loss: 3.4040 - val_accuracy: 0.5894\n",
            "Epoch 94/100\n",
            "3937/3937 [==============================] - 48s 12ms/step - loss: 0.7418 - accuracy: 0.6164 - val_loss: 3.5549 - val_accuracy: 0.5630\n",
            "Epoch 95/100\n",
            "3937/3937 [==============================] - 48s 12ms/step - loss: 0.7393 - accuracy: 0.6168 - val_loss: 3.6532 - val_accuracy: 0.5638\n",
            "Epoch 96/100\n",
            "3937/3937 [==============================] - 48s 12ms/step - loss: 0.7386 - accuracy: 0.6164 - val_loss: 4.0830 - val_accuracy: 0.5574\n",
            "Epoch 97/100\n",
            "3937/3937 [==============================] - 48s 12ms/step - loss: 0.7357 - accuracy: 0.6170 - val_loss: 3.2014 - val_accuracy: 0.5827\n",
            "Epoch 98/100\n",
            "3937/3937 [==============================] - 47s 12ms/step - loss: 0.7371 - accuracy: 0.6168 - val_loss: 4.1224 - val_accuracy: 0.5826\n",
            "Epoch 99/100\n",
            "3937/3937 [==============================] - 47s 12ms/step - loss: 0.7329 - accuracy: 0.6173 - val_loss: 4.0003 - val_accuracy: 0.5755\n",
            "Epoch 100/100\n",
            "3937/3937 [==============================] - 48s 12ms/step - loss: 0.7329 - accuracy: 0.6176 - val_loss: 3.7880 - val_accuracy: 0.5838\n",
            "Training Accuracy: 0.5916\n",
            "Testing Accuracy:  0.5804\n",
            "input text:  I liked the product quite a lot.\n",
            "predicted class:  4 confidence: 0.4270008\n",
            "input text:  playing this was the worst time in my life.\n",
            "predicted class:  5 confidence: 0.999798\n",
            "accuracy: 0.5803700925231308\n",
            "matthews_corrcoef: 0.22974056487796335\n",
            "classification_report:\n",
            "                    pre       rec       spe        f1       geo       iba       sup\n",
            "\n",
            "          0       0.66      0.11      1.00      0.19      0.33      0.10      8380\n",
            "          1       0.18      0.04      0.99      0.06      0.19      0.03      6711\n",
            "          2       0.30      0.05      0.99      0.08      0.21      0.04     13254\n",
            "          3       0.32      0.32      0.83      0.32      0.52      0.25     24551\n",
            "          4       0.66      0.89      0.42      0.76      0.61      0.39     67074\n",
            "\n",
            "avg / total       0.53      0.58      0.64      0.52      0.51      0.29    119970\n",
            "\n"
          ]
        },
        {
          "output_type": "display_data",
          "data": {
            "image/png": "[encoded data removed]",
            "text/plain": [
              "<Figure size 864x360 with 2 Axes>"
            ]
          },
          "metadata": {}
        }
      ]
    },
    {
      "cell_type": "markdown",
      "metadata": {
        "id": "Po5OvSqxTfKO"
      },
      "source": [
        "### plot the model metrics till now"
      ]
    },
    {
      "cell_type": "code",
      "metadata": {
        "colab": {
          "base_uri": "https://localhost:8080/",
          "height": 503
        },
        "id": "UCHDVJuIJvkp",
        "outputId": "e2663346-c921-44e5-a6cd-fba7995f20fb"
      },
      "source": [
        "import matplotlib.pyplot as plt\n",
        "%matplotlib inline\n",
        "import seaborn as sns\n",
        "sns.set(rc={'figure.figsize':(11.7,8.27)})\n",
        "\n",
        "# data\n",
        "x = [\"CV+NB\",             \"FF\",               \"CNN_trigram\",      \"CNN234GramModel\",   \"CNN234GramModel_v2\"]\n",
        "y = [0.33504969057289086, 0.2148927270393169, 0.3006712012400788, 0.29459743828288504, 0.22974056487796335]\n",
        "\n",
        "ax = sns.barplot(x=x, y=y)"
      ],
      "execution_count": null,
      "outputs": [
        {
          "output_type": "display_data",
          "data": {
            "image/png": "[encoded data removed]",
            "text/plain": [
              "<Figure size 842.4x595.44 with 1 Axes>"
            ]
          },
          "metadata": {}
        }
      ]
    },
    {
      "cell_type": "markdown",
      "metadata": {
        "id": "LYI3QkjNTXhD"
      },
      "source": [
        "### save the CNN v2 model"
      ]
    },
    {
      "cell_type": "code",
      "metadata": {
        "id": "JyrqhsumJzkP",
        "colab": {
          "base_uri": "https://localhost:8080/"
        },
        "outputId": "199418e9-bc25-448a-8c8b-f0be92c0eb2c"
      },
      "source": [
        "cnn_234gram_modelv2_path = \"/content/drive/MyDrive/educative_natural_language_processing_for_professionals/models/cnn_234gram_modelv2\"\n",
        "dcnn_v2.save(cnn_234gram_modelv2_path)"
      ],
      "execution_count": null,
      "outputs": [
        {
          "output_type": "stream",
          "name": "stdout",
          "text": [
            "INFO:tensorflow:Assets written to: /content/drive/MyDrive/educative_natural_language_processing_for_professionals/models/cnn_234gram_modelv2/assets\n"
          ]
        }
      ]
    },
    {
      "cell_type": "code",
      "metadata": {
        "id": "4JhkDSHiEKTe"
      },
      "source": [
        ""
      ],
      "execution_count": null,
      "outputs": []
    }
  ]
}