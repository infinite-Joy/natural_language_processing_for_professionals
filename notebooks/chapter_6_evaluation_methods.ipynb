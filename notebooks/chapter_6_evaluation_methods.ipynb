{
  "nbformat": 4,
  "nbformat_minor": 0,
  "metadata": {
    "colab": {
      "provenance": [],
      "toc_visible": true
    },
    "kernelspec": {
      "name": "python3",
      "display_name": "Python 3"
    },
    "language_info": {
      "name": "python"
    }
  },
  "cells": [
    {
      "cell_type": "markdown",
      "source": [
        "[![Open In Colab](https://colab.research.google.com/assets/colab-badge.svg)](https://colab.research.google.com/github/infinite-Joy/natural_language_processing_for_professionals/blob/master/notebooks/chapter_6_evaluation_methods.ipynb)"
      ],
      "metadata": {
        "id": "N1itdHO1REkj"
      }
    },
    {
      "cell_type": "markdown",
      "metadata": {
        "id": "rh4f2VL2u4yX"
      },
      "source": [
        "## download the data\n",
        "\n",
        "`Video_Games_5.json.gz` files are downloaded from the respective url locations. This is done using `wget` command."
      ]
    },
    {
      "cell_type": "code",
      "source": [
        "!wget https://github.com/infinite-Joy/natural_language_processing_for_professionals/raw/main/data/Video_Games.json.gz"
      ],
      "metadata": {
        "colab": {
          "base_uri": "https://localhost:8080/"
        },
        "id": "XrHMUG9FfwSG",
        "outputId": "e3e99c52-d44c-4578-e746-209e5c358a57"
      },
      "execution_count": null,
      "outputs": [
        {
          "output_type": "stream",
          "name": "stdout",
          "text": [
            "--2023-05-11 15:49:18--  https://github.com/infinite-Joy/natural_language_processing_for_professionals/raw/main/data/Video_Games.json.gz\n",
            "Resolving github.com (github.com)... 20.27.177.113\n",
            "Connecting to github.com (github.com)|20.27.177.113|:443... connected.\n",
            "HTTP request sent, awaiting response... 302 Found\n",
            "Location: https://media.githubusercontent.com/media/infinite-Joy/natural_language_processing_for_professionals/main/data/Video_Games.json.gz [following]\n",
            "--2023-05-11 15:49:18--  https://media.githubusercontent.com/media/infinite-Joy/natural_language_processing_for_professionals/main/data/Video_Games.json.gz\n",
            "Resolving media.githubusercontent.com (media.githubusercontent.com)... 185.199.108.133, 185.199.109.133, 185.199.110.133, ...\n",
            "Connecting to media.githubusercontent.com (media.githubusercontent.com)|185.199.108.133|:443... connected.\n",
            "HTTP request sent, awaiting response... 200 OK\n",
            "Length: 522823613 (499M) [application/octet-stream]\n",
            "Saving to: ‘Video_Games.json.gz’\n",
            "\n",
            "Video_Games.json.gz 100%[===================>] 498.60M  93.3MB/s    in 5.9s    \n",
            "\n",
            "2023-05-11 15:49:54 (84.5 MB/s) - ‘Video_Games.json.gz’ saved [522823613/522823613]\n",
            "\n"
          ]
        }
      ]
    },
    {
      "cell_type": "code",
      "metadata": {
        "colab": {
          "base_uri": "https://localhost:8080/"
        },
        "id": "J2sv-UB0tm6a",
        "outputId": "ce5d48a4-fdca-4fc4-a1f4-4a324746dfde"
      },
      "source": [
        "import gzip\n",
        "import json\n",
        "import pandas as pd\n",
        "import string\n",
        "import imblearn\n",
        "\n",
        "# map punctuation to space\n",
        "translator = str.maketrans(string.punctuation, ' '*len(string.punctuation)) \n",
        "\n",
        "def text_preprocessing(text):\n",
        "    \"\"\"\n",
        "    Preprocess the text for better understanding\n",
        "    \n",
        "    \"\"\"\n",
        "    text = text.strip()\n",
        "    text = text.lower()\n",
        "    text = text.replace('\\n', '.')\n",
        "    return text\n",
        "\n",
        "def parse(path):\n",
        "    g = gzip.open(path, 'rb')\n",
        "    for l in g:\n",
        "        yield json.loads(l)\n",
        "\n",
        "def getDF(path):\n",
        "    df = {}\n",
        "    i = 0\n",
        "    for d in parse(path):\n",
        "        df[i] = d\n",
        "        i += 1\n",
        "    return pd.DataFrame.from_dict(df, orient='index')\n",
        "\n",
        "df = getDF('./Video_Games.json.gz')\n",
        "df = df[['reviewText', 'overall']]\n",
        "df = df[df['reviewText'].notnull()]\n",
        "df['reviewText'] = df['reviewText'].apply(text_preprocessing)\n",
        "df = df.dropna()\n",
        "df = df.drop_duplicates()\n",
        "print(df.shape)"
      ],
      "execution_count": null,
      "outputs": [
        {
          "output_type": "stream",
          "name": "stdout",
          "text": [
            "(2191356, 2)\n"
          ]
        }
      ]
    },
    {
      "cell_type": "markdown",
      "metadata": {
        "id": "M8I5EgDfsxcI"
      },
      "source": [
        "## train test split\n",
        "\n",
        "spplit the dataset based on the label distribution. The test size is 0.3 and random state is given so that the split is the same for the different lessons."
      ]
    },
    {
      "cell_type": "code",
      "metadata": {
        "colab": {
          "base_uri": "https://localhost:8080/"
        },
        "id": "b1zEQ9wvt5F4",
        "outputId": "7defe9f7-b929-4224-fb79-023ab9185510"
      },
      "source": [
        "from sklearn.model_selection import train_test_split\n",
        "\n",
        "df_train, df_test = train_test_split(df, test_size=0.3, stratify=df.overall, random_state=42)\n",
        "\n",
        "X_train = df_train['reviewText']\n",
        "y_train = df_train['overall']\n",
        "\n",
        "X_test = df_test['reviewText']\n",
        "y_test = df_test['overall']\n",
        "\n",
        "print(len(df_train), len(df_test))"
      ],
      "execution_count": null,
      "outputs": [
        {
          "output_type": "stream",
          "name": "stdout",
          "text": [
            "280689 120296\n"
          ]
        }
      ]
    },
    {
      "cell_type": "markdown",
      "metadata": {
        "id": "P_JMwNoKtFyo"
      },
      "source": [
        "## baseline classifier\n",
        "\n",
        "A very naive classifier where the labels are assigned randomly.\n",
        "\n",
        "The precision values for the baseline classifier are according to the distribution of the output class and the recall is 20%. The  matthews correlation coefficient is almost 0 which means that the  classifier has not information on the output label. This is obvious now since we know the model, but sometimes a neural network may also give such values. This is the sign that neural network is also nothing better than a random classfier."
      ]
    },
    {
      "cell_type": "code",
      "metadata": {
        "id": "sS90P8Att8Ut"
      },
      "source": [
        "import random\n",
        "\n",
        "random.seed(42)\n",
        "\n",
        "def baseline_classifier(text):\n",
        "    \"\"\"\n",
        "    Baseline classifier returning a label randomly\n",
        "    \"\"\"\n",
        "    return float(random.choice([1, 2, 3, 4, 5]))\n",
        "\n",
        "predictions = df_test['reviewText'].apply(baseline_classifier)"
      ],
      "execution_count": null,
      "outputs": []
    },
    {
      "cell_type": "code",
      "metadata": {
        "colab": {
          "base_uri": "https://localhost:8080/"
        },
        "id": "DmfjtCwIt-T-",
        "outputId": "67a90bb9-8955-431f-a4de-af312be9b54d"
      },
      "source": [
        "from sklearn.metrics import accuracy_score, matthews_corrcoef\n",
        "from imblearn.metrics import classification_report_imbalanced\n",
        "\n",
        "print('accuracy from scikitlearn:', accuracy_score(df_test['overall'], predictions))\n",
        "print('matthews_corrcoef:', matthews_corrcoef(df_test['overall'], predictions))\n",
        "print('classification_report:\\n', classification_report_imbalanced(df_test['overall'], predictions))"
      ],
      "execution_count": null,
      "outputs": [
        {
          "output_type": "stream",
          "name": "stdout",
          "text": [
            "accuracy from scikitlearn: 0.1979866329720024\n",
            "matthews_corrcoef: -0.0028328122350226533\n",
            "classification_report:\n",
            "                    pre       rec       spe        f1       geo       iba       sup\n",
            "\n",
            "          1       0.07      0.20      0.80      0.10      0.40      0.15      8386\n",
            "          2       0.05      0.19      0.80      0.08      0.39      0.14      6711\n",
            "          3       0.11      0.20      0.80      0.14      0.40      0.15     13262\n",
            "          4       0.20      0.20      0.80      0.20      0.40      0.15     24579\n",
            "          5       0.56      0.20      0.80      0.29      0.40      0.15     67358\n",
            "\n",
            "avg / total       0.37      0.20      0.80      0.23      0.40      0.15    120296\n",
            "\n"
          ]
        }
      ]
    },
    {
      "cell_type": "markdown",
      "metadata": {
        "id": "OwMgROuF6oaR"
      },
      "source": [
        "## Custom accuracy function"
      ]
    },
    {
      "cell_type": "code",
      "metadata": {
        "colab": {
          "base_uri": "https://localhost:8080/"
        },
        "id": "Pnr8nAwo-vj_",
        "outputId": "43f3786e-bf6e-407b-d975-d0abd09e7df2"
      },
      "source": [
        "def calculate_acc(gold_labels, preds):\n",
        "    assert len(gold_labels) == len(preds), \"gold labels and predictions should have the same number of values\"\n",
        "    total_values = len(gold_labels)\n",
        "    matching = sum(int(g==p) for g, p in zip(gold_labels, preds))\n",
        "    return matching / total_values\n",
        "\n",
        "print('my accuracy function output', calculate_acc(df_test['overall'].values.tolist(), predictions.values.tolist()))"
      ],
      "execution_count": null,
      "outputs": [
        {
          "output_type": "stream",
          "name": "stdout",
          "text": [
            "my accuracy function output 0.1979866329720024\n"
          ]
        }
      ]
    },
    {
      "cell_type": "markdown",
      "metadata": {
        "id": "pr4A0D3SLYva"
      },
      "source": [
        "## precision score"
      ]
    },
    {
      "cell_type": "code",
      "metadata": {
        "id": "j3peQxgy-vZq",
        "colab": {
          "base_uri": "https://localhost:8080/"
        },
        "outputId": "70221565-44c5-4183-e04d-f6dd6a0300a0"
      },
      "source": [
        "from sklearn.metrics import precision_score\n",
        "\n",
        "print('scikitlearn precision score:', precision_score(\n",
        "    df_test['overall'].values.tolist(), predictions.values.tolist(),\n",
        "    labels=[1], average=None))\n",
        "\n",
        "def calculate_precision(gold_labels, preds, target_label):\n",
        "    assert len(gold_labels) == len(preds), \"gold labels and predictions should have the same number of values\"\n",
        "    true_positives = sum(int(g==p==target_label) for g, p in zip(gold_labels, preds))\n",
        "    all_positive_predictions = sum(int(p==target_label) for p in preds)\n",
        "    return true_positives / all_positive_predictions\n",
        "\n",
        "print('my precision functions', calculate_precision(\n",
        "    df_test['overall'].values.tolist(), predictions.values.tolist(), 1))"
      ],
      "execution_count": null,
      "outputs": [
        {
          "output_type": "stream",
          "name": "stdout",
          "text": [
            "scikitlearn precision score: [0.06834354]\n",
            "my precision functions 0.06834353797782558\n"
          ]
        }
      ]
    },
    {
      "cell_type": "markdown",
      "metadata": {
        "id": "eAZMMEcTQwCy"
      },
      "source": [
        "## recall score"
      ]
    },
    {
      "cell_type": "code",
      "metadata": {
        "colab": {
          "base_uri": "https://localhost:8080/"
        },
        "id": "BAwBs6EMQQN1",
        "outputId": "6a5d8b57-4bbc-4cd2-f396-9e9facca0678"
      },
      "source": [
        "from sklearn.metrics import recall_score\n",
        "\n",
        "print('scikitlearn recall score:', recall_score(\n",
        "    df_test['overall'].values.tolist(), predictions.values.tolist(),\n",
        "    labels=[1], average=None))\n",
        "\n",
        "def calculate_recall(gold_labels, preds, target_label):\n",
        "    assert len(gold_labels) == len(preds), \"gold labels and predictions should have the same number of values\"\n",
        "    true_positives = sum(int(g==p==target_label) for g, p in zip(gold_labels, preds))\n",
        "    all_correct_samples = sum(int(g==target_label) for g in gold_labels)\n",
        "    return true_positives / all_correct_samples\n",
        "\n",
        "print('my recall functions', calculate_recall(\n",
        "    df_test['overall'].values.tolist(), predictions.values.tolist(), 1))"
      ],
      "execution_count": null,
      "outputs": [
        {
          "output_type": "stream",
          "name": "stdout",
          "text": [
            "scikitlearn recall score: [0.19699499]\n",
            "my recall functions 0.19699499165275458\n"
          ]
        }
      ]
    },
    {
      "cell_type": "markdown",
      "metadata": {
        "id": "sjXrDYRsSI7c"
      },
      "source": [
        "## f1 score"
      ]
    },
    {
      "cell_type": "code",
      "metadata": {
        "colab": {
          "base_uri": "https://localhost:8080/"
        },
        "id": "38WfSENRSJ7z",
        "outputId": "1edb8ba4-937f-45d6-e898-b95a9b249b3a"
      },
      "source": [
        "from sklearn.metrics import f1_score\n",
        "\n",
        "print('scikitlearn f1 score:', f1_score(\n",
        "    df_test['overall'].values.tolist(), predictions.values.tolist(),\n",
        "    labels=[1], average=None))\n",
        "\n",
        "print('manual f1score calculation:', 2 * 0.06834353797782558 * 0.19699499165275458 / (0.06834353797782558 + 0.19699499165275458))"
      ],
      "execution_count": null,
      "outputs": [
        {
          "output_type": "stream",
          "name": "stdout",
          "text": [
            "scikitlearn f1 score: [0.10148043]\n",
            "manual f1score calculation: 0.10148043491614965\n"
          ]
        }
      ]
    },
    {
      "cell_type": "markdown",
      "metadata": {
        "id": "fdWy5kB4ZqMw"
      },
      "source": [
        "## classification report"
      ]
    },
    {
      "cell_type": "code",
      "metadata": {
        "colab": {
          "base_uri": "https://localhost:8080/"
        },
        "id": "68tsQzEkZwp_",
        "outputId": "36a3546f-b8c9-4157-f2db-fa265dd91bc1"
      },
      "source": [
        "from imblearn.metrics import classification_report_imbalanced\n",
        "\n",
        "print(classification_report_imbalanced(df_test['overall'], predictions))"
      ],
      "execution_count": null,
      "outputs": [
        {
          "output_type": "stream",
          "name": "stdout",
          "text": [
            "                   pre       rec       spe        f1       geo       iba       sup\n",
            "\n",
            "          1       0.07      0.20      0.80      0.10      0.40      0.15      8386\n",
            "          2       0.05      0.19      0.80      0.08      0.39      0.14      6711\n",
            "          3       0.11      0.20      0.80      0.14      0.40      0.15     13262\n",
            "          4       0.20      0.20      0.80      0.20      0.40      0.15     24579\n",
            "          5       0.56      0.20      0.80      0.29      0.40      0.15     67358\n",
            "\n",
            "avg / total       0.37      0.20      0.80      0.23      0.40      0.15    120296\n",
            "\n"
          ]
        }
      ]
    },
    {
      "cell_type": "markdown",
      "metadata": {
        "id": "_oc3J47GHJfk"
      },
      "source": [
        "## confusion matrix\n",
        "\n",
        "the output as per the scikit learn documentation\n",
        "\n",
        "Confusion matrix whose i-th row and j-th column entry indicates the number of samples with true label being i-th class and predicted label being j-th class.\n",
        "\n",
        "annot=True to annotate cells, ftm='g' to disable scientific notation"
      ]
    },
    {
      "cell_type": "code",
      "metadata": {
        "colab": {
          "base_uri": "https://localhost:8080/",
          "height": 513
        },
        "id": "cLqVkxYWSRS1",
        "outputId": "c001b1e1-4fb6-4140-bbc5-0bb476657187"
      },
      "source": [
        "import seaborn as sn\n",
        "import matplotlib.pyplot as plt\n",
        "from sklearn.metrics import confusion_matrix\n",
        "%matplotlib inline\n",
        "\n",
        "def plot_confusion_mat(cf_mat, labels):\n",
        "    plt.figure(figsize=(10, 8))\n",
        "    ax = plt.subplot()\n",
        "    sn.heatmap(cf_mat, annot=True, fmt='g', ax=ax, xticklabels=labels, yticklabels=labels)\n",
        "    ax.set_xlabel('Predicted labels')\n",
        "    ax.set_ylabel('True labels')\n",
        "    ax.set_title('Confusion Matrix')\n",
        "    plt.show()\n",
        "\n",
        "\n",
        "labels = [1,2,3,4,5]\n",
        "cf_mat = confusion_matrix(df_test['overall'], predictions, labels=labels)\n",
        "plot_confusion_mat(cf_mat, labels)"
      ],
      "execution_count": null,
      "outputs": [
        {
          "output_type": "display_data",
          "data": {
            "image/png": "[encoded data removed]",
            "text/plain": [
              "<Figure size 720x576 with 2 Axes>"
            ]
          },
          "metadata": {
            "needs_background": "light"
          }
        }
      ]
    },
    {
      "cell_type": "code",
      "metadata": {
        "colab": {
          "base_uri": "https://localhost:8080/",
          "height": 513
        },
        "id": "3xWqPpdOnY5T",
        "outputId": "f2841bc2-a452-47a3-caf0-0cee107b4b67"
      },
      "source": [
        "import seaborn as sn\n",
        "import matplotlib.pyplot as plt\n",
        "from sklearn.metrics import confusion_matrix\n",
        "%matplotlib inline\n",
        "\n",
        "\n",
        "labels = [1,2,3,4,5]\n",
        "cf_mat = confusion_matrix(df_test['overall'].values.tolist(), df_test['overall'].values.tolist(), labels=labels)\n",
        "plot_confusion_mat(cf_mat, labels)"
      ],
      "execution_count": null,
      "outputs": [
        {
          "output_type": "display_data",
          "data": {
            "image/png": "[encoded data removed]",
            "text/plain": [
              "<Figure size 720x576 with 2 Axes>"
            ]
          },
          "metadata": {
            "needs_background": "light"
          }
        }
      ]
    },
    {
      "cell_type": "markdown",
      "metadata": {
        "id": "lrBYqavh5P6P"
      },
      "source": [
        "## matthews correlation coefficient"
      ]
    },
    {
      "cell_type": "code",
      "metadata": {
        "id": "HrWFZu_J5Shk",
        "colab": {
          "base_uri": "https://localhost:8080/"
        },
        "outputId": "7f401194-8675-41f1-ccbb-389fb95ec16e"
      },
      "source": [
        "from sklearn.metrics import matthews_corrcoef\n",
        "\n",
        "print('MCC for random output:', matthews_corrcoef(\n",
        "    df_test['overall'], predictions))\n",
        "print('MCC where only one class is predicted:', matthews_corrcoef(\n",
        "    df_test['overall'], [1] * len(df_test['overall'])))\n",
        "print('MCC where all classes are correctly predicted:', matthews_corrcoef(\n",
        "    df_test['overall'], df_test['overall']))\n",
        "print('MCC where all classes are incorrectly predicted:', matthews_corrcoef(\n",
        "    df_test['overall'], [(val + 1) % 6 for val in df_test['overall'].values.tolist()]))"
      ],
      "execution_count": null,
      "outputs": [
        {
          "output_type": "stream",
          "name": "stdout",
          "text": [
            "MCC for random output: -0.0028328122350226533\n",
            "MCC where only one class is predicted: 0.0\n",
            "MCC where all classes are correctly predicted: 1.0\n",
            "MCC where all classes are incorrectly predicted: -0.23530472461061017\n"
          ]
        }
      ]
    }
  ]
}