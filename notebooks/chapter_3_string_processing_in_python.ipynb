{
  "cells": [
    {
      "cell_type": "markdown",
      "source": [
        "[![Open In Colab](https://colab.research.google.com/assets/colab-badge.svg)](https://colab.research.google.com/github/infinite-Joy/natural_language_processing_for_professionals/blob/master/notebooks/chapter_3_string_processing_in_python.ipynb)"
      ],
      "metadata": {
        "id": "RBn5fSKVQgxs"
      }
    },
    {
      "cell_type": "markdown",
      "metadata": {
        "id": "twjhen423-ci"
      },
      "source": [
        "## The `str` type."
      ]
    },
    {
      "cell_type": "code",
      "execution_count": null,
      "metadata": {
        "colab": {
          "base_uri": "https://localhost:8080/"
        },
        "id": "E7tbEADIsKs5",
        "outputId": "76431e59-f049-4fa1-f5b4-d42ae024fd70"
      },
      "outputs": [
        {
          "output_type": "stream",
          "name": "stdout",
          "text": [
            "<class 'str'>\n"
          ]
        }
      ],
      "source": [
        "text = \"quick brown fox jumps over the lazy dog.\"\n",
        "print(type(text))"
      ]
    },
    {
      "cell_type": "markdown",
      "metadata": {
        "id": "fotNJAUn4G-t"
      },
      "source": [
        "## Working with Unicode"
      ]
    },
    {
      "cell_type": "code",
      "execution_count": null,
      "metadata": {
        "colab": {
          "base_uri": "https://localhost:8080/"
        },
        "id": "tgZnAzSYsQmV",
        "outputId": "642e6f74-6ae6-47fb-8aec-2c6c1e5808ca"
      },
      "outputs": [
        {
          "output_type": "stream",
          "name": "stdout",
          "text": [
            "original text:  b'El Ni\\xc3\\xb1o'\n",
            "text after decoding:  El Niño\n"
          ]
        }
      ],
      "source": [
        "text = \"El Niño\".encode(\"utf-8\")\n",
        "print('original text: ', text)\n",
        "print('text after decoding: ', text.decode(\"utf-8\"))"
      ]
    },
    {
      "cell_type": "markdown",
      "metadata": {
        "id": "latP8BSP4M7s"
      },
      "source": [
        "### Size of different strings"
      ]
    },
    {
      "cell_type": "code",
      "execution_count": null,
      "metadata": {
        "colab": {
          "base_uri": "https://localhost:8080/"
        },
        "id": "uzbBYcY-sSZO",
        "outputId": "9cc650a5-a5e4-41a8-b025-1f2063ce69f5"
      },
      "outputs": [
        {
          "output_type": "stream",
          "name": "stdout",
          "text": [
            "54\n",
            "1\n",
            "2\n",
            "76\n",
            "4\n",
            "80\n"
          ]
        }
      ],
      "source": [
        "import sys\n",
        "string = 'hello'\n",
        "print(sys.getsizeof(string))\n",
        "\n",
        "# one byte encoding\n",
        "print(sys.getsizeof(string+'!')-sys.getsizeof(string))\n",
        "\n",
        "# 2-byte encoding\n",
        "string2  = 'অ'\n",
        "print(sys.getsizeof(string2+'অ')-sys.getsizeof(string2))\n",
        "print(sys.getsizeof(string2))\n",
        "\n",
        "# 4-byte encoding\n",
        "string3 = '🐍'\n",
        "print(sys.getsizeof(string3+'💻')-sys.getsizeof(string3))\n",
        "print(sys.getsizeof(string3))"
      ]
    },
    {
      "cell_type": "markdown",
      "metadata": {
        "id": "63_tFyx14T8E"
      },
      "source": [
        "## Common Python string methods\n",
        "\n",
        "### Character lengths and word lengths"
      ]
    },
    {
      "cell_type": "code",
      "execution_count": null,
      "metadata": {
        "colab": {
          "base_uri": "https://localhost:8080/"
        },
        "id": "mNCEOA3HsUIh",
        "outputId": "dd1b50e1-3940-46e6-d40d-d2fdf9732999"
      },
      "outputs": [
        {
          "output_type": "stream",
          "name": "stdout",
          "text": [
            "character length of the sentence: 45\n",
            "word length of the sentence: 5\n"
          ]
        }
      ],
      "source": [
        "string = 'natural language processing for professionals'\n",
        "print('character length of the sentence:', len(string))\n",
        "\n",
        "words = string.split()\n",
        "print('word length of the sentence:', len(words))"
      ]
    },
    {
      "cell_type": "markdown",
      "metadata": {
        "id": "XdC3i4Fi4bGL"
      },
      "source": [
        "### Character frequency"
      ]
    },
    {
      "cell_type": "code",
      "execution_count": null,
      "metadata": {
        "colab": {
          "base_uri": "https://localhost:8080/"
        },
        "id": "uzM2TV8ssXGb",
        "outputId": "652d5f09-b15f-4790-b50c-ed47ea0ab882"
      },
      "outputs": [
        {
          "output_type": "stream",
          "name": "stdout",
          "text": [
            "Counter({'a': 5, 's': 5, 'n': 4, 'r': 4, ' ': 4, 'o': 4, 'l': 3, 'g': 3, 'e': 3, 'u': 2, 'p': 2, 'i': 2, 'f': 2, 't': 1, 'c': 1})\n"
          ]
        }
      ],
      "source": [
        "from collections import Counter\n",
        "\n",
        "print(Counter('natural language processing for professionals'))"
      ]
    },
    {
      "cell_type": "markdown",
      "metadata": {
        "id": "q_2c54yB4eDW"
      },
      "source": [
        "### Pattern Search"
      ]
    },
    {
      "cell_type": "code",
      "execution_count": null,
      "metadata": {
        "colab": {
          "base_uri": "https://localhost:8080/"
        },
        "id": "YLKiMjEtsZYu",
        "outputId": "41f1b76e-9352-45d2-a851-dd296916b822"
      },
      "outputs": [
        {
          "output_type": "stream",
          "name": "stdout",
          "text": [
            "True\n"
          ]
        }
      ],
      "source": [
        "spam_string = \"click on http://spam.com\"\n",
        "\n",
        "print('http' in spam_string)"
      ]
    },
    {
      "cell_type": "code",
      "execution_count": null,
      "metadata": {
        "colab": {
          "base_uri": "https://localhost:8080/"
        },
        "id": "BASnOWYzsa2V",
        "outputId": "dac0cc99-b079-4917-ea0d-9b3f8977d146"
      },
      "outputs": [
        {
          "output_type": "stream",
          "name": "stdout",
          "text": [
            "True\n",
            "False\n"
          ]
        }
      ],
      "source": [
        "import re\n",
        "\n",
        "def url_present(text):\n",
        "    pattern = 'http.*\\.com'\n",
        "    if re.search(pattern, spam_string):\n",
        "        return True\n",
        "    else:\n",
        "        return False\n",
        "\n",
        "spam_string = \"click on http://spam.com\"\n",
        "print(url_present(spam_string))\n",
        "\n",
        "spam_string = \"update on ticket\"\n",
        "print(url_present(spam_string))"
      ]
    },
    {
      "cell_type": "markdown",
      "metadata": {
        "id": "mtMbPC414kqd"
      },
      "source": [
        "### Strip whitespace"
      ]
    },
    {
      "cell_type": "code",
      "execution_count": null,
      "metadata": {
        "colab": {
          "base_uri": "https://localhost:8080/"
        },
        "id": "S1x4AxA_sfWV",
        "outputId": "2fa483d3-e68f-4551-e71a-7374a9dc97d9"
      },
      "outputs": [
        {
          "output_type": "stream",
          "name": "stdout",
          "text": [
            "Equality of the two strings:  False\n",
            "Equality of the strings after performing strip on string_without_whitespace:  True\n"
          ]
        }
      ],
      "source": [
        "string_with_whitespace = \"    I am without whitespace. \\n\"\n",
        "string_without_whitespace = \"I am without whitespace.\"\n",
        "print('Equality of the two strings: ',\n",
        "  string_without_whitespace==string_with_whitespace)\n",
        "print('Equality of the strings after performing strip on string_without_whitespace: ',\n",
        "  string_with_whitespace.strip()==string_without_whitespace)"
      ]
    },
    {
      "cell_type": "markdown",
      "metadata": {
        "id": "dYCKA_-24oeS"
      },
      "source": [
        "### Splitting Strings"
      ]
    },
    {
      "cell_type": "code",
      "execution_count": null,
      "metadata": {
        "colab": {
          "base_uri": "https://localhost:8080/"
        },
        "id": "0800gS5OsijQ",
        "outputId": "9c976a09-cde5-44ee-f05e-0fb5ecff6153"
      },
      "outputs": [
        {
          "output_type": "stream",
          "name": "stdout",
          "text": [
            "['learning', 'natural', 'language', 'processing']\n"
          ]
        }
      ],
      "source": [
        "document = \"learning natural language processing\"\n",
        "print(document.split())"
      ]
    },
    {
      "cell_type": "markdown",
      "metadata": {
        "id": "QT_W4Au44szv"
      },
      "source": [
        "### Joining list elements in a contiguous string"
      ]
    },
    {
      "cell_type": "code",
      "execution_count": null,
      "metadata": {
        "colab": {
          "base_uri": "https://localhost:8080/"
        },
        "id": "pUwylV7iske_",
        "outputId": "4ea0b6f8-a5dd-4b1d-925d-14b42536dfa3"
      },
      "outputs": [
        {
          "output_type": "stream",
          "name": "stdout",
          "text": [
            "learning natural language processing\n"
          ]
        }
      ],
      "source": [
        "tokens = ['learning', 'natural', 'language', 'processing']\n",
        "print(\" \".join(tokens))"
      ]
    },
    {
      "cell_type": "markdown",
      "metadata": {
        "id": "5u99IXMC5GcU"
      },
      "source": [
        "### Case of the string"
      ]
    },
    {
      "cell_type": "code",
      "execution_count": null,
      "metadata": {
        "colab": {
          "base_uri": "https://localhost:8080/"
        },
        "id": "Oxwm3ZYzsl24",
        "outputId": "fc22d1f3-cd5c-4f8b-96c1-9796dce49091"
      },
      "outputs": [
        {
          "output_type": "stream",
          "name": "stdout",
          "text": [
            "unique object identification of `string` 140289493087984\n",
            "sentence in lower case:  educative\n",
            "unique object identification of `lower_case` 140289493090224\n",
            "sentence in upper case:  EDUCATIVE\n",
            "unique object identification of `upper_case` 140289493086704\n",
            "is a match with the original text:  True\n"
          ]
        }
      ],
      "source": [
        "string = \"EDUCATIVE\"\n",
        "print('unique object identification of `string`', id(string))\n",
        "\n",
        "lower_case = string.lower()\n",
        "print('sentence in lower case: ', lower_case)\n",
        "print('unique object identification of `lower_case`', id(lower_case))\n",
        "\n",
        "upper_case = lower_case.upper()\n",
        "print('sentence in upper case: ', upper_case)\n",
        "print('unique object identification of `upper_case`', id(upper_case))\n",
        "\n",
        "print('is a match with the original text: ', upper_case == string)"
      ]
    },
    {
      "cell_type": "markdown",
      "metadata": {
        "id": "DrwnpBe05Nlg"
      },
      "source": [
        "## Pandas"
      ]
    },
    {
      "cell_type": "code",
      "execution_count": null,
      "metadata": {
        "colab": {
          "base_uri": "https://localhost:8080/"
        },
        "id": "qU6F60pasnWC",
        "outputId": "8cf8d00c-78f1-4789-d012-5d940c723a92"
      },
      "outputs": [
        {
          "output_type": "stream",
          "name": "stdout",
          "text": [
            "0    string processing using vanila python\n",
            "1              string processing in pandas\n",
            "dtype: object\n",
            "\n",
            "converting all the strings to uppercase\n",
            "0    STRING PROCESSING USING VANILA PYTHON\n",
            "1              STRING PROCESSING IN PANDAS\n",
            "dtype: object\n",
            "\n",
            "converting all the strings to lowercase\n",
            "0    string processing using vanila python\n",
            "1              string processing in pandas\n",
            "dtype: object\n",
            "\n",
            "split all the sentences to words\n",
            "0    [string, processing, using, vanila, python]\n",
            "1               [string, processing, in, pandas]\n",
            "dtype: object\n"
          ]
        }
      ],
      "source": [
        "import pandas as pd\n",
        "s1 = pd.Series(\n",
        "    ['string processing using vanila python',\n",
        "     'string processing in pandas']\n",
        ")\n",
        "print(s1)\n",
        "print()\n",
        "print('converting all the strings to uppercase')\n",
        "print(s1.str.upper())\n",
        "print()\n",
        "print('converting all the strings to lowercase')\n",
        "print(s1.str.lower())\n",
        "print()\n",
        "print('split all the sentences to words')\n",
        "print(s1.str.strip().str.split())"
      ]
    },
    {
      "cell_type": "markdown",
      "metadata": {
        "id": "9c7q1zeY5RUy"
      },
      "source": [
        "## Amazon reviews dataset"
      ]
    },
    {
      "cell_type": "markdown",
      "source": [
        "Download the amazon reviews dataset from github.\n",
        "\n",
        "Original source: https://cseweb.ucsd.edu/~jmcauley/datasets/amazon_v2/"
      ],
      "metadata": {
        "id": "p9rcwrGMEPFk"
      }
    },
    {
      "cell_type": "code",
      "execution_count": null,
      "metadata": {
        "colab": {
          "base_uri": "https://localhost:8080/"
        },
        "id": "Uk8jkMQDUnMP",
        "outputId": "3f9dffa6-04fe-4425-f62e-04b8f0f0eabd"
      },
      "outputs": [
        {
          "output_type": "stream",
          "name": "stdout",
          "text": [
            "--2023-05-07 16:39:23--  https://github.com/infinite-Joy/natural_language_processing_for_professionals/raw/main/data/Video_Games.json.gz\n",
            "Resolving github.com (github.com)... 140.82.113.3\n",
            "Connecting to github.com (github.com)|140.82.113.3|:443... connected.\n",
            "HTTP request sent, awaiting response... 302 Found\n",
            "Location: https://media.githubusercontent.com/media/infinite-Joy/natural_language_processing_for_professionals/main/data/Video_Games.json.gz [following]\n",
            "--2023-05-07 16:39:23--  https://media.githubusercontent.com/media/infinite-Joy/natural_language_processing_for_professionals/main/data/Video_Games.json.gz\n",
            "Resolving media.githubusercontent.com (media.githubusercontent.com)... 185.199.108.133, 185.199.109.133, 185.199.110.133, ...\n",
            "Connecting to media.githubusercontent.com (media.githubusercontent.com)|185.199.108.133|:443... connected.\n",
            "HTTP request sent, awaiting response... 200 OK\n",
            "Length: 522823613 (499M) [application/octet-stream]\n",
            "Saving to: ‘Video_Games.json.gz’\n",
            "\n",
            "Video_Games.json.gz 100%[===================>] 498.60M   213MB/s    in 2.3s    \n",
            "\n",
            "2023-05-07 16:39:39 (213 MB/s) - ‘Video_Games.json.gz’ saved [522823613/522823613]\n",
            "\n"
          ]
        }
      ],
      "source": [
        "!wget https://github.com/infinite-Joy/natural_language_processing_for_professionals/raw/main/data/Video_Games.json.gz"
      ]
    },
    {
      "cell_type": "code",
      "source": [
        "!ls -ltr"
      ],
      "metadata": {
        "colab": {
          "base_uri": "https://localhost:8080/"
        },
        "id": "xCK1M9LPEfTR",
        "outputId": "902d1de6-a65f-436d-b2af-108136a0881a"
      },
      "execution_count": null,
      "outputs": [
        {
          "output_type": "stream",
          "name": "stdout",
          "text": [
            "total 510576\n",
            "drwxr-xr-x 1 root root      4096 May  3 13:31 sample_data\n",
            "-rw-r--r-- 1 root root 522823613 May  7 16:39 Video_Games.json.gz\n"
          ]
        }
      ]
    },
    {
      "cell_type": "code",
      "execution_count": null,
      "metadata": {
        "id": "m_si4H-ltMry"
      },
      "outputs": [],
      "source": [
        "import gzip\n",
        "import json\n",
        "import pandas as pd\n",
        "import string\n",
        "\n",
        "def parse(path):\n",
        "    g = gzip.open(path, 'rb')\n",
        "    for l in g:\n",
        "        yield json.loads(l)\n",
        "\n",
        "def getDF(path):\n",
        "    df = {}\n",
        "    i = 0\n",
        "    for d in parse(path):\n",
        "        df[i] = d\n",
        "        i += 1\n",
        "    return pd.DataFrame.from_dict(df, orient='index')\n",
        "\n",
        "\n",
        "df = getDF('./Video_Games.json.gz')\n",
        "df = df[['reviewText', 'overall']]\n",
        "print(df.shape)"
      ]
    },
    {
      "cell_type": "code",
      "execution_count": null,
      "metadata": {
        "id": "yrmN_k9Fsp-P"
      },
      "outputs": [],
      "source": [
        "import string\n",
        "\n",
        "# map punctuation to space\n",
        "translator = str.maketrans(string.punctuation, ' '*len(string.punctuation)) \n",
        "\n",
        "def text_preprocessing(df):\n",
        "    \"\"\"\n",
        "    Preprocess the text for better understanding\n",
        "    \n",
        "    \"\"\"\n",
        "    # trim the whitespace at the edges of the string\n",
        "    df['reviewText'] = df['reviewText'].str.strip()\n",
        "\n",
        "    # lowercase the text in the string\n",
        "    df['reviewText'] = df['reviewText'].str.lower()\n",
        "\n",
        "    # remove the punctualtion in the string.\n",
        "    df['reviewText'] = df['reviewText'].apply(lambda text: text.translate(translator))\n",
        "\n",
        "    return df\n",
        "\n",
        "\n",
        "df = df.dropna()\n",
        "df = df.drop_duplicates()\n",
        "df = text_preprocessing(df)"
      ]
    },
    {
      "cell_type": "code",
      "execution_count": null,
      "metadata": {
        "colab": {
          "base_uri": "https://localhost:8080/",
          "height": 206
        },
        "id": "NErE_cggtZyR",
        "outputId": "ee626006-09d9-4e34-83b3-c1d72b992b63"
      },
      "outputs": [
        {
          "output_type": "execute_result",
          "data": {
            "text/plain": [
              "                                          reviewText  overall\n",
              "0  i used to play this game years ago and loved i...      1.0\n",
              "1  the game itself worked great but the story lin...      3.0\n",
              "2  i had to learn the hard way after ordering thi...      4.0\n",
              "3  the product description should state this clea...      1.0\n",
              "4  i would recommend this learning game for anyon...      4.0"
            ],
            "text/html": [
              "\n",
              "  <div id=\"df-6b0f7ab1-8c2f-468c-970c-18526d11dd58\">\n",
              "    <div class=\"colab-df-container\">\n",
              "      <div>\n",
              "<style scoped>\n",
              "    .dataframe tbody tr th:only-of-type {\n",
              "        vertical-align: middle;\n",
              "    }\n",
              "\n",
              "    .dataframe tbody tr th {\n",
              "        vertical-align: top;\n",
              "    }\n",
              "\n",
              "    .dataframe thead th {\n",
              "        text-align: right;\n",
              "    }\n",
              "</style>\n",
              "<table border=\"1\" class=\"dataframe\">\n",
              "  <thead>\n",
              "    <tr style=\"text-align: right;\">\n",
              "      <th></th>\n",
              "      <th>reviewText</th>\n",
              "      <th>overall</th>\n",
              "    </tr>\n",
              "  </thead>\n",
              "  <tbody>\n",
              "    <tr>\n",
              "      <th>0</th>\n",
              "      <td>i used to play this game years ago and loved i...</td>\n",
              "      <td>1.0</td>\n",
              "    </tr>\n",
              "    <tr>\n",
              "      <th>1</th>\n",
              "      <td>the game itself worked great but the story lin...</td>\n",
              "      <td>3.0</td>\n",
              "    </tr>\n",
              "    <tr>\n",
              "      <th>2</th>\n",
              "      <td>i had to learn the hard way after ordering thi...</td>\n",
              "      <td>4.0</td>\n",
              "    </tr>\n",
              "    <tr>\n",
              "      <th>3</th>\n",
              "      <td>the product description should state this clea...</td>\n",
              "      <td>1.0</td>\n",
              "    </tr>\n",
              "    <tr>\n",
              "      <th>4</th>\n",
              "      <td>i would recommend this learning game for anyon...</td>\n",
              "      <td>4.0</td>\n",
              "    </tr>\n",
              "  </tbody>\n",
              "</table>\n",
              "</div>\n",
              "      <button class=\"colab-df-convert\" onclick=\"convertToInteractive('df-6b0f7ab1-8c2f-468c-970c-18526d11dd58')\"\n",
              "              title=\"Convert this dataframe to an interactive table.\"\n",
              "              style=\"display:none;\">\n",
              "        \n",
              "  <svg xmlns=\"http://www.w3.org/2000/svg\" height=\"24px\"viewBox=\"0 0 24 24\"\n",
              "       width=\"24px\">\n",
              "    <path d=\"M0 0h24v24H0V0z\" fill=\"none\"/>\n",
              "    <path d=\"M18.56 5.44l.94 2.06.94-2.06 2.06-.94-2.06-.94-.94-2.06-.94 2.06-2.06.94zm-11 1L8.5 8.5l.94-2.06 2.06-.94-2.06-.94L8.5 2.5l-.94 2.06-2.06.94zm10 10l.94 2.06.94-2.06 2.06-.94-2.06-.94-.94-2.06-.94 2.06-2.06.94z\"/><path d=\"M17.41 7.96l-1.37-1.37c-.4-.4-.92-.59-1.43-.59-.52 0-1.04.2-1.43.59L10.3 9.45l-7.72 7.72c-.78.78-.78 2.05 0 2.83L4 21.41c.39.39.9.59 1.41.59.51 0 1.02-.2 1.41-.59l7.78-7.78 2.81-2.81c.8-.78.8-2.07 0-2.86zM5.41 20L4 18.59l7.72-7.72 1.47 1.35L5.41 20z\"/>\n",
              "  </svg>\n",
              "      </button>\n",
              "      \n",
              "  <style>\n",
              "    .colab-df-container {\n",
              "      display:flex;\n",
              "      flex-wrap:wrap;\n",
              "      gap: 12px;\n",
              "    }\n",
              "\n",
              "    .colab-df-convert {\n",
              "      background-color: #E8F0FE;\n",
              "      border: none;\n",
              "      border-radius: 50%;\n",
              "      cursor: pointer;\n",
              "      display: none;\n",
              "      fill: #1967D2;\n",
              "      height: 32px;\n",
              "      padding: 0 0 0 0;\n",
              "      width: 32px;\n",
              "    }\n",
              "\n",
              "    .colab-df-convert:hover {\n",
              "      background-color: #E2EBFA;\n",
              "      box-shadow: 0px 1px 2px rgba(60, 64, 67, 0.3), 0px 1px 3px 1px rgba(60, 64, 67, 0.15);\n",
              "      fill: #174EA6;\n",
              "    }\n",
              "\n",
              "    [theme=dark] .colab-df-convert {\n",
              "      background-color: #3B4455;\n",
              "      fill: #D2E3FC;\n",
              "    }\n",
              "\n",
              "    [theme=dark] .colab-df-convert:hover {\n",
              "      background-color: #434B5C;\n",
              "      box-shadow: 0px 1px 3px 1px rgba(0, 0, 0, 0.15);\n",
              "      filter: drop-shadow(0px 1px 2px rgba(0, 0, 0, 0.3));\n",
              "      fill: #FFFFFF;\n",
              "    }\n",
              "  </style>\n",
              "\n",
              "      <script>\n",
              "        const buttonEl =\n",
              "          document.querySelector('#df-6b0f7ab1-8c2f-468c-970c-18526d11dd58 button.colab-df-convert');\n",
              "        buttonEl.style.display =\n",
              "          google.colab.kernel.accessAllowed ? 'block' : 'none';\n",
              "\n",
              "        async function convertToInteractive(key) {\n",
              "          const element = document.querySelector('#df-6b0f7ab1-8c2f-468c-970c-18526d11dd58');\n",
              "          const dataTable =\n",
              "            await google.colab.kernel.invokeFunction('convertToInteractive',\n",
              "                                                     [key], {});\n",
              "          if (!dataTable) return;\n",
              "\n",
              "          const docLinkHtml = 'Like what you see? Visit the ' +\n",
              "            '<a target=\"_blank\" href=https://colab.research.google.com/notebooks/data_table.ipynb>data table notebook</a>'\n",
              "            + ' to learn more about interactive tables.';\n",
              "          element.innerHTML = '';\n",
              "          dataTable['output_type'] = 'display_data';\n",
              "          await google.colab.output.renderOutput(dataTable, element);\n",
              "          const docLink = document.createElement('div');\n",
              "          docLink.innerHTML = docLinkHtml;\n",
              "          element.appendChild(docLink);\n",
              "        }\n",
              "      </script>\n",
              "    </div>\n",
              "  </div>\n",
              "  "
            ]
          },
          "metadata": {},
          "execution_count": 17
        }
      ],
      "source": [
        "df.head()"
      ]
    }
  ],
  "metadata": {
    "colab": {
      "provenance": []
    },
    "kernelspec": {
      "display_name": "Python 3",
      "name": "python3"
    },
    "language_info": {
      "name": "python"
    }
  },
  "nbformat": 4,
  "nbformat_minor": 0
}