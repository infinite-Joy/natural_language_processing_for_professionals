{
  "cells": [
    {
      "cell_type": "markdown",
      "source": [
        "[![Open In Colab](https://colab.research.google.com/assets/colab-badge.svg)](https://colab.research.google.com/github/infinite-Joy/natural_language_processing_for_professionals/blob/master/notebooks/chapter_5_word_embeddings_in_natural_language_processing.ipynb)"
      ],
      "metadata": {
        "id": "XLFmkrVuQ9QU"
      }
    },
    {
      "cell_type": "markdown",
      "metadata": {
        "id": "rG5AlMSVA3Un"
      },
      "source": [
        "## install the required modules"
      ]
    },
    {
      "cell_type": "code",
      "execution_count": null,
      "metadata": {
        "collapsed": true,
        "id": "yd-A1o0DNEL5"
      },
      "outputs": [],
      "source": [
        "%%capture\n",
        "!pip install fasttext"
      ]
    },
    {
      "cell_type": "markdown",
      "metadata": {
        "id": "rYqvPSGFmIET"
      },
      "source": [
        "## download the data"
      ]
    },
    {
      "cell_type": "code",
      "execution_count": null,
      "metadata": {
        "colab": {
          "base_uri": "https://localhost:8080/"
        },
        "id": "DnNFyqgZAZHL",
        "outputId": "d648bc6a-c14b-48b6-cca3-ebc539dc792a"
      },
      "outputs": [
        {
          "name": "stdout",
          "output_type": "stream",
          "text": [
            "--2023-05-10 09:36:19--  https://github.com/infinite-Joy/natural_language_processing_for_professionals/raw/main/data/Video_Games.json.gz\n",
            "Resolving github.com (github.com)... 20.27.177.113\n",
            "Connecting to github.com (github.com)|20.27.177.113|:443... connected.\n",
            "HTTP request sent, awaiting response... 302 Found\n",
            "Location: https://media.githubusercontent.com/media/infinite-Joy/natural_language_processing_for_professionals/main/data/Video_Games.json.gz [following]\n",
            "--2023-05-10 09:36:19--  https://media.githubusercontent.com/media/infinite-Joy/natural_language_processing_for_professionals/main/data/Video_Games.json.gz\n",
            "Resolving media.githubusercontent.com (media.githubusercontent.com)... 185.199.108.133, 185.199.109.133, 185.199.110.133, ...\n",
            "Connecting to media.githubusercontent.com (media.githubusercontent.com)|185.199.108.133|:443... connected.\n",
            "HTTP request sent, awaiting response... 200 OK\n",
            "Length: 522823613 (499M) [application/octet-stream]\n",
            "Saving to: ‘Video_Games.json.gz’\n",
            "\n",
            "Video_Games.json.gz 100%[===================>] 498.60M   181MB/s    in 2.8s    \n",
            "\n",
            "2023-05-10 09:36:55 (181 MB/s) - ‘Video_Games.json.gz’ saved [522823613/522823613]\n",
            "\n"
          ]
        }
      ],
      "source": [
        "!wget https://github.com/infinite-Joy/natural_language_processing_for_professionals/raw/main/data/Video_Games.json.gz"
      ]
    },
    {
      "cell_type": "code",
      "execution_count": null,
      "metadata": {
        "colab": {
          "base_uri": "https://localhost:8080/"
        },
        "id": "iUm-FiQUmK65",
        "outputId": "1beb9ff0-51ce-4914-e923-274190c6f5be"
      },
      "outputs": [
        {
          "name": "stdout",
          "output_type": "stream",
          "text": [
            "(2191356, 2)\n"
          ]
        }
      ],
      "source": [
        "import gzip\n",
        "import json\n",
        "import pandas as pd\n",
        "import string\n",
        "import imblearn\n",
        "\n",
        "# map punctuation to space\n",
        "translator = str.maketrans(string.punctuation, ' '*len(string.punctuation)) \n",
        "\n",
        "def text_preprocessing(text):\n",
        "    \"\"\"\n",
        "    Preprocess the text for better understanding\n",
        "    \n",
        "    \"\"\"\n",
        "    text = text.strip()\n",
        "    text = text.lower()\n",
        "    text = text.replace('\\n', '.')\n",
        "    return text\n",
        "\n",
        "def parse(path):\n",
        "    g = gzip.open(path, 'rb')\n",
        "    for l in g:\n",
        "        yield json.loads(l)\n",
        "\n",
        "def getDF(path):\n",
        "    df = {}\n",
        "    i = 0\n",
        "    for d in parse(path):\n",
        "        df[i] = d\n",
        "        i += 1\n",
        "    return pd.DataFrame.from_dict(df, orient='index')\n",
        "\n",
        "df = getDF('./Video_Games.json.gz')\n",
        "df = df[['reviewText', 'overall']]\n",
        "df = df[df['reviewText'].notnull()]\n",
        "df['reviewText'] = df['reviewText'].apply(text_preprocessing)\n",
        "df = df.dropna()\n",
        "df = df.drop_duplicates()\n",
        "print(df.shape)"
      ]
    },
    {
      "cell_type": "code",
      "execution_count": null,
      "metadata": {
        "colab": {
          "base_uri": "https://localhost:8080/",
          "height": 363
        },
        "id": "HhALbsc9mK3_",
        "outputId": "49232f51-7e1f-4ca6-af36-67502e98620b"
      },
      "outputs": [
        {
          "data": {
            "text/html": [
              "\n",
              "  <div id=\"df-c0a27654-4685-431c-bd01-6380ac9ff1cc\">\n",
              "    <div class=\"colab-df-container\">\n",
              "      <div>\n",
              "<style scoped>\n",
              "    .dataframe tbody tr th:only-of-type {\n",
              "        vertical-align: middle;\n",
              "    }\n",
              "\n",
              "    .dataframe tbody tr th {\n",
              "        vertical-align: top;\n",
              "    }\n",
              "\n",
              "    .dataframe thead th {\n",
              "        text-align: right;\n",
              "    }\n",
              "</style>\n",
              "<table border=\"1\" class=\"dataframe\">\n",
              "  <thead>\n",
              "    <tr style=\"text-align: right;\">\n",
              "      <th></th>\n",
              "      <th>reviewText</th>\n",
              "      <th>overall</th>\n",
              "    </tr>\n",
              "  </thead>\n",
              "  <tbody>\n",
              "    <tr>\n",
              "      <th>762519</th>\n",
              "      <td>this product does do as advertised, but the ui...</td>\n",
              "      <td>1.0</td>\n",
              "    </tr>\n",
              "    <tr>\n",
              "      <th>188618</th>\n",
              "      <td>first off garbage is stuff you throw away, and...</td>\n",
              "      <td>1.0</td>\n",
              "    </tr>\n",
              "    <tr>\n",
              "      <th>1313145</th>\n",
              "      <td>i got these for my ps4. i plugged them in with...</td>\n",
              "      <td>1.0</td>\n",
              "    </tr>\n",
              "    <tr>\n",
              "      <th>2087296</th>\n",
              "      <td>just plugged both controllers into my pc but i...</td>\n",
              "      <td>1.0</td>\n",
              "    </tr>\n",
              "    <tr>\n",
              "      <th>2467300</th>\n",
              "      <td>the item is dark yellow (mustard color) in no ...</td>\n",
              "      <td>1.0</td>\n",
              "    </tr>\n",
              "    <tr>\n",
              "      <th>1885457</th>\n",
              "      <td>good game, crappy dlc and updates from massive...</td>\n",
              "      <td>1.0</td>\n",
              "    </tr>\n",
              "    <tr>\n",
              "      <th>251610</th>\n",
              "      <td>requires more fiddling/bumping/tweaking of the...</td>\n",
              "      <td>1.0</td>\n",
              "    </tr>\n",
              "    <tr>\n",
              "      <th>808708</th>\n",
              "      <td>i got this game because the story line interes...</td>\n",
              "      <td>1.0</td>\n",
              "    </tr>\n",
              "    <tr>\n",
              "      <th>18931</th>\n",
              "      <td>ah...the wwii u-boat; it instantly conjures up...</td>\n",
              "      <td>1.0</td>\n",
              "    </tr>\n",
              "    <tr>\n",
              "      <th>2244609</th>\n",
              "      <td>some like this game because they know games an...</td>\n",
              "      <td>1.0</td>\n",
              "    </tr>\n",
              "  </tbody>\n",
              "</table>\n",
              "</div>\n",
              "      <button class=\"colab-df-convert\" onclick=\"convertToInteractive('df-c0a27654-4685-431c-bd01-6380ac9ff1cc')\"\n",
              "              title=\"Convert this dataframe to an interactive table.\"\n",
              "              style=\"display:none;\">\n",
              "        \n",
              "  <svg xmlns=\"http://www.w3.org/2000/svg\" height=\"24px\"viewBox=\"0 0 24 24\"\n",
              "       width=\"24px\">\n",
              "    <path d=\"M0 0h24v24H0V0z\" fill=\"none\"/>\n",
              "    <path d=\"M18.56 5.44l.94 2.06.94-2.06 2.06-.94-2.06-.94-.94-2.06-.94 2.06-2.06.94zm-11 1L8.5 8.5l.94-2.06 2.06-.94-2.06-.94L8.5 2.5l-.94 2.06-2.06.94zm10 10l.94 2.06.94-2.06 2.06-.94-2.06-.94-.94-2.06-.94 2.06-2.06.94z\"/><path d=\"M17.41 7.96l-1.37-1.37c-.4-.4-.92-.59-1.43-.59-.52 0-1.04.2-1.43.59L10.3 9.45l-7.72 7.72c-.78.78-.78 2.05 0 2.83L4 21.41c.39.39.9.59 1.41.59.51 0 1.02-.2 1.41-.59l7.78-7.78 2.81-2.81c.8-.78.8-2.07 0-2.86zM5.41 20L4 18.59l7.72-7.72 1.47 1.35L5.41 20z\"/>\n",
              "  </svg>\n",
              "      </button>\n",
              "      \n",
              "  <style>\n",
              "    .colab-df-container {\n",
              "      display:flex;\n",
              "      flex-wrap:wrap;\n",
              "      gap: 12px;\n",
              "    }\n",
              "\n",
              "    .colab-df-convert {\n",
              "      background-color: #E8F0FE;\n",
              "      border: none;\n",
              "      border-radius: 50%;\n",
              "      cursor: pointer;\n",
              "      display: none;\n",
              "      fill: #1967D2;\n",
              "      height: 32px;\n",
              "      padding: 0 0 0 0;\n",
              "      width: 32px;\n",
              "    }\n",
              "\n",
              "    .colab-df-convert:hover {\n",
              "      background-color: #E2EBFA;\n",
              "      box-shadow: 0px 1px 2px rgba(60, 64, 67, 0.3), 0px 1px 3px 1px rgba(60, 64, 67, 0.15);\n",
              "      fill: #174EA6;\n",
              "    }\n",
              "\n",
              "    [theme=dark] .colab-df-convert {\n",
              "      background-color: #3B4455;\n",
              "      fill: #D2E3FC;\n",
              "    }\n",
              "\n",
              "    [theme=dark] .colab-df-convert:hover {\n",
              "      background-color: #434B5C;\n",
              "      box-shadow: 0px 1px 3px 1px rgba(0, 0, 0, 0.15);\n",
              "      filter: drop-shadow(0px 1px 2px rgba(0, 0, 0, 0.3));\n",
              "      fill: #FFFFFF;\n",
              "    }\n",
              "  </style>\n",
              "\n",
              "      <script>\n",
              "        const buttonEl =\n",
              "          document.querySelector('#df-c0a27654-4685-431c-bd01-6380ac9ff1cc button.colab-df-convert');\n",
              "        buttonEl.style.display =\n",
              "          google.colab.kernel.accessAllowed ? 'block' : 'none';\n",
              "\n",
              "        async function convertToInteractive(key) {\n",
              "          const element = document.querySelector('#df-c0a27654-4685-431c-bd01-6380ac9ff1cc');\n",
              "          const dataTable =\n",
              "            await google.colab.kernel.invokeFunction('convertToInteractive',\n",
              "                                                     [key], {});\n",
              "          if (!dataTable) return;\n",
              "\n",
              "          const docLinkHtml = 'Like what you see? Visit the ' +\n",
              "            '<a target=\"_blank\" href=https://colab.research.google.com/notebooks/data_table.ipynb>data table notebook</a>'\n",
              "            + ' to learn more about interactive tables.';\n",
              "          element.innerHTML = '';\n",
              "          dataTable['output_type'] = 'display_data';\n",
              "          await google.colab.output.renderOutput(dataTable, element);\n",
              "          const docLink = document.createElement('div');\n",
              "          docLink.innerHTML = docLinkHtml;\n",
              "          element.appendChild(docLink);\n",
              "        }\n",
              "      </script>\n",
              "    </div>\n",
              "  </div>\n",
              "  "
            ],
            "text/plain": [
              "                                                reviewText  overall\n",
              "762519   this product does do as advertised, but the ui...      1.0\n",
              "188618   first off garbage is stuff you throw away, and...      1.0\n",
              "1313145  i got these for my ps4. i plugged them in with...      1.0\n",
              "2087296  just plugged both controllers into my pc but i...      1.0\n",
              "2467300  the item is dark yellow (mustard color) in no ...      1.0\n",
              "1885457  good game, crappy dlc and updates from massive...      1.0\n",
              "251610   requires more fiddling/bumping/tweaking of the...      1.0\n",
              "808708   i got this game because the story line interes...      1.0\n",
              "18931    ah...the wwii u-boat; it instantly conjures up...      1.0\n",
              "2244609  some like this game because they know games an...      1.0"
            ]
          },
          "execution_count": 4,
          "metadata": {},
          "output_type": "execute_result"
        }
      ],
      "source": [
        "df[(df.overall==1) & (df.reviewText.str.contains('go'))].sample(10)"
      ]
    },
    {
      "cell_type": "code",
      "execution_count": null,
      "metadata": {
        "id": "LnsY-zgomK08"
      },
      "outputs": [],
      "source": []
    },
    {
      "cell_type": "markdown",
      "metadata": {
        "id": "hSpgNKPJBDnX"
      },
      "source": [
        "## cosine similarity of a scalar"
      ]
    },
    {
      "cell_type": "code",
      "execution_count": null,
      "metadata": {
        "colab": {
          "base_uri": "https://localhost:8080/"
        },
        "id": "BiAsFtfRMt79",
        "outputId": "76fb607b-c85c-435a-ac8c-c2e70844b02a"
      },
      "outputs": [
        {
          "name": "stdout",
          "output_type": "stream",
          "text": [
            "[[1.]]\n"
          ]
        }
      ],
      "source": [
        "import numpy as np\n",
        "from sklearn.metrics.pairwise import cosine_similarity\n",
        "\n",
        "A = np.array([0.5]).reshape(1, -1)\n",
        "B = np.array([0.5]).reshape(1, -1)\n",
        "\n",
        "print(cosine_similarity(A, B))"
      ]
    },
    {
      "cell_type": "markdown",
      "metadata": {
        "id": "qW_lvn0MBG6r"
      },
      "source": [
        "## one hot encoding implementation"
      ]
    },
    {
      "cell_type": "code",
      "execution_count": null,
      "metadata": {
        "colab": {
          "base_uri": "https://localhost:8080/"
        },
        "id": "WL_tmzx2M0C-",
        "outputId": "f69ed08e-6d56-4af4-8038-ade32731aa31"
      },
      "outputs": [
        {
          "name": "stdout",
          "output_type": "stream",
          "text": [
            "word=the,\t vec=[0, 0, 0, 0, 1, 0, 0, 0]\n",
            "word=quick,\t vec=[0, 0, 0, 1, 0, 0, 0, 0]\n",
            "word=brown,\t vec=[0, 0, 1, 0, 0, 0, 0, 0]\n",
            "word=fox,\t vec=[0, 1, 0, 0, 0, 0, 0, 0]\n",
            "word=jumped,\t vec=[1, 0, 0, 0, 0, 0, 0, 0]\n",
            "word=over,\t vec=[0, 0, 0, 0, 0, 0, 0, 1]\n",
            "word=the,\t vec=[0, 0, 0, 0, 1, 0, 0, 0]\n",
            "word=lazy,\t vec=[0, 0, 0, 0, 0, 1, 0, 0]\n",
            "word=dog,\t vec=[0, 0, 0, 0, 0, 0, 1, 0]\n"
          ]
        }
      ],
      "source": [
        "## define input string\n",
        "data = 'the quick brown fox jumped over the lazy dog'\n",
        "consecutive_words = data.split()\n",
        "\n",
        "## construct the dictionary\n",
        "all_words = list(set(consecutive_words))\n",
        "\n",
        "## define a mapping of word to integers\n",
        "word_to_int = dict((w, i) for i, w in enumerate(all_words))\n",
        "int_to_word = dict((i, w) for i, w in enumerate(all_words))\n",
        "\n",
        "## integer encode input data\n",
        "integer_encoded = [word_to_int[w] for w in consecutive_words]\n",
        "\n",
        "## one hot encode\n",
        "onehot_encoded = list()\n",
        "for value in integer_encoded:\n",
        "  letter = [0 for _ in range(len(all_words))]\n",
        "  letter[value] = 1\n",
        "  onehot_encoded.append(letter)\n",
        "\n",
        "def argmax(vector):\n",
        "  # since vector is actually a list and its one hot encoding hence the\n",
        "  # maximum value is always 1\n",
        "  return vector.index(1)\n",
        "\n",
        "for vec in onehot_encoded:\n",
        "    print('word={word},\\t vec={vec}'.format(word=int_to_word[argmax(vec)], vec=vec))"
      ]
    },
    {
      "cell_type": "code",
      "execution_count": null,
      "metadata": {
        "colab": {
          "base_uri": "https://localhost:8080/"
        },
        "id": "qLI8mLwSM21a",
        "outputId": "05dc078a-0cf2-4e95-b42a-859465160131"
      },
      "outputs": [
        {
          "name": "stdout",
          "output_type": "stream",
          "text": [
            "[[0.]]\n"
          ]
        }
      ],
      "source": [
        "import numpy as np\n",
        "from sklearn.metrics.pairwise import cosine_similarity\n",
        "\n",
        "A = np.array(onehot_encoded[0]).reshape(1, -1)\n",
        "B = np.array(onehot_encoded[1]).reshape(1, -1)\n",
        "\n",
        "print(cosine_similarity(A, B))"
      ]
    },
    {
      "cell_type": "markdown",
      "metadata": {
        "id": "AGvegvJUP5Ai"
      },
      "source": [
        "## Fasttext Vectors\n",
        "\n",
        "fasttext website: https://fasttext.cc/"
      ]
    },
    {
      "cell_type": "code",
      "execution_count": null,
      "metadata": {
        "colab": {
          "base_uri": "https://localhost:8080/"
        },
        "id": "kkucn3HWAjBu",
        "outputId": "d9d4fc0d-34c5-455c-9562-336c0a512cb7"
      },
      "outputs": [
        {
          "name": "stdout",
          "output_type": "stream",
          "text": [
            "--2023-05-10 09:38:24--  https://dl.fbaipublicfiles.com/fasttext/vectors-wiki/wiki.en.zip\n",
            "Resolving dl.fbaipublicfiles.com (dl.fbaipublicfiles.com)... 13.35.7.82, 13.35.7.128, 13.35.7.50, ...\n",
            "Connecting to dl.fbaipublicfiles.com (dl.fbaipublicfiles.com)|13.35.7.82|:443... connected.\n",
            "HTTP request sent, awaiting response... 200 OK\n",
            "Length: 10356881291 (9.6G) [application/zip]\n",
            "Saving to: ‘wiki.en.zip’\n",
            "\n",
            "wiki.en.zip         100%[===================>]   9.65G  35.4MB/s    in 5m 5s   \n",
            "\n",
            "2023-05-10 09:43:30 (32.4 MB/s) - ‘wiki.en.zip’ saved [10356881291/10356881291]\n",
            "\n",
            "Archive:  wiki.en.zip\n",
            "  inflating: wiki.en.vec             \n",
            "  inflating: wiki.en.bin             \n"
          ]
        }
      ],
      "source": [
        "!wget https://dl.fbaipublicfiles.com/fasttext/vectors-wiki/wiki.en.zip\n",
        "!unzip wiki.en.zip"
      ]
    },
    {
      "cell_type": "code",
      "execution_count": null,
      "metadata": {
        "colab": {
          "base_uri": "https://localhost:8080/"
        },
        "id": "b3evCWQ2NISu",
        "outputId": "43a119a5-a367-4f6b-ace8-221911eca1ad"
      },
      "outputs": [
        {
          "name": "stderr",
          "output_type": "stream",
          "text": [
            "Warning : `load_model` does not return WordVectorModel or SupervisedModel any more, but a `FastText` object which is very similar.\n"
          ]
        },
        {
          "name": "stdout",
          "output_type": "stream",
          "text": [
            "similarity: [[0.56451917]]\n"
          ]
        }
      ],
      "source": [
        "import fasttext\n",
        "import numpy as np\n",
        "from sklearn.metrics.pairwise import cosine_similarity\n",
        "\n",
        "## load the model\n",
        "ft = fasttext.load_model('wiki.en.bin')\n",
        "\n",
        "## get the word vectors\n",
        "vector = ft.get_word_vector('vector').reshape(1, -1)\n",
        "matrix = ft.get_word_vector('matrix').reshape(1, -1)\n",
        "\n",
        "## compute and report the similarity\n",
        "print('similarity:', cosine_similarity(vector, matrix))"
      ]
    },
    {
      "cell_type": "markdown",
      "metadata": {
        "id": "PH49aJv-P-WK"
      },
      "source": [
        "## Glove Embeddings\n",
        "\n",
        "GloVe website: https://nlp.stanford.edu/projects/glove/"
      ]
    },
    {
      "cell_type": "code",
      "execution_count": null,
      "metadata": {
        "colab": {
          "base_uri": "https://localhost:8080/"
        },
        "id": "0lqD1pVDAqim",
        "outputId": "85740af7-b5fe-4212-bdf2-0ecd53981895"
      },
      "outputs": [
        {
          "name": "stdout",
          "output_type": "stream",
          "text": [
            "--2023-05-11 05:58:34--  http://nlp.stanford.edu/data/glove.840B.300d.zip\n",
            "Resolving nlp.stanford.edu (nlp.stanford.edu)... 171.64.67.140\n",
            "Connecting to nlp.stanford.edu (nlp.stanford.edu)|171.64.67.140|:80... connected.\n",
            "HTTP request sent, awaiting response... 302 Found\n",
            "Location: https://nlp.stanford.edu/data/glove.840B.300d.zip [following]\n",
            "--2023-05-11 05:58:34--  https://nlp.stanford.edu/data/glove.840B.300d.zip\n",
            "Connecting to nlp.stanford.edu (nlp.stanford.edu)|171.64.67.140|:443... connected.\n",
            "HTTP request sent, awaiting response... 301 Moved Permanently\n",
            "Location: https://downloads.cs.stanford.edu/nlp/data/glove.840B.300d.zip [following]\n",
            "--2023-05-11 05:58:34--  https://downloads.cs.stanford.edu/nlp/data/glove.840B.300d.zip\n",
            "Resolving downloads.cs.stanford.edu (downloads.cs.stanford.edu)... 171.64.64.22\n",
            "Connecting to downloads.cs.stanford.edu (downloads.cs.stanford.edu)|171.64.64.22|:443... connected.\n",
            "HTTP request sent, awaiting response... 200 OK\n",
            "Length: 2176768927 (2.0G) [application/zip]\n",
            "Saving to: ‘glove.840B.300d.zip’\n",
            "\n",
            "glove.840B.300d.zip 100%[===================>]   2.03G  5.00MB/s    in 6m 50s  \n",
            "\n",
            "2023-05-11 06:05:25 (5.06 MB/s) - ‘glove.840B.300d.zip’ saved [2176768927/2176768927]\n",
            "\n",
            "Archive:  glove.840B.300d.zip\n",
            "  inflating: glove.840B.300d.txt     \n"
          ]
        }
      ],
      "source": [
        "!wget http://nlp.stanford.edu/data/glove.840B.300d.zip\n",
        "!unzip glove.840B.300d.zip"
      ]
    },
    {
      "cell_type": "code",
      "execution_count": null,
      "metadata": {
        "colab": {
          "base_uri": "https://localhost:8080/"
        },
        "id": "bDanaIUWYdF1",
        "outputId": "fb04f0dd-b3e5-4e4a-be18-dbe8d9524896"
      },
      "outputs": [
        {
          "output_type": "stream",
          "name": "stdout",
          "text": [
            "Loading Glove Model\n"
          ]
        },
        {
          "output_type": "stream",
          "name": "stderr",
          "text": [
            "100%|██████████| 2196017/2196017 [03:05<00:00, 11836.07it/s]\n"
          ]
        },
        {
          "output_type": "stream",
          "name": "stdout",
          "text": [
            "2195875 words loaded!\n"
          ]
        }
      ],
      "source": [
        "import numpy as np\n",
        "from tqdm import tqdm\n",
        "\n",
        "class GloveModel:\n",
        "    def __init__(self, filename, oov='__oov__'):\n",
        "        self.oov = oov\n",
        "        self.wv = self.load_glove_model(filename, self.oov)\n",
        "\n",
        "    def load_glove_model(self, File, oov):\n",
        "        print(\"Loading Glove Model\")\n",
        "        glove_model = {}\n",
        "        num_lines = sum(1 for line in open(File, 'r'))\n",
        "        with open(File, 'r') as f:\n",
        "            for line in tqdm(f, total=num_lines):\n",
        "                split_line = line.split()\n",
        "                word = split_line[0]\n",
        "                try:\n",
        "                    embedding = np.array(split_line[1:], dtype=np.float32)\n",
        "                    assert embedding.shape[0] == 300\n",
        "                    glove_model[word] = embedding\n",
        "                except:\n",
        "                    # not thinking too much about it as the errors are \n",
        "                    # not going to impact the other models.\n",
        "                    # pass\n",
        "                    pass\n",
        "        print(f\"{len(glove_model)} words loaded!\")\n",
        "\n",
        "        # add out of vocabulary to the dict\n",
        "        # taking the average as per here \n",
        "        # https://stackoverflow.com/questions/49239941/what-is-unk-in-the-pretrained-glove-vector-files-e-g-glove-6b-50d-txt\n",
        "        assert oov not in glove_model\n",
        "        vecs = np.array(list(glove_model.values()))\n",
        "        glove_model[oov] = np.mean(vecs, axis=0)\n",
        "\n",
        "        return glove_model\n",
        "\n",
        "    def get_vector(self, word):\n",
        "        if word in self.wv:\n",
        "            return self.wv[word]\n",
        "        else:\n",
        "            return self.wv[self.oov]\n",
        "\n",
        "glove_model = GloveModel('glove.840B.300d.txt')"
      ]
    },
    {
      "cell_type": "code",
      "execution_count": null,
      "metadata": {
        "id": "V-h4Px6jgwpJ",
        "colab": {
          "base_uri": "https://localhost:8080/"
        },
        "outputId": "30099206-005e-4057-b22f-b4f764eefb10"
      },
      "outputs": [
        {
          "output_type": "stream",
          "name": "stdout",
          "text": [
            "similarity: [[0.47342833]]\n"
          ]
        }
      ],
      "source": [
        "import numpy as np\n",
        "from sklearn.metrics.pairwise import cosine_similarity\n",
        "\n",
        "## get the glove vector\n",
        "vector = glove_model.get_vector('vector').reshape(1, -1)\n",
        "matrix = glove_model.get_vector('matrix').reshape(1, -1)\n",
        "\n",
        "## compute and report the similarities.\n",
        "print('similarity:', cosine_similarity(vector, matrix))"
      ]
    }
  ],
  "metadata": {
    "colab": {
      "provenance": []
    },
    "kernelspec": {
      "display_name": "Python 3",
      "name": "python3"
    },
    "language_info": {
      "name": "python"
    }
  },
  "nbformat": 4,
  "nbformat_minor": 0
}